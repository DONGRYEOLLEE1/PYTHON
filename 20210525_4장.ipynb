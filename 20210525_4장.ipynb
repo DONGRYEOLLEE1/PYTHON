{
 "cells": [
  {
   "cell_type": "code",
   "execution_count": 6,
   "id": "e4ab9545",
   "metadata": {},
   "outputs": [
    {
     "name": "stdout",
     "output_type": "stream",
     "text": [
      "안녕하세요1\n",
      "안녕하세요2\n",
      "안녕하세요3\n",
      "안녕하세요4\n",
      "안녕하세요5\n",
      "안녕하세요1\n",
      "안녕하세요2\n",
      "안녕하세요3\n",
      "안녕하세요4\n",
      "안녕하세요5\n",
      "안녕하세요1\n",
      "안녕하세요2\n",
      "안녕하세요3\n",
      "안녕하세요4\n",
      "안녕하세요5\n"
     ]
    }
   ],
   "source": [
    "def hello_5times():\n",
    "    print(\"안녕하세요1\")\n",
    "    print(\"안녕하세요2\")\n",
    "    print(\"안녕하세요3\")\n",
    "    print(\"안녕하세요4\")\n",
    "    print(\"안녕하세요5\")\n",
    "    \n",
    "hello_5times()\n",
    "hello_5times()\n",
    "hello_5times()"
   ]
  },
  {
   "cell_type": "code",
   "execution_count": 9,
   "id": "f162ac27",
   "metadata": {},
   "outputs": [
    {
     "name": "stdout",
     "output_type": "stream",
     "text": [
      "숫자 1:8\n",
      "숫자 2:1623\n",
      "1631\n"
     ]
    }
   ],
   "source": [
    "def add(a, b):\n",
    "    c = a + b\n",
    "    return c\n",
    "\n",
    "num1 = int(input(\"숫자 1:\"))\n",
    "num2 = int(input(\"숫자 2:\"))\n",
    "result = add(num1, num2)\n",
    "print(result)"
   ]
  },
  {
   "cell_type": "code",
   "execution_count": 13,
   "id": "d2c1d38f",
   "metadata": {},
   "outputs": [
    {
     "name": "stdout",
     "output_type": "stream",
     "text": [
      "숫자 1:1\n",
      "숫자 2:10\n",
      "숫자 3:5\n",
      "27.5\n"
     ]
    }
   ],
   "source": [
    "def 더하기곱하기한다음2로나누기(a, b, c):\n",
    "    d = ((a+b)*c)/2\n",
    "    return d\n",
    "\n",
    "num1 = int(input(\"숫자 1:\"))\n",
    "num2 = int(input(\"숫자 2:\"))\n",
    "num3 = int(input(\"숫자 3:\"))\n",
    "result = 더하기곱하기한다음2로나누기(num1, num2, num3)\n",
    "print(result)"
   ]
  },
  {
   "cell_type": "code",
   "execution_count": 12,
   "id": "9e984444",
   "metadata": {
    "scrolled": true
   },
   "outputs": [
    {
     "name": "stdout",
     "output_type": "stream",
     "text": [
      "hi\n"
     ]
    }
   ],
   "source": [
    "def say_hi():\n",
    "    return \"hi\"\n",
    "\n",
    "print(say_hi())"
   ]
  },
  {
   "cell_type": "code",
   "execution_count": 14,
   "id": "d0f68b93",
   "metadata": {},
   "outputs": [
    {
     "name": "stdout",
     "output_type": "stream",
     "text": [
      "hi\n"
     ]
    }
   ],
   "source": [
    "def say_hi_dont_care():\n",
    "    print(\"hi\")\n",
    "    \n",
    "say_hi_dont_care()"
   ]
  },
  {
   "cell_type": "code",
   "execution_count": 15,
   "id": "82e4c07c",
   "metadata": {},
   "outputs": [
    {
     "name": "stdout",
     "output_type": "stream",
     "text": [
      "hi\n"
     ]
    }
   ],
   "source": [
    "def say_hi_dont_care2(a):\n",
    "    print(a)\n",
    "    \n",
    "say_hi_dont_care2(\"hi\")"
   ]
  },
  {
   "cell_type": "code",
   "execution_count": 17,
   "id": "90869a9c",
   "metadata": {},
   "outputs": [
    {
     "name": "stdout",
     "output_type": "stream",
     "text": [
      "hi\n",
      "None\n"
     ]
    }
   ],
   "source": [
    "def say_hi_dont_care2(a):\n",
    "    print(a)\n",
    "    \n",
    "b = say_hi_dont_care2(\"hi\")\n",
    "print(b)                                  # None => 결과값이 없음   (* False완 다른 값임)"
   ]
  },
  {
   "cell_type": "code",
   "execution_count": 19,
   "id": "b23a8208",
   "metadata": {},
   "outputs": [
    {
     "name": "stdout",
     "output_type": "stream",
     "text": [
      "2\n",
      "-2\n",
      "2\n",
      "2\n"
     ]
    }
   ],
   "source": [
    "def sub2(a, b):\n",
    "    return a - b\n",
    "print(sub2(4, 2))\n",
    "print(sub2(2, 4))\n",
    "print(sub2(a=4, b=2))\n",
    "print(sub2(b=2, a=4))"
   ]
  },
  {
   "cell_type": "code",
   "execution_count": 21,
   "id": "eea0749d",
   "metadata": {},
   "outputs": [
    {
     "name": "stdout",
     "output_type": "stream",
     "text": [
      "3\n",
      "10\n"
     ]
    }
   ],
   "source": [
    "def add_many(*a):                            # * => 덩어리로 만들어주는 값\n",
    "    result=0\n",
    "    for item in a:                           # 사실 a = (1,2) , (1,2,3,4) 와 같은값\n",
    "        result+=item\n",
    "    return result\n",
    "print(add_many(1,2))\n",
    "print(add_many(1,2,3,4))"
   ]
  },
  {
   "cell_type": "code",
   "execution_count": 22,
   "id": "7678b99e",
   "metadata": {},
   "outputs": [
    {
     "name": "stdout",
     "output_type": "stream",
     "text": [
      "3\n",
      "24\n"
     ]
    }
   ],
   "source": [
    "def add_many(mode, *a):                           # 'mode'값과 '*a'값 순서를 바꿔 사용하면 동작 x \n",
    "    if mode == \"sum\":\n",
    "        result=0\n",
    "        for item in a: result+=item\n",
    "    elif mode ==\"mul\":\n",
    "        result=1\n",
    "        for item in a: result*=item\n",
    "    return result\n",
    "print(add_many(\"sum\", 1, 2))\n",
    "print(add_many(\"mul\", 1,2,3,4))"
   ]
  },
  {
   "cell_type": "code",
   "execution_count": null,
   "id": "1597cc01",
   "metadata": {},
   "outputs": [],
   "source": []
  },
  {
   "cell_type": "code",
   "execution_count": null,
   "id": "cfebe1a1",
   "metadata": {},
   "outputs": [],
   "source": []
  },
  {
   "cell_type": "code",
   "execution_count": null,
   "id": "84acf39d",
   "metadata": {},
   "outputs": [],
   "source": []
  }
 ],
 "metadata": {
  "kernelspec": {
   "display_name": "Python 3",
   "language": "python",
   "name": "python3"
  },
  "language_info": {
   "codemirror_mode": {
    "name": "ipython",
    "version": 3
   },
   "file_extension": ".py",
   "mimetype": "text/x-python",
   "name": "python",
   "nbconvert_exporter": "python",
   "pygments_lexer": "ipython3",
   "version": "3.8.8"
  }
 },
 "nbformat": 4,
 "nbformat_minor": 5
}
