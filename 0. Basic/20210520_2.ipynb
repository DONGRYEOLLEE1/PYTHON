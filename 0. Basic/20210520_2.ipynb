{
 "cells": [
  {
   "cell_type": "code",
   "execution_count": 2,
   "id": "181ce9da",
   "metadata": {},
   "outputs": [],
   "source": [
    "a = 3"
   ]
  },
  {
   "cell_type": "code",
   "execution_count": 3,
   "id": "1c5b179a",
   "metadata": {},
   "outputs": [],
   "source": [
    "b = 3"
   ]
  },
  {
   "cell_type": "code",
   "execution_count": 5,
   "id": "b16c55e1",
   "metadata": {},
   "outputs": [
    {
     "data": {
      "text/plain": [
       "27"
      ]
     },
     "execution_count": 5,
     "metadata": {},
     "output_type": "execute_result"
    }
   ],
   "source": [
    "a ** b"
   ]
  },
  {
   "cell_type": "code",
   "execution_count": 6,
   "id": "aedddcda",
   "metadata": {},
   "outputs": [],
   "source": [
    "# 나눗셈 후 나머지를 반환하는 % 연산자"
   ]
  },
  {
   "cell_type": "code",
   "execution_count": 8,
   "id": "b1b3d9d7",
   "metadata": {},
   "outputs": [
    {
     "data": {
      "text/plain": [
       "1"
      ]
     },
     "execution_count": 8,
     "metadata": {},
     "output_type": "execute_result"
    }
   ],
   "source": [
    "7 % 3 "
   ]
  },
  {
   "cell_type": "code",
   "execution_count": 12,
   "id": "0702ad6c",
   "metadata": {},
   "outputs": [
    {
     "data": {
      "text/plain": [
       "3"
      ]
     },
     "execution_count": 12,
     "metadata": {},
     "output_type": "execute_result"
    }
   ],
   "source": [
    "3 % 7"
   ]
  },
  {
   "cell_type": "code",
   "execution_count": 13,
   "id": "5f225bc1",
   "metadata": {},
   "outputs": [],
   "source": [
    "# 나눗셈 후 몫을 반환하는 % 연산자"
   ]
  },
  {
   "cell_type": "code",
   "execution_count": 23,
   "id": "ba444d51",
   "metadata": {},
   "outputs": [
    {
     "data": {
      "text/plain": [
       "1.75"
      ]
     },
     "execution_count": 23,
     "metadata": {},
     "output_type": "execute_result"
    }
   ],
   "source": [
    "7 / 4"
   ]
  },
  {
   "cell_type": "code",
   "execution_count": 38,
   "id": "0fcfd20d",
   "metadata": {},
   "outputs": [],
   "source": [
    "# 재고 5\n",
    "# 3개마다 1박스 구성 가능\n",
    "# 출하 가능 박스 개수\n",
    "# 남은 재고 개수"
   ]
  },
  {
   "cell_type": "code",
   "execution_count": 71,
   "id": "91ccd00c",
   "metadata": {},
   "outputs": [
    {
     "name": "stdout",
     "output_type": "stream",
     "text": [
      "출하 가능 박스:\t1개\n",
      "출하 후 재고:\t2개\n"
     ]
    }
   ],
   "source": [
    "stock_current = 5\n",
    "package_size = 3\n",
    "box_available = stock_current // package_size\n",
    "# stock_current = stock_current - box_available * package_size\n",
    "stock_current = stock_current % package_size\n",
    "print (\"출하 가능 박스:\\t\" + str(box_available) + \"개\")\n",
    "print ( \"출하 후 재고:\\t\" + str(stock_current) +  \"개\")"
   ]
  },
  {
   "cell_type": "code",
   "execution_count": 67,
   "id": "0fac0e35",
   "metadata": {},
   "outputs": [],
   "source": [
    "stock_current = 5\n",
    "package_size = 3"
   ]
  },
  {
   "cell_type": "code",
   "execution_count": 69,
   "id": "9ef4cd7a",
   "metadata": {},
   "outputs": [
    {
     "name": "stdout",
     "output_type": "stream",
     "text": [
      "1 개\n"
     ]
    }
   ],
   "source": [
    "# 출하 가능 박스 개수\n",
    "    \n",
    "print (stock_current // package_size, \"개\")"
   ]
  },
  {
   "cell_type": "code",
   "execution_count": 70,
   "id": "3902ca25",
   "metadata": {},
   "outputs": [
    {
     "name": "stdout",
     "output_type": "stream",
     "text": [
      "2 개\n"
     ]
    }
   ],
   "source": [
    "# 남은 재고 개수\n",
    "\n",
    "print( stock_current % package_size, \"개\")"
   ]
  },
  {
   "cell_type": "code",
   "execution_count": 6,
   "id": "6192dcfd",
   "metadata": {},
   "outputs": [
    {
     "name": "stdout",
     "output_type": "stream",
     "text": [
      "사과\n",
      "파인애플\n",
      "망고\n"
     ]
    }
   ],
   "source": [
    "print('사과')\n",
    "print(\"\"\"파인애플\"\"\")\n",
    "print(\"망고\")"
   ]
  },
  {
   "cell_type": "code",
   "execution_count": 4,
   "id": "675575be",
   "metadata": {},
   "outputs": [
    {
     "name": "stdout",
     "output_type": "stream",
     "text": [
      "He said that \"I am so happy\".\n"
     ]
    }
   ],
   "source": [
    "print('He said that \"I am so happy\".')\n",
    "# 작은따옴표와 큰따옴표의 사용 구분 필요"
   ]
  },
  {
   "cell_type": "code",
   "execution_count": 8,
   "id": "8815dd27",
   "metadata": {},
   "outputs": [
    {
     "name": "stdout",
     "output_type": "stream",
     "text": [
      "best\n"
     ]
    }
   ],
   "source": [
    "print(\"\"\"best\"\"\")"
   ]
  },
  {
   "cell_type": "code",
   "execution_count": 16,
   "id": "07d0895a",
   "metadata": {
    "scrolled": true
   },
   "outputs": [
    {
     "name": "stdout",
     "output_type": "stream",
     "text": [
      "저는 플래그런트 파울이 좀 더 큰 벌\n",
      "칙을 줘야 한다고 생각하는 1인 인데 이렇게 애\n",
      "매하게 선례를 만들면 앞으로 악용도 될 수 있습니\n",
      "다. 안 휘둘르고 앞으로 나란히 느낌으로 팔만 뻗\n",
      "어줬는데 공격자가 알아서 눈이 찔렸다 코에 맞았\n",
      "다 턱이 돌아갔다. 휘두른건 아니고 공격자가 와서 부딪힌거니 하드(커먼)파울!!\n",
      "\n",
      "이러면 안됩니다. 파울의 의도성을 좀 더 따져\n",
      "봐야 하고\n",
      "공격자를 보호하는 취지로 강하게 억제\n",
      "해야 합니다. 그리고 플래1 받으면 자유투\n",
      "4개 정도 주고 공격권 줬으면 합니다. (2구\n",
      "는 파울 피해자 - 나머지 2 구는 팀에서 선정\n",
      ") 농구하다 자주 다쳐본 입장에서 플래그런트\n",
      "파울은 뿌리가 뽑힐정도로 강하게 벌칙을 줘야 하\n",
      "드파울로 위장한 코트위의 폭력이 없어질거라고 생각합니다.\n"
     ]
    }
   ],
   "source": [
    "print(\"\"\"저는 플래그런트 파울이 좀 더 큰 벌\n",
    "칙을 줘야 한다고 생각하는 1인 인데 이렇게 애\n",
    "매하게 선례를 만들면 앞으로 악용도 될 수 있습니\n",
    "다. 안 휘둘르고 앞으로 나란히 느낌으로 팔만 뻗\n",
    "어줬는데 공격자가 알아서 눈이 찔렸다 코에 맞았\n",
    "다 턱이 돌아갔다. 휘두른건 아니고 공격자가 와서 부딪힌거니 하드(커먼)파울!!\n",
    "\n",
    "이러면 안됩니다. 파울의 의도성을 좀 더 따져\n",
    "봐야 하고\n",
    "공격자를 보호하는 취지로 강하게 억제\n",
    "해야 합니다. 그리고 플래1 받으면 자유투\n",
    "4개 정도 주고 공격권 줬으면 합니다. (2구\n",
    "는 파울 피해자 - 나머지 2 구는 팀에서 선정\n",
    ") 농구하다 자주 다쳐본 입장에서 플래그런트\n",
    "파울은 뿌리가 뽑힐정도로 강하게 벌칙을 줘야 하\n",
    "드파울로 위장한 코트위의 폭력이 없어질거라고 생각합니다.\"\"\")             # 큰따옴표 3개 => 여러줄을 출력 가능"
   ]
  },
  {
   "cell_type": "code",
   "execution_count": 22,
   "id": "3156b4fa",
   "metadata": {},
   "outputs": [
    {
     "name": "stdout",
     "output_type": "stream",
     "text": [
      "best\n",
      "music\n",
      "award\n",
      "best\n",
      "musdic\n",
      "award\n"
     ]
    }
   ],
   "source": [
    "# 여러 줄인 문자열을 변수에 대입 (이스케이프 코드)\n",
    "print(\"best\\nmusic\\naward\")            # 추천 x\n",
    "print(\"\"\"best\n",
    "musdic\n",
    "award\"\"\")"
   ]
  },
  {
   "cell_type": "code",
   "execution_count": 28,
   "id": "640d0bcd",
   "metadata": {},
   "outputs": [
    {
     "name": "stdout",
     "output_type": "stream",
     "text": [
      "a\\b\\c\n",
      "a\\b\\c\n"
     ]
    }
   ],
   "source": [
    "print(\"a\\\\b\\\\c\")\n",
    "print(\"a\\\\b\\\\c\")"
   ]
  },
  {
   "cell_type": "code",
   "execution_count": 32,
   "id": "22242578",
   "metadata": {},
   "outputs": [
    {
     "name": "stdout",
     "output_type": "stream",
     "text": [
      "girl's generation\n",
      "girl's generation\n"
     ]
    }
   ],
   "source": [
    "# 작은 따옴표를 그대로 쓰고 싶을때\n",
    "print('girl\\'s generation')\n",
    "print(\"girl's generation\")"
   ]
  },
  {
   "cell_type": "code",
   "execution_count": 53,
   "id": "47af0005",
   "metadata": {},
   "outputs": [
    {
     "name": "stdout",
     "output_type": "stream",
     "text": [
      "안녕하세요. 이동렬님  만나서 반갑다\n"
     ]
    }
   ],
   "source": [
    "greeting = \"안녕하세요. \"\n",
    "name = \"이동렬님 \"\n",
    "greeting2 = \" 만나서 반갑다\"\n",
    "sentence = greeting + name + greeting2\n",
    "print (sentence)"
   ]
  },
  {
   "cell_type": "code",
   "execution_count": 45,
   "id": "6d087c9a",
   "metadata": {},
   "outputs": [
    {
     "name": "stdout",
     "output_type": "stream",
     "text": [
      "안녕하세요. 김동렬님 만나서 반갑다\n"
     ]
    }
   ],
   "source": [
    "name = \"김동렬\"\n",
    "sentence1 = greeting + name + greeting2\n",
    "print(sentence1)"
   ]
  },
  {
   "cell_type": "code",
   "execution_count": 49,
   "id": "ed1023e6",
   "metadata": {},
   "outputs": [
    {
     "data": {
      "text/plain": [
       "'하히후헤호하히후헤호'"
      ]
     },
     "execution_count": 49,
     "metadata": {},
     "output_type": "execute_result"
    }
   ],
   "source": [
    "# 문자열 곱하기\n",
    "a = \"하히후헤호\"\n",
    "a * 2"
   ]
  },
  {
   "cell_type": "code",
   "execution_count": 64,
   "id": "fd306f51",
   "metadata": {},
   "outputs": [
    {
     "name": "stdout",
     "output_type": "stream",
     "text": [
      "안녕하세요. 이동렬님  정말 정말 정말 정말 정말 정말 정말 정말 만나서 반갑다\n"
     ]
    }
   ],
   "source": [
    "friendly = 8\n",
    "expression1 = \" 정말\"\n",
    "sentence1 = greeting + name + expression1*friendly + greeting2\n",
    "print(sentence1)"
   ]
  },
  {
   "cell_type": "code",
   "execution_count": 5,
   "id": "7832e9f8",
   "metadata": {},
   "outputs": [
    {
     "data": {
      "text/plain": [
       "15"
      ]
     },
     "execution_count": 5,
     "metadata": {},
     "output_type": "execute_result"
    }
   ],
   "source": [
    "a = \"You need python\"\n",
    "len(a)"
   ]
  },
  {
   "cell_type": "code",
   "execution_count": 21,
   "id": "adcb4a29",
   "metadata": {},
   "outputs": [
    {
     "data": {
      "text/plain": [
       "'Y'"
      ]
     },
     "execution_count": 21,
     "metadata": {},
     "output_type": "execute_result"
    }
   ],
   "source": [
    "a[0]"
   ]
  },
  {
   "cell_type": "code",
   "execution_count": 194,
   "id": "25d3d52f",
   "metadata": {},
   "outputs": [],
   "source": [
    "first_over_count = 0\n",
    "second_over_count = 0"
   ]
  },
  {
   "cell_type": "code",
   "execution_count": 195,
   "id": "11c151c6",
   "metadata": {},
   "outputs": [
    {
     "name": "stdout",
     "output_type": "stream",
     "text": [
      "first_over_count:0\n",
      "second_over_count:0\n"
     ]
    }
   ],
   "source": [
    "first_name = \"동렬\"\n",
    "second_name = \"이\"\n",
    "if len(first_name) > 3:\n",
    "    print(\"이름 길이 초과 탐색\")\n",
    "    first_over_count+=1\n",
    "if len(second_name) > 1:\n",
    "    print(\"성 길이 초과 탐색\")\n",
    "    second_over_count+=1\n",
    "print(\"first_over_count:\"+str(first_over_count))\n",
    "print(\"second_over_count:\"+str(second_over_count))"
   ]
  },
  {
   "cell_type": "code",
   "execution_count": 196,
   "id": "a9e0e7f4",
   "metadata": {},
   "outputs": [
    {
     "name": "stdout",
     "output_type": "stream",
     "text": [
      "성 길이 초과 탐색\n",
      "first_over_count:0\n",
      "second_over_count:1\n"
     ]
    }
   ],
   "source": [
    "first_name = \"동렬\"\n",
    "second_name = \"이이\"\n",
    "if len(first_name) > 3:\n",
    "    print(\"이름 길이 초과 탐색\")\n",
    "    first_over_count+=1\n",
    "if len(second_name) > 1:\n",
    "    print(\"성 길이 초과 탐색\")\n",
    "    second_over_count+=1\n",
    "print(\"first_over_count:\"+str(first_over_count))\n",
    "print(\"second_over_count:\"+str(second_over_count))"
   ]
  },
  {
   "cell_type": "code",
   "execution_count": 197,
   "id": "7e1175ba",
   "metadata": {},
   "outputs": [
    {
     "name": "stdout",
     "output_type": "stream",
     "text": [
      "이름 길이 초과 탐색\n",
      "성 길이 초과 탐색\n",
      "first_over_count:1\n",
      "second_over_count:2\n"
     ]
    }
   ],
   "source": [
    "first_name = \"동렬후하후하\"\n",
    "second_name = \"이리\"\n",
    "if len(first_name) > 3:\n",
    "    print(\"이름 길이 초과 탐색\")\n",
    "    first_over_count+=1\n",
    "if len(second_name) > 1:\n",
    "    print(\"성 길이 초과 탐색\")\n",
    "    second_over_count+=1\n",
    "print(\"first_over_count:\"+str(first_over_count))\n",
    "print(\"second_over_count:\"+str(second_over_count))"
   ]
  },
  {
   "cell_type": "code",
   "execution_count": null,
   "id": "75c4ab10",
   "metadata": {},
   "outputs": [],
   "source": []
  }
 ],
 "metadata": {
  "kernelspec": {
   "display_name": "Python 3",
   "language": "python",
   "name": "python3"
  },
  "language_info": {
   "codemirror_mode": {
    "name": "ipython",
    "version": 3
   },
   "file_extension": ".py",
   "mimetype": "text/x-python",
   "name": "python",
   "nbconvert_exporter": "python",
   "pygments_lexer": "ipython3",
   "version": "3.8.8"
  }
 },
 "nbformat": 4,
 "nbformat_minor": 5
}
