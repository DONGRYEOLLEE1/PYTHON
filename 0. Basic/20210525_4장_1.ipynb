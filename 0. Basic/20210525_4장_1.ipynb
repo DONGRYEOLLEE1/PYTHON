{
 "cells": [
  {
   "cell_type": "code",
   "execution_count": 6,
   "id": "573c93a6",
   "metadata": {},
   "outputs": [
    {
     "name": "stdout",
     "output_type": "stream",
     "text": [
      "안녕하세요1\n",
      "안녕하세요2\n",
      "안녕하세요3\n",
      "안녕하세요4\n",
      "안녕하세요5\n",
      "안녕하세요1\n",
      "안녕하세요2\n",
      "안녕하세요3\n",
      "안녕하세요4\n",
      "안녕하세요5\n",
      "안녕하세요1\n",
      "안녕하세요2\n",
      "안녕하세요3\n",
      "안녕하세요4\n",
      "안녕하세요5\n"
     ]
    }
   ],
   "source": [
    "def hello_5times():\n",
    "    print(\"안녕하세요1\")\n",
    "    print(\"안녕하세요2\")\n",
    "    print(\"안녕하세요3\")\n",
    "    print(\"안녕하세요4\")\n",
    "    print(\"안녕하세요5\")\n",
    "    \n",
    "hello_5times()\n",
    "hello_5times()\n",
    "hello_5times()"
   ]
  },
  {
   "cell_type": "code",
   "execution_count": 9,
   "id": "b8d61d98",
   "metadata": {},
   "outputs": [
    {
     "name": "stdout",
     "output_type": "stream",
     "text": [
      "숫자 1:8\n",
      "숫자 2:1623\n",
      "1631\n"
     ]
    }
   ],
   "source": [
    "def add(a, b):\n",
    "    c = a + b\n",
    "    return c\n",
    "\n",
    "num1 = int(input(\"숫자 1:\"))\n",
    "num2 = int(input(\"숫자 2:\"))\n",
    "result = add(num1, num2)\n",
    "print(result)"
   ]
  },
  {
   "cell_type": "code",
   "execution_count": 13,
   "id": "c5353ef0",
   "metadata": {},
   "outputs": [
    {
     "name": "stdout",
     "output_type": "stream",
     "text": [
      "숫자 1:1\n",
      "숫자 2:10\n",
      "숫자 3:5\n",
      "27.5\n"
     ]
    }
   ],
   "source": [
    "def 더하기곱하기한다음2로나누기(a, b, c):\n",
    "    d = ((a+b)*c)/2\n",
    "    return d\n",
    "\n",
    "num1 = int(input(\"숫자 1:\"))\n",
    "num2 = int(input(\"숫자 2:\"))\n",
    "num3 = int(input(\"숫자 3:\"))\n",
    "result = 더하기곱하기한다음2로나누기(num1, num2, num3)\n",
    "print(result)"
   ]
  },
  {
   "cell_type": "code",
   "execution_count": 12,
   "id": "43adf771",
   "metadata": {
    "scrolled": true
   },
   "outputs": [
    {
     "name": "stdout",
     "output_type": "stream",
     "text": [
      "hi\n"
     ]
    }
   ],
   "source": [
    "def say_hi():\n",
    "    return \"hi\"\n",
    "\n",
    "print(say_hi())"
   ]
  },
  {
   "cell_type": "code",
   "execution_count": 14,
   "id": "d5e8338e",
   "metadata": {},
   "outputs": [
    {
     "name": "stdout",
     "output_type": "stream",
     "text": [
      "hi\n"
     ]
    }
   ],
   "source": [
    "def say_hi_dont_care():\n",
    "    print(\"hi\")\n",
    "    \n",
    "say_hi_dont_care()"
   ]
  },
  {
   "cell_type": "code",
   "execution_count": 15,
   "id": "8e8c466c",
   "metadata": {},
   "outputs": [
    {
     "name": "stdout",
     "output_type": "stream",
     "text": [
      "hi\n"
     ]
    }
   ],
   "source": [
    "def say_hi_dont_care2(a):\n",
    "    print(a)\n",
    "    \n",
    "say_hi_dont_care2(\"hi\")"
   ]
  },
  {
   "cell_type": "code",
   "execution_count": 17,
   "id": "e3085dee",
   "metadata": {},
   "outputs": [
    {
     "name": "stdout",
     "output_type": "stream",
     "text": [
      "hi\n",
      "None\n"
     ]
    }
   ],
   "source": [
    "def say_hi_dont_care2(a):\n",
    "    print(a)\n",
    "    \n",
    "b = say_hi_dont_care2(\"hi\")\n",
    "print(b)                                  # None => 결과값이 없음   (* False완 다른 값임)"
   ]
  },
  {
   "cell_type": "code",
   "execution_count": 19,
   "id": "37601fe9",
   "metadata": {},
   "outputs": [
    {
     "name": "stdout",
     "output_type": "stream",
     "text": [
      "2\n",
      "-2\n",
      "2\n",
      "2\n"
     ]
    }
   ],
   "source": [
    "def sub2(a, b):\n",
    "    return a - b\n",
    "print(sub2(4, 2))\n",
    "print(sub2(2, 4))\n",
    "print(sub2(a=4, b=2))\n",
    "print(sub2(b=2, a=4))"
   ]
  },
  {
   "cell_type": "code",
   "execution_count": 21,
   "id": "c5152b5a",
   "metadata": {},
   "outputs": [
    {
     "name": "stdout",
     "output_type": "stream",
     "text": [
      "3\n",
      "10\n"
     ]
    }
   ],
   "source": [
    "def add_many(*a):                            # * => 덩어리로 만들어주는 값\n",
    "    result=0\n",
    "    for item in a:                           # 사실 a = (1,2) , (1,2,3,4) 와 같은값\n",
    "        result+=item\n",
    "    return result\n",
    "print(add_many(1,2))\n",
    "print(add_many(1,2,3,4))"
   ]
  },
  {
   "cell_type": "code",
   "execution_count": 22,
   "id": "937cc4b1",
   "metadata": {},
   "outputs": [
    {
     "name": "stdout",
     "output_type": "stream",
     "text": [
      "3\n",
      "24\n"
     ]
    }
   ],
   "source": [
    "def add_many(mode, *a):                           # 'mode'값과 '*a'값 순서를 바꿔 사용하면 동작 x \n",
    "    if mode == \"sum\":\n",
    "        result=0\n",
    "        for item in a: result+=item\n",
    "    elif mode ==\"mul\":\n",
    "        result=1\n",
    "        for item in a: result*=item\n",
    "    return result\n",
    "print(add_many(\"sum\", 1, 2))\n",
    "print(add_many(\"mul\", 1,2,3,4))"
   ]
  },
  {
   "cell_type": "code",
   "execution_count": 23,
   "id": "c801a87a",
   "metadata": {},
   "outputs": [
    {
     "name": "stdout",
     "output_type": "stream",
     "text": [
      "{'a': 1}\n"
     ]
    }
   ],
   "source": [
    "def print_kwa(**a):                   # '*a' 값은 튜플, 리스트화 / '**a' 값은 dictionarization\n",
    "    print(a)\n",
    "print_kwa(a=1)"
   ]
  },
  {
   "cell_type": "code",
   "execution_count": 25,
   "id": "bad19a12",
   "metadata": {},
   "outputs": [
    {
     "name": "stdout",
     "output_type": "stream",
     "text": [
      "c:3 d:2\n",
      "3\n"
     ]
    }
   ],
   "source": [
    "def add2(a,b):\n",
    "    return a+b\n",
    "def add_and_mul(a,b):\n",
    "    return a+b, a*b\n",
    "\n",
    "c,d = add_and_mul(1,2)\n",
    "print(\"c:\"+str(c) , \"d:\"+str(d))\n",
    "c = add2(1,2)\n",
    "print(c)"
   ]
  },
  {
   "cell_type": "code",
   "execution_count": 28,
   "id": "5b15ec2d",
   "metadata": {},
   "outputs": [
    {
     "name": "stdout",
     "output_type": "stream",
     "text": [
      "2 3 1 2\n",
      "2 3 4 2\n",
      "2 3 4 5\n"
     ]
    }
   ],
   "source": [
    "# 매개변수에 초깃값 미리 설정하기 (단, 맨 마지막에 써줘야 동작가능!)\n",
    "def my_classify(a, b, c=1, d=2):\n",
    "    print(a,b,c,d)\n",
    "my_classify(2,3)\n",
    "my_classify(2,3,4)\n",
    "my_classify(2,3,4,5)"
   ]
  },
  {
   "cell_type": "code",
   "execution_count": 32,
   "id": "cb17685c",
   "metadata": {},
   "outputs": [
    {
     "name": "stdout",
     "output_type": "stream",
     "text": [
      "2\n"
     ]
    }
   ],
   "source": [
    "a = 1                # 전역변수\n",
    "def vartest(a):\n",
    "    a = a + 1        # vartest의 지역변수\n",
    "    return a\n",
    "a = vartest(a)\n",
    "print(a)             # 전역변수 1개, 지역변수 1개"
   ]
  },
  {
   "cell_type": "code",
   "execution_count": 36,
   "id": "7f9afe87",
   "metadata": {},
   "outputs": [
    {
     "name": "stdout",
     "output_type": "stream",
     "text": [
      "2\n"
     ]
    }
   ],
   "source": [
    "# global 명령어 사용하기\n",
    "a = 1                \n",
    "def vartest():\n",
    "    global a              # 앞으로 나타나는 a는 전역변수 a이다 => 'global a'   /  즉 전역변수 1개, 지역변수 0개\n",
    "    a = a + 1\n",
    "vartest()\n",
    "print(a)"
   ]
  },
  {
   "cell_type": "code",
   "execution_count": 37,
   "id": "99ea2d35",
   "metadata": {},
   "outputs": [
    {
     "name": "stdout",
     "output_type": "stream",
     "text": [
      "7\n"
     ]
    }
   ],
   "source": [
    "add_lam = lambda a, b: a + b\n",
    "res = add_lam(3,4)\n",
    "print(res)"
   ]
  },
  {
   "cell_type": "code",
   "execution_count": 40,
   "id": "7001ecc4",
   "metadata": {},
   "outputs": [
    {
     "name": "stdout",
     "output_type": "stream",
     "text": [
      "a b\n",
      "ab\n",
      "ab\n"
     ]
    }
   ],
   "source": [
    "print(\"a\", \"b\")\n",
    "print('a'+'b')\n",
    "print('a''b')"
   ]
  },
  {
   "cell_type": "code",
   "execution_count": 42,
   "id": "253c6f32",
   "metadata": {},
   "outputs": [
    {
     "name": "stdout",
     "output_type": "stream",
     "text": [
      "a b\n"
     ]
    }
   ],
   "source": [
    "print(\"a\", end=\" \")\n",
    "print(\"b\")"
   ]
  },
  {
   "cell_type": "code",
   "execution_count": 47,
   "id": "8a690b61",
   "metadata": {},
   "outputs": [
    {
     "name": "stdout",
     "output_type": "stream",
     "text": [
      "a b c\n",
      "a-b-c\n"
     ]
    }
   ],
   "source": [
    "print(\"a\", \"b\", \"c\")\n",
    "print(\"a\", \"b\", \"c\", sep=\"-\")"
   ]
  },
  {
   "cell_type": "code",
   "execution_count": 3,
   "id": "4772d688",
   "metadata": {},
   "outputs": [],
   "source": [
    "# 절대경로에 파일만들기\n",
    "f = open(\"새파일.txt\", \"w\")\n",
    "f.close()"
   ]
  },
  {
   "cell_type": "code",
   "execution_count": null,
   "id": "9b53078c",
   "metadata": {},
   "outputs": [],
   "source": [
    "f = open(\"c:/test/새파일.txt\", \"w\")\n",
    "f.close()"
   ]
  },
  {
   "cell_type": "code",
   "execution_count": 4,
   "id": "01ddd2fd",
   "metadata": {},
   "outputs": [],
   "source": [
    "f = open(\"c:/test/새파일.txt\", \"w\")\n",
    "f.write(\"안녕~!\")\n",
    "f.close()"
   ]
  },
  {
   "cell_type": "code",
   "execution_count": 7,
   "id": "96b523a6",
   "metadata": {},
   "outputs": [
    {
     "name": "stdout",
     "output_type": "stream",
     "text": [
      "zzzzzzsddsg\n"
     ]
    }
   ],
   "source": [
    "# 읽기\n",
    "f = open(\"c:/test/새파일.txt\", \"r\")\n",
    "line1 = f.readline()\n",
    "print(line1)\n",
    "f.close()"
   ]
  },
  {
   "cell_type": "code",
   "execution_count": 12,
   "id": "572c426b",
   "metadata": {},
   "outputs": [
    {
     "name": "stdout",
     "output_type": "stream",
     "text": [
      "zzzzzzsddsg\n",
      "\n",
      "wsdgdfg\n",
      "\n",
      "sdf\n",
      "\n",
      "w32tw\n",
      "['zzzzzzsddsg\\n', 'wsdgdfg\\n', 'sdf\\n', 'w32tw']\n"
     ]
    }
   ],
   "source": [
    "# 다수의 줄 읽기\n",
    "f = open(\"c:/test/새파일.txt\", \"r\")\n",
    "list1= []\n",
    "while True:\n",
    "    line1 = f.readline()\n",
    "    if not line1: break\n",
    "    print(line1)\n",
    "    list1.append(line1)\n",
    "f.close()\n",
    "print(list1)"
   ]
  },
  {
   "cell_type": "code",
   "execution_count": 6,
   "id": "c90cc5a8",
   "metadata": {},
   "outputs": [
    {
     "name": "stdout",
     "output_type": "stream",
     "text": [
      "['zzzzzzsddsg', 'wsdgdfg', 'sdf', 'w32tw']\n"
     ]
    }
   ],
   "source": [
    "# 다수의 줄 읽기\n",
    "f = open(\"c:/test/새파일.txt\", \"r\")\n",
    "list1= []\n",
    "list2= []\n",
    "while True:\n",
    "    line1 = f.readline()\n",
    "    if not line1: break\n",
    "    #print(line1)\n",
    "    list1.append(line1)\n",
    "f.close()\n",
    "for item in list1:\n",
    "    processed = item.replace(\"\\n\", \"\")                # 여러 줄 읽을때 출력되는 '\\n' 지우기\n",
    "    list2.append(processed)\n",
    "print(list2)"
   ]
  },
  {
   "cell_type": "code",
   "execution_count": null,
   "id": "d8d9f45d",
   "metadata": {},
   "outputs": [],
   "source": []
  }
 ],
 "metadata": {
  "kernelspec": {
   "display_name": "Python 3",
   "language": "python",
   "name": "python3"
  },
  "language_info": {
   "codemirror_mode": {
    "name": "ipython",
    "version": 3
   },
   "file_extension": ".py",
   "mimetype": "text/x-python",
   "name": "python",
   "nbconvert_exporter": "python",
   "pygments_lexer": "ipython3",
   "version": "3.8.8"
  }
 },
 "nbformat": 4,
 "nbformat_minor": 5
}
