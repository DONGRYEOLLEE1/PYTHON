{
 "cells": [
  {
   "cell_type": "markdown",
   "id": "5d881948",
   "metadata": {},
   "source": [
    "# 순환 신경망 (Recurrent Neural Network, RNN)\n",
    "\n",
    "- **순서가 있는 데이터**를 입력으로 받음\n",
    "\n",
    "- 변화하는 입력에 대한 출력을 얻음\n",
    "\n",
    "- 시계열(날씨, 주가 등), 자연어와 같이 **시간의 흐름에 따라 변화하고, 그 변화가 의미를 갖는 데이터** "
   ]
  },
  {
   "cell_type": "markdown",
   "id": "55e8e7cb",
   "metadata": {},
   "source": [
    "## Feed Forward Network vs Recurrent Network\n",
    "\n",
    "- Feed Forward Net (앞먹임 구조)\n",
    "  - 일반적인 구조의 신경망\n",
    "\n",
    "  - 입력 → 은닉 → 출력층 으로 이어지는 단방향 구조\n",
    "\n",
    "  - 이전 스텝의 출력의 영향을 받지 않음\n",
    "\n",
    "- Recurrent Net (되먹임 구조)\n",
    "  - 이전 층(Layer), 또는 스텝의 출력이 다시 입력으로 연결되는 신경망 구조\n",
    "\n",
    "  - 각 스텝마다 이전 상태를 기억 시스템(Memory System)  \n",
    "\n",
    "  - 현재 상태가 이전 상태에 종속\n",
    "\n",
    "  <br>\n",
    "\n",
    "  <img src=\"https://www.researchgate.net/profile/Engin_Pekel/publication/315111480/figure/fig1/AS:472548166115333@1489675670530/Feed-forward-and-recurrent-ANN-architecture.png\">\n",
    "\n",
    "  <sub>출처: https://www.researchgate.net/figure/Feed-forward-and-recurrent-ANN-architecture_fig1_315111480</sub>\n",
    "\n"
   ]
  },
  {
   "cell_type": "markdown",
   "id": "31111c64",
   "metadata": {},
   "source": [
    "## 순환 신경망 구조\n",
    "\n",
    "<img src=\"https://colah.github.io/posts/2015-08-Understanding-LSTMs/img/RNN-unrolled.png\" width=\"700\">\n",
    "\n",
    "<br>\n",
    "\n",
    "- 입력 $x_t$에서 $t$는 시각을 뜻함\n",
    "\n",
    "- $X_0$에 대한 출력 $Y_0$이 다음 레이어에 전달\n",
    "\n",
    "- 각각의 입력에 대해 출력은 해당 레이어대로 출력값을 반환"
   ]
  },
  {
   "cell_type": "markdown",
   "id": "fab042b2",
   "metadata": {},
   "source": [
    "## 순환 신경망의 다양한 구조\n",
    "\n",
    "<img src=\"https://static.packt-cdn.com/products/9781789346640/graphics/2d4a64ef-9cf9-4b4a-9049-cb9de7a07f89.png\">\n",
    "  \n",
    "  <sub>출처: https://subscription.packtpub.com/book/big_data_and_business_intelligence/9781789346640/11/ch11lvl1sec80/introduction</sub>\n",
    "\n",
    "- one to one\n",
    "  - RNN\n",
    "\n",
    "- one to many\n",
    "  - Image Captioning \n",
    "\n",
    "  - 이미지에 대한 설명 생성\n",
    "\n",
    "- many to one\n",
    "  - Sentiment Classification\n",
    "\n",
    "  - 문장의 긍정/부정을 판단하는 감정 분석\n",
    "\n",
    "- many to many\n",
    "  - Machine Translation\n",
    "\n",
    "  - 하나의 언어를 다른 언어로 번역하는 기계 번역\n",
    "\n",
    "- many to many\n",
    "  - Video Classification(Frame Level)\n",
    "\n",
    "\n"
   ]
  },
  {
   "cell_type": "markdown",
   "id": "f5af4517",
   "metadata": {},
   "source": [
    "## 두 가지 정보(현재 입력, 이전 시각의 출력)을 처리하는 수식\n",
    "$\\qquad h_t = tanh ( \\ h_{t-1} W_h \\ + \\ x_t W_x + b) $\n",
    "\n",
    "- $W_x$ : 입력 $x$를 출력 $h$로 변환하기 위한 가중치\n",
    "\n",
    "- $W_h$ : 다음 시각의 출력으로 변환하기 위한 가중치\n",
    "\n",
    "- $h$는 '상태'를 기억\n",
    "\n",
    "- $h_t \\ $를 은닉 상태(hidden state) 또는 은닉 상태 벡터(hidden state vector)라고도 불림\n",
    "\n",
    "  <sub>출처: https://colah.github.io/posts/2015-08-Understanding-LSTMs/</sub>"
   ]
  },
  {
   "cell_type": "markdown",
   "id": "38d8c26b",
   "metadata": {},
   "source": [
    "## 순환 신경망 레이어 (RNN Layer)\n",
    "\n",
    "- 입력: `(timesteps, input_features)`\n",
    "\n",
    "- 출력: `(timesteps, output_features)`"
   ]
  },
  {
   "cell_type": "code",
   "execution_count": 1,
   "id": "8f92f0b0",
   "metadata": {},
   "outputs": [],
   "source": [
    "import numpy as np"
   ]
  },
  {
   "cell_type": "code",
   "execution_count": 2,
   "id": "42bd704d",
   "metadata": {},
   "outputs": [],
   "source": [
    "timesteps = 100\n",
    "input_features = 32\n",
    "output_features = 64\n",
    "\n",
    "inputs = np.random.random((timesteps, input_features))\n",
    "\n",
    "state_t = np.zeros((output_features, ))\n",
    "\n",
    "W = np.random.random((output_features, input_features))\n",
    "U = np.random.random((output_features, output_features))\n",
    "b = np.random.random((output_features, ))\n",
    "\n",
    "sucessive_outputs = []\n",
    "\n",
    "for input_t in inputs:\n",
    "    output_t = np.tanh(np.dot(W, input_t) + np.dot(U, state_t) + b)\n",
    "    sucessive_outputs.append(output_t)\n",
    "    state_t = output_t\n",
    "    \n",
    "final_output_sequence = np.stack(sucessive_outputs, axis = 0)"
   ]
  },
  {
   "cell_type": "markdown",
   "id": "b706bbd7",
   "metadata": {},
   "source": [
    "## 케라스의 순환층\n",
    "- `SimpleRNN` layer\n",
    "\n",
    "- 입력: `(batch_size, timesteps, input_features)`\n",
    "\n",
    "- 출력\n",
    "  - `return_sequences`로 결정할 수 있음\n",
    "  \n",
    "  - 3D 텐서\n",
    "    - 타임스텝의 출력을 모은 전체 시퀀스를 반환\n",
    "\n",
    "    - `(batch_size, timesteps, output_features)`\n",
    "\n",
    "  - 2D 텐서\n",
    "    - 입력 시퀀스에 대한 마지막 출력만 반환\n",
    "\n",
    "    - `(batch_size, output_features)`\n"
   ]
  },
  {
   "cell_type": "code",
   "execution_count": 3,
   "id": "6ce3e64c",
   "metadata": {},
   "outputs": [],
   "source": [
    "from tensorflow.keras.layers import SimpleRNN, Embedding\n",
    "from tensorflow.keras.models import Sequential"
   ]
  },
  {
   "cell_type": "code",
   "execution_count": 4,
   "id": "becefdbb",
   "metadata": {},
   "outputs": [
    {
     "name": "stdout",
     "output_type": "stream",
     "text": [
      "Model: \"sequential\"\n",
      "_________________________________________________________________\n",
      "Layer (type)                 Output Shape              Param #   \n",
      "=================================================================\n",
      "embedding (Embedding)        (None, None, 32)          320000    \n",
      "_________________________________________________________________\n",
      "simple_rnn (SimpleRNN)       (None, 32)                2080      \n",
      "=================================================================\n",
      "Total params: 322,080\n",
      "Trainable params: 322,080\n",
      "Non-trainable params: 0\n",
      "_________________________________________________________________\n"
     ]
    }
   ],
   "source": [
    "model = Sequential()\n",
    "model.add(Embedding(10000, 32))\n",
    "model.add(SimpleRNN(32))\n",
    "model.summary()"
   ]
  },
  {
   "cell_type": "code",
   "execution_count": 5,
   "id": "c95c0cae",
   "metadata": {},
   "outputs": [
    {
     "name": "stdout",
     "output_type": "stream",
     "text": [
      "Model: \"sequential_1\"\n",
      "_________________________________________________________________\n",
      "Layer (type)                 Output Shape              Param #   \n",
      "=================================================================\n",
      "embedding_1 (Embedding)      (None, None, 32)          320000    \n",
      "_________________________________________________________________\n",
      "simple_rnn_1 (SimpleRNN)     (None, None, 32)          2080      \n",
      "_________________________________________________________________\n",
      "simple_rnn_2 (SimpleRNN)     (None, 16)                784       \n",
      "=================================================================\n",
      "Total params: 322,864\n",
      "Trainable params: 322,864\n",
      "Non-trainable params: 0\n",
      "_________________________________________________________________\n"
     ]
    }
   ],
   "source": [
    "model = Sequential()\n",
    "model.add(Embedding(10000, 32))\n",
    "model.add(SimpleRNN(32, return_sequences = True))\n",
    "model.add(SimpleRNN(16))\n",
    "\n",
    "model.summary()"
   ]
  },
  {
   "cell_type": "markdown",
   "id": "cfe14569",
   "metadata": {},
   "source": [
    "- 네트워크의 표현력을 증가시키기 위해 여러 개의 순환층을 차례대로 쌓는 것이 유용할 때가 있음\n",
    "\n",
    "  - 이런 설정에서는 중간층들이 전체 출력 시퀀스를 반환하도록 설정"
   ]
  },
  {
   "cell_type": "code",
   "execution_count": 6,
   "id": "f6450f67",
   "metadata": {},
   "outputs": [
    {
     "name": "stdout",
     "output_type": "stream",
     "text": [
      "Model: \"sequential_2\"\n",
      "_________________________________________________________________\n",
      "Layer (type)                 Output Shape              Param #   \n",
      "=================================================================\n",
      "embedding_2 (Embedding)      (None, None, 32)          320000    \n",
      "_________________________________________________________________\n",
      "simple_rnn_3 (SimpleRNN)     (None, None, 32)          2080      \n",
      "_________________________________________________________________\n",
      "simple_rnn_4 (SimpleRNN)     (None, None, 32)          2080      \n",
      "_________________________________________________________________\n",
      "simple_rnn_5 (SimpleRNN)     (None, None, 32)          2080      \n",
      "_________________________________________________________________\n",
      "simple_rnn_6 (SimpleRNN)     (None, 32)                2080      \n",
      "=================================================================\n",
      "Total params: 328,320\n",
      "Trainable params: 328,320\n",
      "Non-trainable params: 0\n",
      "_________________________________________________________________\n"
     ]
    }
   ],
   "source": [
    "model = Sequential()\n",
    "model.add(Embedding(10000, 32))\n",
    "model.add(SimpleRNN(32, return_sequences = True))\n",
    "model.add(SimpleRNN(32, return_sequences = True))\n",
    "model.add(SimpleRNN(32, return_sequences = True))\n",
    "model.add(SimpleRNN(32))\n",
    "\n",
    "model.summary()\n",
    "\n",
    "## Simple RNN을 순서대로 쌓기"
   ]
  },
  {
   "cell_type": "markdown",
   "id": "53d204bc",
   "metadata": {},
   "source": [
    "## IMDB 데이터 적용"
   ]
  },
  {
   "cell_type": "markdown",
   "id": "88600114",
   "metadata": {},
   "source": [
    "### 데이터 로드"
   ]
  },
  {
   "cell_type": "code",
   "execution_count": 7,
   "id": "10b9341f",
   "metadata": {},
   "outputs": [],
   "source": [
    "from tensorflow.keras.datasets import imdb\n",
    "from tensorflow.keras.preprocessing import sequence"
   ]
  },
  {
   "cell_type": "code",
   "execution_count": 8,
   "id": "831b51df",
   "metadata": {},
   "outputs": [
    {
     "name": "stderr",
     "output_type": "stream",
     "text": [
      "<__array_function__ internals>:5: VisibleDeprecationWarning: Creating an ndarray from ragged nested sequences (which is a list-or-tuple of lists-or-tuples-or ndarrays with different lengths or shapes) is deprecated. If you meant to do this, you must specify 'dtype=object' when creating the ndarray\n",
      "C:\\Users\\CPB06GameN\\anaconda3\\lib\\site-packages\\tensorflow\\python\\keras\\datasets\\imdb.py:155: VisibleDeprecationWarning: Creating an ndarray from ragged nested sequences (which is a list-or-tuple of lists-or-tuples-or ndarrays with different lengths or shapes) is deprecated. If you meant to do this, you must specify 'dtype=object' when creating the ndarray\n",
      "  x_train, y_train = np.array(xs[:idx]), np.array(labels[:idx])\n",
      "C:\\Users\\CPB06GameN\\anaconda3\\lib\\site-packages\\tensorflow\\python\\keras\\datasets\\imdb.py:156: VisibleDeprecationWarning: Creating an ndarray from ragged nested sequences (which is a list-or-tuple of lists-or-tuples-or ndarrays with different lengths or shapes) is deprecated. If you meant to do this, you must specify 'dtype=object' when creating the ndarray\n",
      "  x_test, y_test = np.array(xs[idx:]), np.array(labels[idx:])\n"
     ]
    },
    {
     "name": "stdout",
     "output_type": "stream",
     "text": [
      "25000\n",
      "25000\n",
      "(25000, 500)\n",
      "(25000, 500)\n"
     ]
    }
   ],
   "source": [
    "num_words = 10000\n",
    "max_len = 500\n",
    "batch_size = 32\n",
    "\n",
    "(input_train, y_train), (input_test, y_test) = imdb.load_data(num_words = num_words)\n",
    "print(len(input_train))\n",
    "print(len(input_test))\n",
    "\n",
    "# Padding 작업\n",
    "input_train = sequence.pad_sequences(input_train, maxlen=max_len)\n",
    "input_test = sequence.pad_sequences(input_test, maxlen=max_len)\n",
    "print(input_train.shape)\n",
    "print(input_test.shape)"
   ]
  },
  {
   "cell_type": "markdown",
   "id": "ffd51e07",
   "metadata": {},
   "source": [
    "### 모델 구성"
   ]
  },
  {
   "cell_type": "code",
   "execution_count": 9,
   "id": "41002f74",
   "metadata": {},
   "outputs": [],
   "source": [
    "from tensorflow.keras.layers import Dense"
   ]
  },
  {
   "cell_type": "code",
   "execution_count": 10,
   "id": "08c43148",
   "metadata": {},
   "outputs": [
    {
     "name": "stdout",
     "output_type": "stream",
     "text": [
      "Model: \"sequential_3\"\n",
      "_________________________________________________________________\n",
      "Layer (type)                 Output Shape              Param #   \n",
      "=================================================================\n",
      "embedding_3 (Embedding)      (None, None, 32)          320000    \n",
      "_________________________________________________________________\n",
      "simple_rnn_7 (SimpleRNN)     (None, 32)                2080      \n",
      "_________________________________________________________________\n",
      "dense (Dense)                (None, 1)                 33        \n",
      "=================================================================\n",
      "Total params: 322,113\n",
      "Trainable params: 322,113\n",
      "Non-trainable params: 0\n",
      "_________________________________________________________________\n"
     ]
    }
   ],
   "source": [
    "model = Sequential()\n",
    "\n",
    "model.add(Embedding(num_words, 32))\n",
    "model.add(SimpleRNN(32))\n",
    "# Binary 형태이므로  'Sigmoid'\n",
    "model.add(Dense(1, activation = 'sigmoid'))\n",
    "\n",
    "model.compile(optimizer = 'rmsprop', \n",
    "              loss = 'binary_crossentropy', \n",
    "              metrics = ['acc'])\n",
    "model.summary()"
   ]
  },
  {
   "cell_type": "markdown",
   "id": "2be1a23e",
   "metadata": {},
   "source": [
    "### 모델 학습"
   ]
  },
  {
   "cell_type": "code",
   "execution_count": 12,
   "id": "a14dfaba",
   "metadata": {},
   "outputs": [
    {
     "name": "stdout",
     "output_type": "stream",
     "text": [
      "Epoch 1/10\n",
      "157/157 [==============================] - 18s 106ms/step - loss: 0.6070 - acc: 0.6619 - val_loss: 0.4477 - val_acc: 0.8094\n",
      "Epoch 2/10\n",
      "157/157 [==============================] - 17s 105ms/step - loss: 0.3564 - acc: 0.8543 - val_loss: 0.3503 - val_acc: 0.8586\n",
      "Epoch 3/10\n",
      "157/157 [==============================] - 16s 101ms/step - loss: 0.2672 - acc: 0.8954 - val_loss: 0.6090 - val_acc: 0.7286\n",
      "Epoch 4/10\n",
      "157/157 [==============================] - 16s 104ms/step - loss: 0.2229 - acc: 0.9117 - val_loss: 0.3594 - val_acc: 0.8480\n",
      "Epoch 5/10\n",
      "157/157 [==============================] - 17s 106ms/step - loss: 0.1684 - acc: 0.9378 - val_loss: 0.4112 - val_acc: 0.8434\n",
      "Epoch 6/10\n",
      "157/157 [==============================] - 16s 103ms/step - loss: 0.1312 - acc: 0.9537 - val_loss: 0.4782 - val_acc: 0.7994\n",
      "Epoch 7/10\n",
      "157/157 [==============================] - 18s 114ms/step - loss: 0.1093 - acc: 0.9629 - val_loss: 0.4817 - val_acc: 0.8178\n",
      "Epoch 8/10\n",
      "157/157 [==============================] - 16s 100ms/step - loss: 0.0580 - acc: 0.9830 - val_loss: 0.6036 - val_acc: 0.7876\n",
      "Epoch 9/10\n",
      "157/157 [==============================] - 15s 94ms/step - loss: 0.0375 - acc: 0.9897 - val_loss: 0.5777 - val_acc: 0.8278\n",
      "Epoch 10/10\n",
      "157/157 [==============================] - 16s 100ms/step - loss: 0.0251 - acc: 0.9927 - val_loss: 0.5768 - val_acc: 0.8314\n"
     ]
    }
   ],
   "source": [
    "history = model.fit(input_train, y_train,\n",
    "                   epochs = 10,\n",
    "                   batch_size = 128, \n",
    "                   validation_split = 0.2)"
   ]
  },
  {
   "cell_type": "markdown",
   "id": "b3c6410c",
   "metadata": {},
   "source": [
    "### 시각화"
   ]
  },
  {
   "cell_type": "code",
   "execution_count": 13,
   "id": "119c2926",
   "metadata": {},
   "outputs": [],
   "source": [
    "import matplotlib.pyplot as plt\n",
    "plt.style.use('seaborn-white')"
   ]
  },
  {
   "cell_type": "code",
   "execution_count": 15,
   "id": "f811af5c",
   "metadata": {},
   "outputs": [
    {
     "data": {
      "image/png": "[encoded data removed]",
      "text/plain": [
       "<Figure size 432x288 with 1 Axes>"
      ]
     },
     "metadata": {},
     "output_type": "display_data"
    },
    {
     "data": {
      "image/png": "[encoded data removed]",
      "text/plain": [
       "<Figure size 432x288 with 1 Axes>"
      ]
     },
     "metadata": {},
     "output_type": "display_data"
    }
   ],
   "source": [
    "loss = history.history['loss']\n",
    "val_loss = history.history['val_loss']\n",
    "acc = history.history['acc']\n",
    "val_acc = history.history['val_acc']\n",
    "\n",
    "epochs = range(1, len(loss) + 1)\n",
    "\n",
    "plt.plot(epochs, loss, 'b--', label = 'training loss')\n",
    "plt.plot(epochs, val_loss, 'r:', label = 'validation loss')\n",
    "plt.grid()\n",
    "plt.legend()\n",
    "\n",
    "plt.figure()\n",
    "plt.plot(epochs, acc, 'b--', label = 'training accuracy')\n",
    "plt.plot(epochs, val_acc, 'r:', label = 'validation accuracy')\n",
    "plt.grid()\n",
    "plt.legend()\n",
    "\n",
    "plt.show()"
   ]
  },
  {
   "cell_type": "code",
   "execution_count": 16,
   "id": "cd45d4df",
   "metadata": {},
   "outputs": [
    {
     "name": "stdout",
     "output_type": "stream",
     "text": [
      "782/782 [==============================] - 13s 16ms/step - loss: 0.6106 - acc: 0.8236 1s - \n"
     ]
    },
    {
     "data": {
      "text/plain": [
       "[0.610623300075531, 0.8235999941825867]"
      ]
     },
     "execution_count": 16,
     "metadata": {},
     "output_type": "execute_result"
    }
   ],
   "source": [
    "model.evaluate(input_test, y_test)\n",
    "\n",
    "## 약 82.35% "
   ]
  },
  {
   "cell_type": "markdown",
   "id": "687a7986",
   "metadata": {},
   "source": [
    "- 전체 시퀀스가 아니라 순서대로 500개의 단어만 입력했기 때문에 성능이 낮게 나옴\n",
    "\n",
    "- SimpleRNN은 긴 시퀀스를 처리하는데 적합하지 않음\n",
    "\n",
    "- SimpleRNN은 실전에 사용하기엔 너무 단순\n",
    "\n",
    "- SimpleRNN은 이론적으로 시간 $t$ 에서 이전의 모든 타임스텝의 정보를 유지할 수 있지만, 실제로는 긴 시간에 걸친 의존성은 학습할 수 없음\n",
    "\n",
    "- 그래디언트 소실 문제(vanishing gradient problem)\n",
    "  - 이를 방지하기 위해 LSTM, GRU 같은 레이어 등장\n",
    "\n"
   ]
  },
  {
   "cell_type": "markdown",
   "id": "7b2e06b1",
   "metadata": {},
   "source": [
    "# LSTM(Long Short-Term Memory)\n",
    "- 장단기 메모리 알고리즘\n",
    "\n",
    "- 나중을 위해 정보를 저장함으로써 오래된 시그널이 점차 소실되는 것을 막아줌\n",
    "\n",
    "  <img src=\"https://colah.github.io/posts/2015-08-Understanding-LSTMs/img/LSTM3-chain.png\">\n",
    "\n",
    "  <sub>출처: https://colah.github.io/posts/2015-08-Understanding-LSTMs/</sub>"
   ]
  },
  {
   "cell_type": "markdown",
   "id": "243ce953",
   "metadata": {},
   "source": [
    "## IMDB 데이터"
   ]
  },
  {
   "cell_type": "markdown",
   "id": "1c66aaf8",
   "metadata": {},
   "source": [
    "### 데이터 로드"
   ]
  },
  {
   "cell_type": "code",
   "execution_count": 17,
   "id": "5a5fbdce",
   "metadata": {},
   "outputs": [],
   "source": [
    "from tensorflow.keras.datasets import imdb\n",
    "from tensorflow.keras.preprocessing.sequence import pad_sequences"
   ]
  },
  {
   "cell_type": "code",
   "execution_count": 22,
   "id": "39ec2690",
   "metadata": {},
   "outputs": [
    {
     "name": "stdout",
     "output_type": "stream",
     "text": [
      "25000\n",
      "25000\n",
      "(25000, 500)\n",
      "(25000, 500)\n"
     ]
    }
   ],
   "source": [
    "num_words = 10000\n",
    "max_len = 500\n",
    "\n",
    "(x_train, y_train), (x_test, y_test) = imdb.load_data(num_words = num_words)\n",
    "print(len(x_train))\n",
    "print(len(x_test))\n",
    "\n",
    "# Padding 작업\n",
    "pad_x_train = sequence.pad_sequences(x_train, maxlen=max_len)\n",
    "pad_x_test = sequence.pad_sequences(x_test, maxlen=max_len)\n",
    "print(pad_x_train.shape)\n",
    "print(pad_x_test.shape)"
   ]
  },
  {
   "cell_type": "markdown",
   "id": "fd0266bc",
   "metadata": {},
   "source": [
    "### 모델 구성"
   ]
  },
  {
   "cell_type": "code",
   "execution_count": 19,
   "id": "7451d4df",
   "metadata": {},
   "outputs": [],
   "source": [
    "from tensorflow.keras.models import Sequential\n",
    "from tensorflow.keras.layers import Dense, LSTM, GRU, Embedding"
   ]
  },
  {
   "cell_type": "code",
   "execution_count": 21,
   "id": "2db7ce42",
   "metadata": {},
   "outputs": [
    {
     "name": "stdout",
     "output_type": "stream",
     "text": [
      "Model: \"sequential_5\"\n",
      "_________________________________________________________________\n",
      "Layer (type)                 Output Shape              Param #   \n",
      "=================================================================\n",
      "embedding_5 (Embedding)      (None, None, 32)          320000    \n",
      "_________________________________________________________________\n",
      "lstm_1 (LSTM)                (None, 32)                8320      \n",
      "_________________________________________________________________\n",
      "dense_2 (Dense)              (None, 1)                 33        \n",
      "=================================================================\n",
      "Total params: 328,353\n",
      "Trainable params: 328,353\n",
      "Non-trainable params: 0\n",
      "_________________________________________________________________\n"
     ]
    }
   ],
   "source": [
    "model = Sequential()\n",
    "\n",
    "model.add(Embedding(num_words, 32))\n",
    "model.add(LSTM(32))\n",
    "model.add(Dense(1, activation = 'sigmoid'))\n",
    "\n",
    "model.compile(optimizer = 'rmsprop', \n",
    "             loss = 'binary_crossentropy',\n",
    "             metrics = ['acc'])\n",
    "model.summary()\n",
    "\n",
    "## RNN대신 LSTM으로 바꿨을때 어떤 차이가 있을까?"
   ]
  },
  {
   "cell_type": "markdown",
   "id": "2645098b",
   "metadata": {},
   "source": [
    "### 모델 학습"
   ]
  },
  {
   "cell_type": "code",
   "execution_count": 24,
   "id": "c1fc5184",
   "metadata": {},
   "outputs": [
    {
     "name": "stdout",
     "output_type": "stream",
     "text": [
      "Epoch 1/10\n",
      "157/157 [==============================] - 37s 222ms/step - loss: 0.5161 - acc: 0.7594 - val_loss: 0.3624 - val_acc: 0.8546\n",
      "Epoch 2/10\n",
      "157/157 [==============================] - 35s 223ms/step - loss: 0.3051 - acc: 0.8800 - val_loss: 0.3176 - val_acc: 0.8692\n",
      "Epoch 3/10\n",
      "157/157 [==============================] - 35s 223ms/step - loss: 0.2439 - acc: 0.9102 - val_loss: 0.3170 - val_acc: 0.8654\n",
      "Epoch 4/10\n",
      "157/157 [==============================] - 34s 219ms/step - loss: 0.2039 - acc: 0.9252 - val_loss: 0.2985 - val_acc: 0.8802\n",
      "Epoch 5/10\n",
      "157/157 [==============================] - 34s 218ms/step - loss: 0.1786 - acc: 0.9360 - val_loss: 0.4210 - val_acc: 0.8612\n",
      "Epoch 6/10\n",
      "157/157 [==============================] - 34s 218ms/step - loss: 0.1668 - acc: 0.9409 - val_loss: 0.3605 - val_acc: 0.8752\n",
      "Epoch 7/10\n",
      "157/157 [==============================] - 34s 217ms/step - loss: 0.1501 - acc: 0.9496 - val_loss: 0.3079 - val_acc: 0.8734\n",
      "Epoch 8/10\n",
      "157/157 [==============================] - 34s 216ms/step - loss: 0.1351 - acc: 0.9534 - val_loss: 0.3798 - val_acc: 0.8538\n",
      "Epoch 9/10\n",
      "157/157 [==============================] - 34s 217ms/step - loss: 0.1257 - acc: 0.9555 - val_loss: 0.3471 - val_acc: 0.8862\n",
      "Epoch 10/10\n",
      "157/157 [==============================] - 34s 217ms/step - loss: 0.1150 - acc: 0.9600 - val_loss: 0.3601 - val_acc: 0.8848\n"
     ]
    }
   ],
   "source": [
    "history = model.fit(pad_x_train, y_train,\n",
    "                   epochs = 10,\n",
    "                   batch_size = 128,\n",
    "                   validation_split = 0.2)"
   ]
  },
  {
   "cell_type": "markdown",
   "id": "5daca304",
   "metadata": {},
   "source": [
    "### 시각화"
   ]
  },
  {
   "cell_type": "code",
   "execution_count": 25,
   "id": "8bac06ef",
   "metadata": {},
   "outputs": [
    {
     "data": {
      "image/png": "[encoded data removed]",
      "text/plain": [
       "<Figure size 432x288 with 1 Axes>"
      ]
     },
     "metadata": {},
     "output_type": "display_data"
    },
    {
     "data": {
      "image/png": "[encoded data removed]",
      "text/plain": [
       "<Figure size 432x288 with 1 Axes>"
      ]
     },
     "metadata": {},
     "output_type": "display_data"
    }
   ],
   "source": [
    "loss = history.history['loss']\n",
    "val_loss = history.history['val_loss']\n",
    "acc = history.history['acc']\n",
    "val_acc = history.history['val_acc']\n",
    "\n",
    "epochs = range(1, len(loss) + 1)\n",
    "\n",
    "plt.plot(epochs, loss, 'b--', label = 'training loss')\n",
    "plt.plot(epochs, val_loss, 'r:', label = 'validation loss')\n",
    "plt.grid()\n",
    "plt.legend()\n",
    "\n",
    "plt.figure()\n",
    "plt.plot(epochs, acc, 'b--', label = 'training accuracy')\n",
    "plt.plot(epochs, val_acc, 'r:', label = 'validation accuracy')\n",
    "plt.grid()\n",
    "plt.legend()\n",
    "\n",
    "plt.show()"
   ]
  },
  {
   "cell_type": "markdown",
   "id": "b1d889d7",
   "metadata": {},
   "source": [
    "### 모델 평가"
   ]
  },
  {
   "cell_type": "code",
   "execution_count": 26,
   "id": "1c82937d",
   "metadata": {},
   "outputs": [
    {
     "name": "stdout",
     "output_type": "stream",
     "text": [
      "782/782 [==============================] - 26s 34ms/step - loss: 0.4195 - acc: 0.8658\n"
     ]
    },
    {
     "data": {
      "text/plain": [
       "[0.4195365905761719, 0.8658000230789185]"
      ]
     },
     "execution_count": 26,
     "metadata": {},
     "output_type": "execute_result"
    }
   ],
   "source": [
    "model.evaluate(pad_x_test, y_test)"
   ]
  },
  {
   "cell_type": "markdown",
   "id": "e0082942",
   "metadata": {},
   "source": [
    "# GRU (Gated Recurrent Unit)\n",
    "- LSTM을 더 단순하게 만든 구조\n",
    "\n",
    "- 기억 셀은 없고, 시간방향으로 전파하는 것은 은닉 상태만 있음\n",
    "\n",
    "- reset gate\n",
    "  - 과거의 은닉 상태를 얼마나 무시할지 결정\n",
    "\n",
    "  - $r$ 값이 결정\n",
    "\n",
    "- update gate\n",
    "  -  은닉 상태를 갱신하는 게이트  \n",
    "\n",
    "  - LSTM의 forget, input gate 역할을 동시에 함\n",
    "  \n",
    "  <img src=\"https://miro.medium.com/max/1400/1*jhi5uOm9PvZfmxvfaCektw.png\" width=\"500\">\n",
    "\n",
    "<sub>출처: https://towardsdatascience.com/illustrated-guide-to-lstms-and-gru-s-a-step-by-step-explanation-44e9eb85bf21</sub>\n",
    "\n",
    "  ### $\\qquad z = \\sigma (x_t W^{(z)}_x + h_{t-1} W^{(z)}_h + b^{(z)} \\\\ \n",
    "  \\qquad r = \\sigma (x_t W^{(r)}_x + h_{t-1} W^{(r)}_h + b^{(r)}) \\\\\n",
    "  \\qquad \\tilde{i} = tanh (x_t W^{(i)}_x + (r \\odot h_{t-1}) W^{(i)}_h + b ) \\\\\n",
    "  \\qquad h_t = (1 - z) \\odot h_{t-1} + z \\odot \\tilde{h}$\n"
   ]
  },
  {
   "cell_type": "markdown",
   "id": "46240edf",
   "metadata": {},
   "source": [
    "## Reuters 데이터\n",
    "\n",
    "- IMDB와 유사한 데이터셋(텍스트 데이터)\n",
    "\n",
    "- 46개의 상호 배타적인 토픽으로 이루어진 데이터셋 \n",
    "  - 다중 분류 문제\n"
   ]
  },
  {
   "cell_type": "markdown",
   "id": "9c49eb6c",
   "metadata": {},
   "source": [
    "### 데이터셋 로드"
   ]
  },
  {
   "cell_type": "code",
   "execution_count": 27,
   "id": "879923d2",
   "metadata": {},
   "outputs": [],
   "source": [
    "from tensorflow.keras.datasets import reuters"
   ]
  },
  {
   "cell_type": "code",
   "execution_count": 28,
   "id": "4b1d3139",
   "metadata": {},
   "outputs": [
    {
     "name": "stdout",
     "output_type": "stream",
     "text": [
      "Downloading data from https://storage.googleapis.com/tensorflow/tf-keras-datasets/reuters.npz\n",
      "2113536/2110848 [==============================] - 1s 0us/step\n",
      "(8982,)\n",
      "(8982,)\n",
      "(2246,)\n",
      "(2246,)\n"
     ]
    },
    {
     "name": "stderr",
     "output_type": "stream",
     "text": [
      "C:\\Users\\CPB06GameN\\anaconda3\\lib\\site-packages\\tensorflow\\python\\keras\\datasets\\reuters.py:143: VisibleDeprecationWarning: Creating an ndarray from ragged nested sequences (which is a list-or-tuple of lists-or-tuples-or ndarrays with different lengths or shapes) is deprecated. If you meant to do this, you must specify 'dtype=object' when creating the ndarray\n",
      "  x_train, y_train = np.array(xs[:idx]), np.array(labels[:idx])\n",
      "C:\\Users\\CPB06GameN\\anaconda3\\lib\\site-packages\\tensorflow\\python\\keras\\datasets\\reuters.py:144: VisibleDeprecationWarning: Creating an ndarray from ragged nested sequences (which is a list-or-tuple of lists-or-tuples-or ndarrays with different lengths or shapes) is deprecated. If you meant to do this, you must specify 'dtype=object' when creating the ndarray\n",
      "  x_test, y_test = np.array(xs[idx:]), np.array(labels[idx:])\n"
     ]
    }
   ],
   "source": [
    "num_words = 10000\n",
    "(x_train, y_train), (x_test, y_test) = reuters.load_data(num_words = num_words)\n",
    "\n",
    "print(x_train.shape)\n",
    "print(y_train.shape)\n",
    "\n",
    "print(x_test.shape)\n",
    "print(y_test.shape)"
   ]
  },
  {
   "cell_type": "markdown",
   "id": "4a70e197",
   "metadata": {},
   "source": [
    "### 데이터 전처리 및 확인"
   ]
  },
  {
   "cell_type": "code",
   "execution_count": 29,
   "id": "56ae409e",
   "metadata": {},
   "outputs": [],
   "source": [
    "from tensorflow.keras.preprocessing.sequence import pad_sequences"
   ]
  },
  {
   "cell_type": "code",
   "execution_count": 30,
   "id": "caafb1a9",
   "metadata": {},
   "outputs": [],
   "source": [
    "max_len = 300"
   ]
  },
  {
   "cell_type": "code",
   "execution_count": 31,
   "id": "0f0ae0bd",
   "metadata": {},
   "outputs": [
    {
     "name": "stdout",
     "output_type": "stream",
     "text": [
      "300\n"
     ]
    }
   ],
   "source": [
    "pad_x_train = pad_sequences(x_train, maxlen = max_len)\n",
    "pad_x_test = pad_sequences(x_test, maxlen = max_len)\n",
    "\n",
    "print(len(pad_x_train[0]))"
   ]
  },
  {
   "cell_type": "code",
   "execution_count": 34,
   "id": "938720cf",
   "metadata": {},
   "outputs": [
    {
     "data": {
      "text/plain": [
       "array([   0,    0,    0,    0,    0,    0,    0,    0,    0,    0,    0,\n",
       "          0,    0,    0,    0,    0,    0,    0,    0,    0,    0,    0,\n",
       "          0,    0,    0,    0,    0,    0,    0,    0,    0,    0,    0,\n",
       "          0,    0,    0,    0,    0,    0,    0,    0,    0,    0,    0,\n",
       "          0,    0,    0,    0,    0,    0,    0,    0,    0,    0,    0,\n",
       "          0,    0,    0,    0,    0,    0,    0,    0,    0,    0,    0,\n",
       "          0,    0,    0,    0,    0,    0,    0,    0,    0,    0,    0,\n",
       "          0,    0,    0,    0,    0,    0,    0,    0,    0,    0,    0,\n",
       "          0,    0,    0,    0,    0,    0,    0,    0,    0,    0,    0,\n",
       "          0,    0,    0,    0,    0,    0,    0,    0,    0,    0,    0,\n",
       "          0,    0,    0,    0,    0,    0,    0,    0,    0,    0,    0,\n",
       "          0,    0,    0,    0,    0,    0,    0,    0,    0,    0,    0,\n",
       "          0,    0,    0,    0,    0,    0,    0,    0,    0,    0,    0,\n",
       "          0,    0,    0,    0,    0,    0,    0,    0,    0,    0,    0,\n",
       "          0,    0,    0,    0,    0,    0,    0,    0,    0,    0,    0,\n",
       "          0,    0,    0,    0,    0,    0,    0,    0,    0,    0,    0,\n",
       "          0,    0,    0,    0,    0,    0,    0,    0,    1,    4,   37,\n",
       "         38,  309,  213,  349, 1632,   48,  193,  229,  463,   28,  156,\n",
       "        635,   11,   82,   14,  156,  635,   11,   82,   54,  139,   16,\n",
       "        349,  105,  462,  311,   28,  296,  147,   11,   82,   14,  296,\n",
       "        147,   11,   54,  139,  342,   48,  193, 3234,  361,  122,   23,\n",
       "       1332,   28,  318,  942,   11,   82,   14,  318,  942,   11,   82,\n",
       "         54,  139,  122,    7,  105,  462,   23,  349,   28,  296,  767,\n",
       "         11,   82,   14,  296,  767,   11,   54,  139,  342,  229,  162,\n",
       "          7,   48,  193,   55,  408,   28,  258,  557,   11,   82,   14,\n",
       "        196,  557,   11,   82,   54,  139,  162,    7,  105,  462,   55,\n",
       "        349,   28,  191,  968,   11,   82,   14,  191,  785,   11,   54,\n",
       "        139,   17,   12])"
      ]
     },
     "execution_count": 34,
     "metadata": {},
     "output_type": "execute_result"
    }
   ],
   "source": [
    "pad_x_train[5]"
   ]
  },
  {
   "cell_type": "markdown",
   "id": "46c8be39",
   "metadata": {},
   "source": [
    "### 모델 구성\n",
    "- LSTM 레이어도 SimpleRNN과 같이 `return_sequences` 인자 사용가능"
   ]
  },
  {
   "cell_type": "code",
   "execution_count": 37,
   "id": "6a4a40f4",
   "metadata": {},
   "outputs": [],
   "source": [
    "from tensorflow.keras.models import Sequential\n",
    "from tensorflow.keras.layers import GRU, Dense, Embedding"
   ]
  },
  {
   "cell_type": "code",
   "execution_count": 39,
   "id": "3df517f9",
   "metadata": {},
   "outputs": [
    {
     "name": "stdout",
     "output_type": "stream",
     "text": [
      "Model: \"sequential_7\"\n",
      "_________________________________________________________________\n",
      "Layer (type)                 Output Shape              Param #   \n",
      "=================================================================\n",
      "embedding_7 (Embedding)      (None, None, 256)         2560000   \n",
      "_________________________________________________________________\n",
      "gru_2 (GRU)                  (None, None, 256)         394752    \n",
      "_________________________________________________________________\n",
      "gru_3 (GRU)                  (None, 128)               148224    \n",
      "_________________________________________________________________\n",
      "dense_4 (Dense)              (None, 46)                5934      \n",
      "=================================================================\n",
      "Total params: 3,108,910\n",
      "Trainable params: 3,108,910\n",
      "Non-trainable params: 0\n",
      "_________________________________________________________________\n"
     ]
    }
   ],
   "source": [
    "model = Sequential()\n",
    "model.add(Embedding(input_dim = num_words, output_dim = 256))\n",
    "model.add(GRU(256, return_sequences = True))\n",
    "model.add(GRU(128))\n",
    "model.add(Dense(46, activation = 'softmax'))\n",
    "\n",
    "model.compile(optimizer = 'adam',\n",
    "             loss = 'sparse_categorical_crossentropy',\n",
    "             metrics = ['acc'])\n",
    "model.summary()"
   ]
  },
  {
   "cell_type": "markdown",
   "id": "52925fe7",
   "metadata": {},
   "source": [
    "### 모델 학습"
   ]
  },
  {
   "cell_type": "code",
   "execution_count": 40,
   "id": "f369842a",
   "metadata": {},
   "outputs": [
    {
     "name": "stdout",
     "output_type": "stream",
     "text": [
      "Epoch 1/20\n",
      "225/225 [==============================] - 255s 1s/step - loss: 2.0344 - acc: 0.4699 - val_loss: 1.6523 - val_acc: 0.5821\n",
      "Epoch 2/20\n",
      "225/225 [==============================] - 268s 1s/step - loss: 1.5550 - acc: 0.6067 - val_loss: 1.5559 - val_acc: 0.6116\n",
      "Epoch 3/20\n",
      "225/225 [==============================] - 277s 1s/step - loss: 1.2330 - acc: 0.6814 - val_loss: 1.3907 - val_acc: 0.6583\n",
      "Epoch 4/20\n",
      "225/225 [==============================] - 261s 1s/step - loss: 0.9304 - acc: 0.7634 - val_loss: 1.2948 - val_acc: 0.6934\n",
      "Epoch 5/20\n",
      "225/225 [==============================] - 252s 1s/step - loss: 0.6898 - acc: 0.8239 - val_loss: 1.2981 - val_acc: 0.7034\n",
      "Epoch 6/20\n",
      "225/225 [==============================] - 264s 1s/step - loss: 0.5076 - acc: 0.8701 - val_loss: 1.3637 - val_acc: 0.7078\n",
      "Epoch 7/20\n",
      "225/225 [==============================] - 272s 1s/step - loss: 0.3840 - acc: 0.9048 - val_loss: 1.3674 - val_acc: 0.7023\n",
      "Epoch 8/20\n",
      "225/225 [==============================] - 275s 1s/step - loss: 0.2982 - acc: 0.9275 - val_loss: 1.3941 - val_acc: 0.7223\n",
      "Epoch 9/20\n",
      "225/225 [==============================] - 271s 1s/step - loss: 0.2443 - acc: 0.9344 - val_loss: 1.4935 - val_acc: 0.6984\n",
      "Epoch 10/20\n",
      "225/225 [==============================] - 272s 1s/step - loss: 0.2009 - acc: 0.9459 - val_loss: 1.5056 - val_acc: 0.7001\n",
      "Epoch 11/20\n",
      "225/225 [==============================] - 275s 1s/step - loss: 0.1737 - acc: 0.9506 - val_loss: 1.5792 - val_acc: 0.6967\n",
      "Epoch 12/20\n",
      "225/225 [==============================] - 270s 1s/step - loss: 0.1458 - acc: 0.9567 - val_loss: 1.6410 - val_acc: 0.7006\n",
      "Epoch 13/20\n",
      "225/225 [==============================] - 269s 1s/step - loss: 0.1336 - acc: 0.9577 - val_loss: 1.6442 - val_acc: 0.6995\n",
      "Epoch 14/20\n",
      "225/225 [==============================] - 257s 1s/step - loss: 0.1207 - acc: 0.9584 - val_loss: 1.6432 - val_acc: 0.7073\n",
      "Epoch 15/20\n",
      "225/225 [==============================] - 266s 1s/step - loss: 0.1105 - acc: 0.9598 - val_loss: 1.6818 - val_acc: 0.6995\n",
      "Epoch 16/20\n",
      "225/225 [==============================] - 262s 1s/step - loss: 0.1011 - acc: 0.9609 - val_loss: 1.7955 - val_acc: 0.6856\n",
      "Epoch 17/20\n",
      "225/225 [==============================] - 258s 1s/step - loss: 0.0962 - acc: 0.9617 - val_loss: 1.7203 - val_acc: 0.7051\n",
      "Epoch 18/20\n",
      "225/225 [==============================] - 262s 1s/step - loss: 0.0964 - acc: 0.9608 - val_loss: 1.8246 - val_acc: 0.7078\n",
      "Epoch 19/20\n",
      "225/225 [==============================] - 260s 1s/step - loss: 0.0924 - acc: 0.9626 - val_loss: 1.8114 - val_acc: 0.6962\n",
      "Epoch 20/20\n",
      "225/225 [==============================] - 261s 1s/step - loss: 0.0862 - acc: 0.9617 - val_loss: 1.7761 - val_acc: 0.7106\n"
     ]
    }
   ],
   "source": [
    "history = model.fit(pad_x_train, y_train, \n",
    "                   batch_size = 32, epochs = 20,\n",
    "                   validation_split = 0.2)"
   ]
  },
  {
   "cell_type": "markdown",
   "id": "8b006b5f",
   "metadata": {},
   "source": [
    "### 시각화"
   ]
  },
  {
   "cell_type": "code",
   "execution_count": 41,
   "id": "300d12f4",
   "metadata": {},
   "outputs": [
    {
     "data": {
      "image/png": "[encoded data removed]",
      "text/plain": [
       "<Figure size 432x288 with 1 Axes>"
      ]
     },
     "metadata": {},
     "output_type": "display_data"
    },
    {
     "data": {
      "image/png": "[encoded data removed]",
      "text/plain": [
       "<Figure size 432x288 with 1 Axes>"
      ]
     },
     "metadata": {},
     "output_type": "display_data"
    }
   ],
   "source": [
    "loss = history.history['loss']\n",
    "val_loss = history.history['val_loss']\n",
    "acc = history.history['acc']\n",
    "val_acc = history.history['val_acc']\n",
    "\n",
    "epochs = range(1, len(loss) + 1)\n",
    "\n",
    "plt.plot(epochs, loss, 'b--', label = 'training loss')\n",
    "plt.plot(epochs, val_loss, 'r:', label = 'validation loss')\n",
    "plt.grid()\n",
    "plt.legend()\n",
    "\n",
    "plt.figure()\n",
    "plt.plot(epochs, acc, 'b--', label = 'training accuracy')\n",
    "plt.plot(epochs, val_acc, 'r:', label = 'validation accuracy')\n",
    "plt.grid()\n",
    "plt.legend()\n",
    "\n",
    "plt.show()"
   ]
  },
  {
   "cell_type": "markdown",
   "id": "f31f80df",
   "metadata": {},
   "source": [
    "### 모델 평가"
   ]
  },
  {
   "cell_type": "code",
   "execution_count": 42,
   "id": "81514ec6",
   "metadata": {},
   "outputs": [
    {
     "name": "stdout",
     "output_type": "stream",
     "text": [
      "71/71 [==============================] - 22s 310ms/step - loss: 1.9797 - acc: 0.6950\n"
     ]
    },
    {
     "data": {
      "text/plain": [
       "[1.9796582460403442, 0.6950133442878723]"
      ]
     },
     "execution_count": 42,
     "metadata": {},
     "output_type": "execute_result"
    }
   ],
   "source": [
    "model.evaluate(pad_x_test, y_test)"
   ]
  },
  {
   "cell_type": "code",
   "execution_count": null,
   "id": "97996d6e",
   "metadata": {},
   "outputs": [],
   "source": []
  }
 ],
 "metadata": {
  "kernelspec": {
   "display_name": "Python 3 (ipykernel)",
   "language": "python",
   "name": "python3"
  },
  "language_info": {
   "codemirror_mode": {
    "name": "ipython",
    "version": 3
   },
   "file_extension": ".py",
   "mimetype": "text/x-python",
   "name": "python",
   "nbconvert_exporter": "python",
   "pygments_lexer": "ipython3",
   "version": "3.8.11"
  }
 },
 "nbformat": 4,
 "nbformat_minor": 5
}
