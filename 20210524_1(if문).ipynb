{
 "cells": [
  {
   "cell_type": "code",
   "execution_count": 6,
   "id": "8b4cd6f6",
   "metadata": {},
   "outputs": [
    {
     "name": "stdout",
     "output_type": "stream",
     "text": [
      "택시타고가렴\n"
     ]
    }
   ],
   "source": [
    "# else, elif 만 단독으론 사용 불가 !\n",
    "# 들여쓰기 조심\n",
    "pocket = ['dd', 'nivea', 'key', 'df']\n",
    "if 'money' in pocket:\n",
    "    print(\"택시타고가렴\")\n",
    "else:\n",
    "    if card:\n",
    "        print(\"택시타고가렴\")\n",
    "    else :\n",
    "        print(\"돈없으면걸어가야지?\")"
   ]
  },
  {
   "cell_type": "code",
   "execution_count": 4,
   "id": "0aa09e79",
   "metadata": {},
   "outputs": [
    {
     "name": "stdout",
     "output_type": "stream",
     "text": [
      "택시타고가라\n"
     ]
    }
   ],
   "source": [
    "pocket = ['paper', 'cellphone', 'key']\n",
    "card = True\n",
    "if 'money' in pocket:\n",
    "    print(\"택시타고가라\")\n",
    "elif card:\n",
    "    print(\"택시타고가라\")\n",
    "else:\n",
    "    print(\"걸어가라\")"
   ]
  },
  {
   "cell_type": "code",
   "execution_count": 7,
   "id": "53b126dd",
   "metadata": {},
   "outputs": [
    {
     "data": {
      "text/plain": [
       "True"
      ]
     },
     "execution_count": 7,
     "metadata": {},
     "output_type": "execute_result"
    }
   ],
   "source": [
    "1 in [1,2,3]"
   ]
  },
  {
   "cell_type": "code",
   "execution_count": 8,
   "id": "320335f4",
   "metadata": {},
   "outputs": [
    {
     "data": {
      "text/plain": [
       "False"
      ]
     },
     "execution_count": 8,
     "metadata": {},
     "output_type": "execute_result"
    }
   ],
   "source": [
    "4 in [1,2,3]"
   ]
  },
  {
   "cell_type": "code",
   "execution_count": 5,
   "id": "b70a2d81",
   "metadata": {},
   "outputs": [
    {
     "data": {
      "text/plain": [
       "True"
      ]
     },
     "execution_count": 5,
     "metadata": {},
     "output_type": "execute_result"
    }
   ],
   "source": [
    "4 not in [1,2,3]"
   ]
  },
  {
   "cell_type": "code",
   "execution_count": 16,
   "id": "aa1b08ea",
   "metadata": {},
   "outputs": [
    {
     "name": "stdout",
     "output_type": "stream",
     "text": [
      "거짓\n"
     ]
    }
   ],
   "source": [
    "a = 1.1\n",
    "if a == 1:\n",
    "    pass\n",
    "else:\n",
    "    print(\"거짓\")"
   ]
  },
  {
   "cell_type": "code",
   "execution_count": 9,
   "id": "dc75f44f",
   "metadata": {},
   "outputs": [
    {
     "name": "stdout",
     "output_type": "stream",
     "text": [
      "a는 1이 아님\n"
     ]
    }
   ],
   "source": [
    "a = 2\n",
    "if a == 1:\n",
    "    print(\"a는 1\")\n",
    "else:\n",
    "    print(\"a는 1이 아님\")"
   ]
  },
  {
   "cell_type": "code",
   "execution_count": 14,
   "id": "83716579",
   "metadata": {},
   "outputs": [
    {
     "name": "stdout",
     "output_type": "stream",
     "text": [
      "good bye\n"
     ]
    }
   ],
   "source": [
    "a = 1.5\n",
    "if a ==1: print(\"a는 1\")\n",
    "else:\n",
    "    print(\"good bye\")"
   ]
  }
 ],
 "metadata": {
  "kernelspec": {
   "display_name": "Python 3",
   "language": "python",
   "name": "python3"
  },
  "language_info": {
   "codemirror_mode": {
    "name": "ipython",
    "version": 3
   },
   "file_extension": ".py",
   "mimetype": "text/x-python",
   "name": "python",
   "nbconvert_exporter": "python",
   "pygments_lexer": "ipython3",
   "version": "3.8.8"
  }
 },
 "nbformat": 4,
 "nbformat_minor": 5
}
