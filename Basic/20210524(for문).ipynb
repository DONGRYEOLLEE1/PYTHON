{
 "cells": [
  {
   "cell_type": "code",
   "execution_count": 2,
   "id": "7e7bd2e0",
   "metadata": {},
   "outputs": [
    {
     "name": "stdout",
     "output_type": "stream",
     "text": [
      "range(0, 10)\n"
     ]
    }
   ],
   "source": [
    "a = range(10)\n",
    "print (a)"
   ]
  },
  {
   "cell_type": "code",
   "execution_count": 6,
   "id": "fa48874e",
   "metadata": {},
   "outputs": [
    {
     "name": "stdout",
     "output_type": "stream",
     "text": [
      "0 1 2 3 4 5 6 7 8 9 "
     ]
    }
   ],
   "source": [
    "for i in range(10):\n",
    "    print(i, end=\" \")                               # end - 줄바꿈설정 "
   ]
  },
  {
   "cell_type": "code",
   "execution_count": 7,
   "id": "65a21386",
   "metadata": {},
   "outputs": [
    {
     "name": "stdout",
     "output_type": "stream",
     "text": [
      "5 6 7 8 9 "
     ]
    }
   ],
   "source": [
    "for i in range(5, 10):\n",
    "    print(i, end=\" \")"
   ]
  },
  {
   "cell_type": "code",
   "execution_count": 25,
   "id": "cfe475a0",
   "metadata": {},
   "outputs": [
    {
     "name": "stdout",
     "output_type": "stream",
     "text": [
      "3 6 9 "
     ]
    }
   ],
   "source": [
    "for i in range(1, 10):\n",
    "    if i % 3 == 0:\n",
    "        print(i, end=\" \")                      # range(1,10) 에서 3의배수만 출력"
   ]
  },
  {
   "cell_type": "code",
   "execution_count": 26,
   "id": "601c010e",
   "metadata": {},
   "outputs": [
    {
     "name": "stdout",
     "output_type": "stream",
     "text": [
      "1 4 7 10 13 16 19 22 25 28 31 34 37 40 43 46 49 52 55 58 61 64 67 70 73 76 79 82 85 88 91 94 97 "
     ]
    }
   ],
   "source": [
    "# range(1,100)에서 3으로 나눴을때 나머지 1인 값만 출력하시오.\n",
    "for i in range(1, 100):\n",
    "    if i % 3 == 1:\n",
    "        print(i, end=\" \")"
   ]
  },
  {
   "cell_type": "code",
   "execution_count": 18,
   "id": "cb768e9e",
   "metadata": {},
   "outputs": [
    {
     "name": "stdout",
     "output_type": "stream",
     "text": [
      "10 9 8 7 6 5 4 3 2 "
     ]
    }
   ],
   "source": [
    "for i in range(10, 1, -1):\n",
    "    print(i, end=\" \")"
   ]
  },
  {
   "cell_type": "code",
   "execution_count": 19,
   "id": "45d62c2d",
   "metadata": {},
   "outputs": [
    {
     "name": "stdout",
     "output_type": "stream",
     "text": [
      "1 4 7 10 "
     ]
    }
   ],
   "source": [
    "for i in [1, 4, 7, 10]:\n",
    "    print(i, end=\" \")"
   ]
  },
  {
   "cell_type": "code",
   "execution_count": 30,
   "id": "9cb684c1",
   "metadata": {},
   "outputs": [
    {
     "name": "stdout",
     "output_type": "stream",
     "text": [
      "[3, 6, 9, 12] "
     ]
    }
   ],
   "source": [
    "a = [1,2,3,4]\n",
    "res = []\n",
    "for i in a:\n",
    "    res.append(i*3)\n",
    "print(res, end=\" \")"
   ]
  },
  {
   "cell_type": "code",
   "execution_count": 31,
   "id": "342a124b",
   "metadata": {},
   "outputs": [
    {
     "name": "stdout",
     "output_type": "stream",
     "text": [
      "[3, 6, 9, 12] "
     ]
    }
   ],
   "source": [
    "a = [1,2,3,4]\n",
    "res = [num*3 for num in a]\n",
    "print(res, end=\" \")"
   ]
  },
  {
   "cell_type": "code",
   "execution_count": 32,
   "id": "434b5ff1",
   "metadata": {},
   "outputs": [
    {
     "name": "stdout",
     "output_type": "stream",
     "text": [
      "[6, 12] "
     ]
    }
   ],
   "source": [
    "a = [1,2,3,4]\n",
    "res = [num*3 for num in a if num % 2 == 0]\n",
    "print(res, end=\" \")"
   ]
  },
  {
   "cell_type": "code",
   "execution_count": 1,
   "id": "7a8a8596",
   "metadata": {},
   "outputs": [
    {
     "name": "stdout",
     "output_type": "stream",
     "text": [
      "[6, 12] "
     ]
    }
   ],
   "source": [
    "a = [1,2,3,4]\n",
    "res = []\n",
    "for i in a:\n",
    "    if i % 2 == 0:\n",
    "        res.append(i*3)\n",
    "print(res, end=\" \")"
   ]
  },
  {
   "cell_type": "code",
   "execution_count": 12,
   "id": "973cca38",
   "metadata": {},
   "outputs": [
    {
     "name": "stdout",
     "output_type": "stream",
     "text": [
      "*\n",
      "**\n",
      "***\n",
      "****\n",
      "*****\n"
     ]
    }
   ],
   "source": [
    "# 연습문제 03-1\n",
    "i = 0\n",
    "while True:\n",
    "    i += 1\n",
    "    if i > 5: break\n",
    "    print('*' * i)"
   ]
  },
  {
   "cell_type": "code",
   "execution_count": 13,
   "id": "d504df06",
   "metadata": {},
   "outputs": [
    {
     "name": "stdout",
     "output_type": "stream",
     "text": [
      "166833\n"
     ]
    }
   ],
   "source": [
    "# 연습문제 02\n",
    "result = 0\n",
    "i = 1\n",
    "while i <= 1000:\n",
    "    if i % 3 == 0:\n",
    "        result += i\n",
    "    i += 1\n",
    "print(result)"
   ]
  },
  {
   "cell_type": "code",
   "execution_count": 22,
   "id": "7556dae7",
   "metadata": {
    "collapsed": true
   },
   "outputs": [
    {
     "name": "stdout",
     "output_type": "stream",
     "text": [
      "1\n",
      "2\n",
      "3\n",
      "4\n",
      "5\n",
      "6\n",
      "7\n",
      "8\n",
      "9\n",
      "10\n",
      "11\n",
      "12\n",
      "13\n",
      "14\n",
      "15\n",
      "16\n",
      "17\n",
      "18\n",
      "19\n",
      "20\n",
      "21\n",
      "22\n",
      "23\n",
      "24\n",
      "25\n",
      "26\n",
      "27\n",
      "28\n",
      "29\n",
      "30\n",
      "31\n",
      "32\n",
      "33\n",
      "34\n",
      "35\n",
      "36\n",
      "37\n",
      "38\n",
      "39\n",
      "40\n",
      "41\n",
      "42\n",
      "43\n",
      "44\n",
      "45\n",
      "46\n",
      "47\n",
      "48\n",
      "49\n",
      "50\n",
      "51\n",
      "52\n",
      "53\n",
      "54\n",
      "55\n",
      "56\n",
      "57\n",
      "58\n",
      "59\n",
      "60\n",
      "61\n",
      "62\n",
      "63\n",
      "64\n",
      "65\n",
      "66\n",
      "67\n",
      "68\n",
      "69\n",
      "70\n",
      "71\n",
      "72\n",
      "73\n",
      "74\n",
      "75\n",
      "76\n",
      "77\n",
      "78\n",
      "79\n",
      "80\n",
      "81\n",
      "82\n",
      "83\n",
      "84\n",
      "85\n",
      "86\n",
      "87\n",
      "88\n",
      "89\n",
      "90\n",
      "91\n",
      "92\n",
      "93\n",
      "94\n",
      "95\n",
      "96\n",
      "97\n",
      "98\n",
      "99\n",
      "100\n"
     ]
    }
   ],
   "source": [
    "# 연습문제 04\n",
    "for i in range(1, 101):\n",
    "        print(i)"
   ]
  },
  {
   "cell_type": "code",
   "execution_count": 38,
   "id": "0a49cca5",
   "metadata": {},
   "outputs": [
    {
     "name": "stdout",
     "output_type": "stream",
     "text": [
      "*\n",
      "**\n",
      "***\n",
      "****\n",
      "*****\n"
     ]
    }
   ],
   "source": [
    "# 연습문제 03-2\n",
    "i = 0\n",
    "while True:\n",
    "    i += 1\n",
    "    if i > 5: break\n",
    "    for j in range(i):\n",
    "        print(\"*\", end=\"\")\n",
    "    print(\"\")"
   ]
  },
  {
   "cell_type": "code",
   "execution_count": 42,
   "id": "85002eb0",
   "metadata": {},
   "outputs": [
    {
     "name": "stdout",
     "output_type": "stream",
     "text": [
      "*\n",
      "**\n",
      "***\n",
      "****\n",
      "*****\n"
     ]
    }
   ],
   "source": [
    "# 다른방식으로 별 찍기\n",
    "for i in range(5):\n",
    "    for j in range(i+1):\n",
    "        print(\"*\", end=\"\")\n",
    "    print(\"\")"
   ]
  },
  {
   "cell_type": "code",
   "execution_count": 47,
   "id": "2e00f23d",
   "metadata": {},
   "outputs": [
    {
     "name": "stdout",
     "output_type": "stream",
     "text": [
      "*****\n",
      "****\n",
      "***\n",
      "**\n",
      "*\n"
     ]
    }
   ],
   "source": [
    "# 역순으로 별 찍기\n",
    "for i in range(4,-1,-1):\n",
    "    for j in range(i+1):\n",
    "        print(\"*\", end=\"\")\n",
    "    print(\"\")"
   ]
  },
  {
   "cell_type": "code",
   "execution_count": 64,
   "id": "1ca59644",
   "metadata": {},
   "outputs": [
    {
     "name": "stdout",
     "output_type": "stream",
     "text": [
      "     \n",
      "    *\n",
      "   **\n",
      "  ***\n",
      " ****\n",
      "*****\n"
     ]
    }
   ],
   "source": [
    "# 좌우대칭 직각삼각형 찍기\n",
    "for i in range(6): \n",
    "    print(\"{0:>5}\".format(\"*\"*i))"
   ]
  },
  {
   "cell_type": "code",
   "execution_count": 74,
   "id": "9eba66a8",
   "metadata": {},
   "outputs": [
    {
     "name": "stdout",
     "output_type": "stream",
     "text": [
      "    *    \n",
      "   ***   \n",
      "  *****  \n",
      " ******* \n",
      "*********\n"
     ]
    }
   ],
   "source": [
    "# 정삼각형 별 찍기\n",
    "for i in range(10):\n",
    "    if i % 2 == 1:\n",
    "        print(\"{0:^9}\".format(\"*\" * i))"
   ]
  },
  {
   "cell_type": "code",
   "execution_count": 80,
   "id": "d61f9294",
   "metadata": {},
   "outputs": [
    {
     "name": "stdout",
     "output_type": "stream",
     "text": [
      "*********\n",
      " ******* \n",
      "  *****  \n",
      "   ***   \n",
      "    *    \n"
     ]
    }
   ],
   "source": [
    "# 역순으로 정삼각형 별 찍기\n",
    "for i in range(9, -1, -2):\n",
    "    if i % 2 == 1:\n",
    "        print(\"{0:^9}\".format(\"*\" * i))"
   ]
  },
  {
   "cell_type": "code",
   "execution_count": 64,
   "id": "b5928117",
   "metadata": {},
   "outputs": [
    {
     "name": "stdout",
     "output_type": "stream",
     "text": [
      "    *    \n",
      "   ***   \n",
      "  *****  \n",
      " ******* \n",
      "*********\n",
      " ******* \n",
      "  *****  \n",
      "   ***   \n",
      "    *    \n"
     ]
    }
   ],
   "source": [
    "# 두 정삼각형 이어붙이기\n",
    "for i in range(10):\n",
    "    if i % 2 == 1:\n",
    "        print(\"{0:^9}\".format(\"*\" * i))\n",
    "    if i == 10: break\n",
    "for j in range(7, -1, -2):\n",
    "    if j % 2 == 1:\n",
    "        print(\"{0:^9}\".format(\"*\" * j))"
   ]
  },
  {
   "cell_type": "code",
   "execution_count": 72,
   "id": "473f65aa",
   "metadata": {
    "scrolled": true
   },
   "outputs": [
    {
     "name": "stdout",
     "output_type": "stream",
     "text": [
      "*********\n",
      " ******* \n",
      "  *****  \n",
      "   ***   \n",
      "    *    \n",
      "   ***   \n",
      "  *****  \n",
      " ******* \n",
      "*********\n"
     ]
    }
   ],
   "source": [
    "# 모래시계 별 찍기\n",
    "for i in range(9, -1, -2):\n",
    "    if i % 2 == 1:\n",
    "        print(\"{0:^9}\".format(\"*\" * i))\n",
    "for j in range(3, 10):\n",
    "    if j % 2 == 1:\n",
    "        print(\"{0:^9}\".format(\"*\" * j))"
   ]
  },
  {
   "cell_type": "code",
   "execution_count": null,
   "id": "66a1477a",
   "metadata": {},
   "outputs": [],
   "source": []
  },
  {
   "cell_type": "code",
   "execution_count": 1,
   "id": "4ad224e1",
   "metadata": {},
   "outputs": [
    {
     "name": "stdout",
     "output_type": "stream",
     "text": [
      "79.0\n"
     ]
    }
   ],
   "source": [
    "# 연습문제 05\n",
    "A = [70, 60, 55, 75, 95, 90, 80, 80, 85, 100]\n",
    "total = 0\n",
    "for score in A:\n",
    "    total += score\n",
    "average = total / len(A)\n",
    "print(average)"
   ]
  },
  {
   "cell_type": "code",
   "execution_count": 73,
   "id": "d93fd428",
   "metadata": {},
   "outputs": [
    {
     "name": "stdout",
     "output_type": "stream",
     "text": [
      "60  59  58  57  56  55  54  53  52  51  50  49  48  47  46  45  44  43  42  41  40  39  38  37  36  35  34  33  32  31  30  29  28  27  26  25  24  23  22  21  20  19  18  17  16  15  14  13  12  11  10  9  8  7  6  5  4  3  2  1  0  \n",
      "\n",
      "발사!\n"
     ]
    }
   ],
   "source": [
    "# For문을 이용한 예제 01\n",
    "for i in range(60, -1, -1):\n",
    "    print(i, end=\"  \")\n",
    "print(\"\\n\\n발사!\")"
   ]
  },
  {
   "cell_type": "code",
   "execution_count": 1,
   "id": "6cb5c70f",
   "metadata": {},
   "outputs": [
    {
     "name": "stdout",
     "output_type": "stream",
     "text": [
      "60  59  58  57  56  55  54  53  52  51  50  49  48  47  46  45  44  43  42  41  40  39  38  37  36  35  34  33  32  31  30  29  28  27  26  25  24  23  22  21  20  19  18  17  16  15  14  13  12  11  10  9  8  7  6  5  4  3  2  1  0  \n",
      "\n",
      "발사!\n"
     ]
    }
   ],
   "source": [
    "# While 문을 이용한 예제 01\n",
    "num = 60\n",
    "while num >= 0:\n",
    "    print(num, end=\"  \")\n",
    "    num -=1\n",
    "print(\"\\n\\n발사!\")"
   ]
  },
  {
   "cell_type": "code",
   "execution_count": 69,
   "id": "6372be54",
   "metadata": {},
   "outputs": [
    {
     "name": "stdout",
     "output_type": "stream",
     "text": [
      "1 2 3 4 5 6 7 8 9 \n",
      "2 4 6 8 10 12 14 16 18 \n",
      "3 6 9 12 15 18 21 24 27 \n",
      "4 8 12 16 20 24 28 32 36 \n",
      "5 10 15 20 25 30 35 40 45 \n",
      "6 12 18 24 30 36 42 48 54 \n",
      "7 14 21 28 35 42 49 56 63 \n",
      "8 16 24 32 40 48 56 64 72 \n",
      "9 18 27 36 45 54 63 72 81 \n"
     ]
    }
   ],
   "source": [
    "# for 문을 이용한 구구단 만들기\n",
    "for i in range(1,10):\n",
    "    for j in range(1,10):\n",
    "        print(i*j, end=\" \")\n",
    "    print(\"\")"
   ]
  },
  {
   "cell_type": "code",
   "execution_count": 63,
   "id": "5d2ab537",
   "metadata": {},
   "outputs": [
    {
     "name": "stdout",
     "output_type": "stream",
     "text": [
      "1 2 3 4 5 6 7 8 9 \n",
      "2 4 6 8 10 12 14 16 18 \n",
      "3 6 9 12 15 18 21 24 27 \n",
      "4 8 12 16 20 24 28 32 36 \n",
      "5 10 15 20 25 30 35 40 45 \n",
      "6 12 18 24 30 36 42 48 54 \n",
      "7 14 21 28 35 42 49 56 63 \n",
      "8 16 24 32 40 48 56 64 72 \n",
      "9 18 27 36 45 54 63 72 81 \n"
     ]
    }
   ],
   "source": [
    "# while 문을 이용한 구구단 만들기\n",
    "xnum = 0\n",
    "ynum = 0\n",
    "while xnum < 9:\n",
    "    xnum += 1\n",
    "    ynum = 0\n",
    "    while ynum < 9:\n",
    "        ynum += 1\n",
    "        print(xnum*ynum, end=\" \")\n",
    "    print(\"\")"
   ]
  },
  {
   "cell_type": "code",
   "execution_count": 72,
   "id": "f381a8a4",
   "metadata": {
    "scrolled": false
   },
   "outputs": [
    {
     "name": "stdout",
     "output_type": "stream",
     "text": [
      "1 2 3 4 5 6 7 8 9 \n",
      "2 4 6 8 10 12 14 16 18 \n",
      "3 6 9 12 15 18 21 24 27 \n",
      "4 8 12 16 20 24 28 32 36 \n",
      "5 10 15 20 25 30 35 40 45 \n",
      "6 12 18 24 30 36 42 48 54 \n",
      "7 14 21 28 35 42 49 56 63 \n",
      "8 16 24 32 40 48 56 64 72 \n",
      "9 18 27 36 45 54 63 72 81 \n"
     ]
    }
   ],
   "source": [
    "# 구구단 while문 문제풀이\n",
    "hang = 1\n",
    "while hang <=9:\n",
    "    yeol = 1\n",
    "    while yeol <=9:\n",
    "        print(hang*yeol, end=\" \")\n",
    "        yeol += 1\n",
    "    print(\"\")\n",
    "    hang += 1"
   ]
  },
  {
   "cell_type": "code",
   "execution_count": 5,
   "id": "a9529912",
   "metadata": {},
   "outputs": [
    {
     "name": "stdout",
     "output_type": "stream",
     "text": [
      "몇 개?9\n",
      "1 * * * * * * * * \n",
      "1 2 * * * * * * * \n",
      "1 2 3 * * * * * * \n",
      "1 2 3 4 * * * * * \n",
      "1 2 3 4 5 * * * * \n",
      "1 2 3 4 5 6 * * * \n",
      "1 2 3 4 5 6 7 * * \n"
     ]
    }
   ],
   "source": [
    "num = int(input(\"몇 개?\"))\n",
    "for hang in range(1, 7+1):\n",
    "    # 숫자 출력\n",
    "    for yeol in range(1, hang+1):\n",
    "        print(yeol, end=\" \")\n",
    "    # 별 출력\n",
    "    for yeol in range(1, num+1-hang):\n",
    "        print(\"*\", end=\" \")\n",
    "    print(\"\")"
   ]
  },
  {
   "cell_type": "code",
   "execution_count": 27,
   "id": "a9016684",
   "metadata": {},
   "outputs": [
    {
     "name": "stdout",
     "output_type": "stream",
     "text": [
      " * * * * * * * * * * * * \n",
      "  * * * * * * * * * * * * \n",
      "   * * * * * * * * * * * * \n",
      "    * * * * * * * * * * * * \n",
      "     * * * * * * * * * * * * \n",
      "      * * * * * * * * * * * * \n",
      "       * * * * * * * * * * * * \n",
      "        * * * * * * * * * * * * \n",
      "         * * * * * * * * * * * * \n",
      "          * * * * * * * * * * * * \n"
     ]
    }
   ],
   "source": [
    "for hang in range(1, 11):\n",
    "    for yeol in range(1, hang+1):\n",
    "        print(\"\", end=\" \")\n",
    "    for yeol in range(11, -1, -1):\n",
    "        print(\"*\", end=\" \")\n",
    "    print(\"\")"
   ]
  },
  {
   "cell_type": "code",
   "execution_count": 1,
   "id": "76da7e73",
   "metadata": {},
   "outputs": [
    {
     "name": "stdout",
     "output_type": "stream",
     "text": [
      "**********\n",
      " **********\n",
      "  **********\n",
      "   **********\n",
      "    **********\n",
      "     **********\n",
      "      **********\n",
      "       **********\n",
      "        **********\n",
      "         **********\n"
     ]
    }
   ],
   "source": [
    "# 문제 풀이\n",
    "for hang in range(10):\n",
    "    # 빈칸 출력\n",
    "    for space in range(hang):\n",
    "        print(\" \", end=\"\")\n",
    "    # 별 출력\n",
    "    for star in range(10):\n",
    "        print(\"*\", end=\"\")\n",
    "    print(\"\")"
   ]
  },
  {
   "cell_type": "code",
   "execution_count": 12,
   "id": "151e2ea5",
   "metadata": {
    "collapsed": true
   },
   "outputs": [
    {
     "name": "stdout",
     "output_type": "stream",
     "text": [
      "3 4 5\n",
      "4 3 5\n",
      "5 12 13\n",
      "6 8 10\n",
      "7 24 25\n",
      "8 6 10\n",
      "8 15 17\n",
      "9 12 15\n",
      "9 40 41\n",
      "10 24 26\n",
      "11 60 61\n",
      "12 5 13\n",
      "12 9 15\n",
      "12 16 20\n",
      "12 35 37\n",
      "13 84 85\n",
      "14 48 50\n",
      "15 8 17\n",
      "15 20 25\n",
      "15 36 39\n",
      "16 12 20\n",
      "16 30 34\n",
      "16 63 65\n",
      "18 24 30\n",
      "18 80 82\n",
      "20 15 25\n",
      "20 21 29\n",
      "20 48 52\n",
      "21 20 29\n",
      "21 28 35\n",
      "21 72 75\n",
      "24 7 25\n",
      "24 10 26\n",
      "24 18 30\n",
      "24 32 40\n",
      "24 45 51\n",
      "24 70 74\n",
      "25 60 65\n",
      "27 36 45\n",
      "28 21 35\n",
      "28 45 53\n",
      "28 96 100\n",
      "30 16 34\n",
      "30 40 50\n",
      "30 72 78\n",
      "32 24 40\n",
      "32 60 68\n",
      "33 44 55\n",
      "33 56 65\n",
      "35 12 37\n",
      "35 84 91\n",
      "36 15 39\n",
      "36 27 45\n",
      "36 48 60\n",
      "36 77 85\n",
      "39 52 65\n",
      "39 80 89\n",
      "40 9 41\n",
      "40 30 50\n",
      "40 42 58\n",
      "40 75 85\n",
      "42 40 58\n",
      "42 56 70\n",
      "44 33 55\n",
      "45 24 51\n",
      "45 28 53\n",
      "45 60 75\n",
      "48 14 50\n",
      "48 20 52\n",
      "48 36 60\n",
      "48 55 73\n",
      "48 64 80\n",
      "51 68 85\n",
      "52 39 65\n",
      "54 72 90\n",
      "55 48 73\n",
      "56 33 65\n",
      "56 42 70\n",
      "57 76 95\n",
      "60 11 61\n",
      "60 25 65\n",
      "60 32 68\n",
      "60 45 75\n",
      "60 63 87\n",
      "60 80 100\n",
      "63 16 65\n",
      "63 60 87\n",
      "64 48 80\n",
      "65 72 97\n",
      "68 51 85\n",
      "70 24 74\n",
      "72 21 75\n",
      "72 30 78\n",
      "72 54 90\n",
      "72 65 97\n",
      "75 40 85\n",
      "76 57 95\n",
      "77 36 85\n",
      "80 18 82\n",
      "80 39 89\n",
      "80 60 100\n",
      "84 13 85\n",
      "84 35 91\n",
      "96 28 100\n"
     ]
    }
   ],
   "source": [
    "for a in range(1, 101):\n",
    "    for b in range(1, 101):\n",
    "        for c in range(1, 101):\n",
    "            if a*a + b*b == c*c:\n",
    "                print(a, b, c)"
   ]
  },
  {
   "cell_type": "code",
   "execution_count": 13,
   "id": "fb0241d6",
   "metadata": {
    "scrolled": true
   },
   "outputs": [
    {
     "name": "stdout",
     "output_type": "stream",
     "text": [
      "104\n"
     ]
    }
   ],
   "source": [
    "# 피타고라스의 정의를 만족하는 조건의 개수\n",
    "count_up = 0\n",
    "for a in range(1,101):\n",
    "    for b in range(1, 101):\n",
    "        for c in range(1, 101):\n",
    "            if a*a + b*b == c*c:\n",
    "                count_up += 1\n",
    "print(count_up)"
   ]
  },
  {
   "cell_type": "code",
   "execution_count": 79,
   "id": "be979dec",
   "metadata": {},
   "outputs": [
    {
     "name": "stdout",
     "output_type": "stream",
     "text": [
      "720\n"
     ]
    }
   ],
   "source": [
    "# 내 문제풀이\n",
    "count_up = 0\n",
    "for a in range(0, 10):\n",
    "    for b in range(0, 10):\n",
    "        for c in range(0, 10):\n",
    "            if a!=b and b!=c and a!=c:\n",
    "                count_up += 1\n",
    "print(count_up)"
   ]
  },
  {
   "cell_type": "code",
   "execution_count": 51,
   "id": "75a31263",
   "metadata": {
    "collapsed": true
   },
   "outputs": [
    {
     "name": "stdout",
     "output_type": "stream",
     "text": [
      "0 1 2\n",
      "0 1 3\n",
      "0 1 4\n",
      "0 1 5\n",
      "0 1 6\n",
      "0 1 7\n",
      "0 1 8\n",
      "0 1 9\n",
      "0 2 1\n",
      "0 2 3\n",
      "0 2 4\n",
      "0 2 5\n",
      "0 2 6\n",
      "0 2 7\n",
      "0 2 8\n",
      "0 2 9\n",
      "0 3 1\n",
      "0 3 2\n",
      "0 3 4\n",
      "0 3 5\n",
      "0 3 6\n",
      "0 3 7\n",
      "0 3 8\n",
      "0 3 9\n",
      "0 4 1\n",
      "0 4 2\n",
      "0 4 3\n",
      "0 4 5\n",
      "0 4 6\n",
      "0 4 7\n",
      "0 4 8\n",
      "0 4 9\n",
      "0 5 1\n",
      "0 5 2\n",
      "0 5 3\n",
      "0 5 4\n",
      "0 5 6\n",
      "0 5 7\n",
      "0 5 8\n",
      "0 5 9\n",
      "0 6 1\n",
      "0 6 2\n",
      "0 6 3\n",
      "0 6 4\n",
      "0 6 5\n",
      "0 6 7\n",
      "0 6 8\n",
      "0 6 9\n",
      "0 7 1\n",
      "0 7 2\n",
      "0 7 3\n",
      "0 7 4\n",
      "0 7 5\n",
      "0 7 6\n",
      "0 7 8\n",
      "0 7 9\n",
      "0 8 1\n",
      "0 8 2\n",
      "0 8 3\n",
      "0 8 4\n",
      "0 8 5\n",
      "0 8 6\n",
      "0 8 7\n",
      "0 8 9\n",
      "0 9 1\n",
      "0 9 2\n",
      "0 9 3\n",
      "0 9 4\n",
      "0 9 5\n",
      "0 9 6\n",
      "0 9 7\n",
      "0 9 8\n",
      "1 0 2\n",
      "1 0 3\n",
      "1 0 4\n",
      "1 0 5\n",
      "1 0 6\n",
      "1 0 7\n",
      "1 0 8\n",
      "1 0 9\n",
      "1 2 0\n",
      "1 2 3\n",
      "1 2 4\n",
      "1 2 5\n",
      "1 2 6\n",
      "1 2 7\n",
      "1 2 8\n",
      "1 2 9\n",
      "1 3 0\n",
      "1 3 2\n",
      "1 3 4\n",
      "1 3 5\n",
      "1 3 6\n",
      "1 3 7\n",
      "1 3 8\n",
      "1 3 9\n",
      "1 4 0\n",
      "1 4 2\n",
      "1 4 3\n",
      "1 4 5\n",
      "1 4 6\n",
      "1 4 7\n",
      "1 4 8\n",
      "1 4 9\n",
      "1 5 0\n",
      "1 5 2\n",
      "1 5 3\n",
      "1 5 4\n",
      "1 5 6\n",
      "1 5 7\n",
      "1 5 8\n",
      "1 5 9\n",
      "1 6 0\n",
      "1 6 2\n",
      "1 6 3\n",
      "1 6 4\n",
      "1 6 5\n",
      "1 6 7\n",
      "1 6 8\n",
      "1 6 9\n",
      "1 7 0\n",
      "1 7 2\n",
      "1 7 3\n",
      "1 7 4\n",
      "1 7 5\n",
      "1 7 6\n",
      "1 7 8\n",
      "1 7 9\n",
      "1 8 0\n",
      "1 8 2\n",
      "1 8 3\n",
      "1 8 4\n",
      "1 8 5\n",
      "1 8 6\n",
      "1 8 7\n",
      "1 8 9\n",
      "1 9 0\n",
      "1 9 2\n",
      "1 9 3\n",
      "1 9 4\n",
      "1 9 5\n",
      "1 9 6\n",
      "1 9 7\n",
      "1 9 8\n",
      "2 0 1\n",
      "2 0 3\n",
      "2 0 4\n",
      "2 0 5\n",
      "2 0 6\n",
      "2 0 7\n",
      "2 0 8\n",
      "2 0 9\n",
      "2 1 0\n",
      "2 1 3\n",
      "2 1 4\n",
      "2 1 5\n",
      "2 1 6\n",
      "2 1 7\n",
      "2 1 8\n",
      "2 1 9\n",
      "2 3 0\n",
      "2 3 1\n",
      "2 3 4\n",
      "2 3 5\n",
      "2 3 6\n",
      "2 3 7\n",
      "2 3 8\n",
      "2 3 9\n",
      "2 4 0\n",
      "2 4 1\n",
      "2 4 3\n",
      "2 4 5\n",
      "2 4 6\n",
      "2 4 7\n",
      "2 4 8\n",
      "2 4 9\n",
      "2 5 0\n",
      "2 5 1\n",
      "2 5 3\n",
      "2 5 4\n",
      "2 5 6\n",
      "2 5 7\n",
      "2 5 8\n",
      "2 5 9\n",
      "2 6 0\n",
      "2 6 1\n",
      "2 6 3\n",
      "2 6 4\n",
      "2 6 5\n",
      "2 6 7\n",
      "2 6 8\n",
      "2 6 9\n",
      "2 7 0\n",
      "2 7 1\n",
      "2 7 3\n",
      "2 7 4\n",
      "2 7 5\n",
      "2 7 6\n",
      "2 7 8\n",
      "2 7 9\n",
      "2 8 0\n",
      "2 8 1\n",
      "2 8 3\n",
      "2 8 4\n",
      "2 8 5\n",
      "2 8 6\n",
      "2 8 7\n",
      "2 8 9\n",
      "2 9 0\n",
      "2 9 1\n",
      "2 9 3\n",
      "2 9 4\n",
      "2 9 5\n",
      "2 9 6\n",
      "2 9 7\n",
      "2 9 8\n",
      "3 0 1\n",
      "3 0 2\n",
      "3 0 4\n",
      "3 0 5\n",
      "3 0 6\n",
      "3 0 7\n",
      "3 0 8\n",
      "3 0 9\n",
      "3 1 0\n",
      "3 1 2\n",
      "3 1 4\n",
      "3 1 5\n",
      "3 1 6\n",
      "3 1 7\n",
      "3 1 8\n",
      "3 1 9\n",
      "3 2 0\n",
      "3 2 1\n",
      "3 2 4\n",
      "3 2 5\n",
      "3 2 6\n",
      "3 2 7\n",
      "3 2 8\n",
      "3 2 9\n",
      "3 4 0\n",
      "3 4 1\n",
      "3 4 2\n",
      "3 4 5\n",
      "3 4 6\n",
      "3 4 7\n",
      "3 4 8\n",
      "3 4 9\n",
      "3 5 0\n",
      "3 5 1\n",
      "3 5 2\n",
      "3 5 4\n",
      "3 5 6\n",
      "3 5 7\n",
      "3 5 8\n",
      "3 5 9\n",
      "3 6 0\n",
      "3 6 1\n",
      "3 6 2\n",
      "3 6 4\n",
      "3 6 5\n",
      "3 6 7\n",
      "3 6 8\n",
      "3 6 9\n",
      "3 7 0\n",
      "3 7 1\n",
      "3 7 2\n",
      "3 7 4\n",
      "3 7 5\n",
      "3 7 6\n",
      "3 7 8\n",
      "3 7 9\n",
      "3 8 0\n",
      "3 8 1\n",
      "3 8 2\n",
      "3 8 4\n",
      "3 8 5\n",
      "3 8 6\n",
      "3 8 7\n",
      "3 8 9\n",
      "3 9 0\n",
      "3 9 1\n",
      "3 9 2\n",
      "3 9 4\n",
      "3 9 5\n",
      "3 9 6\n",
      "3 9 7\n",
      "3 9 8\n",
      "4 0 1\n",
      "4 0 2\n",
      "4 0 3\n",
      "4 0 5\n",
      "4 0 6\n",
      "4 0 7\n",
      "4 0 8\n",
      "4 0 9\n",
      "4 1 0\n",
      "4 1 2\n",
      "4 1 3\n",
      "4 1 5\n",
      "4 1 6\n",
      "4 1 7\n",
      "4 1 8\n",
      "4 1 9\n",
      "4 2 0\n",
      "4 2 1\n",
      "4 2 3\n",
      "4 2 5\n",
      "4 2 6\n",
      "4 2 7\n",
      "4 2 8\n",
      "4 2 9\n",
      "4 3 0\n",
      "4 3 1\n",
      "4 3 2\n",
      "4 3 5\n",
      "4 3 6\n",
      "4 3 7\n",
      "4 3 8\n",
      "4 3 9\n",
      "4 5 0\n",
      "4 5 1\n",
      "4 5 2\n",
      "4 5 3\n",
      "4 5 6\n",
      "4 5 7\n",
      "4 5 8\n",
      "4 5 9\n",
      "4 6 0\n",
      "4 6 1\n",
      "4 6 2\n",
      "4 6 3\n",
      "4 6 5\n",
      "4 6 7\n",
      "4 6 8\n",
      "4 6 9\n",
      "4 7 0\n",
      "4 7 1\n",
      "4 7 2\n",
      "4 7 3\n",
      "4 7 5\n",
      "4 7 6\n",
      "4 7 8\n",
      "4 7 9\n",
      "4 8 0\n",
      "4 8 1\n",
      "4 8 2\n",
      "4 8 3\n",
      "4 8 5\n",
      "4 8 6\n",
      "4 8 7\n",
      "4 8 9\n",
      "4 9 0\n",
      "4 9 1\n",
      "4 9 2\n",
      "4 9 3\n",
      "4 9 5\n",
      "4 9 6\n",
      "4 9 7\n",
      "4 9 8\n",
      "5 0 1\n",
      "5 0 2\n",
      "5 0 3\n",
      "5 0 4\n",
      "5 0 6\n",
      "5 0 7\n",
      "5 0 8\n",
      "5 0 9\n",
      "5 1 0\n",
      "5 1 2\n",
      "5 1 3\n",
      "5 1 4\n",
      "5 1 6\n",
      "5 1 7\n",
      "5 1 8\n",
      "5 1 9\n",
      "5 2 0\n",
      "5 2 1\n",
      "5 2 3\n",
      "5 2 4\n",
      "5 2 6\n",
      "5 2 7\n",
      "5 2 8\n",
      "5 2 9\n",
      "5 3 0\n",
      "5 3 1\n",
      "5 3 2\n",
      "5 3 4\n",
      "5 3 6\n",
      "5 3 7\n",
      "5 3 8\n",
      "5 3 9\n",
      "5 4 0\n",
      "5 4 1\n",
      "5 4 2\n",
      "5 4 3\n",
      "5 4 6\n",
      "5 4 7\n",
      "5 4 8\n",
      "5 4 9\n",
      "5 6 0\n",
      "5 6 1\n",
      "5 6 2\n",
      "5 6 3\n",
      "5 6 4\n",
      "5 6 7\n",
      "5 6 8\n",
      "5 6 9\n",
      "5 7 0\n",
      "5 7 1\n",
      "5 7 2\n",
      "5 7 3\n",
      "5 7 4\n",
      "5 7 6\n",
      "5 7 8\n",
      "5 7 9\n",
      "5 8 0\n",
      "5 8 1\n",
      "5 8 2\n",
      "5 8 3\n",
      "5 8 4\n",
      "5 8 6\n",
      "5 8 7\n",
      "5 8 9\n",
      "5 9 0\n",
      "5 9 1\n",
      "5 9 2\n",
      "5 9 3\n",
      "5 9 4\n",
      "5 9 6\n",
      "5 9 7\n",
      "5 9 8\n",
      "6 0 1\n",
      "6 0 2\n",
      "6 0 3\n",
      "6 0 4\n",
      "6 0 5\n",
      "6 0 7\n",
      "6 0 8\n",
      "6 0 9\n",
      "6 1 0\n",
      "6 1 2\n",
      "6 1 3\n",
      "6 1 4\n",
      "6 1 5\n",
      "6 1 7\n",
      "6 1 8\n",
      "6 1 9\n",
      "6 2 0\n",
      "6 2 1\n",
      "6 2 3\n",
      "6 2 4\n",
      "6 2 5\n",
      "6 2 7\n",
      "6 2 8\n",
      "6 2 9\n",
      "6 3 0\n",
      "6 3 1\n",
      "6 3 2\n",
      "6 3 4\n",
      "6 3 5\n",
      "6 3 7\n",
      "6 3 8\n",
      "6 3 9\n",
      "6 4 0\n",
      "6 4 1\n",
      "6 4 2\n",
      "6 4 3\n",
      "6 4 5\n",
      "6 4 7\n",
      "6 4 8\n",
      "6 4 9\n",
      "6 5 0\n",
      "6 5 1\n",
      "6 5 2\n",
      "6 5 3\n",
      "6 5 4\n",
      "6 5 7\n",
      "6 5 8\n",
      "6 5 9\n",
      "6 7 0\n",
      "6 7 1\n",
      "6 7 2\n",
      "6 7 3\n",
      "6 7 4\n",
      "6 7 5\n",
      "6 7 8\n",
      "6 7 9\n",
      "6 8 0\n",
      "6 8 1\n",
      "6 8 2\n",
      "6 8 3\n",
      "6 8 4\n",
      "6 8 5\n",
      "6 8 7\n",
      "6 8 9\n",
      "6 9 0\n",
      "6 9 1\n",
      "6 9 2\n",
      "6 9 3\n",
      "6 9 4\n",
      "6 9 5\n",
      "6 9 7\n",
      "6 9 8\n",
      "7 0 1\n",
      "7 0 2\n",
      "7 0 3\n",
      "7 0 4\n",
      "7 0 5\n",
      "7 0 6\n",
      "7 0 8\n",
      "7 0 9\n",
      "7 1 0\n",
      "7 1 2\n",
      "7 1 3\n",
      "7 1 4\n",
      "7 1 5\n",
      "7 1 6\n",
      "7 1 8\n",
      "7 1 9\n",
      "7 2 0\n",
      "7 2 1\n",
      "7 2 3\n",
      "7 2 4\n",
      "7 2 5\n",
      "7 2 6\n",
      "7 2 8\n",
      "7 2 9\n",
      "7 3 0\n",
      "7 3 1\n",
      "7 3 2\n",
      "7 3 4\n",
      "7 3 5\n",
      "7 3 6\n",
      "7 3 8\n",
      "7 3 9\n",
      "7 4 0\n",
      "7 4 1\n",
      "7 4 2\n",
      "7 4 3\n",
      "7 4 5\n",
      "7 4 6\n",
      "7 4 8\n",
      "7 4 9\n",
      "7 5 0\n",
      "7 5 1\n",
      "7 5 2\n",
      "7 5 3\n",
      "7 5 4\n",
      "7 5 6\n",
      "7 5 8\n",
      "7 5 9\n",
      "7 6 0\n",
      "7 6 1\n",
      "7 6 2\n",
      "7 6 3\n",
      "7 6 4\n",
      "7 6 5\n",
      "7 6 8\n",
      "7 6 9\n",
      "7 8 0\n",
      "7 8 1\n",
      "7 8 2\n",
      "7 8 3\n",
      "7 8 4\n",
      "7 8 5\n",
      "7 8 6\n",
      "7 8 9\n",
      "7 9 0\n",
      "7 9 1\n",
      "7 9 2\n",
      "7 9 3\n",
      "7 9 4\n",
      "7 9 5\n",
      "7 9 6\n",
      "7 9 8\n",
      "8 0 1\n",
      "8 0 2\n",
      "8 0 3\n",
      "8 0 4\n",
      "8 0 5\n",
      "8 0 6\n",
      "8 0 7\n",
      "8 0 9\n",
      "8 1 0\n",
      "8 1 2\n",
      "8 1 3\n",
      "8 1 4\n",
      "8 1 5\n",
      "8 1 6\n",
      "8 1 7\n",
      "8 1 9\n",
      "8 2 0\n",
      "8 2 1\n",
      "8 2 3\n",
      "8 2 4\n",
      "8 2 5\n",
      "8 2 6\n",
      "8 2 7\n",
      "8 2 9\n",
      "8 3 0\n",
      "8 3 1\n",
      "8 3 2\n",
      "8 3 4\n",
      "8 3 5\n",
      "8 3 6\n",
      "8 3 7\n",
      "8 3 9\n",
      "8 4 0\n",
      "8 4 1\n",
      "8 4 2\n",
      "8 4 3\n",
      "8 4 5\n",
      "8 4 6\n",
      "8 4 7\n",
      "8 4 9\n",
      "8 5 0\n",
      "8 5 1\n",
      "8 5 2\n",
      "8 5 3\n",
      "8 5 4\n",
      "8 5 6\n",
      "8 5 7\n",
      "8 5 9\n",
      "8 6 0\n",
      "8 6 1\n",
      "8 6 2\n",
      "8 6 3\n",
      "8 6 4\n",
      "8 6 5\n",
      "8 6 7\n",
      "8 6 9\n",
      "8 7 0\n",
      "8 7 1\n",
      "8 7 2\n",
      "8 7 3\n",
      "8 7 4\n",
      "8 7 5\n",
      "8 7 6\n",
      "8 7 9\n",
      "8 9 0\n",
      "8 9 1\n",
      "8 9 2\n",
      "8 9 3\n",
      "8 9 4\n",
      "8 9 5\n",
      "8 9 6\n",
      "8 9 7\n",
      "9 0 1\n",
      "9 0 2\n",
      "9 0 3\n",
      "9 0 4\n",
      "9 0 5\n",
      "9 0 6\n",
      "9 0 7\n",
      "9 0 8\n",
      "9 1 0\n",
      "9 1 2\n",
      "9 1 3\n",
      "9 1 4\n",
      "9 1 5\n",
      "9 1 6\n",
      "9 1 7\n",
      "9 1 8\n",
      "9 2 0\n",
      "9 2 1\n",
      "9 2 3\n",
      "9 2 4\n",
      "9 2 5\n",
      "9 2 6\n",
      "9 2 7\n",
      "9 2 8\n",
      "9 3 0\n",
      "9 3 1\n",
      "9 3 2\n",
      "9 3 4\n",
      "9 3 5\n",
      "9 3 6\n",
      "9 3 7\n",
      "9 3 8\n",
      "9 4 0\n",
      "9 4 1\n",
      "9 4 2\n",
      "9 4 3\n",
      "9 4 5\n",
      "9 4 6\n",
      "9 4 7\n",
      "9 4 8\n",
      "9 5 0\n",
      "9 5 1\n",
      "9 5 2\n",
      "9 5 3\n",
      "9 5 4\n",
      "9 5 6\n",
      "9 5 7\n",
      "9 5 8\n",
      "9 6 0\n",
      "9 6 1\n",
      "9 6 2\n",
      "9 6 3\n",
      "9 6 4\n",
      "9 6 5\n",
      "9 6 7\n",
      "9 6 8\n",
      "9 7 0\n",
      "9 7 1\n",
      "9 7 2\n",
      "9 7 3\n",
      "9 7 4\n",
      "9 7 5\n",
      "9 7 6\n",
      "9 7 8\n",
      "9 8 0\n",
      "9 8 1\n",
      "9 8 2\n",
      "9 8 3\n",
      "9 8 4\n",
      "9 8 5\n",
      "9 8 6\n",
      "9 8 7\n"
     ]
    }
   ],
   "source": [
    "# 증명\n",
    "for a in range(0, 10):\n",
    "    for b in range(0, 10):\n",
    "        for c in range(0, 10):\n",
    "            if a!=b and a!=c and b!=c:\n",
    "                print(a,b,c)"
   ]
  },
  {
   "cell_type": "code",
   "execution_count": 77,
   "id": "ffc5d3a8",
   "metadata": {},
   "outputs": [
    {
     "name": "stdout",
     "output_type": "stream",
     "text": [
      "720 개\n"
     ]
    }
   ],
   "source": [
    "# 문제풀이\n",
    "count_up = 0\n",
    "for num in range(1000):\n",
    "    d100 = num//100\n",
    "    d10 = (num%100)//10\n",
    "    d1 = num%10\n",
    "    \n",
    "    if d100 != d10 and d10 != d1 and d100 != d1:\n",
    "        count_up += 1\n",
    "        \n",
    "print(count_up, \"개\")"
   ]
  },
  {
   "cell_type": "code",
   "execution_count": 86,
   "id": "34f97d12",
   "metadata": {},
   "outputs": [
    {
     "name": "stdout",
     "output_type": "stream",
     "text": [
      "1\n"
     ]
    }
   ],
   "source": [
    "# 3**2016의 마지막 자리의 숫자 구하기\n",
    "\n",
    "for j in range(2019):\n",
    "    i = 3\n",
    "    k = i**j%10\n",
    "    if j == 2016:\n",
    "        print(k)"
   ]
  },
  {
   "cell_type": "code",
   "execution_count": 1,
   "id": "94ec5241",
   "metadata": {
    "scrolled": false
   },
   "outputs": [
    {
     "name": "stdout",
     "output_type": "stream",
     "text": [
      "1\n"
     ]
    }
   ],
   "source": [
    "# 위 문제 다른 문제풀이\n",
    "num = 1\n",
    "for i in range(2016):\n",
    "    num *=3\n",
    "    if i == 2015:\n",
    "        d1_of_num = num%10\n",
    "print(d1_of_num)"
   ]
  },
  {
   "cell_type": "code",
   "execution_count": 7,
   "id": "76079dab",
   "metadata": {},
   "outputs": [
    {
     "name": "stdout",
     "output_type": "stream",
     "text": [
      "수 입력:682\n",
      "11\n"
     ]
    }
   ],
   "source": [
    "# 문제풀이\n",
    "num = int(input(\"수 입력:\"))\n",
    "proc_count = 0\n",
    "while True:\n",
    "    if num % 2 == 0:\n",
    "        num = int(num/2)\n",
    "    else:\n",
    "        num = int((3 * num +1)/2)\n",
    "    proc_count += 1\n",
    "    if num == 1: break\n",
    "print(proc_count)"
   ]
  }
 ],
 "metadata": {
  "kernelspec": {
   "display_name": "Python 3",
   "language": "python",
   "name": "python3"
  },
  "language_info": {
   "codemirror_mode": {
    "name": "ipython",
    "version": 3
   },
   "file_extension": ".py",
   "mimetype": "text/x-python",
   "name": "python",
   "nbconvert_exporter": "python",
   "pygments_lexer": "ipython3",
   "version": "3.8.8"
  }
 },
 "nbformat": 4,
 "nbformat_minor": 5
}
