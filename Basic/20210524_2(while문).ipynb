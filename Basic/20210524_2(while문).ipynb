{
 "cells": [
  {
   "cell_type": "code",
   "execution_count": null,
   "id": "c55e99a9",
   "metadata": {},
   "outputs": [],
   "source": [
    "treeHit = 1                    # 초기값은 필수 !\n",
    "while treeHit <=10:\n",
    "    print(\"나무를 \" + str(treeHit) + \"번 찍었습니다.\")\n",
    "    if treeHit == 10: print(\"나무 넘어갑니다\")\n",
    "    treeHit += 1                                            # ==> treeHit = treeHit + 1"
   ]
  },
  {
   "cell_type": "code",
   "execution_count": 23,
   "id": "01c7576e",
   "metadata": {
    "collapsed": true
   },
   "outputs": [
    {
     "name": "stdout",
     "output_type": "stream",
     "text": [
      "나무를 1번 찍었습니다.\n",
      "나무를 2번 찍었습니다.\n",
      "나무를 3번 찍었습니다.\n",
      "나무를 4번 찍었습니다.\n",
      "나무를 5번 찍었습니다.\n",
      "나무를 6번 찍었습니다.\n",
      "나무를 7번 찍었습니다.\n",
      "나무를 8번 찍었습니다.\n",
      "나무를 9번 찍었습니다.\n",
      "나무를 10번 찍었습니다.\n",
      "나무가 넘어가네\n"
     ]
    }
   ],
   "source": [
    "treeHit = 1\n",
    "while treeHit <20:\n",
    "    print(\"나무를 \" + str(treeHit) + \"번 찍었습니다.\")\n",
    "    treeHit += 1\n",
    "    if treeHit == 11:\n",
    "        print(\"나무가 넘어가네\")\n",
    "        break"
   ]
  },
  {
   "cell_type": "code",
   "execution_count": 1,
   "id": "37bd663f",
   "metadata": {},
   "outputs": [
    {
     "name": "stdout",
     "output_type": "stream",
     "text": [
      "정수를 입력하세요100\n",
      "100\n"
     ]
    }
   ],
   "source": [
    "a = input(\"정수를 입력하세요\")\n",
    "print(a)"
   ]
  },
  {
   "cell_type": "code",
   "execution_count": 3,
   "id": "43a2d25d",
   "metadata": {},
   "outputs": [
    {
     "name": "stdout",
     "output_type": "stream",
     "text": [
      "정수를 입력하세요100\n",
      "101\n"
     ]
    }
   ],
   "source": [
    "a = input(\"정수를 입력하세요\")\n",
    "a = int(a) + 1\n",
    "print(a)"
   ]
  },
  {
   "cell_type": "code",
   "execution_count": 3,
   "id": "b8f1b100",
   "metadata": {},
   "outputs": [
    {
     "name": "stdout",
     "output_type": "stream",
     "text": [
      "온도를 입력하세요4\n",
      "온도를 입력하세요5\n",
      "온도를 입력하세요6\n",
      "온도를 입력하세요5\n",
      "[4, 5, 6, 5]\n"
     ]
    }
   ],
   "source": [
    "list_a = []\n",
    "count = 0\n",
    "while count < 4:\n",
    "    received = input(\"온도를 입력하세요\")\n",
    "    received = int(received)\n",
    "    list_a.append(received)\n",
    "    count += 1\n",
    "print(list_a)"
   ]
  },
  {
   "cell_type": "markdown",
   "id": "a554a31f",
   "metadata": {},
   "source": [
    "list_a = []\n",
    "while True:\n",
    "    received = input(\"온도를 입력하세요\")\n",
    "    received = int(received)\n",
    "    if received == -500: break\n",
    "    if received < 50 or received > -40: continue\n",
    "    list_a.append(received)\n",
    "print(list_a)"
   ]
  },
  {
   "cell_type": "code",
   "execution_count": 4,
   "id": "7ef40b80",
   "metadata": {},
   "outputs": [
    {
     "name": "stdout",
     "output_type": "stream",
     "text": [
      "온도를 입력하세요4\n",
      "온도를 입력하세요5\n",
      "온도를 입력하세요6\n",
      "온도를 입력하세요54\n",
      "온도를 입력하세요100\n",
      "온도를 입력하세요5\n",
      "온도를 입력하세요-500\n",
      "[4, 5, 6, 5]\n"
     ]
    }
   ],
   "source": [
    "list_a = []\n",
    "while True:\n",
    "    received = input(\"온도를 입력하세요\")\n",
    "    received = int(received)\n",
    "    if received == -500: break\n",
    "    if received > 50 or received < -40 : continue                  # continue == function Next in r\n",
    "    list_a.append(received)\n",
    "print(list_a)                                              # 54 , 100을 입력했으나 최종입력값엔 제외"
   ]
  },
  {
   "cell_type": "code",
   "execution_count": null,
   "id": "e294fba4",
   "metadata": {},
   "outputs": [],
   "source": []
  }
 ],
 "metadata": {
  "kernelspec": {
   "display_name": "Python 3",
   "language": "python",
   "name": "python3"
  },
  "language_info": {
   "codemirror_mode": {
    "name": "ipython",
    "version": 3
   },
   "file_extension": ".py",
   "mimetype": "text/x-python",
   "name": "python",
   "nbconvert_exporter": "python",
   "pygments_lexer": "ipython3",
   "version": "3.8.8"
  }
 },
 "nbformat": 4,
 "nbformat_minor": 5
}
