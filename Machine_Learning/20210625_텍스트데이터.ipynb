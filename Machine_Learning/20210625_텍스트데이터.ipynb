{
 "cells": [
  {
   "cell_type": "code",
   "execution_count": 2,
   "id": "7af3f2a3",
   "metadata": {},
   "outputs": [],
   "source": [
    "from sklearn.datasets import load_files"
   ]
  },
  {
   "cell_type": "code",
   "execution_count": 29,
   "id": "00c82e09",
   "metadata": {},
   "outputs": [],
   "source": [
    "reviews_train = load_files(\"aclImdb/train\")"
   ]
  },
  {
   "cell_type": "code",
   "execution_count": 30,
   "id": "e5a4678b",
   "metadata": {},
   "outputs": [
    {
     "data": {
      "text/plain": [
       "b\"Zero Day leads you to think, even re-think why two boys/young men would do what they did - commit mutual suicide via slaughtering their classmates. It captures what must be beyond a bizarre mode of being for two humans who have decided to withdraw from common civility in order to define their own/mutual world via coupled destruction.<br /><br />It is not a perfect movie but given what money/time the filmmaker and actors had - it is a remarkable product. In terms of explaining the motives and actions of the two young suicide/murderers it is better than 'Elephant' - in terms of being a film that gets under our 'rationalistic' skin it is a far, far better film than almost anything you are likely to see. <br /><br />Flawed but honest with a terrible honesty.\""
      ]
     },
     "execution_count": 30,
     "metadata": {},
     "output_type": "execute_result"
    }
   ],
   "source": [
    "text_train, y_train = reviews_train.data, reviews_train.target\n",
    "text_train[0]"
   ]
  },
  {
   "cell_type": "code",
   "execution_count": 31,
   "id": "c94ef543",
   "metadata": {},
   "outputs": [
    {
     "data": {
      "text/plain": [
       "25000"
      ]
     },
     "execution_count": 31,
     "metadata": {},
     "output_type": "execute_result"
    }
   ],
   "source": [
    "len(text_train)"
   ]
  },
  {
   "cell_type": "code",
   "execution_count": 32,
   "id": "beb0eacb",
   "metadata": {},
   "outputs": [],
   "source": [
    "text_train = [a_review.replace(b\"<br />\", b\" \") for a_review in text_train]"
   ]
  },
  {
   "cell_type": "code",
   "execution_count": 8,
   "id": "a8a52425",
   "metadata": {},
   "outputs": [
    {
     "data": {
      "text/plain": [
       "array([12500, 12500, 50000], dtype=int64)"
      ]
     },
     "execution_count": 8,
     "metadata": {},
     "output_type": "execute_result"
    }
   ],
   "source": [
    "import numpy as np\n",
    "import pandas as pd\n",
    "np.bincount(y_train)"
   ]
  },
  {
   "cell_type": "code",
   "execution_count": 33,
   "id": "1ed2bddb",
   "metadata": {},
   "outputs": [],
   "source": [
    "reviews_test = load_files(\"aclImdb/test\")\n",
    "text_test, y_test = reviews_test.data, reviews_test.target\n"
   ]
  },
  {
   "cell_type": "code",
   "execution_count": 34,
   "id": "ad2fa311",
   "metadata": {},
   "outputs": [
    {
     "data": {
      "text/plain": [
       "array([12500, 12500], dtype=int64)"
      ]
     },
     "execution_count": 34,
     "metadata": {},
     "output_type": "execute_result"
    }
   ],
   "source": [
    "np.bincount(y_test)"
   ]
  },
  {
   "cell_type": "code",
   "execution_count": 35,
   "id": "a64f40c6",
   "metadata": {},
   "outputs": [],
   "source": [
    "text_test = [a_review.replace(b\"<br />\", b\" \") for a_review in text_test]"
   ]
  },
  {
   "cell_type": "code",
   "execution_count": 36,
   "id": "08f630e7",
   "metadata": {},
   "outputs": [],
   "source": [
    "bards_words = [\"The fool doth think he is wise,\", \"but the wise man knows himself to be a fool\"]"
   ]
  },
  {
   "cell_type": "code",
   "execution_count": 37,
   "id": "3fb9aa89",
   "metadata": {},
   "outputs": [],
   "source": [
    "from sklearn.feature_extraction.text import CountVectorizer\n",
    "vect = CountVectorizer().fit(bards_words)"
   ]
  },
  {
   "cell_type": "code",
   "execution_count": 38,
   "id": "b30ebcee",
   "metadata": {
    "scrolled": true
   },
   "outputs": [
    {
     "data": {
      "text/plain": [
       "{'the': 9,\n",
       " 'fool': 3,\n",
       " 'doth': 2,\n",
       " 'think': 10,\n",
       " 'he': 4,\n",
       " 'is': 6,\n",
       " 'wise': 12,\n",
       " 'but': 1,\n",
       " 'man': 8,\n",
       " 'knows': 7,\n",
       " 'himself': 5,\n",
       " 'to': 11,\n",
       " 'be': 0}"
      ]
     },
     "execution_count": 38,
     "metadata": {},
     "output_type": "execute_result"
    }
   ],
   "source": [
    "# 단어를 고유한 숫자로 표현\n",
    "vect.vocabulary_"
   ]
  },
  {
   "cell_type": "code",
   "execution_count": 39,
   "id": "20168484",
   "metadata": {},
   "outputs": [
    {
     "data": {
      "text/plain": [
       "array([[0, 0, 1, 1, 1, 0, 1, 0, 0, 1, 1, 0, 1],\n",
       "       [1, 1, 0, 1, 0, 1, 0, 1, 1, 1, 0, 1, 1]], dtype=int64)"
      ]
     },
     "execution_count": 39,
     "metadata": {},
     "output_type": "execute_result"
    }
   ],
   "source": [
    "bag_of_words = vect.transform(bards_words)\n",
    "bag_of_words.toarray()\n",
    "### 사용 빈도\n",
    "### 첫번째 문장 [be 0번, but 0번, doth 1번 .....], \n",
    "###  두번째 문장 [be 1번, but 1번 ....... wise 1번 ]"
   ]
  },
  {
   "cell_type": "code",
   "execution_count": 40,
   "id": "04ded441",
   "metadata": {},
   "outputs": [
    {
     "data": {
      "text/plain": [
       "array([[0, 0, 0, ..., 0, 0, 0],\n",
       "       [0, 0, 0, ..., 0, 0, 0],\n",
       "       [0, 0, 0, ..., 0, 0, 0],\n",
       "       ...,\n",
       "       [0, 0, 0, ..., 0, 0, 0],\n",
       "       [0, 0, 0, ..., 0, 0, 0],\n",
       "       [0, 0, 0, ..., 0, 0, 0]], dtype=int64)"
      ]
     },
     "execution_count": 40,
     "metadata": {},
     "output_type": "execute_result"
    }
   ],
   "source": [
    "vect = CountVectorizer().fit(text_train)\n",
    "X_train = vect.transform(text_train)\n",
    "X_train.toarray()"
   ]
  },
  {
   "cell_type": "code",
   "execution_count": 41,
   "id": "7dcbe03b",
   "metadata": {
    "scrolled": true
   },
   "outputs": [],
   "source": [
    "feature_names = vect.get_feature_names()"
   ]
  },
  {
   "cell_type": "code",
   "execution_count": 42,
   "id": "108e3a17",
   "metadata": {},
   "outputs": [
    {
     "data": {
      "text/plain": [
       "74849"
      ]
     },
     "execution_count": 42,
     "metadata": {},
     "output_type": "execute_result"
    }
   ],
   "source": [
    "len(feature_names)"
   ]
  },
  {
   "cell_type": "code",
   "execution_count": 43,
   "id": "58f34870",
   "metadata": {},
   "outputs": [
    {
     "data": {
      "text/plain": [
       "['00',\n",
       " '000',\n",
       " '0000000000001',\n",
       " '00001',\n",
       " '00015',\n",
       " '000s',\n",
       " '001',\n",
       " '003830',\n",
       " '006',\n",
       " '007',\n",
       " '0079',\n",
       " '0080',\n",
       " '0083',\n",
       " '0093638',\n",
       " '00am',\n",
       " '00pm',\n",
       " '00s',\n",
       " '01',\n",
       " '01pm',\n",
       " '02']"
      ]
     },
     "execution_count": 43,
     "metadata": {},
     "output_type": "execute_result"
    }
   ],
   "source": [
    "feature_names[:20]"
   ]
  },
  {
   "cell_type": "code",
   "execution_count": 44,
   "id": "4eedc156",
   "metadata": {},
   "outputs": [
    {
     "data": {
      "text/plain": [
       "['draper',\n",
       " 'draperies',\n",
       " 'drapery',\n",
       " 'drapes',\n",
       " 'draskovic',\n",
       " 'drastic',\n",
       " 'drastically',\n",
       " 'drat',\n",
       " 'dratch',\n",
       " 'dratic']"
      ]
     },
     "execution_count": 44,
     "metadata": {},
     "output_type": "execute_result"
    }
   ],
   "source": [
    "feature_names[20000:20010]"
   ]
  },
  {
   "cell_type": "code",
   "execution_count": 45,
   "id": "7e548cc8",
   "metadata": {},
   "outputs": [
    {
     "data": {
      "text/plain": [
       "array([0.8824, 0.876 , 0.882 , 0.8884, 0.8776])"
      ]
     },
     "execution_count": 45,
     "metadata": {},
     "output_type": "execute_result"
    }
   ],
   "source": [
    "from sklearn.model_selection import cross_val_score\n",
    "from sklearn.linear_model import LogisticRegression\n",
    "\n",
    "scores = cross_val_score(\n",
    "    LogisticRegression(max_iter=1000), \n",
    "    X_train, y_train, cv=5\n",
    ") \n",
    "scores"
   ]
  },
  {
   "cell_type": "code",
   "execution_count": 46,
   "id": "7fdb0707",
   "metadata": {},
   "outputs": [],
   "source": [
    "X_test =vect.transform(text_test)"
   ]
  },
  {
   "cell_type": "code",
   "execution_count": 47,
   "id": "ff3eac6f",
   "metadata": {},
   "outputs": [],
   "source": [
    "lr = LogisticRegression(max_iter=1000).fit(X_train, y_train)"
   ]
  },
  {
   "cell_type": "code",
   "execution_count": 48,
   "id": "b249ea07",
   "metadata": {},
   "outputs": [],
   "source": [
    "y_pred = lr.predict(X_test[15500])"
   ]
  },
  {
   "cell_type": "code",
   "execution_count": 49,
   "id": "cbc01963",
   "metadata": {},
   "outputs": [
    {
     "data": {
      "text/plain": [
       "0"
      ]
     },
     "execution_count": 49,
     "metadata": {},
     "output_type": "execute_result"
    }
   ],
   "source": [
    "y_pred[0]"
   ]
  },
  {
   "cell_type": "code",
   "execution_count": 50,
   "id": "050253ce",
   "metadata": {},
   "outputs": [
    {
     "data": {
      "text/plain": [
       "0"
      ]
     },
     "execution_count": 50,
     "metadata": {},
     "output_type": "execute_result"
    }
   ],
   "source": [
    "y_test[15500]"
   ]
  },
  {
   "cell_type": "code",
   "execution_count": 51,
   "id": "c7c68293",
   "metadata": {},
   "outputs": [
    {
     "data": {
      "text/plain": [
       "b'Do the writers that conjure up these type of \"comedies\" have such empty lives that they have to embody them in tragic shows like this?.  Why the talented and gorgeous Busy Phillips is amongst this trash is beyond me,I cannot stand the Hispanic girl whose accent sounds very fake and is so unfunny and annoying as is the other African-American girl with the shrill voice.  The jokes are often stupid, the Jewish guy yells a lot and the show never goes anywhere, one particular episode with the solider looking for love was just terrible.  I don\\'t believe there would be that many working in a looking for love office and only one man? Of course all of the Woman are in tight fitting tops and tons of make up to make up for their lack of talent.  I actually found Holly funny in her older shows and I have always admired Busy but this show is dumb, empty and had nothing going for it.'"
      ]
     },
     "execution_count": 51,
     "metadata": {},
     "output_type": "execute_result"
    }
   ],
   "source": [
    "text_test[15500]"
   ]
  },
  {
   "cell_type": "code",
   "execution_count": null,
   "id": "8d968727",
   "metadata": {},
   "outputs": [],
   "source": []
  },
  {
   "cell_type": "code",
   "execution_count": null,
   "id": "b48029f2",
   "metadata": {},
   "outputs": [],
   "source": []
  },
  {
   "cell_type": "code",
   "execution_count": null,
   "id": "29c4c5da",
   "metadata": {},
   "outputs": [],
   "source": []
  }
 ],
 "metadata": {
  "kernelspec": {
   "display_name": "Python 3",
   "language": "python",
   "name": "python3"
  },
  "language_info": {
   "codemirror_mode": {
    "name": "ipython",
    "version": 3
   },
   "file_extension": ".py",
   "mimetype": "text/x-python",
   "name": "python",
   "nbconvert_exporter": "python",
   "pygments_lexer": "ipython3",
   "version": "3.8.10"
  }
 },
 "nbformat": 4,
 "nbformat_minor": 5
}
