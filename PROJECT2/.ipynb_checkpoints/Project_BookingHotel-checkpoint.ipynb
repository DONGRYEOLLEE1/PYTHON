{
 "cells": [
  {
   "cell_type": "code",
   "execution_count": 2,
   "id": "1b359748",
   "metadata": {},
   "outputs": [],
   "source": [
    "import pandas as pd\n",
    "import numpy as np\n",
    "pd.set_option('display.max_columns', 32)\n"
   ]
  },
  {
   "cell_type": "code",
   "execution_count": 9,
   "id": "b0829a75",
   "metadata": {},
   "outputs": [],
   "source": [
    "df['arrival_date_month'] = df['arrival_date_month'].map({'January':'01', 'February': '02', 'March':'03', 'April':'04', 'May':'05', 'June':'06', 'July':'07',\n",
    "                                                            'August':'08', 'September':'09', 'October':'10', 'November':'11', 'December':'12'})"
   ]
  },
  {
   "cell_type": "code",
   "execution_count": 142,
   "id": "a18132d6",
   "metadata": {
    "collapsed": true
   },
   "outputs": [
    {
     "data": {
      "text/plain": [
       "17    4406\n",
       "05    4317\n",
       "15    4196\n",
       "25    4160\n",
       "26    4147\n",
       "09    4096\n",
       "12    4087\n",
       "16    4078\n",
       "02    4055\n",
       "19    4052\n",
       "20    4032\n",
       "18    4002\n",
       "24    3993\n",
       "28    3946\n",
       "08    3921\n",
       "03    3855\n",
       "30    3853\n",
       "06    3833\n",
       "14    3819\n",
       "27    3802\n",
       "21    3767\n",
       "04    3763\n",
       "13    3745\n",
       "07    3665\n",
       "01    3626\n",
       "23    3616\n",
       "11    3599\n",
       "22    3596\n",
       "29    3580\n",
       "10    3575\n",
       "31    2208\n",
       "Name: arrival_date_day_of_month, dtype: int64"
      ]
     },
     "execution_count": 142,
     "metadata": {},
     "output_type": "execute_result"
    }
   ],
   "source": [
    "df['arrival_date_day_of_month'].value_counts()"
   ]
  },
  {
   "cell_type": "code",
   "execution_count": 143,
   "id": "1c244128",
   "metadata": {},
   "outputs": [],
   "source": [
    "df['arrival_date'] = df['arrival_date_year'].map(str) + '-' + df['arrival_date_month'].map(str) + '-' + df['arrival_date_day_of_month'].map(str)"
   ]
  },
  {
   "cell_type": "code",
   "execution_count": 140,
   "id": "d12bca59",
   "metadata": {},
   "outputs": [],
   "source": [
    "mask = df.arrival_date_day_of_month == 1\n",
    "df.loc[mask, 'arrival_date_day_of_month'] = '01'\n",
    "mask = df.arrival_date_day_of_month == 2\n",
    "df.loc[mask, 'arrival_date_day_of_month'] = '02'\n",
    "mask = df.arrival_date_day_of_month == 3\n",
    "df.loc[mask, 'arrival_date_day_of_month'] = '03'\n",
    "mask = df.arrival_date_day_of_month == 4\n",
    "df.loc[mask, 'arrival_date_day_of_month'] = '04'\n",
    "mask = df.arrival_date_day_of_month == 5\n",
    "df.loc[mask, 'arrival_date_day_of_month'] = '05'\n",
    "mask = df.arrival_date_day_of_month == 6\n",
    "df.loc[mask, 'arrival_date_day_of_month'] = '06'\n",
    "mask = df.arrival_date_day_of_month == 7\n",
    "df.loc[mask, 'arrival_date_day_of_month'] = '07'\n",
    "mask = df.arrival_date_day_of_month == 8\n",
    "df.loc[mask, 'arrival_date_day_of_month'] = '08'\n",
    "mask = df.arrival_date_day_of_month == 9\n",
    "df.loc[mask, 'arrival_date_day_of_month'] = '09'"
   ]
  },
  {
   "cell_type": "markdown",
   "id": "d722a5f5",
   "metadata": {},
   "source": [
    "# RF"
   ]
  },
  {
   "cell_type": "code",
   "execution_count": null,
   "id": "2d7b1107",
   "metadata": {},
   "outputs": [],
   "source": [
    "# drop => arrival_date_year, reservation_status_date\n",
    "# agent(NULL) => '-1' \n",
    "# meal => "
   ]
  },
  {
   "cell_type": "code",
   "execution_count": 31,
   "id": "dfee8947",
   "metadata": {},
   "outputs": [],
   "source": [
    "df = pd.read_csv('C:/workspace/PYTHON/PROJECT2/data/hotel_bookings_cancel.csv')"
   ]
  },
  {
   "cell_type": "code",
   "execution_count": 32,
   "id": "fe99a7ed",
   "metadata": {},
   "outputs": [
    {
     "data": {
      "text/plain": [
       "9.0      31961\n",
       "0.0      16340\n",
       "240.0    13922\n",
       "1.0       7191\n",
       "14.0      3640\n",
       "         ...  \n",
       "408.0        1\n",
       "304.0        1\n",
       "431.0        1\n",
       "90.0         1\n",
       "54.0         1\n",
       "Name: agent, Length: 334, dtype: int64"
      ]
     },
     "execution_count": 32,
     "metadata": {},
     "output_type": "execute_result"
    }
   ],
   "source": [
    "df['agent'] = df['agent'].fillna(0)\n",
    "df.loc[df.agent != 0,'agent']= 1"
   ]
  },
  {
   "cell_type": "code",
   "execution_count": 13,
   "id": "092333d0",
   "metadata": {},
   "outputs": [],
   "source": [
    "df['children'] = df['children'].fillna(0)"
   ]
  },
  {
   "cell_type": "code",
   "execution_count": 14,
   "id": "f97e6c16",
   "metadata": {},
   "outputs": [],
   "source": [
    "df[\"total_guest\"] = df[\"adults\"] + df[\"children\"] + df[\"babies\"]\n",
    "df['kids'] = df['children'] + df['babies']\n",
    "df['total_nights'] = df['stays_in_weekend_nights'] + df['stays_in_week_nights']\n",
    "df = df.drop(['arrival_date_day_of_month', 'stays_in_weekend_nights', 'stays_in_week_nights', \n",
    "              'is_repeated_guest', \"adults\",\"children\",\"babies\", \"assigned_room_type\", \n",
    "              \"agent\",'required_car_parking_spaces', 'total_of_special_requests', \"reservation_status\"], axis =1)"
   ]
  },
  {
   "cell_type": "code",
   "execution_count": 15,
   "id": "dc8a9664",
   "metadata": {},
   "outputs": [
    {
     "data": {
      "text/html": [
       "<div>\n",
       "<style scoped>\n",
       "    .dataframe tbody tr th:only-of-type {\n",
       "        vertical-align: middle;\n",
       "    }\n",
       "\n",
       "    .dataframe tbody tr th {\n",
       "        vertical-align: top;\n",
       "    }\n",
       "\n",
       "    .dataframe thead th {\n",
       "        text-align: right;\n",
       "    }\n",
       "</style>\n",
       "<table border=\"1\" class=\"dataframe\">\n",
       "  <thead>\n",
       "    <tr style=\"text-align: right;\">\n",
       "      <th></th>\n",
       "      <th>is_canceled</th>\n",
       "      <th>lead_time</th>\n",
       "      <th>arrival_date_month</th>\n",
       "      <th>meal</th>\n",
       "      <th>market_segment</th>\n",
       "      <th>previous_cancellations</th>\n",
       "      <th>previous_bookings_not_canceled</th>\n",
       "      <th>reserved_room_type</th>\n",
       "      <th>booking_changes</th>\n",
       "      <th>deposit_type</th>\n",
       "      <th>customer_type</th>\n",
       "      <th>adr</th>\n",
       "      <th>total_guest</th>\n",
       "    </tr>\n",
       "  </thead>\n",
       "  <tbody>\n",
       "    <tr>\n",
       "      <th>0</th>\n",
       "      <td>0</td>\n",
       "      <td>342</td>\n",
       "      <td>July</td>\n",
       "      <td>BB</td>\n",
       "      <td>Direct</td>\n",
       "      <td>0</td>\n",
       "      <td>0</td>\n",
       "      <td>C</td>\n",
       "      <td>3</td>\n",
       "      <td>No Deposit</td>\n",
       "      <td>Transient</td>\n",
       "      <td>0.0</td>\n",
       "      <td>2.0</td>\n",
       "    </tr>\n",
       "    <tr>\n",
       "      <th>1</th>\n",
       "      <td>0</td>\n",
       "      <td>737</td>\n",
       "      <td>July</td>\n",
       "      <td>BB</td>\n",
       "      <td>Direct</td>\n",
       "      <td>0</td>\n",
       "      <td>0</td>\n",
       "      <td>C</td>\n",
       "      <td>4</td>\n",
       "      <td>No Deposit</td>\n",
       "      <td>Transient</td>\n",
       "      <td>0.0</td>\n",
       "      <td>2.0</td>\n",
       "    </tr>\n",
       "    <tr>\n",
       "      <th>2</th>\n",
       "      <td>0</td>\n",
       "      <td>7</td>\n",
       "      <td>July</td>\n",
       "      <td>BB</td>\n",
       "      <td>Direct</td>\n",
       "      <td>0</td>\n",
       "      <td>0</td>\n",
       "      <td>A</td>\n",
       "      <td>0</td>\n",
       "      <td>No Deposit</td>\n",
       "      <td>Transient</td>\n",
       "      <td>75.0</td>\n",
       "      <td>1.0</td>\n",
       "    </tr>\n",
       "  </tbody>\n",
       "</table>\n",
       "</div>"
      ],
      "text/plain": [
       "   is_canceled  lead_time arrival_date_month meal market_segment  \\\n",
       "0            0        342               July   BB         Direct   \n",
       "1            0        737               July   BB         Direct   \n",
       "2            0          7               July   BB         Direct   \n",
       "\n",
       "   previous_cancellations  previous_bookings_not_canceled reserved_room_type  \\\n",
       "0                       0                               0                  C   \n",
       "1                       0                               0                  C   \n",
       "2                       0                               0                  A   \n",
       "\n",
       "   booking_changes deposit_type customer_type   adr  total_guest  \n",
       "0                3   No Deposit     Transient   0.0          2.0  \n",
       "1                4   No Deposit     Transient   0.0          2.0  \n",
       "2                0   No Deposit     Transient  75.0          1.0  "
      ]
     },
     "execution_count": 15,
     "metadata": {},
     "output_type": "execute_result"
    }
   ],
   "source": [
    "df[:3]"
   ]
  },
  {
   "cell_type": "code",
   "execution_count": 16,
   "id": "95eb16e8",
   "metadata": {
    "scrolled": true
   },
   "outputs": [
    {
     "name": "stdout",
     "output_type": "stream",
     "text": [
      "<class 'pandas.core.frame.DataFrame'>\n",
      "RangeIndex: 119390 entries, 0 to 119389\n",
      "Data columns (total 13 columns):\n",
      " #   Column                          Non-Null Count   Dtype  \n",
      "---  ------                          --------------   -----  \n",
      " 0   is_canceled                     119390 non-null  int64  \n",
      " 1   lead_time                       119390 non-null  int64  \n",
      " 2   arrival_date_month              119390 non-null  object \n",
      " 3   meal                            119390 non-null  object \n",
      " 4   market_segment                  119390 non-null  object \n",
      " 5   previous_cancellations          119390 non-null  int64  \n",
      " 6   previous_bookings_not_canceled  119390 non-null  int64  \n",
      " 7   reserved_room_type              119390 non-null  object \n",
      " 8   booking_changes                 119390 non-null  int64  \n",
      " 9   deposit_type                    119390 non-null  object \n",
      " 10  customer_type                   119390 non-null  object \n",
      " 11  adr                             119390 non-null  float64\n",
      " 12  total_guest                     119390 non-null  float64\n",
      "dtypes: float64(2), int64(5), object(6)\n",
      "memory usage: 11.8+ MB\n"
     ]
    }
   ],
   "source": [
    "df.info()"
   ]
  },
  {
   "cell_type": "code",
   "execution_count": 17,
   "id": "d3f27bc9",
   "metadata": {},
   "outputs": [
    {
     "data": {
      "text/html": [
       "<div>\n",
       "<style scoped>\n",
       "    .dataframe tbody tr th:only-of-type {\n",
       "        vertical-align: middle;\n",
       "    }\n",
       "\n",
       "    .dataframe tbody tr th {\n",
       "        vertical-align: top;\n",
       "    }\n",
       "\n",
       "    .dataframe thead th {\n",
       "        text-align: right;\n",
       "    }\n",
       "</style>\n",
       "<table border=\"1\" class=\"dataframe\">\n",
       "  <thead>\n",
       "    <tr style=\"text-align: right;\">\n",
       "      <th></th>\n",
       "      <th>is_canceled</th>\n",
       "      <th>lead_time</th>\n",
       "      <th>previous_cancellations</th>\n",
       "      <th>previous_bookings_not_canceled</th>\n",
       "      <th>booking_changes</th>\n",
       "      <th>adr</th>\n",
       "      <th>total_guest</th>\n",
       "      <th>arrival_date_month_April</th>\n",
       "      <th>arrival_date_month_August</th>\n",
       "      <th>arrival_date_month_December</th>\n",
       "      <th>arrival_date_month_February</th>\n",
       "      <th>arrival_date_month_January</th>\n",
       "      <th>arrival_date_month_July</th>\n",
       "      <th>arrival_date_month_June</th>\n",
       "      <th>arrival_date_month_March</th>\n",
       "      <th>arrival_date_month_May</th>\n",
       "      <th>...</th>\n",
       "      <th>reserved_room_type_B</th>\n",
       "      <th>reserved_room_type_C</th>\n",
       "      <th>reserved_room_type_D</th>\n",
       "      <th>reserved_room_type_E</th>\n",
       "      <th>reserved_room_type_F</th>\n",
       "      <th>reserved_room_type_G</th>\n",
       "      <th>reserved_room_type_H</th>\n",
       "      <th>reserved_room_type_L</th>\n",
       "      <th>reserved_room_type_P</th>\n",
       "      <th>deposit_type_No Deposit</th>\n",
       "      <th>deposit_type_Non Refund</th>\n",
       "      <th>deposit_type_Refundable</th>\n",
       "      <th>customer_type_Contract</th>\n",
       "      <th>customer_type_Group</th>\n",
       "      <th>customer_type_Transient</th>\n",
       "      <th>customer_type_Transient-Party</th>\n",
       "    </tr>\n",
       "  </thead>\n",
       "  <tbody>\n",
       "    <tr>\n",
       "      <th>0</th>\n",
       "      <td>0</td>\n",
       "      <td>342</td>\n",
       "      <td>0</td>\n",
       "      <td>0</td>\n",
       "      <td>3</td>\n",
       "      <td>0.0</td>\n",
       "      <td>2.0</td>\n",
       "      <td>0</td>\n",
       "      <td>0</td>\n",
       "      <td>0</td>\n",
       "      <td>0</td>\n",
       "      <td>0</td>\n",
       "      <td>1</td>\n",
       "      <td>0</td>\n",
       "      <td>0</td>\n",
       "      <td>0</td>\n",
       "      <td>...</td>\n",
       "      <td>0</td>\n",
       "      <td>1</td>\n",
       "      <td>0</td>\n",
       "      <td>0</td>\n",
       "      <td>0</td>\n",
       "      <td>0</td>\n",
       "      <td>0</td>\n",
       "      <td>0</td>\n",
       "      <td>0</td>\n",
       "      <td>1</td>\n",
       "      <td>0</td>\n",
       "      <td>0</td>\n",
       "      <td>0</td>\n",
       "      <td>0</td>\n",
       "      <td>1</td>\n",
       "      <td>0</td>\n",
       "    </tr>\n",
       "    <tr>\n",
       "      <th>1</th>\n",
       "      <td>0</td>\n",
       "      <td>737</td>\n",
       "      <td>0</td>\n",
       "      <td>0</td>\n",
       "      <td>4</td>\n",
       "      <td>0.0</td>\n",
       "      <td>2.0</td>\n",
       "      <td>0</td>\n",
       "      <td>0</td>\n",
       "      <td>0</td>\n",
       "      <td>0</td>\n",
       "      <td>0</td>\n",
       "      <td>1</td>\n",
       "      <td>0</td>\n",
       "      <td>0</td>\n",
       "      <td>0</td>\n",
       "      <td>...</td>\n",
       "      <td>0</td>\n",
       "      <td>1</td>\n",
       "      <td>0</td>\n",
       "      <td>0</td>\n",
       "      <td>0</td>\n",
       "      <td>0</td>\n",
       "      <td>0</td>\n",
       "      <td>0</td>\n",
       "      <td>0</td>\n",
       "      <td>1</td>\n",
       "      <td>0</td>\n",
       "      <td>0</td>\n",
       "      <td>0</td>\n",
       "      <td>0</td>\n",
       "      <td>1</td>\n",
       "      <td>0</td>\n",
       "    </tr>\n",
       "    <tr>\n",
       "      <th>2</th>\n",
       "      <td>0</td>\n",
       "      <td>7</td>\n",
       "      <td>0</td>\n",
       "      <td>0</td>\n",
       "      <td>0</td>\n",
       "      <td>75.0</td>\n",
       "      <td>1.0</td>\n",
       "      <td>0</td>\n",
       "      <td>0</td>\n",
       "      <td>0</td>\n",
       "      <td>0</td>\n",
       "      <td>0</td>\n",
       "      <td>1</td>\n",
       "      <td>0</td>\n",
       "      <td>0</td>\n",
       "      <td>0</td>\n",
       "      <td>...</td>\n",
       "      <td>0</td>\n",
       "      <td>0</td>\n",
       "      <td>0</td>\n",
       "      <td>0</td>\n",
       "      <td>0</td>\n",
       "      <td>0</td>\n",
       "      <td>0</td>\n",
       "      <td>0</td>\n",
       "      <td>0</td>\n",
       "      <td>1</td>\n",
       "      <td>0</td>\n",
       "      <td>0</td>\n",
       "      <td>0</td>\n",
       "      <td>0</td>\n",
       "      <td>1</td>\n",
       "      <td>0</td>\n",
       "    </tr>\n",
       "  </tbody>\n",
       "</table>\n",
       "<p>3 rows × 48 columns</p>\n",
       "</div>"
      ],
      "text/plain": [
       "   is_canceled  lead_time  previous_cancellations  \\\n",
       "0            0        342                       0   \n",
       "1            0        737                       0   \n",
       "2            0          7                       0   \n",
       "\n",
       "   previous_bookings_not_canceled  booking_changes   adr  total_guest  \\\n",
       "0                               0                3   0.0          2.0   \n",
       "1                               0                4   0.0          2.0   \n",
       "2                               0                0  75.0          1.0   \n",
       "\n",
       "   arrival_date_month_April  arrival_date_month_August  \\\n",
       "0                         0                          0   \n",
       "1                         0                          0   \n",
       "2                         0                          0   \n",
       "\n",
       "   arrival_date_month_December  arrival_date_month_February  \\\n",
       "0                            0                            0   \n",
       "1                            0                            0   \n",
       "2                            0                            0   \n",
       "\n",
       "   arrival_date_month_January  arrival_date_month_July  \\\n",
       "0                           0                        1   \n",
       "1                           0                        1   \n",
       "2                           0                        1   \n",
       "\n",
       "   arrival_date_month_June  arrival_date_month_March  arrival_date_month_May  \\\n",
       "0                        0                         0                       0   \n",
       "1                        0                         0                       0   \n",
       "2                        0                         0                       0   \n",
       "\n",
       "   ...  reserved_room_type_B  reserved_room_type_C  reserved_room_type_D  \\\n",
       "0  ...                     0                     1                     0   \n",
       "1  ...                     0                     1                     0   \n",
       "2  ...                     0                     0                     0   \n",
       "\n",
       "   reserved_room_type_E  reserved_room_type_F  reserved_room_type_G  \\\n",
       "0                     0                     0                     0   \n",
       "1                     0                     0                     0   \n",
       "2                     0                     0                     0   \n",
       "\n",
       "   reserved_room_type_H  reserved_room_type_L  reserved_room_type_P  \\\n",
       "0                     0                     0                     0   \n",
       "1                     0                     0                     0   \n",
       "2                     0                     0                     0   \n",
       "\n",
       "   deposit_type_No Deposit  deposit_type_Non Refund  deposit_type_Refundable  \\\n",
       "0                        1                        0                        0   \n",
       "1                        1                        0                        0   \n",
       "2                        1                        0                        0   \n",
       "\n",
       "   customer_type_Contract  customer_type_Group  customer_type_Transient  \\\n",
       "0                       0                    0                        1   \n",
       "1                       0                    0                        1   \n",
       "2                       0                    0                        1   \n",
       "\n",
       "   customer_type_Transient-Party  \n",
       "0                              0  \n",
       "1                              0  \n",
       "2                              0  \n",
       "\n",
       "[3 rows x 48 columns]"
      ]
     },
     "execution_count": 17,
     "metadata": {},
     "output_type": "execute_result"
    }
   ],
   "source": [
    "df = pd.get_dummies(df)\n",
    "df[:3]"
   ]
  },
  {
   "cell_type": "markdown",
   "id": "e310b0d2",
   "metadata": {},
   "source": [
    "### RF Parameter : "
   ]
  },
  {
   "cell_type": "code",
   "execution_count": 47,
   "id": "93c0b8bb",
   "metadata": {},
   "outputs": [],
   "source": [
    "from sklearn.model_selection import train_test_split\n",
    "from sklearn.ensemble import RandomForestClassifier\n",
    "from sklearn.preprocessing import MinMaxScaler, StandardScaler"
   ]
  },
  {
   "cell_type": "code",
   "execution_count": 19,
   "id": "47712788",
   "metadata": {},
   "outputs": [],
   "source": [
    "X = df.drop(['is_canceled'],axis=1)\n",
    "y = df['is_canceled']"
   ]
  },
  {
   "cell_type": "code",
   "execution_count": 20,
   "id": "e67eff47",
   "metadata": {},
   "outputs": [],
   "source": [
    "X_train, X_test, y_train, y_test = train_test_split(X, y, test_size = .2)"
   ]
  },
  {
   "cell_type": "code",
   "execution_count": 48,
   "id": "919d2458",
   "metadata": {},
   "outputs": [],
   "source": [
    "scaler = StandardScaler().fit(X_train)\n",
    "X_train_s = scaler.transform(X_train)\n",
    "X_test_s = scaler.transform(X_test)"
   ]
  },
  {
   "cell_type": "code",
   "execution_count": 21,
   "id": "442e5370",
   "metadata": {},
   "outputs": [],
   "source": [
    "scaler = MinMaxScaler().fit(X_train)\n",
    "X_train_scaled = scaler.transform(X_train)\n",
    "X_test_scaled = scaler.transform(X_test)"
   ]
  },
  {
   "cell_type": "code",
   "execution_count": 49,
   "id": "5704fc75",
   "metadata": {},
   "outputs": [
    {
     "name": "stdout",
     "output_type": "stream",
     "text": [
      "0.7704476924365524\n",
      "0.7645950247089371\n"
     ]
    }
   ],
   "source": [
    "model = RandomForestClassifier(n_estimators = 100, max_depth = 8, random_state = 0).fit(X_train_s, y_train)\n",
    "print(model.score(X_train_s, y_train))\n",
    "print(model.score(X_test_s, y_test))"
   ]
  },
  {
   "cell_type": "code",
   "execution_count": 23,
   "id": "34978756",
   "metadata": {},
   "outputs": [],
   "source": [
    "from sklearn.model_selection import GridSearchCV"
   ]
  },
  {
   "cell_type": "code",
   "execution_count": 24,
   "id": "3a1f17c4",
   "metadata": {},
   "outputs": [
    {
     "name": "stdout",
     "output_type": "stream",
     "text": [
      "최적 하이퍼 파라미터:  {'max_depth': 12, 'n_estimators': 10}\n",
      "최고 예측 정확도: 0.7825\n"
     ]
    }
   ],
   "source": [
    "params = { 'n_estimators' : [10, 100],\n",
    "           'max_depth' : [4, 6, 8, 10, 12]\n",
    "            }\n",
    "\n",
    "model = RandomForestClassifier(random_state = 0, n_jobs = -1)\n",
    "grid_cv = GridSearchCV(model, param_grid = params, cv = 3, n_jobs = -1)\n",
    "grid_cv.fit(X_train_scaled, y_train)\n",
    "\n",
    "print('최적 하이퍼 파라미터: ', grid_cv.best_params_)\n",
    "print('최고 예측 정확도: {:.4f}'.format(grid_cv.best_score_))"
   ]
  },
  {
   "cell_type": "code",
   "execution_count": 26,
   "id": "0a602c0b",
   "metadata": {},
   "outputs": [
    {
     "name": "stdout",
     "output_type": "stream",
     "text": [
      "[3.02748422e-01 4.57179448e-02 6.45948773e-03 2.51024535e-02\n",
      " 2.35014928e-01 2.48404128e-02 5.04588285e-03 4.94355819e-03\n",
      " 4.15346570e-03 4.33336841e-03 3.39579057e-03 5.12250481e-03\n",
      " 4.92954559e-03 4.44124371e-03 5.13620692e-03 3.55246773e-03\n",
      " 5.04144439e-03 4.58460481e-03 5.42690801e-03 1.39886715e-03\n",
      " 5.33245940e-03 4.55309443e-03 3.37510261e-04 4.92004194e-04\n",
      " 3.61211310e-03 9.04035912e-03 1.48867041e-02 9.84997134e-03\n",
      " 1.73322925e-02 3.48782887e-05 6.70257498e-03 1.73475696e-03\n",
      " 1.27050248e-03 5.24258788e-03 3.84770919e-03 2.18429420e-03\n",
      " 1.80487562e-03 8.45748105e-04 2.88133351e-05 2.44324631e-04\n",
      " 8.12023636e-02 9.98512545e-02 4.77179296e-04 2.00274068e-03\n",
      " 5.31259422e-04 1.32565593e-02 1.19115615e-02]\n"
     ]
    }
   ],
   "source": [
    "model = RandomForestClassifier().fit(X_train_scaled, y_train)\n",
    "\n",
    "print(model.feature_importances_)"
   ]
  },
  {
   "cell_type": "code",
   "execution_count": 27,
   "id": "8a9007d3",
   "metadata": {},
   "outputs": [
    {
     "data": {
      "image/png": "[encoded data removed]",
      "text/plain": [
       "<Figure size 432x288 with 1 Axes>"
      ]
     },
     "metadata": {
      "needs_background": "light"
     },
     "output_type": "display_data"
    }
   ],
   "source": [
    "import matplotlib.pyplot as plt\n",
    "\n",
    "def plot_feature_importances_hotel(model):\n",
    "    n_features = X.shape[1]\n",
    "    plt.barh(np.arange(n_features), sorted(model.feature_importances_), align='center')\n",
    "    plt.yticks(np.arange(n_features), X.columns)\n",
    "    plt.xlabel('RF Feature Importance')\n",
    "    plt.ylabel('Features')\n",
    "    plt.ylim(-1, n_features)\n",
    "    \n",
    "plot_feature_importances_hotel(model)"
   ]
  },
  {
   "cell_type": "code",
   "execution_count": 28,
   "id": "827855f3",
   "metadata": {},
   "outputs": [
    {
     "name": "stdout",
     "output_type": "stream",
     "text": [
      "[ True  True False False  True False False False False False False False\n",
      " False False False False False False False False False False False False\n",
      " False False False False False False False False False False False False\n",
      " False False False False  True  True False False False False False]\n",
      "0.7806348940447274\n"
     ]
    }
   ],
   "source": [
    "from sklearn.feature_selection import RFE\n",
    "\n",
    "rfe_rf = RFE(model, n_features_to_select = 5, step = 1)\n",
    "model_rf = rfe_rf.fit(X_train_scaled, y_train)\n",
    "\n",
    "print(model_rf.support_)\n",
    "\n",
    "print(model_rf.score(X_test_scaled, y_test))"
   ]
  },
  {
   "cell_type": "code",
   "execution_count": null,
   "id": "20e524af",
   "metadata": {},
   "outputs": [],
   "source": [
    "1 : lead_time\n",
    "2 : arrival_dateday_of_month\n",
    "13 : adr\n",
    "62 : deposit_type_No Deposit\n",
    "63 : deposit_type_Non Refund"
   ]
  },
  {
   "cell_type": "code",
   "execution_count": 81,
   "id": "46196c48",
   "metadata": {},
   "outputs": [
    {
     "data": {
      "text/plain": [
       "'deposit_type_Non Refund'"
      ]
     },
     "execution_count": 81,
     "metadata": {},
     "output_type": "execute_result"
    }
   ],
   "source": [
    "df.columns[63]"
   ]
  },
  {
   "cell_type": "code",
   "execution_count": 52,
   "id": "96049c04",
   "metadata": {
    "collapsed": true
   },
   "outputs": [
    {
     "name": "stdout",
     "output_type": "stream",
     "text": [
      "Collecting catboost\n",
      "  Downloading catboost-0.26-cp38-none-win_amd64.whl (68.4 MB)\n",
      "Requirement already satisfied: graphviz in c:\\users\\cpb06gamen\\anaconda3\\lib\\site-packages (from catboost) (0.16)\n",
      "Requirement already satisfied: matplotlib in c:\\users\\cpb06gamen\\anaconda3\\lib\\site-packages (from catboost) (3.4.2)\n",
      "Requirement already satisfied: pandas>=0.24.0 in c:\\users\\cpb06gamen\\anaconda3\\lib\\site-packages (from catboost) (1.2.4)\n",
      "Requirement already satisfied: numpy>=1.16.0 in c:\\users\\cpb06gamen\\anaconda3\\lib\\site-packages (from catboost) (1.19.5)\n",
      "Requirement already satisfied: six in c:\\users\\cpb06gamen\\anaconda3\\lib\\site-packages (from catboost) (1.15.0)\n",
      "Requirement already satisfied: scipy in c:\\users\\cpb06gamen\\anaconda3\\lib\\site-packages (from catboost) (1.7.0)\n",
      "Collecting plotly\n",
      "  Downloading plotly-5.1.0-py2.py3-none-any.whl (20.6 MB)\n",
      "Requirement already satisfied: pytz>=2017.3 in c:\\users\\cpb06gamen\\anaconda3\\lib\\site-packages (from pandas>=0.24.0->catboost) (2021.1)\n",
      "Requirement already satisfied: python-dateutil>=2.7.3 in c:\\users\\cpb06gamen\\anaconda3\\lib\\site-packages (from pandas>=0.24.0->catboost) (2.8.1)\n",
      "Requirement already satisfied: pyparsing>=2.2.1 in c:\\users\\cpb06gamen\\anaconda3\\lib\\site-packages (from matplotlib->catboost) (2.4.7)\n",
      "Requirement already satisfied: pillow>=6.2.0 in c:\\users\\cpb06gamen\\anaconda3\\lib\\site-packages (from matplotlib->catboost) (8.2.0)\n",
      "Requirement already satisfied: cycler>=0.10 in c:\\users\\cpb06gamen\\anaconda3\\lib\\site-packages (from matplotlib->catboost) (0.10.0)\n",
      "Requirement already satisfied: kiwisolver>=1.0.1 in c:\\users\\cpb06gamen\\anaconda3\\lib\\site-packages (from matplotlib->catboost) (1.3.1)\n",
      "Collecting tenacity>=6.2.0\n",
      "  Downloading tenacity-8.0.0-py3-none-any.whl (22 kB)\n",
      "Installing collected packages: tenacity, plotly, catboost\n",
      "Successfully installed catboost-0.26 plotly-5.1.0 tenacity-8.0.0\n"
     ]
    }
   ],
   "source": [
    "# !pip install catboost"
   ]
  },
  {
   "cell_type": "code",
   "execution_count": 54,
   "id": "14f7ecb9",
   "metadata": {
    "scrolled": true
   },
   "outputs": [
    {
     "name": "stdout",
     "output_type": "stream",
     "text": [
      "Learning rate set to 0.5\n",
      "0:\tlearn: 0.4838624\ttotal: 17.9ms\tremaining: 1.77s\n",
      "1:\tlearn: 0.4537512\ttotal: 34ms\tremaining: 1.67s\n",
      "2:\tlearn: 0.4419287\ttotal: 49.7ms\tremaining: 1.61s\n",
      "3:\tlearn: 0.4376973\ttotal: 65.5ms\tremaining: 1.57s\n",
      "4:\tlearn: 0.4345492\ttotal: 81.3ms\tremaining: 1.54s\n",
      "5:\tlearn: 0.4334215\ttotal: 96.4ms\tremaining: 1.51s\n",
      "6:\tlearn: 0.4318419\ttotal: 112ms\tremaining: 1.48s\n",
      "7:\tlearn: 0.4294366\ttotal: 129ms\tremaining: 1.48s\n",
      "8:\tlearn: 0.4286423\ttotal: 145ms\tremaining: 1.46s\n",
      "9:\tlearn: 0.4274808\ttotal: 161ms\tremaining: 1.45s\n",
      "10:\tlearn: 0.4266392\ttotal: 176ms\tremaining: 1.43s\n",
      "11:\tlearn: 0.4242011\ttotal: 193ms\tremaining: 1.42s\n",
      "12:\tlearn: 0.4235229\ttotal: 211ms\tremaining: 1.41s\n",
      "13:\tlearn: 0.4224097\ttotal: 231ms\tremaining: 1.42s\n",
      "14:\tlearn: 0.4218474\ttotal: 250ms\tremaining: 1.41s\n",
      "15:\tlearn: 0.4216116\ttotal: 269ms\tremaining: 1.41s\n",
      "16:\tlearn: 0.4214178\ttotal: 286ms\tremaining: 1.4s\n",
      "17:\tlearn: 0.4207772\ttotal: 305ms\tremaining: 1.39s\n",
      "18:\tlearn: 0.4198746\ttotal: 324ms\tremaining: 1.38s\n",
      "19:\tlearn: 0.4188379\ttotal: 342ms\tremaining: 1.37s\n",
      "20:\tlearn: 0.4176793\ttotal: 360ms\tremaining: 1.36s\n",
      "21:\tlearn: 0.4170829\ttotal: 379ms\tremaining: 1.34s\n",
      "22:\tlearn: 0.4164072\ttotal: 398ms\tremaining: 1.33s\n",
      "23:\tlearn: 0.4154369\ttotal: 417ms\tremaining: 1.32s\n",
      "24:\tlearn: 0.4146566\ttotal: 436ms\tremaining: 1.31s\n",
      "25:\tlearn: 0.4139684\ttotal: 454ms\tremaining: 1.29s\n",
      "26:\tlearn: 0.4129994\ttotal: 474ms\tremaining: 1.28s\n",
      "27:\tlearn: 0.4118824\ttotal: 492ms\tremaining: 1.26s\n",
      "28:\tlearn: 0.4110489\ttotal: 511ms\tremaining: 1.25s\n",
      "29:\tlearn: 0.4106695\ttotal: 528ms\tremaining: 1.23s\n",
      "30:\tlearn: 0.4095864\ttotal: 547ms\tremaining: 1.22s\n",
      "31:\tlearn: 0.4089812\ttotal: 566ms\tremaining: 1.2s\n",
      "32:\tlearn: 0.4082354\ttotal: 585ms\tremaining: 1.19s\n",
      "33:\tlearn: 0.4077342\ttotal: 603ms\tremaining: 1.17s\n",
      "34:\tlearn: 0.4065192\ttotal: 620ms\tremaining: 1.15s\n",
      "35:\tlearn: 0.4059625\ttotal: 639ms\tremaining: 1.14s\n",
      "36:\tlearn: 0.4050717\ttotal: 659ms\tremaining: 1.12s\n",
      "37:\tlearn: 0.4046005\ttotal: 678ms\tremaining: 1.1s\n",
      "38:\tlearn: 0.4040654\ttotal: 696ms\tremaining: 1.09s\n",
      "39:\tlearn: 0.4035688\ttotal: 716ms\tremaining: 1.07s\n",
      "40:\tlearn: 0.4030957\ttotal: 734ms\tremaining: 1.06s\n",
      "41:\tlearn: 0.4027155\ttotal: 753ms\tremaining: 1.04s\n",
      "42:\tlearn: 0.4021799\ttotal: 772ms\tremaining: 1.02s\n",
      "43:\tlearn: 0.4018589\ttotal: 790ms\tremaining: 1s\n",
      "44:\tlearn: 0.4014250\ttotal: 809ms\tremaining: 988ms\n",
      "45:\tlearn: 0.4010010\ttotal: 827ms\tremaining: 971ms\n",
      "46:\tlearn: 0.4006219\ttotal: 846ms\tremaining: 954ms\n",
      "47:\tlearn: 0.4002447\ttotal: 865ms\tremaining: 937ms\n",
      "48:\tlearn: 0.3999787\ttotal: 883ms\tremaining: 919ms\n",
      "49:\tlearn: 0.3996728\ttotal: 902ms\tremaining: 902ms\n",
      "50:\tlearn: 0.3990116\ttotal: 920ms\tremaining: 884ms\n",
      "51:\tlearn: 0.3978089\ttotal: 937ms\tremaining: 864ms\n",
      "52:\tlearn: 0.3974915\ttotal: 952ms\tremaining: 844ms\n",
      "53:\tlearn: 0.3970903\ttotal: 969ms\tremaining: 825ms\n",
      "54:\tlearn: 0.3966913\ttotal: 986ms\tremaining: 806ms\n",
      "55:\tlearn: 0.3962341\ttotal: 1s\tremaining: 788ms\n",
      "56:\tlearn: 0.3954984\ttotal: 1.02s\tremaining: 769ms\n",
      "57:\tlearn: 0.3951040\ttotal: 1.04s\tremaining: 751ms\n",
      "58:\tlearn: 0.3946781\ttotal: 1.06s\tremaining: 734ms\n",
      "59:\tlearn: 0.3943752\ttotal: 1.07s\tremaining: 716ms\n",
      "60:\tlearn: 0.3937453\ttotal: 1.09s\tremaining: 698ms\n",
      "61:\tlearn: 0.3933849\ttotal: 1.11s\tremaining: 680ms\n",
      "62:\tlearn: 0.3930878\ttotal: 1.13s\tremaining: 661ms\n",
      "63:\tlearn: 0.3926121\ttotal: 1.14s\tremaining: 643ms\n",
      "64:\tlearn: 0.3922524\ttotal: 1.16s\tremaining: 625ms\n",
      "65:\tlearn: 0.3920263\ttotal: 1.18s\tremaining: 606ms\n",
      "66:\tlearn: 0.3916549\ttotal: 1.19s\tremaining: 587ms\n",
      "67:\tlearn: 0.3912101\ttotal: 1.21s\tremaining: 569ms\n",
      "68:\tlearn: 0.3909866\ttotal: 1.22s\tremaining: 550ms\n",
      "69:\tlearn: 0.3906157\ttotal: 1.24s\tremaining: 533ms\n",
      "70:\tlearn: 0.3903403\ttotal: 1.26s\tremaining: 515ms\n",
      "71:\tlearn: 0.3900477\ttotal: 1.28s\tremaining: 497ms\n",
      "72:\tlearn: 0.3898719\ttotal: 1.29s\tremaining: 478ms\n",
      "73:\tlearn: 0.3892958\ttotal: 1.31s\tremaining: 460ms\n",
      "74:\tlearn: 0.3890309\ttotal: 1.33s\tremaining: 442ms\n",
      "75:\tlearn: 0.3887319\ttotal: 1.35s\tremaining: 425ms\n",
      "76:\tlearn: 0.3884747\ttotal: 1.36s\tremaining: 408ms\n",
      "77:\tlearn: 0.3881833\ttotal: 1.38s\tremaining: 390ms\n",
      "78:\tlearn: 0.3878977\ttotal: 1.4s\tremaining: 373ms\n",
      "79:\tlearn: 0.3874098\ttotal: 1.42s\tremaining: 356ms\n",
      "80:\tlearn: 0.3871281\ttotal: 1.44s\tremaining: 338ms\n",
      "81:\tlearn: 0.3867457\ttotal: 1.46s\tremaining: 321ms\n",
      "82:\tlearn: 0.3865015\ttotal: 1.48s\tremaining: 304ms\n",
      "83:\tlearn: 0.3862567\ttotal: 1.5s\tremaining: 286ms\n",
      "84:\tlearn: 0.3859399\ttotal: 1.52s\tremaining: 268ms\n",
      "85:\tlearn: 0.3855681\ttotal: 1.54s\tremaining: 251ms\n",
      "86:\tlearn: 0.3850556\ttotal: 1.56s\tremaining: 233ms\n",
      "87:\tlearn: 0.3847259\ttotal: 1.58s\tremaining: 215ms\n",
      "88:\tlearn: 0.3845747\ttotal: 1.59s\tremaining: 197ms\n",
      "89:\tlearn: 0.3839668\ttotal: 1.61s\tremaining: 179ms\n",
      "90:\tlearn: 0.3837519\ttotal: 1.63s\tremaining: 161ms\n",
      "91:\tlearn: 0.3835120\ttotal: 1.65s\tremaining: 144ms\n",
      "92:\tlearn: 0.3833129\ttotal: 1.67s\tremaining: 126ms\n",
      "93:\tlearn: 0.3830676\ttotal: 1.69s\tremaining: 108ms\n",
      "94:\tlearn: 0.3829881\ttotal: 1.7s\tremaining: 89.7ms\n",
      "95:\tlearn: 0.3825486\ttotal: 1.72s\tremaining: 71.9ms\n",
      "96:\tlearn: 0.3822314\ttotal: 1.74s\tremaining: 53.9ms\n",
      "97:\tlearn: 0.3818125\ttotal: 1.76s\tremaining: 35.9ms\n",
      "98:\tlearn: 0.3815229\ttotal: 1.78s\tremaining: 18ms\n",
      "99:\tlearn: 0.3812841\ttotal: 1.8s\tremaining: 0us\n",
      "0.794455146997236\n"
     ]
    }
   ],
   "source": [
    "from catboost import CatBoostClassifier\n",
    "\n",
    "cat = CatBoostClassifier(iterations=100)\n",
    "cat.fit(X_train_s, y_train)\n",
    "\n"
   ]
  },
  {
   "cell_type": "code",
   "execution_count": 55,
   "id": "35aaa830",
   "metadata": {},
   "outputs": [
    {
     "name": "stdout",
     "output_type": "stream",
     "text": [
      "0.8130601390401206\n",
      "0.794455146997236\n"
     ]
    }
   ],
   "source": [
    "print(cat.score(X_train_s, y_train))\n",
    "print(cat.score(X_test_s, y_test))"
   ]
  },
  {
   "cell_type": "code",
   "execution_count": 70,
   "id": "6dfc7602",
   "metadata": {},
   "outputs": [
    {
     "name": "stdout",
     "output_type": "stream",
     "text": [
      "0.7677150515118519\n",
      "0.7622078901080492\n"
     ]
    }
   ],
   "source": [
    "from sklearn.ensemble import GradientBoostingClassifier\n",
    "\n",
    "gbrt = GradientBoostingClassifier(n_estimators = 300, learning_rate = 0.001, max_depth = 4).fit(X_train_s, y_train)\n",
    "\n",
    "print(gbrt.score(X_train_s, y_train))\n",
    "print(gbrt.score(X_test_s, y_test))"
   ]
  },
  {
   "cell_type": "code",
   "execution_count": null,
   "id": "546cb152",
   "metadata": {},
   "outputs": [],
   "source": [
    "params = { 'n_estimators' : [100, 1000, 2000],\n",
    "          'learning_rate' : [0.01, 0.001],\n",
    "           'max_depth' : [4, 6]\n",
    "            }\n",
    "\n",
    "model = GradientBoostingClassifier(random_state = 0)\n",
    "grid_cv = GridSearchCV(model, param_grid = params, cv = 3)\n",
    "grid_cv.fit(X_train_s, y_train)\n",
    "\n",
    "print('최적 하이퍼 파라미터: ', grid_cv.best_params_)\n",
    "print('최고 예측 정확도: {:.4f}'.format(grid_cv.best_score_))"
   ]
  },
  {
   "cell_type": "code",
   "execution_count": 61,
   "id": "996e73e1",
   "metadata": {},
   "outputs": [
    {
     "name": "stdout",
     "output_type": "stream",
     "text": [
      "0.9826304548119608\n",
      "0.7857023201273139\n"
     ]
    }
   ],
   "source": [
    "from sklearn.tree import DecisionTreeClassifier\n",
    "\n",
    "dt = DecisionTreeClassifier().fit(X_train_s, y_train)\n",
    "\n",
    "print(dt.score(X_train_s, y_train))\n",
    "print(dt.score(X_test_s, y_test))"
   ]
  },
  {
   "cell_type": "code",
   "execution_count": 62,
   "id": "dd01a829",
   "metadata": {},
   "outputs": [
    {
     "name": "stdout",
     "output_type": "stream",
     "text": [
      "0.8536937766982159\n",
      "0.7836083424072368\n"
     ]
    }
   ],
   "source": [
    "from sklearn.neighbors import KNeighborsClassifier\n",
    "\n",
    "knn = KNeighborsClassifier().fit(X_train_s, y_train)\n",
    "\n",
    "print(knn.score(X_train_s, y_train))\n",
    "print(knn.score(X_test_s, y_test))"
   ]
  },
  {
   "cell_type": "code",
   "execution_count": 63,
   "id": "63c8a8a1",
   "metadata": {},
   "outputs": [
    {
     "name": "stdout",
     "output_type": "stream",
     "text": [
      "0.9697315520562861\n",
      "0.8110813300946478\n"
     ]
    }
   ],
   "source": [
    "from sklearn.ensemble import BaggingClassifier\n",
    "\n",
    "bagging = BaggingClassifier().fit(X_train_s, y_train)\n",
    "\n",
    "print(bagging.score(X_train_s, y_train))\n",
    "print(bagging.score(X_test_s, y_test))"
   ]
  },
  {
   "cell_type": "code",
   "execution_count": 67,
   "id": "219f915d",
   "metadata": {},
   "outputs": [
    {
     "name": "stdout",
     "output_type": "stream",
     "text": [
      "0.9826304548119608\n",
      "0.804213083172795\n"
     ]
    }
   ],
   "source": [
    "from sklearn.ensemble import ExtraTreesClassifier\n",
    "\n",
    "xtree = ExtraTreesClassifier().fit(X_train_s, y_train)\n",
    "\n",
    "print(xtree.score(X_train_s, y_train))\n",
    "print(xtree.score(X_test_s, y_test))"
   ]
  },
  {
   "cell_type": "code",
   "execution_count": 68,
   "id": "7106d589",
   "metadata": {},
   "outputs": [
    {
     "name": "stdout",
     "output_type": "stream",
     "text": [
      "0.7823310159979898\n",
      "0.7755674679621409\n"
     ]
    }
   ],
   "source": [
    "from sklearn.ensemble import AdaBoostClassifier\n",
    "\n",
    "ada = AdaBoostClassifier().fit(X_train_s, y_train)\n",
    "\n",
    "print(ada.score(X_train_s, y_train))\n",
    "print(ada.score(X_test_s, y_test))"
   ]
  },
  {
   "cell_type": "code",
   "execution_count": null,
   "id": "105edbf6",
   "metadata": {},
   "outputs": [],
   "source": []
  },
  {
   "cell_type": "code",
   "execution_count": null,
   "id": "064f0921",
   "metadata": {},
   "outputs": [],
   "source": []
  },
  {
   "cell_type": "code",
   "execution_count": null,
   "id": "66052a96",
   "metadata": {},
   "outputs": [],
   "source": []
  }
 ],
 "metadata": {
  "kernelspec": {
   "display_name": "Python 3",
   "language": "python",
   "name": "python3"
  },
  "language_info": {
   "codemirror_mode": {
    "name": "ipython",
    "version": 3
   },
   "file_extension": ".py",
   "mimetype": "text/x-python",
   "name": "python",
   "nbconvert_exporter": "python",
   "pygments_lexer": "ipython3",
   "version": "3.8.8"
  }
 },
 "nbformat": 4,
 "nbformat_minor": 5
}
