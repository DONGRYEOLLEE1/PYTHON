{
 "cells": [
  {
   "cell_type": "code",
   "execution_count": 3,
   "id": "1b359748",
   "metadata": {},
   "outputs": [],
   "source": [
    "import pandas as pd\n",
    "import numpy as np"
   ]
  },
  {
   "cell_type": "code",
   "execution_count": 9,
   "id": "b0829a75",
   "metadata": {},
   "outputs": [],
   "source": [
    "df['arrival_date_month'] = df['arrival_date_month'].map({'January':'01', 'February': '02', 'March':'03', 'April':'04', 'May':'05', 'June':'06', 'July':'07',\n",
    "                                                            'August':'08', 'September':'09', 'October':'10', 'November':'11', 'December':'12'})"
   ]
  },
  {
   "cell_type": "code",
   "execution_count": 142,
   "id": "a18132d6",
   "metadata": {
    "collapsed": true
   },
   "outputs": [
    {
     "data": {
      "text/plain": [
       "17    4406\n",
       "05    4317\n",
       "15    4196\n",
       "25    4160\n",
       "26    4147\n",
       "09    4096\n",
       "12    4087\n",
       "16    4078\n",
       "02    4055\n",
       "19    4052\n",
       "20    4032\n",
       "18    4002\n",
       "24    3993\n",
       "28    3946\n",
       "08    3921\n",
       "03    3855\n",
       "30    3853\n",
       "06    3833\n",
       "14    3819\n",
       "27    3802\n",
       "21    3767\n",
       "04    3763\n",
       "13    3745\n",
       "07    3665\n",
       "01    3626\n",
       "23    3616\n",
       "11    3599\n",
       "22    3596\n",
       "29    3580\n",
       "10    3575\n",
       "31    2208\n",
       "Name: arrival_date_day_of_month, dtype: int64"
      ]
     },
     "execution_count": 142,
     "metadata": {},
     "output_type": "execute_result"
    }
   ],
   "source": [
    "df['arrival_date_day_of_month'].value_counts()"
   ]
  },
  {
   "cell_type": "code",
   "execution_count": 143,
   "id": "1c244128",
   "metadata": {},
   "outputs": [],
   "source": [
    "df['arrival_date'] = df['arrival_date_year'].map(str) + '-' + df['arrival_date_month'].map(str) + '-' + df['arrival_date_day_of_month'].map(str)"
   ]
  },
  {
   "cell_type": "code",
   "execution_count": 140,
   "id": "d12bca59",
   "metadata": {},
   "outputs": [],
   "source": [
    "mask = df.arrival_date_day_of_month == 1\n",
    "df.loc[mask, 'arrival_date_day_of_month'] = '01'\n",
    "mask = df.arrival_date_day_of_month == 2\n",
    "df.loc[mask, 'arrival_date_day_of_month'] = '02'\n",
    "mask = df.arrival_date_day_of_month == 3\n",
    "df.loc[mask, 'arrival_date_day_of_month'] = '03'\n",
    "mask = df.arrival_date_day_of_month == 4\n",
    "df.loc[mask, 'arrival_date_day_of_month'] = '04'\n",
    "mask = df.arrival_date_day_of_month == 5\n",
    "df.loc[mask, 'arrival_date_day_of_month'] = '05'\n",
    "mask = df.arrival_date_day_of_month == 6\n",
    "df.loc[mask, 'arrival_date_day_of_month'] = '06'\n",
    "mask = df.arrival_date_day_of_month == 7\n",
    "df.loc[mask, 'arrival_date_day_of_month'] = '07'\n",
    "mask = df.arrival_date_day_of_month == 8\n",
    "df.loc[mask, 'arrival_date_day_of_month'] = '08'\n",
    "mask = df.arrival_date_day_of_month == 9\n",
    "df.loc[mask, 'arrival_date_day_of_month'] = '09'"
   ]
  },
  {
   "cell_type": "markdown",
   "id": "d722a5f5",
   "metadata": {},
   "source": [
    "# RF"
   ]
  },
  {
   "cell_type": "code",
   "execution_count": null,
   "id": "2d7b1107",
   "metadata": {},
   "outputs": [],
   "source": [
    "# drop => arrival_date_year, reservation_status_date\n",
    "# agent(NULL) => '-1' \n",
    "# meal => "
   ]
  },
  {
   "cell_type": "code",
   "execution_count": 41,
   "id": "dfee8947",
   "metadata": {},
   "outputs": [],
   "source": [
    "df = pd.read_csv('C:/workspace/PYTHON/PROJECT2/data/hotel_bookings_cancel.csv')"
   ]
  },
  {
   "cell_type": "code",
   "execution_count": 42,
   "id": "092333d0",
   "metadata": {},
   "outputs": [],
   "source": [
    "df['children'] = df['children'].fillna(0)\n",
    "df['agent'] = df['agent'].fillna(-1)"
   ]
  },
  {
   "cell_type": "code",
   "execution_count": 48,
   "id": "7d3267bc",
   "metadata": {},
   "outputs": [],
   "source": [
    "df = df.drop(['reservation_status'], axis = 1)"
   ]
  },
  {
   "cell_type": "code",
   "execution_count": 49,
   "id": "dc8a9664",
   "metadata": {},
   "outputs": [
    {
     "data": {
      "text/html": [
       "<div>\n",
       "<style scoped>\n",
       "    .dataframe tbody tr th:only-of-type {\n",
       "        vertical-align: middle;\n",
       "    }\n",
       "\n",
       "    .dataframe tbody tr th {\n",
       "        vertical-align: top;\n",
       "    }\n",
       "\n",
       "    .dataframe thead th {\n",
       "        text-align: right;\n",
       "    }\n",
       "</style>\n",
       "<table border=\"1\" class=\"dataframe\">\n",
       "  <thead>\n",
       "    <tr style=\"text-align: right;\">\n",
       "      <th></th>\n",
       "      <th>is_canceled</th>\n",
       "      <th>lead_time</th>\n",
       "      <th>arrival_date_month</th>\n",
       "      <th>arrival_date_day_of_month</th>\n",
       "      <th>stays_in_weekend_nights</th>\n",
       "      <th>stays_in_week_nights</th>\n",
       "      <th>adults</th>\n",
       "      <th>children</th>\n",
       "      <th>babies</th>\n",
       "      <th>meal</th>\n",
       "      <th>...</th>\n",
       "      <th>previous_bookings_not_canceled</th>\n",
       "      <th>reserved_room_type</th>\n",
       "      <th>assigned_room_type</th>\n",
       "      <th>booking_changes</th>\n",
       "      <th>deposit_type</th>\n",
       "      <th>agent</th>\n",
       "      <th>customer_type</th>\n",
       "      <th>adr</th>\n",
       "      <th>required_car_parking_spaces</th>\n",
       "      <th>total_of_special_requests</th>\n",
       "    </tr>\n",
       "  </thead>\n",
       "  <tbody>\n",
       "    <tr>\n",
       "      <th>0</th>\n",
       "      <td>0</td>\n",
       "      <td>342</td>\n",
       "      <td>July</td>\n",
       "      <td>1</td>\n",
       "      <td>0</td>\n",
       "      <td>0</td>\n",
       "      <td>2</td>\n",
       "      <td>0.0</td>\n",
       "      <td>0</td>\n",
       "      <td>BB</td>\n",
       "      <td>...</td>\n",
       "      <td>0</td>\n",
       "      <td>C</td>\n",
       "      <td>C</td>\n",
       "      <td>3</td>\n",
       "      <td>No Deposit</td>\n",
       "      <td>-1.0</td>\n",
       "      <td>Transient</td>\n",
       "      <td>0.0</td>\n",
       "      <td>0</td>\n",
       "      <td>0</td>\n",
       "    </tr>\n",
       "    <tr>\n",
       "      <th>1</th>\n",
       "      <td>0</td>\n",
       "      <td>737</td>\n",
       "      <td>July</td>\n",
       "      <td>1</td>\n",
       "      <td>0</td>\n",
       "      <td>0</td>\n",
       "      <td>2</td>\n",
       "      <td>0.0</td>\n",
       "      <td>0</td>\n",
       "      <td>BB</td>\n",
       "      <td>...</td>\n",
       "      <td>0</td>\n",
       "      <td>C</td>\n",
       "      <td>C</td>\n",
       "      <td>4</td>\n",
       "      <td>No Deposit</td>\n",
       "      <td>-1.0</td>\n",
       "      <td>Transient</td>\n",
       "      <td>0.0</td>\n",
       "      <td>0</td>\n",
       "      <td>0</td>\n",
       "    </tr>\n",
       "    <tr>\n",
       "      <th>2</th>\n",
       "      <td>0</td>\n",
       "      <td>7</td>\n",
       "      <td>July</td>\n",
       "      <td>1</td>\n",
       "      <td>0</td>\n",
       "      <td>1</td>\n",
       "      <td>1</td>\n",
       "      <td>0.0</td>\n",
       "      <td>0</td>\n",
       "      <td>BB</td>\n",
       "      <td>...</td>\n",
       "      <td>0</td>\n",
       "      <td>A</td>\n",
       "      <td>C</td>\n",
       "      <td>0</td>\n",
       "      <td>No Deposit</td>\n",
       "      <td>-1.0</td>\n",
       "      <td>Transient</td>\n",
       "      <td>75.0</td>\n",
       "      <td>0</td>\n",
       "      <td>0</td>\n",
       "    </tr>\n",
       "  </tbody>\n",
       "</table>\n",
       "<p>3 rows × 23 columns</p>\n",
       "</div>"
      ],
      "text/plain": [
       "   is_canceled  lead_time arrival_date_month  arrival_date_day_of_month  \\\n",
       "0            0        342               July                          1   \n",
       "1            0        737               July                          1   \n",
       "2            0          7               July                          1   \n",
       "\n",
       "   stays_in_weekend_nights  stays_in_week_nights  adults  children  babies  \\\n",
       "0                        0                     0       2       0.0       0   \n",
       "1                        0                     0       2       0.0       0   \n",
       "2                        0                     1       1       0.0       0   \n",
       "\n",
       "  meal  ... previous_bookings_not_canceled  reserved_room_type  \\\n",
       "0   BB  ...                              0                   C   \n",
       "1   BB  ...                              0                   C   \n",
       "2   BB  ...                              0                   A   \n",
       "\n",
       "   assigned_room_type  booking_changes deposit_type agent  customer_type  \\\n",
       "0                   C                3   No Deposit  -1.0      Transient   \n",
       "1                   C                4   No Deposit  -1.0      Transient   \n",
       "2                   C                0   No Deposit  -1.0      Transient   \n",
       "\n",
       "    adr  required_car_parking_spaces total_of_special_requests  \n",
       "0   0.0                            0                         0  \n",
       "1   0.0                            0                         0  \n",
       "2  75.0                            0                         0  \n",
       "\n",
       "[3 rows x 23 columns]"
      ]
     },
     "execution_count": 49,
     "metadata": {},
     "output_type": "execute_result"
    }
   ],
   "source": [
    "df[:3]"
   ]
  },
  {
   "cell_type": "code",
   "execution_count": 50,
   "id": "95eb16e8",
   "metadata": {
    "scrolled": true
   },
   "outputs": [
    {
     "name": "stdout",
     "output_type": "stream",
     "text": [
      "<class 'pandas.core.frame.DataFrame'>\n",
      "RangeIndex: 119390 entries, 0 to 119389\n",
      "Data columns (total 23 columns):\n",
      " #   Column                          Non-Null Count   Dtype  \n",
      "---  ------                          --------------   -----  \n",
      " 0   is_canceled                     119390 non-null  int64  \n",
      " 1   lead_time                       119390 non-null  int64  \n",
      " 2   arrival_date_month              119390 non-null  object \n",
      " 3   arrival_date_day_of_month       119390 non-null  int64  \n",
      " 4   stays_in_weekend_nights         119390 non-null  int64  \n",
      " 5   stays_in_week_nights            119390 non-null  int64  \n",
      " 6   adults                          119390 non-null  int64  \n",
      " 7   children                        119390 non-null  float64\n",
      " 8   babies                          119390 non-null  int64  \n",
      " 9   meal                            119390 non-null  object \n",
      " 10  market_segment                  119390 non-null  object \n",
      " 11  is_repeated_guest               119390 non-null  int64  \n",
      " 12  previous_cancellations          119390 non-null  int64  \n",
      " 13  previous_bookings_not_canceled  119390 non-null  int64  \n",
      " 14  reserved_room_type              119390 non-null  object \n",
      " 15  assigned_room_type              119390 non-null  object \n",
      " 16  booking_changes                 119390 non-null  int64  \n",
      " 17  deposit_type                    119390 non-null  object \n",
      " 18  agent                           119390 non-null  float64\n",
      " 19  customer_type                   119390 non-null  object \n",
      " 20  adr                             119390 non-null  float64\n",
      " 21  required_car_parking_spaces     119390 non-null  int64  \n",
      " 22  total_of_special_requests       119390 non-null  int64  \n",
      "dtypes: float64(3), int64(13), object(7)\n",
      "memory usage: 21.0+ MB\n"
     ]
    }
   ],
   "source": [
    "df.info()"
   ]
  },
  {
   "cell_type": "code",
   "execution_count": 51,
   "id": "d3f27bc9",
   "metadata": {},
   "outputs": [
    {
     "data": {
      "text/html": [
       "<div>\n",
       "<style scoped>\n",
       "    .dataframe tbody tr th:only-of-type {\n",
       "        vertical-align: middle;\n",
       "    }\n",
       "\n",
       "    .dataframe tbody tr th {\n",
       "        vertical-align: top;\n",
       "    }\n",
       "\n",
       "    .dataframe thead th {\n",
       "        text-align: right;\n",
       "    }\n",
       "</style>\n",
       "<table border=\"1\" class=\"dataframe\">\n",
       "  <thead>\n",
       "    <tr style=\"text-align: right;\">\n",
       "      <th></th>\n",
       "      <th>is_canceled</th>\n",
       "      <th>lead_time</th>\n",
       "      <th>arrival_date_day_of_month</th>\n",
       "      <th>stays_in_weekend_nights</th>\n",
       "      <th>stays_in_week_nights</th>\n",
       "      <th>adults</th>\n",
       "      <th>children</th>\n",
       "      <th>babies</th>\n",
       "      <th>is_repeated_guest</th>\n",
       "      <th>previous_cancellations</th>\n",
       "      <th>...</th>\n",
       "      <th>assigned_room_type_K</th>\n",
       "      <th>assigned_room_type_L</th>\n",
       "      <th>assigned_room_type_P</th>\n",
       "      <th>deposit_type_No Deposit</th>\n",
       "      <th>deposit_type_Non Refund</th>\n",
       "      <th>deposit_type_Refundable</th>\n",
       "      <th>customer_type_Contract</th>\n",
       "      <th>customer_type_Group</th>\n",
       "      <th>customer_type_Transient</th>\n",
       "      <th>customer_type_Transient-Party</th>\n",
       "    </tr>\n",
       "  </thead>\n",
       "  <tbody>\n",
       "    <tr>\n",
       "      <th>0</th>\n",
       "      <td>0</td>\n",
       "      <td>342</td>\n",
       "      <td>1</td>\n",
       "      <td>0</td>\n",
       "      <td>0</td>\n",
       "      <td>2</td>\n",
       "      <td>0.0</td>\n",
       "      <td>0</td>\n",
       "      <td>0</td>\n",
       "      <td>0</td>\n",
       "      <td>...</td>\n",
       "      <td>0</td>\n",
       "      <td>0</td>\n",
       "      <td>0</td>\n",
       "      <td>1</td>\n",
       "      <td>0</td>\n",
       "      <td>0</td>\n",
       "      <td>0</td>\n",
       "      <td>0</td>\n",
       "      <td>1</td>\n",
       "      <td>0</td>\n",
       "    </tr>\n",
       "    <tr>\n",
       "      <th>1</th>\n",
       "      <td>0</td>\n",
       "      <td>737</td>\n",
       "      <td>1</td>\n",
       "      <td>0</td>\n",
       "      <td>0</td>\n",
       "      <td>2</td>\n",
       "      <td>0.0</td>\n",
       "      <td>0</td>\n",
       "      <td>0</td>\n",
       "      <td>0</td>\n",
       "      <td>...</td>\n",
       "      <td>0</td>\n",
       "      <td>0</td>\n",
       "      <td>0</td>\n",
       "      <td>1</td>\n",
       "      <td>0</td>\n",
       "      <td>0</td>\n",
       "      <td>0</td>\n",
       "      <td>0</td>\n",
       "      <td>1</td>\n",
       "      <td>0</td>\n",
       "    </tr>\n",
       "    <tr>\n",
       "      <th>2</th>\n",
       "      <td>0</td>\n",
       "      <td>7</td>\n",
       "      <td>1</td>\n",
       "      <td>0</td>\n",
       "      <td>1</td>\n",
       "      <td>1</td>\n",
       "      <td>0.0</td>\n",
       "      <td>0</td>\n",
       "      <td>0</td>\n",
       "      <td>0</td>\n",
       "      <td>...</td>\n",
       "      <td>0</td>\n",
       "      <td>0</td>\n",
       "      <td>0</td>\n",
       "      <td>1</td>\n",
       "      <td>0</td>\n",
       "      <td>0</td>\n",
       "      <td>0</td>\n",
       "      <td>0</td>\n",
       "      <td>1</td>\n",
       "      <td>0</td>\n",
       "    </tr>\n",
       "  </tbody>\n",
       "</table>\n",
       "<p>3 rows × 69 columns</p>\n",
       "</div>"
      ],
      "text/plain": [
       "   is_canceled  lead_time  arrival_date_day_of_month  stays_in_weekend_nights  \\\n",
       "0            0        342                          1                        0   \n",
       "1            0        737                          1                        0   \n",
       "2            0          7                          1                        0   \n",
       "\n",
       "   stays_in_week_nights  adults  children  babies  is_repeated_guest  \\\n",
       "0                     0       2       0.0       0                  0   \n",
       "1                     0       2       0.0       0                  0   \n",
       "2                     1       1       0.0       0                  0   \n",
       "\n",
       "   previous_cancellations  ...  assigned_room_type_K  assigned_room_type_L  \\\n",
       "0                       0  ...                     0                     0   \n",
       "1                       0  ...                     0                     0   \n",
       "2                       0  ...                     0                     0   \n",
       "\n",
       "   assigned_room_type_P  deposit_type_No Deposit  deposit_type_Non Refund  \\\n",
       "0                     0                        1                        0   \n",
       "1                     0                        1                        0   \n",
       "2                     0                        1                        0   \n",
       "\n",
       "   deposit_type_Refundable  customer_type_Contract  customer_type_Group  \\\n",
       "0                        0                       0                    0   \n",
       "1                        0                       0                    0   \n",
       "2                        0                       0                    0   \n",
       "\n",
       "   customer_type_Transient  customer_type_Transient-Party  \n",
       "0                        1                              0  \n",
       "1                        1                              0  \n",
       "2                        1                              0  \n",
       "\n",
       "[3 rows x 69 columns]"
      ]
     },
     "execution_count": 51,
     "metadata": {},
     "output_type": "execute_result"
    }
   ],
   "source": [
    "df = pd.get_dummies(df)\n",
    "df[:3]"
   ]
  },
  {
   "cell_type": "markdown",
   "id": "e310b0d2",
   "metadata": {},
   "source": [
    "### RF Parameter : "
   ]
  },
  {
   "cell_type": "code",
   "execution_count": 58,
   "id": "93c0b8bb",
   "metadata": {},
   "outputs": [],
   "source": [
    "from sklearn.model_selection import train_test_split\n",
    "from sklearn.ensemble import RandomForestClassifier\n",
    "from sklearn.preprocessing import MinMaxScaler"
   ]
  },
  {
   "cell_type": "code",
   "execution_count": 52,
   "id": "47712788",
   "metadata": {},
   "outputs": [],
   "source": [
    "X = df.drop(['is_canceled'],axis=1)\n",
    "y = df['is_canceled']"
   ]
  },
  {
   "cell_type": "code",
   "execution_count": 53,
   "id": "e67eff47",
   "metadata": {},
   "outputs": [],
   "source": [
    "X_train, X_test, y_train, y_test = train_test_split(X, y, test_size = .2)"
   ]
  },
  {
   "cell_type": "code",
   "execution_count": 54,
   "id": "442e5370",
   "metadata": {},
   "outputs": [],
   "source": [
    "scaler = MinMaxScaler().fit(X_train)\n",
    "X_train_scaled = scaler.transform(X_train)\n",
    "X_test_scaled = scaler.transform(X_test)"
   ]
  },
  {
   "cell_type": "code",
   "execution_count": 57,
   "id": "5704fc75",
   "metadata": {},
   "outputs": [
    {
     "name": "stdout",
     "output_type": "stream",
     "text": [
      "0.8066002177736828\n",
      "0.8074796884161153\n"
     ]
    }
   ],
   "source": [
    "model = RandomForestClassifier(n_estimators = 100, max_depth = 8, random_state = 0).fit(X_train_scaled, y_train)\n",
    "print(model.score(X_train_scaled, y_train))\n",
    "print(model.score(X_test_scaled, y_test))"
   ]
  },
  {
   "cell_type": "code",
   "execution_count": 60,
   "id": "34978756",
   "metadata": {},
   "outputs": [],
   "source": [
    "from sklearn.model_selection import GridSearchCV"
   ]
  },
  {
   "cell_type": "code",
   "execution_count": 63,
   "id": "3a1f17c4",
   "metadata": {},
   "outputs": [
    {
     "name": "stdout",
     "output_type": "stream",
     "text": [
      "최적 하이퍼 파라미터:  {'max_depth': 12, 'min_samples_leaf': 8, 'min_samples_split': 20, 'n_estimators': 100}\n",
      "최고 예측 정확도: 0.8206\n"
     ]
    }
   ],
   "source": [
    "params = { 'n_estimators' : [10, 100],\n",
    "           'max_depth' : [6, 8, 10, 12],\n",
    "           'min_samples_leaf' : [8, 12, 18],\n",
    "           'min_samples_split' : [8, 16, 20]\n",
    "            }\n",
    "\n",
    "model = RandomForestClassifier(random_state = 0, n_jobs = -1)\n",
    "grid_cv = GridSearchCV(model, param_grid = params, cv = 3, n_jobs = -1)\n",
    "grid_cv.fit(X_train_scaled, y_train)\n",
    "\n",
    "print('최적 하이퍼 파라미터: ', grid_cv.best_params_)\n",
    "print('최고 예측 정확도: {:.4f}'.format(grid_cv.best_score_))"
   ]
  },
  {
   "cell_type": "code",
   "execution_count": 65,
   "id": "0a602c0b",
   "metadata": {},
   "outputs": [
    {
     "name": "stdout",
     "output_type": "stream",
     "text": [
      "[1.38626382e-01 7.70205438e-02 2.90589376e-02 4.56048072e-02\n",
      " 1.55100459e-02 6.77358912e-03 9.75638615e-04 2.23253554e-03\n",
      " 3.59175233e-02 3.54929022e-03 2.27814606e-02 5.15068533e-02\n",
      " 1.03034585e-01 2.13815856e-02 5.92022114e-02 6.68995041e-03\n",
      " 7.34477525e-03 4.69967917e-03 5.24410822e-03 3.99931069e-03\n",
      " 6.87941605e-03 6.20903623e-03 5.55563883e-03 6.68062559e-03\n",
      " 4.63856588e-03 5.89581286e-03 5.63350246e-03 7.43803288e-03\n",
      " 1.18050247e-03 6.82039770e-03 5.52108806e-03 2.91611019e-04\n",
      " 4.21637112e-04 2.60208890e-03 8.05026363e-03 1.21514830e-02\n",
      " 1.15182040e-02 1.91200784e-02 3.51296301e-05 8.18715204e-03\n",
      " 9.48576850e-04 7.34386616e-04 4.53106852e-03 2.23956669e-03\n",
      " 1.10845369e-03 9.59032134e-04 3.74289898e-04 2.56196842e-05\n",
      " 1.80743889e-04 1.47046336e-02 1.56319025e-03 1.42711808e-03\n",
      " 6.27405893e-03 2.95952512e-03 1.86980801e-03 1.17877061e-03\n",
      " 4.36111746e-04 3.04349495e-04 2.43022823e-04 5.13331498e-06\n",
      " 1.25703786e-04 6.66911292e-02 9.45158106e-02 3.99523961e-04\n",
      " 2.11501593e-03 3.49427798e-04 1.50863733e-02 1.26654762e-02]\n"
     ]
    }
   ],
   "source": [
    "model = RandomForestClassifier().fit(X_train_scaled, y_train)\n",
    "\n",
    "print(model.feature_importances_)"
   ]
  },
  {
   "cell_type": "code",
   "execution_count": 67,
   "id": "8a9007d3",
   "metadata": {},
   "outputs": [
    {
     "data": {
      "image/png": "[encoded data removed]",
      "text/plain": [
       "<Figure size 432x288 with 1 Axes>"
      ]
     },
     "metadata": {
      "needs_background": "light"
     },
     "output_type": "display_data"
    }
   ],
   "source": [
    "import matplotlib.pyplot as plt\n",
    "\n",
    "def plot_feature_importances_hotel(model):\n",
    "    n_features = X.shape[1]\n",
    "    plt.barh(np.arange(n_features), sorted(model.feature_importances_), align='center')\n",
    "    plt.yticks(np.arange(n_features), X.columns)\n",
    "    plt.xlabel('RF Feature Importance')\n",
    "    plt.ylabel('Features')\n",
    "    plt.ylim(-1, n_features)\n",
    "    \n",
    "plot_feature_importances_hotel(model)"
   ]
  },
  {
   "cell_type": "code",
   "execution_count": 71,
   "id": "827855f3",
   "metadata": {},
   "outputs": [
    {
     "name": "stdout",
     "output_type": "stream",
     "text": [
      "[ True  True False False False False False False False False False False\n",
      "  True False False False False False False False False False False False\n",
      " False False False False False False False False False False False False\n",
      " False False False False False False False False False False False False\n",
      " False False False False False False False False False False False False\n",
      " False  True  True False False False False False]\n",
      "0.7934500376915989\n"
     ]
    }
   ],
   "source": [
    "from sklearn.feature_selection import RFE\n",
    "\n",
    "rfe_rf = RFE(model, n_features_to_select = 5, step = 1)\n",
    "model_rf = rfe_rf.fit(X_train_scaled, y_train)\n",
    "\n",
    "print(model_rf.support_)\n",
    "\n",
    "print(model_rf.score(X_test_scaled, y_test))"
   ]
  },
  {
   "cell_type": "code",
   "execution_count": null,
   "id": "20e524af",
   "metadata": {},
   "outputs": [],
   "source": [
    "1 : lead_time\n",
    "2 : arrival_dateday_of_month\n",
    "13 : adr\n",
    "62 : deposit_type_No Deposit\n",
    "63 : deposit_type_Non Refund"
   ]
  },
  {
   "cell_type": "code",
   "execution_count": 81,
   "id": "46196c48",
   "metadata": {},
   "outputs": [
    {
     "data": {
      "text/plain": [
       "'deposit_type_Non Refund'"
      ]
     },
     "execution_count": 81,
     "metadata": {},
     "output_type": "execute_result"
    }
   ],
   "source": [
    "df.columns[63]"
   ]
  }
 ],
 "metadata": {
  "kernelspec": {
   "display_name": "Python 3",
   "language": "python",
   "name": "python3"
  },
  "language_info": {
   "codemirror_mode": {
    "name": "ipython",
    "version": 3
   },
   "file_extension": ".py",
   "mimetype": "text/x-python",
   "name": "python",
   "nbconvert_exporter": "python",
   "pygments_lexer": "ipython3",
   "version": "3.8.8"
  }
 },
 "nbformat": 4,
 "nbformat_minor": 5
}
