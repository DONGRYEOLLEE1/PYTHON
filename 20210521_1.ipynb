{
 "cells": [
  {
   "cell_type": "code",
   "execution_count": 2,
   "id": "2a0c893a",
   "metadata": {},
   "outputs": [],
   "source": [
    "a = \"Life is too short, You need Pyhton\""
   ]
  },
  {
   "cell_type": "code",
   "execution_count": 16,
   "id": "6fd6f0eb",
   "metadata": {},
   "outputs": [
    {
     "data": {
      "text/plain": [
       "'o'"
      ]
     },
     "execution_count": 16,
     "metadata": {},
     "output_type": "execute_result"
    }
   ],
   "source": [
    "a[-2]                # 뒷자리부터 셀 수 있는 전화번호 검색할때 용이함"
   ]
  },
  {
   "cell_type": "code",
   "execution_count": 10,
   "id": "691835d2",
   "metadata": {},
   "outputs": [
    {
     "data": {
      "text/plain": [
       "'Life'"
      ]
     },
     "execution_count": 10,
     "metadata": {},
     "output_type": "execute_result"
    }
   ],
   "source": [
    "a[0:4]"
   ]
  },
  {
   "cell_type": "code",
   "execution_count": 11,
   "id": "cdc33fb5",
   "metadata": {},
   "outputs": [
    {
     "data": {
      "text/plain": [
       "'Lif'"
      ]
     },
     "execution_count": 11,
     "metadata": {},
     "output_type": "execute_result"
    }
   ],
   "source": [
    "a[0:3]                # 끝번호에 해당하는 문자는 포함 x, 즉 0부터 시작해서 3에서 끊는다 => [0:3]"
   ]
  },
  {
   "cell_type": "code",
   "execution_count": 12,
   "id": "26373ec1",
   "metadata": {},
   "outputs": [
    {
     "data": {
      "text/plain": [
       "'Life'"
      ]
     },
     "execution_count": 12,
     "metadata": {},
     "output_type": "execute_result"
    }
   ],
   "source": [
    "a[:4]"
   ]
  },
  {
   "cell_type": "code",
   "execution_count": 22,
   "id": "b3964649",
   "metadata": {},
   "outputs": [
    {
     "data": {
      "text/plain": [
       "'Life is to'"
      ]
     },
     "execution_count": 22,
     "metadata": {},
     "output_type": "execute_result"
    }
   ],
   "source": [
    "a[0:10]"
   ]
  },
  {
   "cell_type": "code",
   "execution_count": 25,
   "id": "113d6af5",
   "metadata": {},
   "outputs": [
    {
     "data": {
      "text/plain": [
       "'Life'"
      ]
     },
     "execution_count": 25,
     "metadata": {},
     "output_type": "execute_result"
    }
   ],
   "source": [
    "a[0:4]"
   ]
  },
  {
   "cell_type": "code",
   "execution_count": 26,
   "id": "7711f8d7",
   "metadata": {},
   "outputs": [
    {
     "data": {
      "text/plain": [
       "'Life '"
      ]
     },
     "execution_count": 26,
     "metadata": {},
     "output_type": "execute_result"
    }
   ],
   "source": [
    "a[0:5]"
   ]
  },
  {
   "cell_type": "code",
   "execution_count": 19,
   "id": "502e2e9e",
   "metadata": {},
   "outputs": [],
   "source": [
    "a1 = a[0:4]"
   ]
  },
  {
   "cell_type": "code",
   "execution_count": 20,
   "id": "1defa0f3",
   "metadata": {},
   "outputs": [],
   "source": [
    "a2 = a[0:5]"
   ]
  },
  {
   "cell_type": "code",
   "execution_count": 27,
   "id": "f4e39d91",
   "metadata": {},
   "outputs": [
    {
     "name": "stdout",
     "output_type": "stream",
     "text": [
      "다르다\n"
     ]
    }
   ],
   "source": [
    "if a1 == a2:\n",
    "    print(\"같다\")\n",
    "else:\n",
    "    print(\"다르다\")              # 공백이 있고 없고의 차이는 큼"
   ]
  },
  {
   "cell_type": "code",
   "execution_count": 29,
   "id": "9d63c57b",
   "metadata": {},
   "outputs": [
    {
     "data": {
      "text/plain": [
       "4"
      ]
     },
     "execution_count": 29,
     "metadata": {},
     "output_type": "execute_result"
    }
   ],
   "source": [
    "len(a1)"
   ]
  },
  {
   "cell_type": "code",
   "execution_count": 31,
   "id": "ba6c59f3",
   "metadata": {},
   "outputs": [
    {
     "data": {
      "text/plain": [
       "5"
      ]
     },
     "execution_count": 31,
     "metadata": {},
     "output_type": "execute_result"
    }
   ],
   "source": [
    "len(a2)                           # 글자수도 다름"
   ]
  },
  {
   "cell_type": "code",
   "execution_count": 33,
   "id": "ea3ddea9",
   "metadata": {},
   "outputs": [
    {
     "data": {
      "text/plain": [
       "'Life'"
      ]
     },
     "execution_count": 33,
     "metadata": {},
     "output_type": "execute_result"
    }
   ],
   "source": [
    "a2.rstrip()                     # 오른쪽 공백 지우기 => rstrip()"
   ]
  },
  {
   "cell_type": "code",
   "execution_count": 36,
   "id": "2ae35544",
   "metadata": {},
   "outputs": [],
   "source": [
    "a3 = a[4:8]"
   ]
  },
  {
   "cell_type": "code",
   "execution_count": 38,
   "id": "f1a3561a",
   "metadata": {},
   "outputs": [
    {
     "data": {
      "text/plain": [
       "'is'"
      ]
     },
     "execution_count": 38,
     "metadata": {},
     "output_type": "execute_result"
    }
   ],
   "source": [
    "a3.strip()                     # 양쪽공백 지우기 => strip()"
   ]
  },
  {
   "cell_type": "code",
   "execution_count": 40,
   "id": "f841aa40",
   "metadata": {},
   "outputs": [],
   "source": [
    "words1 = \"딸기, 바나나, 수박\""
   ]
  },
  {
   "cell_type": "code",
   "execution_count": 46,
   "id": "f3e8ce26",
   "metadata": {},
   "outputs": [
    {
     "name": "stdout",
     "output_type": "stream",
     "text": [
      "바나나\n"
     ]
    }
   ],
   "source": [
    "bananaFromWords1 = words1[4:7]\n",
    "print(bananaFromWords1)"
   ]
  },
  {
   "cell_type": "code",
   "execution_count": 50,
   "id": "83cec8bd",
   "metadata": {},
   "outputs": [
    {
     "name": "stdout",
     "output_type": "stream",
     "text": [
      "수박\n"
     ]
    }
   ],
   "source": [
    "watermelonFromWords1 = words1[-2:]\n",
    "print(watermelonFromWords1)"
   ]
  },
  {
   "cell_type": "code",
   "execution_count": 53,
   "id": "3b85aa40",
   "metadata": {},
   "outputs": [
    {
     "name": "stdout",
     "output_type": "stream",
     "text": [
      "딸기\n"
     ]
    }
   ],
   "source": [
    "sbFromWords1 = words1[:2]\n",
    "print(sbFromWords1)"
   ]
  },
  {
   "cell_type": "code",
   "execution_count": 71,
   "id": "ae1dbd34",
   "metadata": {},
   "outputs": [
    {
     "name": "stdout",
     "output_type": "stream",
     "text": [
      "바나나\n"
     ]
    }
   ],
   "source": [
    "wordToFind = \"바나나\"\n",
    "indexOfBanana = words1.find(\"바나나\")\n",
    "bananaFromWords1 = words1[indexOfBanana:indexOfBanana+len(wordToFind)]\n",
    "print(bananaFromWords1)"
   ]
  },
  {
   "cell_type": "code",
   "execution_count": 75,
   "id": "48985288",
   "metadata": {},
   "outputs": [],
   "source": [
    "a = \"Pithon\""
   ]
  },
  {
   "cell_type": "code",
   "execution_count": 76,
   "id": "3f8bf624",
   "metadata": {},
   "outputs": [
    {
     "data": {
      "text/plain": [
       "'i'"
      ]
     },
     "execution_count": 76,
     "metadata": {},
     "output_type": "execute_result"
    }
   ],
   "source": [
    "a[1]"
   ]
  },
  {
   "cell_type": "code",
   "execution_count": 82,
   "id": "400de21d",
   "metadata": {},
   "outputs": [
    {
     "ename": "TypeError",
     "evalue": "'str' object does not support item assignment",
     "output_type": "error",
     "traceback": [
      "\u001b[1;31m---------------------------------------------------------------------------\u001b[0m",
      "\u001b[1;31mTypeError\u001b[0m                                 Traceback (most recent call last)",
      "\u001b[1;32m<ipython-input-82-d5923cc78d10>\u001b[0m in \u001b[0;36m<module>\u001b[1;34m\u001b[0m\n\u001b[1;32m----> 1\u001b[1;33m \u001b[0ma\u001b[0m\u001b[1;33m[\u001b[0m\u001b[1;36m1\u001b[0m\u001b[1;33m]\u001b[0m \u001b[1;33m=\u001b[0m \u001b[1;34m'y'\u001b[0m\u001b[1;33m\u001b[0m\u001b[1;33m\u001b[0m\u001b[0m\n\u001b[0m",
      "\u001b[1;31mTypeError\u001b[0m: 'str' object does not support item assignment"
     ]
    }
   ],
   "source": [
    "a[1] = 'y'"
   ]
  },
  {
   "cell_type": "code",
   "execution_count": 83,
   "id": "dbd8e49b",
   "metadata": {},
   "outputs": [
    {
     "data": {
      "text/plain": [
       "'thon'"
      ]
     },
     "execution_count": 83,
     "metadata": {},
     "output_type": "execute_result"
    }
   ],
   "source": [
    "a[-4:]"
   ]
  },
  {
   "cell_type": "code",
   "execution_count": 85,
   "id": "57bbecad",
   "metadata": {},
   "outputs": [],
   "source": [
    "a2 = a[:1] + \"y\" + a[-4:]"
   ]
  },
  {
   "cell_type": "code",
   "execution_count": 92,
   "id": "c377a208",
   "metadata": {},
   "outputs": [
    {
     "name": "stdout",
     "output_type": "stream",
     "text": [
      "Python\n"
     ]
    }
   ],
   "source": [
    "a = a2\n",
    "print(a)"
   ]
  },
  {
   "cell_type": "code",
   "execution_count": 91,
   "id": "0ee29562",
   "metadata": {},
   "outputs": [
    {
     "data": {
      "text/plain": [
       "'Python'"
      ]
     },
     "execution_count": 91,
     "metadata": {},
     "output_type": "execute_result"
    }
   ],
   "source": [
    "a"
   ]
  },
  {
   "cell_type": "code",
   "execution_count": 94,
   "id": "8784064e",
   "metadata": {},
   "outputs": [
    {
     "data": {
      "text/plain": [
       "'I eat 3 apples.'"
      ]
     },
     "execution_count": 94,
     "metadata": {},
     "output_type": "execute_result"
    }
   ],
   "source": [
    "\"I eat %d apples.\" % 3"
   ]
  },
  {
   "cell_type": "markdown",
   "id": "bbe36041",
   "metadata": {},
   "source": [
    "name1 = \"이동렬\";major1 = \"History\";howManyPhone1 = \"%10s\" %\"10000000\"\n",
    "name2 = \"동렬리\";major2 = \"IT\";howManyPhone2 = \"%10s\" %\"30000\"                     # 숫자는 오른쪽, 문자는 왼쪽정렬\n",
    "\n",
    "print(\"name\"+\"\\t\"+\"major\"+\"\\t\"+\"howManyPhone\")\n",
    "print(name1+\"\\t\"+major1+\"\\t\"+str(howManyPhone1))\n",
    "print(name2+\"\\t\"+major2+\"\\t\"+str(howManyPhone2))"
   ]
  },
  {
   "cell_type": "code",
   "execution_count": 3,
   "id": "1ec73623",
   "metadata": {},
   "outputs": [
    {
     "name": "stdout",
     "output_type": "stream",
     "text": [
      "    120.00\n"
     ]
    }
   ],
   "source": [
    "print(\"%10.2f\" % 120)"
   ]
  },
  {
   "cell_type": "code",
   "execution_count": 7,
   "id": "5322bd6c",
   "metadata": {},
   "outputs": [
    {
     "data": {
      "text/plain": [
       "'~~~DR~~~2~~~~~~~'"
      ]
     },
     "execution_count": 7,
     "metadata": {},
     "output_type": "execute_result"
    }
   ],
   "source": [
    "\"~~~{0}~~~{1}~~~~~~~\".format(\"DR\", 2)"
   ]
  },
  {
   "cell_type": "code",
   "execution_count": 10,
   "id": "85183530",
   "metadata": {},
   "outputs": [
    {
     "data": {
      "text/plain": [
       "'~~~DR~~~2~~~~~DR~God~'"
      ]
     },
     "execution_count": 10,
     "metadata": {},
     "output_type": "execute_result"
    }
   ],
   "source": [
    "\"~~~{0}~~~{1}~~~~~{0}~{2}~\".format(\"DR\", 2, \"God\")"
   ]
  },
  {
   "cell_type": "code",
   "execution_count": 11,
   "id": "fe75d196",
   "metadata": {},
   "outputs": [
    {
     "data": {
      "text/plain": [
       "'~~~9~~DR~~~~~~God'"
      ]
     },
     "execution_count": 11,
     "metadata": {},
     "output_type": "execute_result"
    }
   ],
   "source": [
    "\"~~~{2}~~{1}~~~~~~{0}\".format(\"God\", \"DR\", 9)"
   ]
  },
  {
   "cell_type": "code",
   "execution_count": 12,
   "id": "82dd0a9d",
   "metadata": {},
   "outputs": [
    {
     "data": {
      "text/plain": [
       "'I eat 4 apples'"
      ]
     },
     "execution_count": 12,
     "metadata": {},
     "output_type": "execute_result"
    }
   ],
   "source": [
    "number = 4\n",
    "\"I eat {0} apples\".format(number)"
   ]
  },
  {
   "cell_type": "code",
   "execution_count": 14,
   "id": "0153cef3",
   "metadata": {},
   "outputs": [
    {
     "data": {
      "text/plain": [
       "'~~~God~~2~~~~~~2'"
      ]
     },
     "execution_count": 14,
     "metadata": {},
     "output_type": "execute_result"
    }
   ],
   "source": [
    "\"~~~{name}~~{howMany}~~~~~~{howMany}\".format(name = \"God\", howMany = 2)"
   ]
  },
  {
   "cell_type": "code",
   "execution_count": 16,
   "id": "6a38439c",
   "metadata": {},
   "outputs": [
    {
     "data": {
      "text/plain": [
       "'hi'"
      ]
     },
     "execution_count": 16,
     "metadata": {},
     "output_type": "execute_result"
    }
   ],
   "source": [
    "\"{0}\".format(\"hi\")"
   ]
  },
  {
   "cell_type": "code",
   "execution_count": 22,
   "id": "d0daaadc",
   "metadata": {},
   "outputs": [
    {
     "data": {
      "text/plain": [
       "'        hi'"
      ]
     },
     "execution_count": 22,
     "metadata": {},
     "output_type": "execute_result"
    }
   ],
   "source": [
    "\"{0:>10}\".format(\"hi\")                # 오른쪽정렬"
   ]
  },
  {
   "cell_type": "code",
   "execution_count": 24,
   "id": "bb10b608",
   "metadata": {},
   "outputs": [
    {
     "data": {
      "text/plain": [
       "'hi        '"
      ]
     },
     "execution_count": 24,
     "metadata": {},
     "output_type": "execute_result"
    }
   ],
   "source": [
    "\"{0:<10}\".format(\"hi\")               # 왼쪽정렬"
   ]
  },
  {
   "cell_type": "code",
   "execution_count": 26,
   "id": "ec9ba215",
   "metadata": {},
   "outputs": [
    {
     "data": {
      "text/plain": [
       "'    hi    '"
      ]
     },
     "execution_count": 26,
     "metadata": {},
     "output_type": "execute_result"
    }
   ],
   "source": [
    "\"{0:^10}\".format(\"hi\")               # 가운데정렬"
   ]
  },
  {
   "cell_type": "code",
   "execution_count": 28,
   "id": "59246f99",
   "metadata": {},
   "outputs": [
    {
     "data": {
      "text/plain": [
       "'====hi===='"
      ]
     },
     "execution_count": 28,
     "metadata": {},
     "output_type": "execute_result"
    }
   ],
   "source": [
    "\"{0:=^10}\".format(\"hi\")              # 공백 채우기"
   ]
  },
  {
   "cell_type": "code",
   "execution_count": 30,
   "id": "6ef4a2ce",
   "metadata": {},
   "outputs": [
    {
     "data": {
      "text/plain": [
       "'!!!!!!!!!hi!!!!!!!!!'"
      ]
     },
     "execution_count": 30,
     "metadata": {},
     "output_type": "execute_result"
    }
   ],
   "source": [
    "\"{0:!^20}\".format(\"hi\")"
   ]
  },
  {
   "cell_type": "code",
   "execution_count": 32,
   "id": "29f72c89",
   "metadata": {},
   "outputs": [
    {
     "data": {
      "text/plain": [
       "'3.2433'"
      ]
     },
     "execution_count": 32,
     "metadata": {},
     "output_type": "execute_result"
    }
   ],
   "source": [
    "y = 3.24332532\n",
    "\"{0:0.4f}\".format(y)"
   ]
  },
  {
   "cell_type": "code",
   "execution_count": 35,
   "id": "d15f12c4",
   "metadata": {
    "scrolled": true
   },
   "outputs": [
    {
     "data": {
      "text/plain": [
       "'나의 이름은 DR입니다. 나이는 120살 까지 살고 싶어요.'"
      ]
     },
     "execution_count": 35,
     "metadata": {},
     "output_type": "execute_result"
    }
   ],
   "source": [
    "name = \"DR\"\n",
    "age = 120\n",
    "\"나의 이름은 {0}입니다. 나이는 {1}살 까지 살고 싶어요.\".format(name, age)"
   ]
  },
  {
   "cell_type": "code",
   "execution_count": 40,
   "id": "e9b0f917",
   "metadata": {},
   "outputs": [
    {
     "data": {
      "text/plain": [
       "'나의 이름은 DR입니다. 나이는 120살 까지 살고 싶어요.'"
      ]
     },
     "execution_count": 40,
     "metadata": {},
     "output_type": "execute_result"
    }
   ],
   "source": [
    "f\"나의 이름은 {name}입니다. 나이는 {age}살 까지 살고 싶어요.\""
   ]
  },
  {
   "cell_type": "code",
   "execution_count": 41,
   "id": "5c06ad67",
   "metadata": {},
   "outputs": [
    {
     "data": {
      "text/plain": [
       "2"
      ]
     },
     "execution_count": 41,
     "metadata": {},
     "output_type": "execute_result"
    }
   ],
   "source": [
    "\"바나나\".count(\"나\")"
   ]
  },
  {
   "cell_type": "code",
   "execution_count": 46,
   "id": "0e9c7cd5",
   "metadata": {},
   "outputs": [
    {
     "data": {
      "text/plain": [
       "3"
      ]
     },
     "execution_count": 46,
     "metadata": {},
     "output_type": "execute_result"
    }
   ],
   "source": [
    "\"내가 가장 좋아하는 바나나는 크기가 큰 바나나 입니다. 왜냐면 작은 바나나는\\\n",
    "같은 무게를 사도 껍질로 다 버려져요\".count(\"바나나\")"
   ]
  },
  {
   "cell_type": "code",
   "execution_count": 49,
   "id": "ca9f0d15",
   "metadata": {},
   "outputs": [
    {
     "data": {
      "text/plain": [
       "-1"
      ]
     },
     "execution_count": 49,
     "metadata": {},
     "output_type": "execute_result"
    }
   ],
   "source": [
    "\"내가 가장 좋아하는 바나나는 크기가 큰 바나나 입니다. 왜냐면 작은 바나나는\\\n",
    "같은 무게를 사도 껍질로 다 버려져요\".find(\"카\")"
   ]
  },
  {
   "cell_type": "code",
   "execution_count": 51,
   "id": "f312fccb",
   "metadata": {},
   "outputs": [
    {
     "data": {
      "text/plain": [
       "'a,b,c,d'"
      ]
     },
     "execution_count": 51,
     "metadata": {},
     "output_type": "execute_result"
    }
   ],
   "source": [
    "\",\".join('abcd')"
   ]
  },
  {
   "cell_type": "code",
   "execution_count": 56,
   "id": "6f2e751e",
   "metadata": {},
   "outputs": [
    {
     "data": {
      "text/plain": [
       "'abc,def,ghi'"
      ]
     },
     "execution_count": 56,
     "metadata": {},
     "output_type": "execute_result"
    }
   ],
   "source": [
    "\",\".join([\"abc\", \"def\", \"ghi\"])"
   ]
  },
  {
   "cell_type": "code",
   "execution_count": 60,
   "id": "a9b9e734",
   "metadata": {},
   "outputs": [
    {
     "data": {
      "text/plain": [
       "'010-1234-5678'"
      ]
     },
     "execution_count": 60,
     "metadata": {},
     "output_type": "execute_result"
    }
   ],
   "source": [
    "# 숫자만으로 저장된 전화 번호를 DB에서 얻었다. 010 1234 5678 이 번호를 -로 연결하자\n",
    "# 010-1234-5678\n",
    "\n",
    "\"-\".join([\"010\",\"1234\",\"5678\"])"
   ]
  },
  {
   "cell_type": "code",
   "execution_count": 65,
   "id": "e24391d7",
   "metadata": {},
   "outputs": [
    {
     "data": {
      "text/plain": [
       "'010-1234-5678'"
      ]
     },
     "execution_count": 65,
     "metadata": {},
     "output_type": "execute_result"
    }
   ],
   "source": [
    "phone_number = \"010 1234 5678\"\n",
    "phone_number.replace(\" \", \"-\")"
   ]
  },
  {
   "cell_type": "code",
   "execution_count": 68,
   "id": "7b42d0bf",
   "metadata": {},
   "outputs": [
    {
     "name": "stdout",
     "output_type": "stream",
     "text": [
      "I love pine-apple. because pine-apple is so sweet.\n"
     ]
    }
   ],
   "source": [
    "a = \"I love apple. because apple is so sweet.\"\n",
    "b = a.replace(\"apple\", \"pine-apple\")\n",
    "print(b)"
   ]
  },
  {
   "cell_type": "code",
   "execution_count": 71,
   "id": "f9e39fc5",
   "metadata": {},
   "outputs": [
    {
     "name": "stdout",
     "output_type": "stream",
     "text": [
      "01012345678\n"
     ]
    }
   ],
   "source": [
    "# 010-1234-5678 --> 01012345678\n",
    "a = \"010-1234-5678\"\n",
    "b = a.replace(\"-\", \"\")\n",
    "print(b)"
   ]
  },
  {
   "cell_type": "code",
   "execution_count": 76,
   "id": "902ee1a1",
   "metadata": {},
   "outputs": [
    {
     "name": "stdout",
     "output_type": "stream",
     "text": [
      "['life', 'is', 'good']\n"
     ]
    }
   ],
   "source": [
    "a = \" life is good\"\n",
    "b = a.split()\n",
    "print(b)"
   ]
  },
  {
   "cell_type": "code",
   "execution_count": 83,
   "id": "344021e2",
   "metadata": {},
   "outputs": [
    {
     "name": "stdout",
     "output_type": "stream",
     "text": [
      "식별번호: 010 , 국번: 1234 , 개인번호: 5678\n"
     ]
    }
   ],
   "source": [
    "# 010-1234-5678 --> '010', '1234', '5678'\n",
    "a = \"010-1234-5678\"\n",
    "b = a.replace(\"-\", \" \")\n",
    "c = b.split()\n",
    "print(\"식별번호:\",c[0], \", 국번:\",c[1], \", 개인번호:\",c[2])"
   ]
  },
  {
   "cell_type": "code",
   "execution_count": 94,
   "id": "b1d8ff81",
   "metadata": {},
   "outputs": [
    {
     "name": "stdout",
     "output_type": "stream",
     "text": [
      "[]\n",
      "[1, 2, [3, 4]]\n",
      "3\n",
      "1\n",
      "[3, 4]\n",
      "4\n",
      "3\n",
      "[3, 4]\n"
     ]
    }
   ],
   "source": [
    "a = []\n",
    "print(a)\n",
    "e = [ 1, 2, [3, 4]]\n",
    "print(e)\n",
    "print(len(e))\n",
    "print(e[0])\n",
    "print(e[2])\n",
    "print(e[2][1])\n",
    "print(e[2][0])\n",
    "print(e[-1])"
   ]
  },
  {
   "cell_type": "code",
   "execution_count": 104,
   "id": "74ea3030",
   "metadata": {},
   "outputs": [
    {
     "data": {
      "text/plain": [
       "[2, 3]"
      ]
     },
     "execution_count": 104,
     "metadata": {},
     "output_type": "execute_result"
    }
   ],
   "source": [
    "# list 연산하기\n",
    "a = [1,2,3]\n",
    "b = [3,4,5]\n",
    "a+b\n",
    "a*3\n",
    "len(a*3)\n",
    "str(a[1]) + \"hi\"\n",
    "a[0] = 8\n",
    "a\n",
    "del a[0]\n",
    "a"
   ]
  },
  {
   "cell_type": "code",
   "execution_count": 109,
   "id": "d82db447",
   "metadata": {},
   "outputs": [
    {
     "data": {
      "text/plain": [
       "[1]"
      ]
     },
     "execution_count": 109,
     "metadata": {},
     "output_type": "execute_result"
    }
   ],
   "source": [
    "a = [1,2,3,4,5]\n",
    "a\n",
    "del a[1:]\n",
    "a"
   ]
  },
  {
   "cell_type": "code",
   "execution_count": 119,
   "id": "770be56a",
   "metadata": {},
   "outputs": [
    {
     "name": "stdout",
     "output_type": "stream",
     "text": [
      "[1, 2, 3, 4, 5, 6]\n"
     ]
    }
   ],
   "source": [
    "a = [1,2,3,4,5]\n",
    "a\n",
    "a.append(6)\n",
    "print(a)"
   ]
  },
  {
   "cell_type": "code",
   "execution_count": 127,
   "id": "25b1987d",
   "metadata": {},
   "outputs": [
    {
     "name": "stdout",
     "output_type": "stream",
     "text": [
      "[7, 4, 4, 8, 2]\n"
     ]
    }
   ],
   "source": [
    "# 리스트 정렬 (sort)\n",
    "a = [7, 4, 4, 8, 2]\n",
    "print(a)"
   ]
  },
  {
   "cell_type": "code",
   "execution_count": 132,
   "id": "1c75b95c",
   "metadata": {},
   "outputs": [
    {
     "name": "stdout",
     "output_type": "stream",
     "text": [
      "[2, 4, 4, 7, 8]\n",
      "[7, 4, 4, 8, 2]\n"
     ]
    }
   ],
   "source": [
    "a = [7, 4, 4, 8, 2]\n",
    "a2 = a[:]                  # 원본을 지키기위해 따로 빼놓았음\n",
    "a2.sort()\n",
    "print(a2)\n",
    "print(a)"
   ]
  },
  {
   "cell_type": "code",
   "execution_count": 134,
   "id": "de948c3f",
   "metadata": {},
   "outputs": [
    {
     "name": "stdout",
     "output_type": "stream",
     "text": [
      "[2, 4, 4, 7, 8]\n",
      "[7, 4, 4, 8, 2]\n"
     ]
    }
   ],
   "source": [
    "a = [7, 4, 4, 8, 2]\n",
    "a2 = sorted(a)            # 원본을 보호\n",
    "print(a2)\n",
    "print(a)"
   ]
  },
  {
   "cell_type": "code",
   "execution_count": 137,
   "id": "9151159c",
   "metadata": {},
   "outputs": [
    {
     "name": "stdout",
     "output_type": "stream",
     "text": [
      "[8, 7, 4, 4, 2]\n"
     ]
    }
   ],
   "source": [
    "a = [7, 4, 4, 8, 2]\n",
    "a.sort(reverse = True)\n",
    "print(a)"
   ]
  },
  {
   "cell_type": "code",
   "execution_count": 139,
   "id": "ca4ef98c",
   "metadata": {},
   "outputs": [
    {
     "name": "stdout",
     "output_type": "stream",
     "text": [
      "[8, 7, 4, 4, 2]\n",
      "[7, 4, 4, 8, 2]\n"
     ]
    }
   ],
   "source": [
    "a = [7, 4, 4, 8, 2]\n",
    "a2 = sorted(a, reverse = True)\n",
    "print(a2)\n",
    "print(a)"
   ]
  },
  {
   "cell_type": "code",
   "execution_count": 149,
   "id": "4e64a2b9",
   "metadata": {},
   "outputs": [],
   "source": [
    "a = [1 , 2, 3]"
   ]
  },
  {
   "cell_type": "code",
   "execution_count": 151,
   "id": "77376648",
   "metadata": {},
   "outputs": [
    {
     "data": {
      "text/plain": [
       "2"
      ]
     },
     "execution_count": 151,
     "metadata": {},
     "output_type": "execute_result"
    }
   ],
   "source": [
    "a.pop()"
   ]
  },
  {
   "cell_type": "code",
   "execution_count": 152,
   "id": "394d9951",
   "metadata": {},
   "outputs": [
    {
     "data": {
      "text/plain": [
       "[1]"
      ]
     },
     "execution_count": 152,
     "metadata": {},
     "output_type": "execute_result"
    }
   ],
   "source": [
    "a"
   ]
  },
  {
   "cell_type": "code",
   "execution_count": 153,
   "id": "cb143206",
   "metadata": {},
   "outputs": [
    {
     "name": "stdout",
     "output_type": "stream",
     "text": [
      "[1, 2, 3, 4]\n",
      "[1, 2, 3, 4]\n"
     ]
    }
   ],
   "source": [
    "a1 = [1,2]; a2 = [3,4]\n",
    "new1 = a1+a2 ; print(new1)\n",
    "a1.extend(a2) ; print(a1)"
   ]
  },
  {
   "cell_type": "code",
   "execution_count": 166,
   "id": "3be0a071",
   "metadata": {},
   "outputs": [],
   "source": [
    "my_dic1 = {}"
   ]
  },
  {
   "cell_type": "code",
   "execution_count": 175,
   "id": "5990ad36",
   "metadata": {},
   "outputs": [],
   "source": [
    "my_dic1[\"banana\"]=\"노랗고 달콤한 과일\""
   ]
  },
  {
   "cell_type": "code",
   "execution_count": 168,
   "id": "439116a6",
   "metadata": {},
   "outputs": [],
   "source": [
    "my_dic1[\"strawberry\"]=\"새콤 달콤 빨간 과일\""
   ]
  },
  {
   "cell_type": "code",
   "execution_count": 169,
   "id": "f11c1fdb",
   "metadata": {},
   "outputs": [
    {
     "data": {
      "text/plain": [
       "{'banana': '노랗고 달콤한 과일', 'strawberry': '새콤 달콤 빨간 과일'}"
      ]
     },
     "execution_count": 169,
     "metadata": {},
     "output_type": "execute_result"
    }
   ],
   "source": [
    "my_dic1"
   ]
  },
  {
   "cell_type": "code",
   "execution_count": 173,
   "id": "4b40a534",
   "metadata": {},
   "outputs": [
    {
     "ename": "KeyError",
     "evalue": "'banana'",
     "output_type": "error",
     "traceback": [
      "\u001b[1;31m---------------------------------------------------------------------------\u001b[0m",
      "\u001b[1;31mKeyError\u001b[0m                                  Traceback (most recent call last)",
      "\u001b[1;32m<ipython-input-173-c60c0c92452e>\u001b[0m in \u001b[0;36m<module>\u001b[1;34m\u001b[0m\n\u001b[1;32m----> 1\u001b[1;33m \u001b[1;32mdel\u001b[0m \u001b[0mmy_dic1\u001b[0m\u001b[1;33m[\u001b[0m\u001b[1;34m\"banana\"\u001b[0m\u001b[1;33m]\u001b[0m\u001b[1;33m\u001b[0m\u001b[1;33m\u001b[0m\u001b[0m\n\u001b[0m",
      "\u001b[1;31mKeyError\u001b[0m: 'banana'"
     ]
    }
   ],
   "source": [
    "del my_dic1[\"banana\"]"
   ]
  },
  {
   "cell_type": "code",
   "execution_count": 176,
   "id": "8afaec0d",
   "metadata": {
    "scrolled": true
   },
   "outputs": [
    {
     "data": {
      "text/plain": [
       "{'strawberry': '새콤 달콤 빨간 과일', 'banana': '노랗고 달콤한 과일'}"
      ]
     },
     "execution_count": 176,
     "metadata": {},
     "output_type": "execute_result"
    }
   ],
   "source": [
    "my_dic1"
   ]
  },
  {
   "cell_type": "code",
   "execution_count": 180,
   "id": "4d53b007",
   "metadata": {},
   "outputs": [
    {
     "data": {
      "text/plain": [
       "dict_keys(['strawberry', 'banana'])"
      ]
     },
     "execution_count": 180,
     "metadata": {},
     "output_type": "execute_result"
    }
   ],
   "source": [
    "my_dic1.keys()"
   ]
  },
  {
   "cell_type": "code",
   "execution_count": 182,
   "id": "55fa77fe",
   "metadata": {},
   "outputs": [
    {
     "data": {
      "text/plain": [
       "['strawberry', 'banana', 'strawberry']"
      ]
     },
     "execution_count": 182,
     "metadata": {},
     "output_type": "execute_result"
    }
   ],
   "source": [
    "a = [\"strawberry\", \"banana\", \"strawberry\"]\n",
    "a"
   ]
  },
  {
   "cell_type": "code",
   "execution_count": 184,
   "id": "ddafd068",
   "metadata": {},
   "outputs": [
    {
     "data": {
      "text/plain": [
       "{'strawberry': '새콤 달콤 빨간 과일', 'banana': '노랗고 달콤한 과일2'}"
      ]
     },
     "execution_count": 184,
     "metadata": {},
     "output_type": "execute_result"
    }
   ],
   "source": [
    "my_dic1[\"banana\"]=\"노랗고 달콤한 과일2\"\n",
    "my_dic1"
   ]
  },
  {
   "cell_type": "code",
   "execution_count": null,
   "id": "fe83b91f",
   "metadata": {},
   "outputs": [],
   "source": []
  }
 ],
 "metadata": {
  "kernelspec": {
   "display_name": "Python 3",
   "language": "python",
   "name": "python3"
  },
  "language_info": {
   "codemirror_mode": {
    "name": "ipython",
    "version": 3
   },
   "file_extension": ".py",
   "mimetype": "text/x-python",
   "name": "python",
   "nbconvert_exporter": "python",
   "pygments_lexer": "ipython3",
   "version": "3.8.8"
  }
 },
 "nbformat": 4,
 "nbformat_minor": 5
}
