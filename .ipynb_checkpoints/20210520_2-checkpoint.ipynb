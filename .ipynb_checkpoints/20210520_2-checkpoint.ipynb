{
 "cells": [
  {
   "cell_type": "code",
   "execution_count": 2,
   "id": "60954699",
   "metadata": {},
   "outputs": [],
   "source": [
    "a = 3"
   ]
  },
  {
   "cell_type": "code",
   "execution_count": 3,
   "id": "915be1c4",
   "metadata": {},
   "outputs": [],
   "source": [
    "b = 3"
   ]
  },
  {
   "cell_type": "code",
   "execution_count": 5,
   "id": "d2b572ba",
   "metadata": {},
   "outputs": [
    {
     "data": {
      "text/plain": [
       "27"
      ]
     },
     "execution_count": 5,
     "metadata": {},
     "output_type": "execute_result"
    }
   ],
   "source": [
    "a ** b"
   ]
  },
  {
   "cell_type": "code",
   "execution_count": 6,
   "id": "bf511e95",
   "metadata": {},
   "outputs": [],
   "source": [
    "# 나눗셈 후 나머지를 반환하는 % 연산자"
   ]
  },
  {
   "cell_type": "code",
   "execution_count": 8,
   "id": "f5581b54",
   "metadata": {},
   "outputs": [
    {
     "data": {
      "text/plain": [
       "1"
      ]
     },
     "execution_count": 8,
     "metadata": {},
     "output_type": "execute_result"
    }
   ],
   "source": [
    "7 % 3 "
   ]
  },
  {
   "cell_type": "code",
   "execution_count": 12,
   "id": "a8962661",
   "metadata": {},
   "outputs": [
    {
     "data": {
      "text/plain": [
       "3"
      ]
     },
     "execution_count": 12,
     "metadata": {},
     "output_type": "execute_result"
    }
   ],
   "source": [
    "3 % 7"
   ]
  },
  {
   "cell_type": "code",
   "execution_count": 13,
   "id": "d0ae15e7",
   "metadata": {},
   "outputs": [],
   "source": [
    "# 나눗셈 후 몫을 반환하는 % 연산자"
   ]
  },
  {
   "cell_type": "code",
   "execution_count": 23,
   "id": "e6ccd4b5",
   "metadata": {},
   "outputs": [
    {
     "data": {
      "text/plain": [
       "1.75"
      ]
     },
     "execution_count": 23,
     "metadata": {},
     "output_type": "execute_result"
    }
   ],
   "source": [
    "7 / 4"
   ]
  },
  {
   "cell_type": "code",
   "execution_count": 38,
   "id": "93eb40d9",
   "metadata": {},
   "outputs": [],
   "source": [
    "# 재고 5\n",
    "# 3개마다 1박스 구성 가능\n",
    "# 출하 가능 박스 개수\n",
    "# 남은 재고 개수"
   ]
  },
  {
   "cell_type": "code",
   "execution_count": 62,
   "id": "a847cf23",
   "metadata": {},
   "outputs": [
    {
     "name": "stdout",
     "output_type": "stream",
     "text": [
      "출하 가능 박스:\t1개\n",
      "출하 후 재고:\t2개\n"
     ]
    }
   ],
   "source": [
    "stock_current = 5\n",
    "package_size = 3\n",
    "box_available = stock_current // package_size\n",
    "stock_current = stock_current - box_available * package_size\n",
    "print (\"출하 가능 박스:\\t\" + str(box_available) + \"개\")\n",
    "print ( \"출하 후 재고:\\t\" + str(stock_current) + \"개\")"
   ]
  },
  {
   "cell_type": "code",
   "execution_count": 67,
   "id": "fbb04d40",
   "metadata": {},
   "outputs": [],
   "source": [
    "stock_current = 5\n",
    "package_size = 3"
   ]
  },
  {
   "cell_type": "code",
   "execution_count": 69,
   "id": "6b190d9e",
   "metadata": {},
   "outputs": [
    {
     "name": "stdout",
     "output_type": "stream",
     "text": [
      "1 개\n"
     ]
    }
   ],
   "source": [
    "# 출하 가능 박스 개수\n",
    "    \n",
    "print (stock_current // package_size, \"개\")"
   ]
  },
  {
   "cell_type": "code",
   "execution_count": 70,
   "id": "0d856593",
   "metadata": {},
   "outputs": [
    {
     "name": "stdout",
     "output_type": "stream",
     "text": [
      "2 개\n"
     ]
    }
   ],
   "source": [
    "# 남은 재고 개수\n",
    "\n",
    "print( stock_current % package_size, \"개\")"
   ]
  },
  {
   "cell_type": "code",
   "execution_count": null,
   "id": "a20b7a04",
   "metadata": {},
   "outputs": [],
   "source": []
  }
 ],
 "metadata": {
  "kernelspec": {
   "display_name": "Python 3",
   "language": "python",
   "name": "python3"
  },
  "language_info": {
   "codemirror_mode": {
    "name": "ipython",
    "version": 3
   },
   "file_extension": ".py",
   "mimetype": "text/x-python",
   "name": "python",
   "nbconvert_exporter": "python",
   "pygments_lexer": "ipython3",
   "version": "3.8.8"
  }
 },
 "nbformat": 4,
 "nbformat_minor": 5
}
