{
 "cells": [
  {
   "cell_type": "markdown",
   "id": "278c6b0b",
   "metadata": {},
   "source": [
    "# 텐서플로우 (Tensorflow)\n",
    "\n",
    "<img src=\"https://upload.wikimedia.org/wikipedia/commons/thumb/1/11/TensorFlowLogo.svg/1200px-TensorFlowLogo.svg.png\" width=\"300\">\n",
    "\n",
    "- 가장 널리 쓰이는 딥러닝 프레임워크 중 하나\n",
    "\n",
    "- 구글이 주도적으로 개발하는 플랫폼\n",
    "\n",
    "- 파이썬, C++ API를 기본적으로 제공하고,  \n",
    "  자바스크립트(JavaScript), 자바(Java), 고(Go), 스위프트(Swift) 등 다양한 프로그래밍 언어를 지원\n",
    "\n",
    "- tf.keras를 중심으로 고수준 API 통합 (2.x 버전)\n",
    "\n",
    "- TPU(Tensor Processing Unit) 지원\n",
    "  - TPU는 GPU보다 전력을 적게 소모, 경제적\n",
    "  \n",
    "  - 일반적으로 32비트(float32)로 수행되는 곱셈 연산을 16비트(float16)로 낮춤"
   ]
  },
  {
   "cell_type": "markdown",
   "id": "82e31675",
   "metadata": {},
   "source": [
    "## 텐서플로우 아키텍쳐\n",
    "\n",
    "<img src=\"https://developers.google.com/machine-learning/crash-course/images/TFHierarchy.svg\">\n",
    "\n",
    "<sub>출처: https://developers.google.com/machine-learning/crash-course/first-steps-with-tensorflow/toolkit</sub>"
   ]
  },
  {
   "cell_type": "markdown",
   "id": "6d720b82",
   "metadata": {},
   "source": [
    "## 텐서플로우 시작하기"
   ]
  },
  {
   "cell_type": "code",
   "execution_count": 1,
   "id": "defdd12a",
   "metadata": {},
   "outputs": [],
   "source": [
    "import numpy as np\n",
    "import tensorflow as tf"
   ]
  },
  {
   "cell_type": "code",
   "execution_count": 2,
   "id": "f848ea32",
   "metadata": {},
   "outputs": [
    {
     "name": "stdout",
     "output_type": "stream",
     "text": [
      "2.5.0\n"
     ]
    }
   ],
   "source": [
    "print(tf.__version__)"
   ]
  },
  {
   "cell_type": "markdown",
   "id": "283aa358",
   "metadata": {},
   "source": [
    "### 텐서(Tensor)의 객체\n",
    "- 타입(Type): `string`, `float32`, `float16`, `int32`, `int8` 등\n",
    "\n",
    "- 형상(Shape): 0, 1, 2차원 등의 데이터 차원 \n",
    "\n",
    "- 축(Rank): 차원의 개수"
   ]
  },
  {
   "cell_type": "markdown",
   "id": "ae0f3edf",
   "metadata": {},
   "source": [
    "### 텐서의 차원과 연산"
   ]
  },
  {
   "cell_type": "code",
   "execution_count": 3,
   "id": "65939779",
   "metadata": {},
   "outputs": [
    {
     "name": "stdout",
     "output_type": "stream",
     "text": [
      "tf.Tensor(0, shape=(), dtype=int32)\n",
      "tf.Tensor(2, shape=(), dtype=int32)\n"
     ]
    }
   ],
   "source": [
    "a = tf.constant(2)\n",
    "print(tf.rank(a))\n",
    "print(a)\n",
    "\n",
    "## Rank > 0차원"
   ]
  },
  {
   "cell_type": "code",
   "execution_count": 4,
   "id": "3c51e6b2",
   "metadata": {},
   "outputs": [
    {
     "name": "stdout",
     "output_type": "stream",
     "text": [
      "tf.Tensor(1, shape=(), dtype=int32)\n",
      "tf.Tensor([2 3], shape=(2,), dtype=int32)\n"
     ]
    }
   ],
   "source": [
    "b = tf.constant([2, 3])\n",
    "print(tf.rank(b))\n",
    "print(b)\n",
    "\n",
    "## Rank > 1차원\n",
    "## 1차원 형태에 개수는 두개 == (2, )"
   ]
  },
  {
   "cell_type": "code",
   "execution_count": 5,
   "id": "94eb1141",
   "metadata": {},
   "outputs": [
    {
     "name": "stdout",
     "output_type": "stream",
     "text": [
      "tf.Tensor(2, shape=(), dtype=int32)\n",
      "tf.Tensor(\n",
      "[[2 3]\n",
      " [6 7]], shape=(2, 2), dtype=int32)\n"
     ]
    }
   ],
   "source": [
    "c = tf.constant([[2, 3], [6, 7]])\n",
    "print(tf.rank(c))\n",
    "print(c)\n",
    "\n",
    "## Rank > 2차원\n",
    "## 2차원 형태에 개수는 두개 == (2, 2)"
   ]
  },
  {
   "cell_type": "code",
   "execution_count": 6,
   "id": "7e84db00",
   "metadata": {},
   "outputs": [
    {
     "name": "stdout",
     "output_type": "stream",
     "text": [
      "tf.Tensor(1, shape=(), dtype=int32)\n",
      "tf.Tensor([b'Hello'], shape=(1,), dtype=string)\n"
     ]
    }
   ],
   "source": [
    "# String 형태\n",
    "d = tf.constant(['Hello'])\n",
    "print(tf.rank(d))\n",
    "print(d)\n",
    "\n",
    "## Rank > 1\n",
    "## shape = (1, ), 1차원 tensor에 값 하나만 들어감\n",
    "## dtype = string"
   ]
  },
  {
   "cell_type": "markdown",
   "id": "299edb72",
   "metadata": {},
   "source": [
    "### 난수 생성"
   ]
  },
  {
   "cell_type": "code",
   "execution_count": 7,
   "id": "bdb8980c",
   "metadata": {},
   "outputs": [
    {
     "name": "stdout",
     "output_type": "stream",
     "text": [
      "(1,)\n",
      "tf.Tensor([0.64936984], shape=(1,), dtype=float32)\n"
     ]
    }
   ],
   "source": [
    "rand = tf.random.uniform([1], 0, 1)\n",
    "print(rand.shape)\n",
    "print(rand)\n",
    "\n",
    "## 0과 1사이의 랜덤값 생성 : MinMax(0, 1)"
   ]
  },
  {
   "cell_type": "code",
   "execution_count": 8,
   "id": "a5e6303b",
   "metadata": {},
   "outputs": [
    {
     "name": "stdout",
     "output_type": "stream",
     "text": [
      "(1, 2)\n",
      "tf.Tensor([[ 0.0836739  -0.32723862]], shape=(1, 2), dtype=float32)\n"
     ]
    }
   ],
   "source": [
    "# 정규분포형태의 랜덤값\n",
    "rand2 = tf.random.normal([1, 2], 0, 1)\n",
    "print(rand2.shape)\n",
    "print(rand2)\n",
    "\n",
    "## mean : 0.0  /  standard_deviation : 1.0 \n",
    "## 음수 / 양수 같이 출력될 수 있음"
   ]
  },
  {
   "cell_type": "code",
   "execution_count": 9,
   "id": "6c25ac01",
   "metadata": {},
   "outputs": [
    {
     "name": "stdout",
     "output_type": "stream",
     "text": [
      "(3, 2)\n",
      "tf.Tensor(\n",
      "[[ 0.41668257  1.440238  ]\n",
      " [ 0.13694622  2.1395152 ]\n",
      " [-0.9529364   0.784101  ]], shape=(3, 2), dtype=float32)\n"
     ]
    }
   ],
   "source": [
    "rand3 = tf.random.normal(shape = (3, 2), mean = 0.0, stddev = 1.0)\n",
    "print(rand3.shape)\n",
    "print(rand3)\n",
    "\n",
    "## 3 by 2 => (3, 2)짜리 정규분포를 따르는 난수 생성"
   ]
  },
  {
   "cell_type": "markdown",
   "id": "4c3acd8c",
   "metadata": {},
   "source": [
    "### 즉시 실행 모드 (Eager Mode) 지원\n",
    "- 즉시 실행모드를 통해 텐서플로우를 파이썬처럼 사용할 수 있음\n",
    "\n",
    "- 1.x 버전에서는 '그래프'를 생성하고, 초기화 한 뒤에 세션을 통해 **값을 흐르게 하는 작업**을 진행해야함\n"
   ]
  },
  {
   "cell_type": "code",
   "execution_count": 10,
   "id": "37a4ce21",
   "metadata": {},
   "outputs": [],
   "source": [
    "a = tf.constant(3)\n",
    "b = tf.constant(2)"
   ]
  },
  {
   "cell_type": "code",
   "execution_count": 11,
   "id": "f2e940cb",
   "metadata": {},
   "outputs": [
    {
     "name": "stdout",
     "output_type": "stream",
     "text": [
      "tf.Tensor(5, shape=(), dtype=int32)\n",
      "tf.Tensor(5, shape=(), dtype=int32)\n"
     ]
    }
   ],
   "source": [
    "print(tf.add(a, b))   #  'add' Method\n",
    "print(a + b)          #  'plus' Operator\n",
    "\n",
    "## Numpy와 유사하게 동작"
   ]
  },
  {
   "cell_type": "code",
   "execution_count": 12,
   "id": "1fe2aa76",
   "metadata": {},
   "outputs": [
    {
     "name": "stdout",
     "output_type": "stream",
     "text": [
      "tf.Tensor(1, shape=(), dtype=int32)\n",
      "tf.Tensor(1, shape=(), dtype=int32)\n"
     ]
    }
   ],
   "source": [
    "print(tf.subtract(a, b))\n",
    "print(a - b)"
   ]
  },
  {
   "cell_type": "code",
   "execution_count": 13,
   "id": "a81fe223",
   "metadata": {},
   "outputs": [
    {
     "name": "stdout",
     "output_type": "stream",
     "text": [
      "tf.Tensor(6, shape=(), dtype=int32)\n",
      "tf.Tensor(6, shape=(), dtype=int32)\n"
     ]
    }
   ],
   "source": [
    "print(tf.multiply(a, b))\n",
    "print(a * b)"
   ]
  },
  {
   "cell_type": "markdown",
   "id": "94b4b5bb",
   "metadata": {},
   "source": [
    "### 텐서 플로우 ↔ 넘파이\n",
    "- `numpy()`\n",
    "- `tf.convet_to_tensor()`"
   ]
  },
  {
   "cell_type": "code",
   "execution_count": 14,
   "id": "474b5a15",
   "metadata": {},
   "outputs": [
    {
     "name": "stdout",
     "output_type": "stream",
     "text": [
      "<class 'numpy.int32'>\n"
     ]
    }
   ],
   "source": [
    "c = tf.add(a, b).numpy()\n",
    "print(type(c))\n",
    "\n",
    "## 계산 결과를 numpy형태로 return"
   ]
  },
  {
   "cell_type": "code",
   "execution_count": 15,
   "id": "1f39540e",
   "metadata": {},
   "outputs": [
    {
     "name": "stdout",
     "output_type": "stream",
     "text": [
      "tf.Tensor(25.0, shape=(), dtype=float32)\n",
      "<class 'tensorflow.python.framework.ops.EagerTensor'>\n"
     ]
    }
   ],
   "source": [
    "c_square = np.square(c, dtype = np.float32)\n",
    "c_tensor = tf.convert_to_tensor(c_square)\n",
    "\n",
    "print(c_tensor)\n",
    "print(type(c_tensor))\n",
    "\n",
    "## c_tensro : 'tensorflow.python.framework.ops.EagerTensor' EagerTensor 타입"
   ]
  },
  {
   "cell_type": "markdown",
   "id": "845385c8",
   "metadata": {},
   "source": [
    "### 넘파이처럼 사용하기\n"
   ]
  },
  {
   "cell_type": "code",
   "execution_count": 16,
   "id": "8ef84c58",
   "metadata": {},
   "outputs": [
    {
     "name": "stdout",
     "output_type": "stream",
     "text": [
      "(2, 3)\n",
      "<dtype: 'float32'>\n"
     ]
    }
   ],
   "source": [
    "t = tf.constant([[1., 2., 3.], [4., 5., 6.,]])\n",
    "\n",
    "print(t.shape)\n",
    "print(t.dtype)\n",
    "\n",
    "## shape (2, 3) / dtype = float32\n",
    "## 실수형태로 넣었기에 자동으로 float32형태로 출력"
   ]
  },
  {
   "cell_type": "code",
   "execution_count": 17,
   "id": "53453727",
   "metadata": {},
   "outputs": [
    {
     "name": "stdout",
     "output_type": "stream",
     "text": [
      "tf.Tensor(\n",
      "[[2. 3.]\n",
      " [5. 6.]], shape=(2, 2), dtype=float32)\n"
     ]
    }
   ],
   "source": [
    "# Slicing\n",
    "\n",
    "print(t[:, 1:])"
   ]
  },
  {
   "cell_type": "code",
   "execution_count": 18,
   "id": "46804fea",
   "metadata": {},
   "outputs": [
    {
     "data": {
      "text/plain": [
       "<tf.Tensor: shape=(2, 1), dtype=float32, numpy=\n",
       "array([[2.],\n",
       "       [5.]], dtype=float32)>"
      ]
     },
     "execution_count": 18,
     "metadata": {},
     "output_type": "execute_result"
    }
   ],
   "source": [
    "t[..., 1, tf.newaxis]"
   ]
  },
  {
   "cell_type": "code",
   "execution_count": 19,
   "id": "7139ef6f",
   "metadata": {},
   "outputs": [
    {
     "data": {
      "text/plain": [
       "<tf.Tensor: shape=(2, 3), dtype=float32, numpy=\n",
       "array([[11., 12., 13.],\n",
       "       [14., 15., 16.]], dtype=float32)>"
      ]
     },
     "execution_count": 19,
     "metadata": {},
     "output_type": "execute_result"
    }
   ],
   "source": [
    "t + 10"
   ]
  },
  {
   "cell_type": "code",
   "execution_count": 20,
   "id": "989b95f9",
   "metadata": {},
   "outputs": [
    {
     "data": {
      "text/plain": [
       "<tf.Tensor: shape=(2, 3), dtype=float32, numpy=\n",
       "array([[ 1.,  4.,  9.],\n",
       "       [16., 25., 36.]], dtype=float32)>"
      ]
     },
     "execution_count": 20,
     "metadata": {},
     "output_type": "execute_result"
    }
   ],
   "source": [
    "tf.square(t)"
   ]
  },
  {
   "cell_type": "code",
   "execution_count": 21,
   "id": "c9748fa6",
   "metadata": {},
   "outputs": [
    {
     "data": {
      "text/plain": [
       "<tf.Tensor: shape=(2, 2), dtype=float32, numpy=\n",
       "array([[14., 32.],\n",
       "       [32., 77.]], dtype=float32)>"
      ]
     },
     "execution_count": 21,
     "metadata": {},
     "output_type": "execute_result"
    }
   ],
   "source": [
    "t @ tf.transpose(t)\n",
    "\n",
    "## 2,3 * 3,2 => 2,2"
   ]
  },
  {
   "cell_type": "markdown",
   "id": "fc4f55d3",
   "metadata": {},
   "source": [
    "### 타입 변환\n",
    "- 텐서의 기본 dtype\n",
    "  - float형 텐서: `float32`\n",
    "  - int형 텐서: `int32`\n",
    "\n",
    "- 연산시 텐서의 타입을 맞춰줘야 함\n",
    "  - `float32` ~ `float32`\n",
    "  - `int32` ~ `int32`\n",
    "  - `flot32` ~ `int32` (x)\n",
    "\n",
    "- 타입변환에는 `tf.cast()` 사용"
   ]
  },
  {
   "cell_type": "code",
   "execution_count": 22,
   "id": "30a5a861",
   "metadata": {},
   "outputs": [
    {
     "name": "stdout",
     "output_type": "stream",
     "text": [
      "tf.Tensor(2, shape=(), dtype=int32)\n",
      "tf.Tensor(2.0, shape=(), dtype=float32)\n"
     ]
    }
   ],
   "source": [
    "a = tf.constant(2)\n",
    "print(a)\n",
    "\n",
    "b = tf.constant(2.)\n",
    "print(b)"
   ]
  },
  {
   "cell_type": "code",
   "execution_count": 23,
   "id": "72366af1",
   "metadata": {},
   "outputs": [],
   "source": [
    "#tf.constant(2.) + tf.constant(40)\n",
    "\n",
    "## 두개의 데이터타입이 다르기때문에 에러값출력"
   ]
  },
  {
   "cell_type": "code",
   "execution_count": 24,
   "id": "dfc81c35",
   "metadata": {},
   "outputs": [],
   "source": [
    "#tf.constant(2.) + tf.constant(30., dtype = tf.float64)\n",
    "\n",
    "## 똑같은 float이라도 타입이 다르면 계산 불가"
   ]
  },
  {
   "cell_type": "code",
   "execution_count": 25,
   "id": "816e208d",
   "metadata": {},
   "outputs": [
    {
     "name": "stdout",
     "output_type": "stream",
     "text": [
      "tf.Tensor(34.0, shape=(), dtype=float32)\n"
     ]
    }
   ],
   "source": [
    "t = tf.constant(30., dtype = tf.float64)\n",
    "t2 = tf.constant(4.)    # float32\n",
    "\n",
    "print(t2 + tf.cast(t, tf.float32))"
   ]
  },
  {
   "cell_type": "markdown",
   "id": "4ffc5a10",
   "metadata": {},
   "source": [
    "### AutoGraph (오토그래프)\n",
    "\n",
    "- Tensorflow가 작업을 좀 더 빠르게 동작하게 하기 위한 방법으로 Graph로 만들어 연산을 진행\n",
    "\n",
    "- `tf.Graph`\n",
    "\n",
    "- 유연성이 있음\n",
    "\n",
    "  - 모바일 애플리케이션, 임베디드 기기, 백엔드 서버와 같이 Python 인터프리터가 없는 환경에서 Tensorflow 사용 가능 "
   ]
  },
  {
   "cell_type": "code",
   "execution_count": 26,
   "id": "6b7cb94e",
   "metadata": {},
   "outputs": [],
   "source": [
    "import timeit"
   ]
  },
  {
   "cell_type": "markdown",
   "id": "2d934cf7",
   "metadata": {},
   "source": [
    "### @tf.function\n",
    "- 자동으로 그래프를 생성(Auto Graph)\n",
    "\n",
    "- 그래프로 변환하여 사용 -> GPU 연산 가능\n",
    "\n",
    "- 파이썬으로 구성된 함수를 텐서플로우의 그래프 형태로 다루고 싶을 때 사용가능\n",
    "\n",
    "\n",
    "- 원본 함수가 필요하다면 `(tf.function).python_function()`"
   ]
  },
  {
   "cell_type": "code",
   "execution_count": 27,
   "id": "e999c047",
   "metadata": {},
   "outputs": [
    {
     "name": "stdout",
     "output_type": "stream",
     "text": [
      "tf.Tensor(-13, shape=(), dtype=int32)\n",
      "tf.Tensor(-13, shape=(), dtype=int32)\n"
     ]
    }
   ],
   "source": [
    "@tf.function\n",
    "def my_function(x):\n",
    "    return x**2 - 10*x + 3\n",
    "\n",
    "print(my_function(2))\n",
    "print(my_function(tf.constant(2)))"
   ]
  },
  {
   "cell_type": "code",
   "execution_count": 28,
   "id": "e7b793fb",
   "metadata": {},
   "outputs": [
    {
     "name": "stdout",
     "output_type": "stream",
     "text": [
      "-13\n",
      "tf.Tensor(-13, shape=(), dtype=int32)\n"
     ]
    }
   ],
   "source": [
    "def my_function_(x):\n",
    "    return x**2 - 10*x + 3\n",
    "\n",
    "print(my_function_(2))\n",
    "print(my_function_(tf.constant(2)))"
   ]
  },
  {
   "cell_type": "code",
   "execution_count": 29,
   "id": "d38dd9b8",
   "metadata": {},
   "outputs": [
    {
     "name": "stdout",
     "output_type": "stream",
     "text": [
      "<tensorflow.python.eager.def_function.Function object at 0x000001E9FEF44760>\n",
      "tf.Tensor(-13, shape=(), dtype=int32)\n"
     ]
    }
   ],
   "source": [
    "tf_my_func = tf.function(my_function_)\n",
    "\n",
    "print(tf_my_func)\n",
    "print(tf_my_func(2))"
   ]
  },
  {
   "cell_type": "code",
   "execution_count": 30,
   "id": "ba1cd564",
   "metadata": {},
   "outputs": [
    {
     "data": {
      "text/plain": [
       "-13"
      ]
     },
     "execution_count": 30,
     "metadata": {},
     "output_type": "execute_result"
    }
   ],
   "source": [
    "tf_my_func.python_function(2)"
   ]
  },
  {
   "cell_type": "code",
   "execution_count": 31,
   "id": "312e3ad4",
   "metadata": {},
   "outputs": [
    {
     "data": {
      "text/plain": [
       "array([[12.]], dtype=float32)"
      ]
     },
     "execution_count": 31,
     "metadata": {},
     "output_type": "execute_result"
    }
   ],
   "source": [
    "def function_to_get_faster(x, y, b):\n",
    "    x = tf.matmul(x, y)\n",
    "    x = x + b\n",
    "    return x\n",
    "\n",
    "a_function_that_uses_a_graph = tf.function(function_to_get_faster)\n",
    "\n",
    "# 다양한 tensor 삽입 후, 결과\n",
    "x1 = tf.constant([[1.0, 2.0]])\n",
    "y1 = tf.constant([[2.0], [3.0]])\n",
    "b1 = tf.constant(4.0)\n",
    "\n",
    "a_function_that_uses_a_graph(x1, y1, b1).numpy()"
   ]
  },
  {
   "cell_type": "code",
   "execution_count": 32,
   "id": "08da1913",
   "metadata": {},
   "outputs": [
    {
     "data": {
      "text/plain": [
       "array([[12.]], dtype=float32)"
      ]
     },
     "execution_count": 32,
     "metadata": {},
     "output_type": "execute_result"
    }
   ],
   "source": [
    "# python함수와 tensorlor함수를 혼합하여 사용 가능\n",
    "def inner_function(x, y, b):\n",
    "    x = tf.matmul(x, y)\n",
    "    x = x + b\n",
    "    return x\n",
    "\n",
    "@tf.function\n",
    "def outer_function(x):\n",
    "    y = tf.constant([[2.0], [3.0]])\n",
    "    b = tf.constant(4.0)\n",
    "    return inner_function(x, y, b)\n",
    "\n",
    "outer_function(tf.constant([[1.0, 2.0]])).numpy()"
   ]
  },
  {
   "cell_type": "markdown",
   "id": "e16f8c45",
   "metadata": {},
   "source": [
    "텐서플로우가 `tf.function`으로 변환한 코드"
   ]
  },
  {
   "cell_type": "code",
   "execution_count": 33,
   "id": "334d933a",
   "metadata": {},
   "outputs": [
    {
     "name": "stdout",
     "output_type": "stream",
     "text": [
      "def tf__my_function(x):\n",
      "    with ag__.FunctionScope('my_function', 'fscope', ag__.ConversionOptions(recursive=True, user_requested=True, optional_features=(), internal_convert_user_code=True)) as fscope:\n",
      "        do_return = False\n",
      "        retval_ = ag__.UndefinedReturnValue()\n",
      "        try:\n",
      "            do_return = True\n",
      "            retval_ = (((ag__.ld(x) ** 2) - (10 * ag__.ld(x))) + 3)\n",
      "        except:\n",
      "            do_return = False\n",
      "            raise\n",
      "        return fscope.ret(retval_, do_return)\n",
      "\n",
      "def tf__my_function_(x):\n",
      "    with ag__.FunctionScope('my_function_', 'fscope', ag__.ConversionOptions(recursive=True, user_requested=True, optional_features=(), internal_convert_user_code=True)) as fscope:\n",
      "        do_return = False\n",
      "        retval_ = ag__.UndefinedReturnValue()\n",
      "        try:\n",
      "            do_return = True\n",
      "            retval_ = (((ag__.ld(x) ** 2) - (10 * ag__.ld(x))) + 3)\n",
      "        except:\n",
      "            do_return = False\n",
      "            raise\n",
      "        return fscope.ret(retval_, do_return)\n",
      "\n",
      "def tf__outer_function(x):\n",
      "    with ag__.FunctionScope('outer_function', 'fscope', ag__.ConversionOptions(recursive=True, user_requested=True, optional_features=(), internal_convert_user_code=True)) as fscope:\n",
      "        do_return = False\n",
      "        retval_ = ag__.UndefinedReturnValue()\n",
      "        y = ag__.converted_call(ag__.ld(tf).constant, ([[2.0], [3.0]],), None, fscope)\n",
      "        b = ag__.converted_call(ag__.ld(tf).constant, (4.0,), None, fscope)\n",
      "        try:\n",
      "            do_return = True\n",
      "            retval_ = ag__.converted_call(ag__.ld(inner_function), (ag__.ld(x), ag__.ld(y), ag__.ld(b)), None, fscope)\n",
      "        except:\n",
      "            do_return = False\n",
      "            raise\n",
      "        return fscope.ret(retval_, do_return)\n",
      "\n"
     ]
    }
   ],
   "source": [
    "print(tf.autograph.to_code(my_function.python_function))\n",
    "print(tf.autograph.to_code(tf_my_func.python_function))\n",
    "print(tf.autograph.to_code(outer_function.python_function))"
   ]
  },
  {
   "cell_type": "markdown",
   "id": "59a58314",
   "metadata": {},
   "source": [
    "\n",
    " 속도 향상\n"
   ]
  },
  {
   "cell_type": "code",
   "execution_count": 34,
   "id": "641a47fc",
   "metadata": {},
   "outputs": [
    {
     "name": "stdout",
     "output_type": "stream",
     "text": [
      "Eager time: 9.528736\n",
      "Graph time: 4.4329248\n"
     ]
    }
   ],
   "source": [
    "class SequentialModel(tf.keras.Model):\n",
    "    def __init__(self, **kwargs):\n",
    "        super(SequentialModel, self).__init__(**kwargs)\n",
    "        self.flatten = tf.keras.layers.Flatten(input_shape = (28, 28))\n",
    "        self.dense_1 = tf.keras.layers.Dense(128, activation = 'relu')\n",
    "        self.dropout = tf.keras.layers.Dropout(0.2)\n",
    "        self.dense_2 = tf.keras.layers.Dense(10)\n",
    "        \n",
    "    def call(self, x):\n",
    "        x = self.flatten(x)\n",
    "        x = self.dense_1(x)\n",
    "        x = self.dropout(x)\n",
    "        x = self.dense_2(x)\n",
    "        return x\n",
    "    \n",
    "input_data = tf.random.uniform([60, 28, 28])\n",
    "\n",
    "eager_model = SequentialModel()\n",
    "graph_model = tf.function(eager_model)\n",
    "\n",
    "print(\"Eager time:\", timeit.timeit(lambda: eager_model(input_data), number = 10000))\n",
    "print(\"Graph time:\", timeit.timeit(lambda: graph_model(input_data), number = 10000))"
   ]
  },
  {
   "cell_type": "markdown",
   "id": "702149e6",
   "metadata": {},
   "source": [
    "### 변수 생성\n",
    "\n",
    "- `tf.Variable`\n",
    "- 딥러닝 모델 학습 시, 그래프 연산이 필요할 때 사용"
   ]
  },
  {
   "cell_type": "code",
   "execution_count": 35,
   "id": "04ddd3d8",
   "metadata": {},
   "outputs": [
    {
     "name": "stdout",
     "output_type": "stream",
     "text": [
      "<tf.Variable 'Variable:0' shape=() dtype=float32, numpy=20.0>\n"
     ]
    }
   ],
   "source": [
    "X = tf.Variable(20.0)\n",
    "\n",
    "print(X)"
   ]
  },
  {
   "cell_type": "markdown",
   "id": "f75f3006",
   "metadata": {},
   "source": [
    "### Autograd (자동 미분)\n",
    "\n",
    "- `tf.GradientTape` API를 사용\n",
    "- `tf.Variable` 같은 일부 입력에 대한 기울기 계산\n",
    "  - 기본적으로 한번만 사용됨\n",
    "- 변수가 포함된 연산만 기록"
   ]
  },
  {
   "cell_type": "code",
   "execution_count": 36,
   "id": "1ec8d78c",
   "metadata": {},
   "outputs": [],
   "source": [
    "x = tf.Variable(3.0)\n",
    "\n",
    "with tf.GradientTape() as tape:\n",
    "    y = x**2"
   ]
  },
  {
   "cell_type": "code",
   "execution_count": 37,
   "id": "54417b05",
   "metadata": {},
   "outputs": [
    {
     "data": {
      "text/plain": [
       "6.0"
      ]
     },
     "execution_count": 37,
     "metadata": {},
     "output_type": "execute_result"
    }
   ],
   "source": [
    "dy_dx = tape.gradient(y, x)\n",
    "dy_dx.numpy()"
   ]
  },
  {
   "cell_type": "code",
   "execution_count": 38,
   "id": "5ac49dcc",
   "metadata": {},
   "outputs": [],
   "source": [
    "#x2 = tf.Variable(4)\n",
    "#dy_dx = tape.gradient(y, x2)\n",
    "#dy_dx.numpy()"
   ]
  },
  {
   "cell_type": "code",
   "execution_count": 39,
   "id": "5f3a31af",
   "metadata": {},
   "outputs": [
    {
     "name": "stdout",
     "output_type": "stream",
     "text": [
      "dz/dx: tf.Tensor(4.0, shape=(), dtype=float32)\n",
      "dz/dy: None\n"
     ]
    }
   ],
   "source": [
    "x = tf.Variable(2.0)\n",
    "y = tf.Variable(3.0)\n",
    "\n",
    "with tf.GradientTape() as tape:\n",
    "    y_sq = y**2\n",
    "    z = x**2 + tf.stop_gradient(y_sq)\n",
    "    \n",
    "grad = tape.gradient(z, {'x':x, 'y':y})\n",
    "\n",
    "print('dz/dx:', grad['x'])\n",
    "\n",
    "print('dz/dy:', grad['y'])"
   ]
  },
  {
   "cell_type": "code",
   "execution_count": 40,
   "id": "740cca09",
   "metadata": {},
   "outputs": [],
   "source": [
    "weights = tf.Variable(tf.random.normal((3, 2)), name = 'weights')\n",
    "biases = tf.Variable(tf.zeros(2, dtype = tf.float32), name = 'biases')\n",
    "x = [[1., 2., 3.]]\n",
    "\n",
    "with tf.GradientTape(persistent = True) as tape:\n",
    "    y = x @ weights + biases\n",
    "    loss = tf.reduce_mean(y**2)"
   ]
  },
  {
   "cell_type": "code",
   "execution_count": 41,
   "id": "801ec6a4",
   "metadata": {},
   "outputs": [],
   "source": [
    "[dl_dw, dl_db] = tape.gradient(loss, [weights, biases])"
   ]
  },
  {
   "cell_type": "code",
   "execution_count": 42,
   "id": "d0b25e10",
   "metadata": {},
   "outputs": [
    {
     "name": "stdout",
     "output_type": "stream",
     "text": [
      "(3, 2)\n",
      "(3, 2)\n"
     ]
    }
   ],
   "source": [
    "print(weights.shape)\n",
    "print(dl_dw.shape)"
   ]
  },
  {
   "cell_type": "code",
   "execution_count": 43,
   "id": "c6fb66a8",
   "metadata": {},
   "outputs": [
    {
     "name": "stdout",
     "output_type": "stream",
     "text": [
      "(3, 2)\n",
      "(3, 2)\n"
     ]
    }
   ],
   "source": [
    "wegiths2 = tf.Variable(tf.random.normal((3, 2)), name = 'weights')\n",
    "biases2 = tf.Variable(tf.zeros(2, dtype = tf.float32), name = 'biases')\n",
    "x = [[4., 5., 6.]]\n",
    "\n",
    "[dl_dw2, dl_db2] = tape.gradient(loss, [wegiths2, biases2])\n",
    "\n",
    "print(wegiths2.shape)\n",
    "print(dl_dw.shape)"
   ]
  },
  {
   "cell_type": "code",
   "execution_count": 44,
   "id": "5f6f718a",
   "metadata": {},
   "outputs": [],
   "source": [
    "del tape"
   ]
  },
  {
   "cell_type": "markdown",
   "id": "f892af4e",
   "metadata": {},
   "source": [
    "## 간단한 신경망 구조 "
   ]
  },
  {
   "cell_type": "markdown",
   "id": "535fb597",
   "metadata": {},
   "source": [
    "### 뉴런\n",
    "- 입력 → 연산 → 활성화함수 → 출력"
   ]
  },
  {
   "cell_type": "code",
   "execution_count": 45,
   "id": "22172a8e",
   "metadata": {},
   "outputs": [],
   "source": [
    "def sigmoid(x):\n",
    "    return (1 / (1 + np.exp(-x)))\n",
    "\n",
    "def Neuron(x, W, bias = 0):\n",
    "    z = x * W + bias\n",
    "    return sigmoid(z)"
   ]
  },
  {
   "cell_type": "code",
   "execution_count": 46,
   "id": "44633668",
   "metadata": {},
   "outputs": [
    {
     "name": "stdout",
     "output_type": "stream",
     "text": [
      "x.shape: (1, 2)\n",
      "W.shape: (1, 2)\n",
      "tf.Tensor([[ 0.54372394 -0.7547438 ]], shape=(1, 2), dtype=float32)\n",
      "tf.Tensor([[1.7251914 1.0847273]], shape=(1, 2), dtype=float32)\n",
      "[[0.7187012  0.30604154]]\n"
     ]
    }
   ],
   "source": [
    "x = tf.random.normal((1, 2), 0, 1)    # 차례대로 shape, mean, deviation값 지정\n",
    "W = tf.random.normal((1, 2), 0, 1)\n",
    "\n",
    "print('x.shape:', x.shape)\n",
    "print('W.shape:', W.shape)\n",
    "\n",
    "print(x)\n",
    "print(W)\n",
    "\n",
    "print(Neuron(x, W))"
   ]
  },
  {
   "cell_type": "code",
   "execution_count": 47,
   "id": "8981f5f0",
   "metadata": {},
   "outputs": [
    {
     "name": "stdout",
     "output_type": "stream",
     "text": [
      "x.shape: (2, 1)\n",
      "W.shape: (2, 1)\n",
      "tf.Tensor(\n",
      "[[-1.6627021]\n",
      " [-1.1833912]], shape=(2, 1), dtype=float32)\n",
      "tf.Tensor(\n",
      "[[0.30126315]\n",
      " [0.91184944]], shape=(2, 1), dtype=float32)\n",
      "[[0.37732664]\n",
      " [0.25368118]]\n"
     ]
    }
   ],
   "source": [
    "x = tf.random.normal((2, 1), 0, 1)\n",
    "W = tf.random.normal((2, 1), 0, 1)\n",
    "\n",
    "print('x.shape:', x.shape)\n",
    "print('W.shape:', W.shape)\n",
    "\n",
    "print(x)\n",
    "print(W)\n",
    "\n",
    "print(Neuron(x, W))"
   ]
  },
  {
   "cell_type": "code",
   "execution_count": 48,
   "id": "84457d71",
   "metadata": {},
   "outputs": [
    {
     "name": "stdout",
     "output_type": "stream",
     "text": [
      "x.shape: (1,)\n",
      "W.shape: (2, 1)\n",
      "tf.Tensor([0.4348115], shape=(1,), dtype=float32)\n",
      "tf.Tensor(\n",
      "[[ 1.3318167]\n",
      " [-0.5292436]], shape=(2, 1), dtype=float32)\n",
      "[[0.6408578 ]\n",
      " [0.44272223]]\n"
     ]
    }
   ],
   "source": [
    "x = tf.random.normal((1,), 0, 1)\n",
    "W = tf.random.normal((2, 1), 0, 1)\n",
    "\n",
    "print('x.shape:', x.shape)\n",
    "print('W.shape:', W.shape)\n",
    "\n",
    "print(x)\n",
    "print(W)\n",
    "\n",
    "print(Neuron(x, W))"
   ]
  },
  {
   "cell_type": "markdown",
   "id": "9e335f97",
   "metadata": {},
   "source": [
    "### 퍼셉트론 학습 알고리즘 (가중치 업데이트)\n",
    "\n",
    "## $\\qquad w^{(next step)} = w + \\eta \\ (y - \\tilde{y}) \\ x$\n",
    "\n",
    "- $w \\ $: 가중치\n",
    "\n",
    "- $\\eta \\ $ : 학습률\n",
    "\n",
    "- $y \\ $ : 정답 레이블\n",
    "\n",
    "- $\\tilde{y} \\ $: 예측 레이블\n",
    "\n",
    "- 가중치가 계속해서 업데이트되는 구성\n"
   ]
  },
  {
   "cell_type": "code",
   "execution_count": 49,
   "id": "dd321b71",
   "metadata": {},
   "outputs": [
    {
     "name": "stdout",
     "output_type": "stream",
     "text": [
      "[0.4854105]\n",
      "y: 0\n"
     ]
    }
   ],
   "source": [
    "x = 1\n",
    "y = 0\n",
    "W = tf.random.normal([1], 0, 1)\n",
    "print(Neuron(x, W))\n",
    "print('y:', y)"
   ]
  },
  {
   "cell_type": "code",
   "execution_count": 50,
   "id": "4a208923",
   "metadata": {},
   "outputs": [
    {
     "name": "stdout",
     "output_type": "stream",
     "text": [
      "100\t[-0.10090622]\t[0.10090622]\n",
      "200\t[-0.05200839]\t[0.05200839]\n",
      "300\t[-0.03469219]\t[0.03469219]\n",
      "400\t[-0.02594709]\t[0.02594709]\n",
      "500\t[-0.0206955]\t[0.0206955]\n",
      "600\t[-0.01719978]\t[0.01719978]\n",
      "700\t[-0.01470824]\t[0.01470824]\n",
      "800\t[-0.01284385]\t[0.01284385]\n",
      "900\t[-0.01139688]\t[0.01139688]\n",
      "1000\t[-0.01024163]\t[0.01024163]\n"
     ]
    }
   ],
   "source": [
    "for i in range(1000):\n",
    "    output = Neuron(x, W)\n",
    "    error = y - output\n",
    "    # 가중치(W) 업데이트\n",
    "    W = W + x * 0.1 * error\n",
    "    \n",
    "    if i % 100 == 99:\n",
    "        print(\"{}\\t{}\\t{}\".format(i+1, error, output))"
   ]
  },
  {
   "cell_type": "code",
   "execution_count": 51,
   "id": "5b82683a",
   "metadata": {},
   "outputs": [],
   "source": [
    "def Neuron2(x, W, bias = 0):\n",
    "    z = tf.matmul(x, W, transpose_b = True) + bias\n",
    "    return sigmoid(z)"
   ]
  },
  {
   "cell_type": "code",
   "execution_count": 52,
   "id": "7523d2ac",
   "metadata": {},
   "outputs": [
    {
     "name": "stdout",
     "output_type": "stream",
     "text": [
      "[[0.13414142]]\n",
      "y: tf.Tensor([1.], shape=(1,), dtype=float32)\n"
     ]
    }
   ],
   "source": [
    "x = tf.random.normal((1, 3), 0, 1)\n",
    "y = tf.ones(1)\n",
    "W = tf.random.normal((1, 3), 0, 1)\n",
    "\n",
    "print(Neuron2(x, W))\n",
    "print('y:', y)\n",
    "\n",
    "## (1, 3) matmul (3, 1) ==> (1, 1)\n",
    "## transpose_b = True :  (1, 3) >>> (3, 1)"
   ]
  },
  {
   "cell_type": "code",
   "execution_count": 53,
   "id": "3b1eb83c",
   "metadata": {},
   "outputs": [
    {
     "name": "stdout",
     "output_type": "stream",
     "text": [
      "100\t[[0.06344604]]\t[[0.93655396]]\n",
      "200\t[[0.02929956]]\t[[0.97070044]]\n",
      "300\t[[0.01892948]]\t[[0.9810705]]\n",
      "400\t[[0.01395667]]\t[[0.98604333]]\n",
      "500\t[[0.01104498]]\t[[0.988955]]\n",
      "600\t[[0.00913507]]\t[[0.99086493]]\n",
      "700\t[[0.00778657]]\t[[0.9922134]]\n",
      "800\t[[0.00678414]]\t[[0.99321586]]\n",
      "900\t[[0.0060097]]\t[[0.9939903]]\n",
      "1000\t[[0.00539368]]\t[[0.9946063]]\n"
     ]
    }
   ],
   "source": [
    "for i in range(1000):\n",
    "    output = Neuron2(x, W)\n",
    "    error = y - output\n",
    "    W = W + x * 0.1 * error\n",
    "    \n",
    "    if i % 100 == 99:\n",
    "        print(\"{}\\t{}\\t{}\".format(i+1, error, output))"
   ]
  },
  {
   "cell_type": "code",
   "execution_count": 54,
   "id": "38c1acbe",
   "metadata": {},
   "outputs": [
    {
     "name": "stdout",
     "output_type": "stream",
     "text": [
      "x\t: [[ 0.9199974  1.0988611 -1.4766839]]\n",
      "weights\t: [[1.6282972  0.32078576 2.1893938 ]]\n",
      "bias\t: [[0.]]\n"
     ]
    }
   ],
   "source": [
    "# 가중치 추가해서 만들기\n",
    "x = tf.random.normal((1, 3), 0, 1)\n",
    "weights = tf.random.normal((1, 3), 0, 1)\n",
    "bias = tf.zeros((1, 1))\n",
    "\n",
    "y = tf.ones((1, ))\n",
    "\n",
    "print('x\\t: {}\\nweights\\t: {}\\nbias\\t: {}'.format(x, weights, bias))"
   ]
  },
  {
   "cell_type": "code",
   "execution_count": 55,
   "id": "9ef33e01",
   "metadata": {},
   "outputs": [
    {
     "name": "stdout",
     "output_type": "stream",
     "text": [
      "100\t[[0.02049339]]\t[[0.9795066]]\n",
      "200\t[[0.00994068]]\t[[0.9900593]]\n",
      "300\t[[0.0065518]]\t[[0.9934482]]\n",
      "400\t[[0.00488389]]\t[[0.9951161]]\n",
      "500\t[[0.00389212]]\t[[0.9961079]]\n",
      "600\t[[0.00323474]]\t[[0.99676526]]\n",
      "700\t[[0.00276726]]\t[[0.99723274]]\n",
      "800\t[[0.00241768]]\t[[0.9975823]]\n",
      "900\t[[0.00214654]]\t[[0.99785346]]\n",
      "1000\t[[0.00192994]]\t[[0.99807006]]\n"
     ]
    }
   ],
   "source": [
    "for i in range(1000):\n",
    "    output = Neuron2(x, weights, bias = bias)\n",
    "    error = y - output\n",
    "    weights = weights + x * 0.1 * error\n",
    "    bias = bias + 1 * 0.1 * error\n",
    "    \n",
    "    if i % 100 == 99:\n",
    "        print(\"{}\\t{}\\t{}\".format(i + 1, error, output))"
   ]
  },
  {
   "cell_type": "code",
   "execution_count": 56,
   "id": "48c019c6",
   "metadata": {},
   "outputs": [
    {
     "name": "stdout",
     "output_type": "stream",
     "text": [
      "x\t: [[ 0.9199974  1.0988611 -1.4766839]]\n",
      "weights\t: [[2.969643   1.9229151  0.03640174]]\n",
      "bias\t: [[1.4579921]]\n"
     ]
    }
   ],
   "source": [
    "print('x\\t: {}\\nweights\\t: {}\\nbias\\t: {}'.format(x, weights, bias))\n",
    "\n",
    "## x값은 그대로이지만 weights, bias 값이 다소 변화"
   ]
  },
  {
   "cell_type": "markdown",
   "id": "e592bfb9",
   "metadata": {},
   "source": [
    "### AND Gate"
   ]
  },
  {
   "cell_type": "code",
   "execution_count": 57,
   "id": "5c2d10a2",
   "metadata": {},
   "outputs": [
    {
     "name": "stdout",
     "output_type": "stream",
     "text": [
      "Epoch    0\tError Sum [-2.185412]\n",
      "Epoch  200\tError Sum [-0.11328567]\n",
      "Epoch  400\tError Sum [-0.06674092]\n",
      "Epoch  600\tError Sum [-0.04720414]\n",
      "Epoch  800\tError Sum [-0.03640687]\n",
      "Epoch 1000\tError Sum [-0.02957517]\n",
      "Epoch 1200\tError Sum [-0.0248732]\n",
      "Epoch 1400\tError Sum [-0.02144372]\n",
      "Epoch 1600\tError Sum [-0.01883661]\n",
      "Epoch 1800\tError Sum [-0.01678652]\n",
      "\n",
      "가중치\t: [6.9646688 6.9678183]\n",
      "편향\t: [-11.62612]\n"
     ]
    }
   ],
   "source": [
    "X = np.array([[1, 1], [1,0], [0, 1], [0, 0]])\n",
    "Y = np.array([[1], [0], [0], [0]])\n",
    "\n",
    "W = tf.random.normal([2], 0, 1)\n",
    "b = tf.random.normal([1], 0, 1)\n",
    "b_x = 1\n",
    "\n",
    "for i in range(2000):\n",
    "    error_sum = 0\n",
    "    \n",
    "    for j in range(4):\n",
    "        output = sigmoid(np.sum(X[j] * W) + b_x + b)\n",
    "        error = Y[j][0] - output\n",
    "        W = W + X[j] * 0.1 * error\n",
    "        b = b + b_x * 0.1 * error\n",
    "        error_sum += error\n",
    "        \n",
    "    if i % 200 == 0:\n",
    "        print('Epoch {:4d}\\tError Sum {}'.format(i, error_sum))\n",
    "        \n",
    "print('\\n가중치\\t: {}'.format(W))\n",
    "print('편향\\t: {}'.format(b))"
   ]
  },
  {
   "cell_type": "code",
   "execution_count": 58,
   "id": "3bf80858",
   "metadata": {},
   "outputs": [
    {
     "name": "stdout",
     "output_type": "stream",
     "text": [
      "X: [1 1]  Y: [1]  Output: [0.909403]\n",
      "X: [1 0]  Y: [0]  Output: [0.00936422]\n",
      "X: [0 1]  Y: [0]  Output: [0.00939348]\n",
      "X: [0 0]  Y: [0]  Output: [8.929694e-06]\n"
     ]
    }
   ],
   "source": [
    "# 평가\n",
    "\n",
    "for i in range(4):\n",
    "    print(\"X: {}  Y: {}  Output: {}\".format(X[i], Y[i], sigmoid(np.sum(X[i] * W) + b)))"
   ]
  },
  {
   "cell_type": "markdown",
   "id": "2b0e950b",
   "metadata": {},
   "source": [
    "### OR Gate"
   ]
  },
  {
   "cell_type": "code",
   "execution_count": 59,
   "id": "c50cb025",
   "metadata": {},
   "outputs": [
    {
     "name": "stdout",
     "output_type": "stream",
     "text": [
      "Epoch    0\tError Sum [-0.27680027]\n",
      "Epoch  200\tError Sum [-0.05007015]\n",
      "Epoch  400\tError Sum [-0.0260388]\n",
      "Epoch  600\tError Sum [-0.01747356]\n",
      "Epoch  800\tError Sum [-0.01310132]\n",
      "Epoch 1000\tError Sum [-0.01045955]\n",
      "Epoch 1200\tError Sum [-0.00869506]\n",
      "Epoch 1400\tError Sum [-0.00743596]\n",
      "Epoch 1600\tError Sum [-0.00649172]\n",
      "Epoch 1800\tError Sum [-0.00575951]\n",
      "\n",
      "가중치\t: [8.205966 8.203472]\n",
      "편향\t: [-4.636792]\n"
     ]
    }
   ],
   "source": [
    "X2 = np.array([[1, 1], [1, 0], [0, 1], [0, 0]])\n",
    "Y2 = np.array([[1], [1], [1], [0]])\n",
    "\n",
    "W2 = tf.random.normal([2], 0, 1)\n",
    "b2 = tf.random.normal([1], 0, 1)\n",
    "b_x = 1\n",
    "\n",
    "for i in range(2000):\n",
    "    error_sum = 0\n",
    "    \n",
    "    for j in range(4):\n",
    "        output = sigmoid(np.sum(X2[j] * W2) + b_x + b2)\n",
    "        error = Y2[j][0] - output\n",
    "        W2 = W2 + X2[j] * 0.1 * error\n",
    "        b2 = b2 + b_x * 0.1 * error\n",
    "        error_sum += error\n",
    "        \n",
    "    if i % 200 == 0:\n",
    "        print('Epoch {:4d}\\tError Sum {}'.format(i, error_sum))\n",
    "        \n",
    "print('\\n가중치\\t: {}'.format(W2))\n",
    "print('편향\\t: {}'.format(b2))"
   ]
  },
  {
   "cell_type": "code",
   "execution_count": 60,
   "id": "3a650424",
   "metadata": {},
   "outputs": [
    {
     "name": "stdout",
     "output_type": "stream",
     "text": [
      "X: [1 1]  Y: [1]  Output: [0.99999225]\n",
      "X: [1 0]  Y: [1]  Output: [0.9725931]\n",
      "X: [0 1]  Y: [1]  Output: [0.9725266]\n",
      "X: [0 0]  Y: [0]  Output: [0.00959576]\n"
     ]
    }
   ],
   "source": [
    "for i in range(4):\n",
    "    print(\"X: {}  Y: {}  Output: {}\".format(X2[i], Y2[i], sigmoid(np.sum(X2[i] * W2) + b2)))"
   ]
  },
  {
   "cell_type": "markdown",
   "id": "7cc6dd83",
   "metadata": {},
   "source": [
    "### XOR Gate"
   ]
  },
  {
   "cell_type": "code",
   "execution_count": 61,
   "id": "faf166b1",
   "metadata": {},
   "outputs": [
    {
     "name": "stdout",
     "output_type": "stream",
     "text": [
      "Epoch    0\tError Sum [-0.98473734]\n",
      "Epoch  200\tError Sum [0.00048143]\n",
      "Epoch  400\tError Sum [1.9609928e-05]\n",
      "Epoch  600\tError Sum [5.9604645e-07]\n",
      "Epoch  800\tError Sum [5.364418e-07]\n",
      "Epoch 1000\tError Sum [5.364418e-07]\n",
      "Epoch 1200\tError Sum [5.364418e-07]\n",
      "Epoch 1400\tError Sum [5.364418e-07]\n",
      "Epoch 1600\tError Sum [5.364418e-07]\n",
      "Epoch 1800\tError Sum [5.364418e-07]\n",
      "\n",
      "가중치\t: [5.1282920e-02 1.0803342e-06]\n",
      "편향\t: [-1.0000017]\n"
     ]
    }
   ],
   "source": [
    "X3 = np.array([[1, 1], [1, 0], [0, 1], [0, 0]])\n",
    "Y3 = np.array([[0], [1], [1], [0]])\n",
    "\n",
    "W3 = tf.random.normal([2], 0, 1)\n",
    "b3 = tf.random.normal([1], 0, 1)\n",
    "b_x = 1\n",
    "\n",
    "for i in range(2000):\n",
    "    error_sum = 0\n",
    "    \n",
    "    for j in range(4):\n",
    "        output = sigmoid(np.sum(X3[j] * W3) + b_x + b3)\n",
    "        error = Y3[j][0] - output\n",
    "        W3 = W3 + X3[j] * 0.1 * error\n",
    "        b3 = b3 + b_x * 0.1 * error\n",
    "        error_sum += error\n",
    "        \n",
    "    if i % 200 == 0:\n",
    "        print('Epoch {:4d}\\tError Sum {}'.format(i, error_sum))\n",
    "        \n",
    "print('\\n가중치\\t: {}'.format(W3))\n",
    "print('편향\\t: {}'.format(b3))"
   ]
  },
  {
   "cell_type": "code",
   "execution_count": 62,
   "id": "5998d151",
   "metadata": {},
   "outputs": [
    {
     "name": "stdout",
     "output_type": "stream",
     "text": [
      "X: [1 1]  Y: [0]  Output: [0.2791428]\n",
      "X: [1 0]  Y: [1]  Output: [0.27914256]\n",
      "X: [0 1]  Y: [1]  Output: [0.2689413]\n",
      "X: [0 0]  Y: [0]  Output: [0.2689411]\n"
     ]
    }
   ],
   "source": [
    "for i in range(4):\n",
    "    print(\"X: {}  Y: {}  Output: {}\".format(X3[i], Y3[i], sigmoid(np.sum(X3[i] * W3) + b3)))\n",
    "    \n",
    "## 학습이 잘 안됨. 단일 뉴런으론 xor연산이 잘 안된다"
   ]
  },
  {
   "cell_type": "code",
   "execution_count": 63,
   "id": "41fde308",
   "metadata": {},
   "outputs": [
    {
     "name": "stdout",
     "output_type": "stream",
     "text": [
      "Model: \"sequential\"\n",
      "_________________________________________________________________\n",
      "Layer (type)                 Output Shape              Param #   \n",
      "=================================================================\n",
      "dense_2 (Dense)              (None, 2)                 6         \n",
      "_________________________________________________________________\n",
      "dense_3 (Dense)              (None, 1)                 3         \n",
      "=================================================================\n",
      "Total params: 9\n",
      "Trainable params: 9\n",
      "Non-trainable params: 0\n",
      "_________________________________________________________________\n"
     ]
    }
   ],
   "source": [
    "# 단일이 아닌 여러개의 layer를 넣어서 연산해보자\n",
    "\n",
    "# module\n",
    "from tensorflow.keras import Sequential\n",
    "from tensorflow.keras.layers import Dense\n",
    "\n",
    "np.random.seed(111)\n",
    "\n",
    "X4 = np.array([[1, 1], [1, 0], [0, 1], [0, 0]])\n",
    "Y4 = np.array([[0], [1], [1], [0]])\n",
    "\n",
    "model = Sequential([Dense(units = 2, activation = 'sigmoid', input_shape = (2, )),\n",
    "                   Dense(units = 1, activation = 'sigmoid')])\n",
    "model.compile(optimizer = tf.keras.optimizers.SGD(learning_rate = 0.1), loss = 'mse')\n",
    "model.summary()"
   ]
  },
  {
   "cell_type": "code",
   "execution_count": 64,
   "id": "a585909d",
   "metadata": {},
   "outputs": [],
   "source": [
    "# fitting\n",
    "history = model.fit(X4, Y4, epochs = 3000, batch_size = 1, verbose = 0)"
   ]
  },
  {
   "cell_type": "code",
   "execution_count": 65,
   "id": "f68f2b8e",
   "metadata": {},
   "outputs": [
    {
     "data": {
      "text/plain": [
       "array([[0.16087943],\n",
       "       [0.862123  ],\n",
       "       [0.8614107 ],\n",
       "       [0.12959263]], dtype=float32)"
      ]
     },
     "execution_count": 65,
     "metadata": {},
     "output_type": "execute_result"
    }
   ],
   "source": [
    "model.predict(X4)"
   ]
  },
  {
   "cell_type": "markdown",
   "id": "bf0f1d38",
   "metadata": {},
   "source": [
    "## 시각화 사용"
   ]
  },
  {
   "cell_type": "code",
   "execution_count": 66,
   "id": "928f7c80",
   "metadata": {},
   "outputs": [
    {
     "data": {
      "image/png": "[encoded data removed]",
      "text/plain": [
       "<Figure size 432x288 with 1 Axes>"
      ]
     },
     "metadata": {},
     "output_type": "display_data"
    }
   ],
   "source": [
    "import matplotlib.pyplot as plt\n",
    "plt.style.use('seaborn-white')\n",
    "\n",
    "x = range(50)\n",
    "y = tf.random.normal([50], 0, 1)\n",
    "plt.plot(x, y)\n",
    "plt.show()"
   ]
  },
  {
   "cell_type": "code",
   "execution_count": 67,
   "id": "a8db9323",
   "metadata": {},
   "outputs": [
    {
     "data": {
      "image/png": "[encoded data removed]",
      "text/plain": [
       "<Figure size 432x288 with 1 Axes>"
      ]
     },
     "metadata": {},
     "output_type": "display_data"
    }
   ],
   "source": [
    "x = range(50)\n",
    "y = tf.random.normal([50], 0, 1)\n",
    "plt.plot(x, y, 'ro')\n",
    "plt.show()"
   ]
  },
  {
   "cell_type": "code",
   "execution_count": 68,
   "id": "9a15c682",
   "metadata": {},
   "outputs": [
    {
     "data": {
      "image/png": "[encoded data removed]",
      "text/plain": [
       "<Figure size 432x288 with 1 Axes>"
      ]
     },
     "metadata": {},
     "output_type": "display_data"
    }
   ],
   "source": [
    "x = range(30)\n",
    "y = tf.random.normal([30], 0, 1)\n",
    "plt.plot(x, y, 'g-')\n",
    "plt.show()"
   ]
  },
  {
   "cell_type": "code",
   "execution_count": 69,
   "id": "b28b0bd7",
   "metadata": {},
   "outputs": [
    {
     "data": {
      "image/png": "[encoded data removed]",
      "text/plain": [
       "<Figure size 432x288 with 1 Axes>"
      ]
     },
     "metadata": {},
     "output_type": "display_data"
    }
   ],
   "source": [
    "x = range(30)\n",
    "y = tf.random.normal([30], 0, 1)\n",
    "plt.plot(x, y, 'b--')\n",
    "plt.show()"
   ]
  },
  {
   "cell_type": "code",
   "execution_count": 75,
   "id": "3ae40813",
   "metadata": {},
   "outputs": [
    {
     "data": {
      "image/png": "[encoded data removed]",
      "text/plain": [
       "<Figure size 432x288 with 1 Axes>"
      ]
     },
     "metadata": {},
     "output_type": "display_data"
    }
   ],
   "source": [
    "random_normal = tf.random.normal([1000], 0, 1)\n",
    "plt.hist(random_normal, bins = 100)\n",
    "plt.show()"
   ]
  },
  {
   "cell_type": "markdown",
   "id": "93bb5d2c",
   "metadata": {},
   "source": [
    "### XOR Gate의 'LOSS' 시각화\n"
   ]
  },
  {
   "cell_type": "code",
   "execution_count": 71,
   "id": "25680962",
   "metadata": {},
   "outputs": [
    {
     "data": {
      "image/png": "[encoded data removed]",
      "text/plain": [
       "<Figure size 432x288 with 1 Axes>"
      ]
     },
     "metadata": {},
     "output_type": "display_data"
    }
   ],
   "source": [
    "plt.plot(history.history['loss']);"
   ]
  },
  {
   "cell_type": "code",
   "execution_count": null,
   "id": "b493a955",
   "metadata": {},
   "outputs": [],
   "source": []
  }
 ],
 "metadata": {
  "kernelspec": {
   "display_name": "Python 3 (ipykernel)",
   "language": "python",
   "name": "python3"
  },
  "language_info": {
   "codemirror_mode": {
    "name": "ipython",
    "version": 3
   },
   "file_extension": ".py",
   "mimetype": "text/x-python",
   "name": "python",
   "nbconvert_exporter": "python",
   "pygments_lexer": "ipython3",
   "version": "3.8.11"
  }
 },
 "nbformat": 4,
 "nbformat_minor": 5
}
