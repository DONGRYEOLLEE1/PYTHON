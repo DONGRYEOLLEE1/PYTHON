{
 "cells": [
  {
   "cell_type": "markdown",
   "id": "278c6b0b",
   "metadata": {},
   "source": [
    "# 텐서플로우 (Tensorflow)\n",
    "\n",
    "<img src=\"https://upload.wikimedia.org/wikipedia/commons/thumb/1/11/TensorFlowLogo.svg/1200px-TensorFlowLogo.svg.png\" width=\"300\">\n",
    "\n",
    "- 가장 널리 쓰이는 딥러닝 프레임워크 중 하나\n",
    "\n",
    "- 구글이 주도적으로 개발하는 플랫폼\n",
    "\n",
    "- 파이썬, C++ API를 기본적으로 제공하고,  \n",
    "  자바스크립트(JavaScript), 자바(Java), 고(Go), 스위프트(Swift) 등 다양한 프로그래밍 언어를 지원\n",
    "\n",
    "- tf.keras를 중심으로 고수준 API 통합 (2.x 버전)\n",
    "\n",
    "- TPU(Tensor Processing Unit) 지원\n",
    "  - TPU는 GPU보다 전력을 적게 소모, 경제적\n",
    "  \n",
    "  - 일반적으로 32비트(float32)로 수행되는 곱셈 연산을 16비트(float16)로 낮춤"
   ]
  },
  {
   "cell_type": "markdown",
   "id": "82e31675",
   "metadata": {},
   "source": [
    "## 텐서플로우 아키텍쳐\n",
    "\n",
    "<img src=\"https://developers.google.com/machine-learning/crash-course/images/TFHierarchy.svg\">\n",
    "\n",
    "<sub>출처: https://developers.google.com/machine-learning/crash-course/first-steps-with-tensorflow/toolkit</sub>"
   ]
  },
  {
   "cell_type": "markdown",
   "id": "6d720b82",
   "metadata": {},
   "source": [
    "## 텐서플로우 시작하기"
   ]
  },
  {
   "cell_type": "code",
   "execution_count": 1,
   "id": "defdd12a",
   "metadata": {},
   "outputs": [],
   "source": [
    "import numpy as np\n",
    "import tensorflow as tf"
   ]
  },
  {
   "cell_type": "code",
   "execution_count": 2,
   "id": "f848ea32",
   "metadata": {},
   "outputs": [
    {
     "name": "stdout",
     "output_type": "stream",
     "text": [
      "2.5.0\n"
     ]
    }
   ],
   "source": [
    "print(tf.__version__)"
   ]
  },
  {
   "cell_type": "markdown",
   "id": "283aa358",
   "metadata": {},
   "source": [
    "### 텐서(Tensor)의 객체\n",
    "- 타입(Type): `string`, `float32`, `float16`, `int32`, `int8` 등\n",
    "\n",
    "- 형상(Shape): 0, 1, 2차원 등의 데이터 차원 \n",
    "\n",
    "- 축(Rank): 차원의 개수"
   ]
  },
  {
   "cell_type": "markdown",
   "id": "ae0f3edf",
   "metadata": {},
   "source": [
    "### 텐서의 차원과 연산"
   ]
  },
  {
   "cell_type": "code",
   "execution_count": 3,
   "id": "65939779",
   "metadata": {},
   "outputs": [
    {
     "name": "stdout",
     "output_type": "stream",
     "text": [
      "tf.Tensor(0, shape=(), dtype=int32)\n",
      "tf.Tensor(2, shape=(), dtype=int32)\n"
     ]
    }
   ],
   "source": [
    "a = tf.constant(2)\n",
    "print(tf.rank(a))\n",
    "print(a)\n",
    "\n",
    "## Rank > 0차원"
   ]
  },
  {
   "cell_type": "code",
   "execution_count": 4,
   "id": "3c51e6b2",
   "metadata": {},
   "outputs": [
    {
     "name": "stdout",
     "output_type": "stream",
     "text": [
      "tf.Tensor(1, shape=(), dtype=int32)\n",
      "tf.Tensor([2 3], shape=(2,), dtype=int32)\n"
     ]
    }
   ],
   "source": [
    "b = tf.constant([2, 3])\n",
    "print(tf.rank(b))\n",
    "print(b)\n",
    "\n",
    "## Rank > 1차원\n",
    "## 1차원 형태에 개수는 두개 == (2, )"
   ]
  },
  {
   "cell_type": "code",
   "execution_count": 5,
   "id": "94eb1141",
   "metadata": {},
   "outputs": [
    {
     "name": "stdout",
     "output_type": "stream",
     "text": [
      "tf.Tensor(2, shape=(), dtype=int32)\n",
      "tf.Tensor(\n",
      "[[2 3]\n",
      " [6 7]], shape=(2, 2), dtype=int32)\n"
     ]
    }
   ],
   "source": [
    "c = tf.constant([[2, 3], [6, 7]])\n",
    "print(tf.rank(c))\n",
    "print(c)\n",
    "\n",
    "## Rank > 2차원\n",
    "## 2차원 형태에 개수는 두개 == (2, 2)"
   ]
  },
  {
   "cell_type": "code",
   "execution_count": 6,
   "id": "7e84db00",
   "metadata": {},
   "outputs": [
    {
     "name": "stdout",
     "output_type": "stream",
     "text": [
      "tf.Tensor(1, shape=(), dtype=int32)\n",
      "tf.Tensor([b'Hello'], shape=(1,), dtype=string)\n"
     ]
    }
   ],
   "source": [
    "# String 형태\n",
    "d = tf.constant(['Hello'])\n",
    "print(tf.rank(d))\n",
    "print(d)\n",
    "\n",
    "## Rank > 1\n",
    "## shape = (1, ), 1차원 tensor에 값 하나만 들어감\n",
    "## dtype = string"
   ]
  },
  {
   "cell_type": "markdown",
   "id": "299edb72",
   "metadata": {},
   "source": [
    "### 난수 생성"
   ]
  },
  {
   "cell_type": "code",
   "execution_count": 7,
   "id": "bdb8980c",
   "metadata": {},
   "outputs": [
    {
     "name": "stdout",
     "output_type": "stream",
     "text": [
      "(1,)\n",
      "tf.Tensor([0.49623418], shape=(1,), dtype=float32)\n"
     ]
    }
   ],
   "source": [
    "rand = tf.random.uniform([1], 0, 1)\n",
    "print(rand.shape)\n",
    "print(rand)\n",
    "\n",
    "## 0과 1사이의 랜덤값 생성 : MinMax(0, 1)"
   ]
  },
  {
   "cell_type": "code",
   "execution_count": 8,
   "id": "a5e6303b",
   "metadata": {},
   "outputs": [
    {
     "name": "stdout",
     "output_type": "stream",
     "text": [
      "(1, 2)\n",
      "tf.Tensor([[-1.5069131  1.419272 ]], shape=(1, 2), dtype=float32)\n"
     ]
    }
   ],
   "source": [
    "# 정규분포형태의 랜덤값\n",
    "rand2 = tf.random.normal([1, 2], 0, 1)\n",
    "print(rand2.shape)\n",
    "print(rand2)\n",
    "\n",
    "## mean : 0.0  /  standard_deviation : 1.0 \n",
    "## 음수 / 양수 같이 출력될 수 있음"
   ]
  },
  {
   "cell_type": "code",
   "execution_count": 9,
   "id": "6c25ac01",
   "metadata": {},
   "outputs": [
    {
     "name": "stdout",
     "output_type": "stream",
     "text": [
      "(3, 2)\n",
      "tf.Tensor(\n",
      "[[-1.8202277  -0.43826613]\n",
      " [-1.0462202  -0.34537596]\n",
      " [ 0.13015287  0.6760799 ]], shape=(3, 2), dtype=float32)\n"
     ]
    }
   ],
   "source": [
    "rand3 = tf.random.normal(shape = (3, 2), mean = 0.0, stddev = 1.0)\n",
    "print(rand3.shape)\n",
    "print(rand3)\n",
    "\n",
    "## 3 by 2 => (3, 2)짜리 정규분포를 따르는 난수 생성"
   ]
  },
  {
   "cell_type": "markdown",
   "id": "4c3acd8c",
   "metadata": {},
   "source": [
    "### 즉시 실행 모드 (Eager Mode) 지원\n",
    "- 즉시 실행모드를 통해 텐서플로우를 파이썬처럼 사용할 수 있음\n",
    "\n",
    "- 1.x 버전에서는 '그래프'를 생성하고, 초기화 한 뒤에 세션을 통해 **값을 흐르게 하는 작업**을 진행해야함\n"
   ]
  },
  {
   "cell_type": "code",
   "execution_count": 10,
   "id": "37a4ce21",
   "metadata": {},
   "outputs": [],
   "source": [
    "a = tf.constant(3)\n",
    "b = tf.constant(2)"
   ]
  },
  {
   "cell_type": "code",
   "execution_count": 11,
   "id": "f2e940cb",
   "metadata": {},
   "outputs": [
    {
     "name": "stdout",
     "output_type": "stream",
     "text": [
      "tf.Tensor(5, shape=(), dtype=int32)\n",
      "tf.Tensor(5, shape=(), dtype=int32)\n"
     ]
    }
   ],
   "source": [
    "print(tf.add(a, b))   #  'add' Method\n",
    "print(a + b)          #  'plus' Operator\n",
    "\n",
    "## Numpy와 유사하게 동작"
   ]
  },
  {
   "cell_type": "code",
   "execution_count": 15,
   "id": "1fe2aa76",
   "metadata": {},
   "outputs": [
    {
     "name": "stdout",
     "output_type": "stream",
     "text": [
      "tf.Tensor(1, shape=(), dtype=int32)\n",
      "tf.Tensor(1, shape=(), dtype=int32)\n"
     ]
    }
   ],
   "source": [
    "print(tf.subtract(a, b))\n",
    "print(a - b)"
   ]
  },
  {
   "cell_type": "code",
   "execution_count": 16,
   "id": "a81fe223",
   "metadata": {},
   "outputs": [
    {
     "name": "stdout",
     "output_type": "stream",
     "text": [
      "tf.Tensor(6, shape=(), dtype=int32)\n",
      "tf.Tensor(6, shape=(), dtype=int32)\n"
     ]
    }
   ],
   "source": [
    "print(tf.multiply(a, b))\n",
    "print(a * b)"
   ]
  },
  {
   "cell_type": "markdown",
   "id": "94b4b5bb",
   "metadata": {},
   "source": [
    "### 텐서 플로우 ↔ 넘파이\n",
    "- `numpy()`\n",
    "- `tf.convet_to_tensor()`"
   ]
  },
  {
   "cell_type": "code",
   "execution_count": 17,
   "id": "474b5a15",
   "metadata": {},
   "outputs": [
    {
     "name": "stdout",
     "output_type": "stream",
     "text": [
      "<class 'numpy.int32'>\n"
     ]
    }
   ],
   "source": [
    "c = tf.add(a, b).numpy()\n",
    "print(type(c))\n",
    "\n",
    "## 계산 결과를 numpy형태로 return"
   ]
  },
  {
   "cell_type": "code",
   "execution_count": 18,
   "id": "1f39540e",
   "metadata": {},
   "outputs": [
    {
     "name": "stdout",
     "output_type": "stream",
     "text": [
      "tf.Tensor(25.0, shape=(), dtype=float32)\n",
      "<class 'tensorflow.python.framework.ops.EagerTensor'>\n"
     ]
    }
   ],
   "source": [
    "c_square = np.square(c, dtype = np.float32)\n",
    "c_tensor = tf.convert_to_tensor(c_square)\n",
    "\n",
    "print(c_tensor)\n",
    "print(type(c_tensor))\n",
    "\n",
    "## c_tensro : 'tensorflow.python.framework.ops.EagerTensor' EagerTensor 타입"
   ]
  },
  {
   "cell_type": "markdown",
   "id": "845385c8",
   "metadata": {},
   "source": [
    "### 넘파이처럼 사용하기\n"
   ]
  },
  {
   "cell_type": "code",
   "execution_count": 19,
   "id": "8ef84c58",
   "metadata": {},
   "outputs": [
    {
     "name": "stdout",
     "output_type": "stream",
     "text": [
      "(2, 3)\n",
      "<dtype: 'float32'>\n"
     ]
    }
   ],
   "source": [
    "t = tf.constant([[1., 2., 3.], [4., 5., 6.,]])\n",
    "\n",
    "print(t.shape)\n",
    "print(t.dtype)\n",
    "\n",
    "## shape (2, 3) / dtype = float32\n",
    "## 실수형태로 넣었기에 자동으로 float32형태로 출력"
   ]
  },
  {
   "cell_type": "code",
   "execution_count": 20,
   "id": "53453727",
   "metadata": {},
   "outputs": [
    {
     "name": "stdout",
     "output_type": "stream",
     "text": [
      "tf.Tensor(\n",
      "[[2. 3.]\n",
      " [5. 6.]], shape=(2, 2), dtype=float32)\n"
     ]
    }
   ],
   "source": [
    "# Slicing\n",
    "\n",
    "print(t[:, 1:])"
   ]
  },
  {
   "cell_type": "code",
   "execution_count": 21,
   "id": "46804fea",
   "metadata": {},
   "outputs": [
    {
     "data": {
      "text/plain": [
       "<tf.Tensor: shape=(2, 1), dtype=float32, numpy=\n",
       "array([[2.],\n",
       "       [5.]], dtype=float32)>"
      ]
     },
     "execution_count": 21,
     "metadata": {},
     "output_type": "execute_result"
    }
   ],
   "source": [
    "t[..., 1, tf.newaxis]"
   ]
  },
  {
   "cell_type": "code",
   "execution_count": 22,
   "id": "7139ef6f",
   "metadata": {},
   "outputs": [
    {
     "data": {
      "text/plain": [
       "<tf.Tensor: shape=(2, 3), dtype=float32, numpy=\n",
       "array([[11., 12., 13.],\n",
       "       [14., 15., 16.]], dtype=float32)>"
      ]
     },
     "execution_count": 22,
     "metadata": {},
     "output_type": "execute_result"
    }
   ],
   "source": [
    "t + 10"
   ]
  },
  {
   "cell_type": "code",
   "execution_count": null,
   "id": "989b95f9",
   "metadata": {},
   "outputs": [],
   "source": []
  },
  {
   "cell_type": "code",
   "execution_count": null,
   "id": "c9748fa6",
   "metadata": {},
   "outputs": [],
   "source": []
  },
  {
   "cell_type": "markdown",
   "id": "fc4f55d3",
   "metadata": {},
   "source": [
    "### 타입 변환\n",
    "- 텐서의 기본 dtype\n",
    "  - float형 텐서: `float32`\n",
    "  - int형 텐서: `int32`\n",
    "\n",
    "- 연산시 텐서의 타입을 맞춰줘야 함\n",
    "  - `float32` ~ `float32`\n",
    "  - `int32` ~ `int32`\n",
    "  - `flot32` ~ `int32` (x)\n",
    "\n",
    "- 타입변환에는 `tf.cast()` 사용"
   ]
  },
  {
   "cell_type": "code",
   "execution_count": null,
   "id": "30a5a861",
   "metadata": {},
   "outputs": [],
   "source": []
  },
  {
   "cell_type": "code",
   "execution_count": null,
   "id": "72366af1",
   "metadata": {},
   "outputs": [],
   "source": []
  },
  {
   "cell_type": "code",
   "execution_count": null,
   "id": "dfc81c35",
   "metadata": {},
   "outputs": [],
   "source": []
  },
  {
   "cell_type": "code",
   "execution_count": null,
   "id": "816e208d",
   "metadata": {},
   "outputs": [],
   "source": []
  },
  {
   "cell_type": "markdown",
   "id": "4ffc5a10",
   "metadata": {},
   "source": [
    "### AutoGraph (오토그래프)\n",
    "\n",
    "- Tensorflow가 작업을 좀 더 빠르게 동작하게 하기 위한 방법으로 Graph로 만들어 연산을 진행\n",
    "\n",
    "- `tf.Graph`\n",
    "\n",
    "- 유연성이 있음\n",
    "\n",
    "  - 모바일 애플리케이션, 임베디드 기기, 백엔드 서버와 같이 Python 인터프리터가 없는 환경에서 Tensorflow 사용 가능 "
   ]
  },
  {
   "cell_type": "code",
   "execution_count": null,
   "id": "6b7cb94e",
   "metadata": {},
   "outputs": [],
   "source": []
  },
  {
   "cell_type": "markdown",
   "id": "2d934cf7",
   "metadata": {},
   "source": [
    "### @tf.function\n",
    "- 자동으로 그래프를 생성(Auto Graph)\n",
    "\n",
    "- 그래프로 변환하여 사용 -> GPU 연산 가능\n",
    "\n",
    "- 파이썬으로 구성된 함수를 텐서플로우의 그래프 형태로 다루고 싶을 때 사용가능\n",
    "\n",
    "\n",
    "- 원본 함수가 필요하다면 `(tf.function).python_function()`"
   ]
  },
  {
   "cell_type": "code",
   "execution_count": null,
   "id": "e999c047",
   "metadata": {},
   "outputs": [],
   "source": []
  },
  {
   "cell_type": "code",
   "execution_count": null,
   "id": "e7b793fb",
   "metadata": {},
   "outputs": [],
   "source": []
  },
  {
   "cell_type": "code",
   "execution_count": null,
   "id": "d38dd9b8",
   "metadata": {},
   "outputs": [],
   "source": []
  },
  {
   "cell_type": "code",
   "execution_count": null,
   "id": "ba1cd564",
   "metadata": {},
   "outputs": [],
   "source": []
  },
  {
   "cell_type": "code",
   "execution_count": null,
   "id": "312e3ad4",
   "metadata": {},
   "outputs": [],
   "source": []
  },
  {
   "cell_type": "code",
   "execution_count": null,
   "id": "08da1913",
   "metadata": {},
   "outputs": [],
   "source": []
  },
  {
   "cell_type": "markdown",
   "id": "e16f8c45",
   "metadata": {},
   "source": [
    "텐서플로우가 `tf.function`으로 변환한 코드"
   ]
  },
  {
   "cell_type": "code",
   "execution_count": null,
   "id": "334d933a",
   "metadata": {},
   "outputs": [],
   "source": []
  },
  {
   "cell_type": "markdown",
   "id": "59a58314",
   "metadata": {},
   "source": [
    "\n",
    " 속도 향상\n"
   ]
  },
  {
   "cell_type": "code",
   "execution_count": null,
   "id": "641a47fc",
   "metadata": {},
   "outputs": [],
   "source": []
  },
  {
   "cell_type": "markdown",
   "id": "702149e6",
   "metadata": {},
   "source": [
    "### 변수 생성\n",
    "\n",
    "- `tf.Variable`\n",
    "- 딥러닝 모델 학습 시, 그래프 연산이 필요할 때 사용"
   ]
  },
  {
   "cell_type": "code",
   "execution_count": null,
   "id": "04ddd3d8",
   "metadata": {},
   "outputs": [],
   "source": []
  },
  {
   "cell_type": "markdown",
   "id": "f75f3006",
   "metadata": {},
   "source": [
    "### Autograd (자동 미분)\n",
    "\n",
    "- `tf.GradientTape` API를 사용\n",
    "- `tf.Variable` 같은 일부 입력에 대한 기울기 계산\n",
    "  - 기본적으로 한번만 사용됨\n",
    "- 변수가 포함된 연산만 기록"
   ]
  },
  {
   "cell_type": "code",
   "execution_count": null,
   "id": "1ec8d78c",
   "metadata": {},
   "outputs": [],
   "source": []
  },
  {
   "cell_type": "code",
   "execution_count": null,
   "id": "54417b05",
   "metadata": {},
   "outputs": [],
   "source": []
  },
  {
   "cell_type": "code",
   "execution_count": null,
   "id": "5ac49dcc",
   "metadata": {},
   "outputs": [],
   "source": []
  },
  {
   "cell_type": "code",
   "execution_count": null,
   "id": "5f3a31af",
   "metadata": {},
   "outputs": [],
   "source": []
  },
  {
   "cell_type": "code",
   "execution_count": null,
   "id": "740cca09",
   "metadata": {},
   "outputs": [],
   "source": []
  },
  {
   "cell_type": "code",
   "execution_count": null,
   "id": "801ec6a4",
   "metadata": {},
   "outputs": [],
   "source": []
  },
  {
   "cell_type": "code",
   "execution_count": null,
   "id": "d0b25e10",
   "metadata": {},
   "outputs": [],
   "source": []
  },
  {
   "cell_type": "code",
   "execution_count": null,
   "id": "c6fb66a8",
   "metadata": {},
   "outputs": [],
   "source": []
  },
  {
   "cell_type": "code",
   "execution_count": null,
   "id": "5f6f718a",
   "metadata": {},
   "outputs": [],
   "source": []
  },
  {
   "cell_type": "markdown",
   "id": "f892af4e",
   "metadata": {},
   "source": [
    "## 간단한 신경망 구조 "
   ]
  },
  {
   "cell_type": "markdown",
   "id": "535fb597",
   "metadata": {},
   "source": [
    "### 뉴런\n",
    "- 입력 → 연산 → 활성화함수 → 출력"
   ]
  },
  {
   "cell_type": "code",
   "execution_count": null,
   "id": "22172a8e",
   "metadata": {},
   "outputs": [],
   "source": []
  },
  {
   "cell_type": "code",
   "execution_count": null,
   "id": "44633668",
   "metadata": {},
   "outputs": [],
   "source": []
  },
  {
   "cell_type": "code",
   "execution_count": null,
   "id": "8981f5f0",
   "metadata": {},
   "outputs": [],
   "source": []
  },
  {
   "cell_type": "code",
   "execution_count": null,
   "id": "84457d71",
   "metadata": {},
   "outputs": [],
   "source": []
  },
  {
   "cell_type": "markdown",
   "id": "9e335f97",
   "metadata": {},
   "source": [
    "### 퍼셉트론 학습 알고리즘 (가중치 업데이트)\n",
    "\n",
    "## $\\qquad w^{(next step)} = w + \\eta \\ (y - \\tilde{y}) \\ x$\n",
    "\n",
    "- $w \\ $: 가중치\n",
    "\n",
    "- $\\eta \\ $ : 학습률\n",
    "\n",
    "- $y \\ $ : 정답 레이블\n",
    "\n",
    "- $\\tilde{y} \\ $: 예측 레이블\n"
   ]
  },
  {
   "cell_type": "code",
   "execution_count": null,
   "id": "dd321b71",
   "metadata": {},
   "outputs": [],
   "source": []
  },
  {
   "cell_type": "code",
   "execution_count": null,
   "id": "4a208923",
   "metadata": {},
   "outputs": [],
   "source": []
  },
  {
   "cell_type": "code",
   "execution_count": null,
   "id": "5b82683a",
   "metadata": {},
   "outputs": [],
   "source": []
  },
  {
   "cell_type": "code",
   "execution_count": null,
   "id": "7523d2ac",
   "metadata": {},
   "outputs": [],
   "source": []
  },
  {
   "cell_type": "code",
   "execution_count": null,
   "id": "3b1eb83c",
   "metadata": {},
   "outputs": [],
   "source": []
  },
  {
   "cell_type": "code",
   "execution_count": null,
   "id": "38c1acbe",
   "metadata": {},
   "outputs": [],
   "source": []
  },
  {
   "cell_type": "code",
   "execution_count": null,
   "id": "9ef33e01",
   "metadata": {},
   "outputs": [],
   "source": []
  },
  {
   "cell_type": "code",
   "execution_count": null,
   "id": "48c019c6",
   "metadata": {},
   "outputs": [],
   "source": []
  },
  {
   "cell_type": "markdown",
   "id": "e592bfb9",
   "metadata": {},
   "source": [
    "### AND Gate"
   ]
  },
  {
   "cell_type": "code",
   "execution_count": null,
   "id": "5c2d10a2",
   "metadata": {},
   "outputs": [],
   "source": []
  },
  {
   "cell_type": "code",
   "execution_count": null,
   "id": "3bf80858",
   "metadata": {},
   "outputs": [],
   "source": []
  },
  {
   "cell_type": "markdown",
   "id": "2b0e950b",
   "metadata": {},
   "source": [
    "### OR Gate"
   ]
  },
  {
   "cell_type": "code",
   "execution_count": null,
   "id": "c50cb025",
   "metadata": {},
   "outputs": [],
   "source": []
  },
  {
   "cell_type": "code",
   "execution_count": null,
   "id": "3a650424",
   "metadata": {},
   "outputs": [],
   "source": []
  },
  {
   "cell_type": "markdown",
   "id": "7cc6dd83",
   "metadata": {},
   "source": [
    "### XOR Gate"
   ]
  },
  {
   "cell_type": "code",
   "execution_count": null,
   "id": "faf166b1",
   "metadata": {},
   "outputs": [],
   "source": []
  },
  {
   "cell_type": "code",
   "execution_count": null,
   "id": "5998d151",
   "metadata": {},
   "outputs": [],
   "source": []
  },
  {
   "cell_type": "code",
   "execution_count": null,
   "id": "41fde308",
   "metadata": {},
   "outputs": [],
   "source": []
  },
  {
   "cell_type": "code",
   "execution_count": null,
   "id": "a585909d",
   "metadata": {},
   "outputs": [],
   "source": []
  },
  {
   "cell_type": "code",
   "execution_count": null,
   "id": "f68f2b8e",
   "metadata": {},
   "outputs": [],
   "source": []
  },
  {
   "cell_type": "markdown",
   "id": "bf0f1d38",
   "metadata": {},
   "source": [
    "## 시각화 사용"
   ]
  },
  {
   "cell_type": "code",
   "execution_count": null,
   "id": "928f7c80",
   "metadata": {},
   "outputs": [],
   "source": []
  },
  {
   "cell_type": "code",
   "execution_count": null,
   "id": "a8db9323",
   "metadata": {},
   "outputs": [],
   "source": []
  },
  {
   "cell_type": "code",
   "execution_count": null,
   "id": "9a15c682",
   "metadata": {},
   "outputs": [],
   "source": []
  },
  {
   "cell_type": "code",
   "execution_count": null,
   "id": "b28b0bd7",
   "metadata": {},
   "outputs": [],
   "source": []
  },
  {
   "cell_type": "code",
   "execution_count": null,
   "id": "3ae40813",
   "metadata": {},
   "outputs": [],
   "source": []
  },
  {
   "cell_type": "markdown",
   "id": "93bb5d2c",
   "metadata": {},
   "source": [
    "### XOR Gate의 'LOSS' 시각화\n"
   ]
  },
  {
   "cell_type": "code",
   "execution_count": null,
   "id": "25680962",
   "metadata": {},
   "outputs": [],
   "source": []
  },
  {
   "cell_type": "code",
   "execution_count": null,
   "id": "b493a955",
   "metadata": {},
   "outputs": [],
   "source": []
  }
 ],
 "metadata": {
  "kernelspec": {
   "display_name": "Python 3 (ipykernel)",
   "language": "python",
   "name": "python3"
  },
  "language_info": {
   "codemirror_mode": {
    "name": "ipython",
    "version": 3
   },
   "file_extension": ".py",
   "mimetype": "text/x-python",
   "name": "python",
   "nbconvert_exporter": "python",
   "pygments_lexer": "ipython3",
   "version": "3.8.11"
  }
 },
 "nbformat": 4,
 "nbformat_minor": 5
}
