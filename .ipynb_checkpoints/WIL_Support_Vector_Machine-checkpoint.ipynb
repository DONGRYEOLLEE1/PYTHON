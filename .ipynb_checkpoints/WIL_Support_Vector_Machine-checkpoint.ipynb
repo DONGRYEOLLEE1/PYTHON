{
 "cells": [
  {
   "cell_type": "markdown",
   "id": "44d83901",
   "metadata": {},
   "source": [
    "# 서포트 벡터 머신(Support Vector Machines)\n",
    "* 회귀, 분류, 이상치 탐지 등에 사용되는 지도학습 방법\n",
    "* 클래스 사이의 경계에 위치한 데이터 포인트를 서포트벡터라고 함\n",
    "* 각 서포트벡터가 클래스 사이의 결정경계를 구분하는데 얼마나 중요한지를 학습\n",
    "* 각 서포트벡터 사이의 마진이 가장 큰 방향으로 학습\n",
    "* 서포트벡터까지의 거리와 서포트벡터의 중요도를 기반으로 예측을 수행"
   ]
  },
  {
   "cell_type": "code",
   "execution_count": 2,
   "id": "2b95d779",
   "metadata": {},
   "outputs": [],
   "source": [
    "import multiprocessing\n",
    "import pandas as pd\n",
    "import numpy as np\n",
    "import matplotlib.pyplot as plt\n",
    "plt.style.use(['seaborn-whitegrid'])"
   ]
  },
  {
   "cell_type": "code",
   "execution_count": 5,
   "id": "6c89bb9c",
   "metadata": {},
   "outputs": [],
   "source": [
    "from sklearn.svm import SVR, SVC\n",
    "from sklearn.datasets import load_boston, load_diabetes, load_breast_cancer, load_iris, load_wine\n",
    "from sklearn.pipeline import make_pipeline, Pipeline\n",
    "from sklearn.model_selection import train_test_split, cross_validate, GridSearchCV\n",
    "from sklearn.preprocessing import StandardScaler, MinMaxScaler\n",
    "from sklearn.manifold import TSNE"
   ]
  },
  {
   "cell_type": "markdown",
   "id": "75f79cb1",
   "metadata": {},
   "source": [
    "## SVM을 이용한 회귀 모델과 분류 모델"
   ]
  },
  {
   "cell_type": "markdown",
   "id": "4dc1a86d",
   "metadata": {},
   "source": [
    "### SVM을 사용한 회귀모델(SVR)"
   ]
  },
  {
   "cell_type": "code",
   "execution_count": 7,
   "id": "f8d4a6a9",
   "metadata": {},
   "outputs": [
    {
     "name": "stdout",
     "output_type": "stream",
     "text": [
      "학습 데이터 점수: 0.2177283706374875\n",
      "평가 데이터 점수: 0.13544178468518187\n"
     ]
    }
   ],
   "source": [
    "X, y = load_boston(return_X_y = True)\n",
    "X_train, X_test, y_train, y_test = train_test_split(X, y, random_state = 123)\n",
    "\n",
    "model = SVR()\n",
    "model.fit(X_train, y_train)\n",
    "\n",
    "print('학습 데이터 점수: {}'.format(model.score(X_train, y_train)))\n",
    "print('평가 데이터 점수: {}'.format(model.score(X_test, y_test)))"
   ]
  },
  {
   "cell_type": "markdown",
   "id": "daa597f3",
   "metadata": {},
   "source": [
    "### SVM을 사용한 분류모델(SVC)"
   ]
  },
  {
   "cell_type": "code",
   "execution_count": 8,
   "id": "07ada4f3",
   "metadata": {},
   "outputs": [
    {
     "name": "stdout",
     "output_type": "stream",
     "text": [
      "학습 데이터 점수: 0.9014084507042254\n",
      "평가 데이터 점수: 0.9230769230769231\n"
     ]
    }
   ],
   "source": [
    "X, y = load_breast_cancer(return_X_y = True)\n",
    "X_train, X_test, y_train, y_test = train_test_split(X, y, random_state = 123)\n",
    "\n",
    "model = SVC()\n",
    "model.fit(X_train, y_train)\n",
    "\n",
    "print('학습 데이터 점수: {}'.format(model.score(X_train, y_train)))\n",
    "print('평가 데이터 점수: {}'.format(model.score(X_test, y_test)))"
   ]
  },
  {
   "cell_type": "markdown",
   "id": "3cec63c7",
   "metadata": {},
   "source": [
    "### 커널 기법\n",
    "* 입력 데이터를 고차원 공간에 사상해서 비선형 특징을 학습할 수 있도록 확장하는 방법\n",
    "* scikit-learn에서는 Linear, Polynomial, RBF(Radial Basis Function)등 다양한 커널 기법을 지원"
   ]
  },
  {
   "cell_type": "code",
   "execution_count": 10,
   "id": "32d2a46d",
   "metadata": {},
   "outputs": [
    {
     "name": "stdout",
     "output_type": "stream",
     "text": [
      "Linear SVR 학습 데이터 점수: 0.715506620496448\n",
      "Linear SVR 평가 데이터 점수: 0.6380398541506058\n",
      "polynomial SVR 학습 데이터 점수: 0.2024454261446289\n",
      "polynomial SVR 평가 데이터 점수: 0.133668450367462\n",
      "rbf SVR 학습 데이터 점수: 0.2177283706374875\n",
      "rbf SVR 평가 데이터 점수: 0.13544178468518187\n"
     ]
    }
   ],
   "source": [
    "X, y = load_boston(return_X_y = True)\n",
    "X_train, X_test, y_train, y_test = train_test_split(X, y, random_state = 123)\n",
    "\n",
    "linear_svr = SVR(kernel = 'linear')\n",
    "linear_svr.fit(X_train, y_train)\n",
    "\n",
    "print('Linear SVR 학습 데이터 점수: {}'.format(linear_svr.score(X_train, y_train)))\n",
    "print('Linear SVR 평가 데이터 점수: {}'.format(linear_svr.score(X_test, y_test)))\n",
    "\n",
    "polynomial_svr = SVR(kernel = 'poly')\n",
    "polynomial_svr.fit(X_train, y_train)\n",
    "\n",
    "print('polynomial SVR 학습 데이터 점수: {}'.format(polynomial_svr.score(X_train, y_train)))\n",
    "print('polynomial SVR 평가 데이터 점수: {}'.format(polynomial_svr.score(X_test, y_test)))\n",
    "\n",
    "rbf_svr = SVR(kernel = 'rbf')\n",
    "rbf_svr.fit(X_train, y_train)\n",
    "\n",
    "print('rbf SVR 학습 데이터 점수: {}'.format(rbf_svr.score(X_train, y_train)))\n",
    "print('rbf SVR 평가 데이터 점수: {}'.format(rbf_svr.score(X_test, y_test)))"
   ]
  },
  {
   "cell_type": "code",
   "execution_count": 13,
   "id": "3bd3c202",
   "metadata": {},
   "outputs": [
    {
     "name": "stdout",
     "output_type": "stream",
     "text": [
      "Linear SVC 학습 데이터 점수: 0.960093896713615\n",
      "Linear SVC 평가 데이터 점수: 0.986013986013986\n",
      "Polynomial SVC 학습 데이터 점수: 0.9014084507042254\n",
      "Polynomial SVC 평가 데이터 점수: 0.9230769230769231\n",
      "RBF SVC 학습 데이터 점수: 0.9014084507042254\n",
      "RBF SVC 평가 데이터 점수: 0.9230769230769231\n"
     ]
    }
   ],
   "source": [
    "X, y = load_breast_cancer(return_X_y = True)\n",
    "X_train, X_test, y_train, y_test = train_test_split(X, y, random_state = 123)\n",
    "\n",
    "linear_svc = SVC(kernel = 'linear')\n",
    "linear_svc.fit(X_train, y_train)\n",
    "\n",
    "print('Linear SVC 학습 데이터 점수: {}'.format(linear_svc.score(X_train, y_train)))\n",
    "print('Linear SVC 평가 데이터 점수: {}'.format(linear_svc.score(X_test, y_test)))\n",
    "\n",
    "polynomial_svc = SVC(kernel = 'poly')\n",
    "polynomial_svc.fit(X_train, y_train)\n",
    "\n",
    "print('Polynomial SVC 학습 데이터 점수: {}'.format(polynomial_svc.score(X_train, y_train)))\n",
    "print('Polynomial SVC 평가 데이터 점수: {}'.format(polynomial_svc.score(X_test, y_test)))\n",
    "\n",
    "rbf_svc = SVC(kernel = 'rbf')\n",
    "rbf_svc.fit(X_train, y_train)\n",
    "\n",
    "print('RBF SVC 학습 데이터 점수: {}'.format(rbf_svc.score(X_train, y_train)))\n",
    "print('RBF SVC 평가 데이터 점수: {}'.format(rbf_svc.score(X_test, y_test)))"
   ]
  },
  {
   "cell_type": "markdown",
   "id": "c89b23fb",
   "metadata": {},
   "source": [
    "### 매개변수 튜닝\n",
    "    * SVM은 사용하는 커널에 따라 다양한 매개변수 설정 가능\n",
    "    * 매개변수를 변경하면서 성능변화를 관찰"
   ]
  },
  {
   "cell_type": "code",
   "execution_count": 14,
   "id": "64de850e",
   "metadata": {},
   "outputs": [],
   "source": [
    "X, y = load_breast_cancer(return_X_y = True)\n",
    "X_train, X_test, y_train, y_test = train_test_split(X, y, random_state = 123)"
   ]
  },
  {
   "cell_type": "code",
   "execution_count": 15,
   "id": "9df0696f",
   "metadata": {},
   "outputs": [
    {
     "name": "stdout",
     "output_type": "stream",
     "text": [
      "kernel = poly, degree =2, C = 0.1, gamma = auto\n",
      "Polynomial SVC 학습 데이터 점수: 0.9835680751173709\n",
      "Polynomial SVC 평가 데이터 점수: 0.993006993006993\n"
     ]
    }
   ],
   "source": [
    "polynomial_svc = SVC(kernel = 'poly', degree = 2, gamma = 'auto', C = 0.1)\n",
    "polynomial_svc.fit(X_train, y_train)\n",
    "\n",
    "print('kernel = poly, degree ={}, C = {}, gamma = {}'.format(2, 0.1, 'auto'))\n",
    "print('Polynomial SVC 학습 데이터 점수: {}'.format(polynomial_svc.score(X_train, y_train)))\n",
    "print('Polynomial SVC 평가 데이터 점수: {}'.format(polynomial_svc.score(X_test, y_test)))"
   ]
  },
  {
   "cell_type": "code",
   "execution_count": 19,
   "id": "af3dfc3e",
   "metadata": {},
   "outputs": [
    {
     "name": "stdout",
     "output_type": "stream",
     "text": [
      "kernel = rbf, C = 2.0, gamma = scale\n",
      "RBF SVC 학습 데이터 점수: 0.9061032863849765\n",
      "RBF SVC 평가 데이터 점수: 0.9370629370629371\n"
     ]
    }
   ],
   "source": [
    "rbf_svc = SVC(kernel = 'rbf', C = 1.5, gamma = 'scale')\n",
    "rbf_svc.fit(X_train, y_train)\n",
    "\n",
    "print('kernel = rbf, C = {}, gamma = {}'.format(2.0, 'scale'))\n",
    "print('RBF SVC 학습 데이터 점수: {}'.format(rbf_svc.score(X_train, y_train)))\n",
    "print('RBF SVC 평가 데이터 점수: {}'.format(rbf_svc.score(X_test, y_test)))"
   ]
  },
  {
   "cell_type": "markdown",
   "id": "87f3f07d",
   "metadata": {},
   "source": [
    "## 데이터 전처리\n",
    "    * SVM은 입력 데이터가 정규화되어야 좋은 성능을 보임\n",
    "    * 주로 모든 특성 값을 [0,1] 범위로 맞추는 방법을 사용\n",
    "    * scikit-learn의 StandardScaler 또는 MinMaxScaler를 사용해 정규화"
   ]
  },
  {
   "cell_type": "code",
   "execution_count": 20,
   "id": "e82e9d2f",
   "metadata": {},
   "outputs": [],
   "source": [
    "X, y = load_breast_cancer(return_X_y = True)\n",
    "X_train, X_test, y_train, y_test = train_test_split(X, y, random_state = 123)"
   ]
  },
  {
   "cell_type": "code",
   "execution_count": 21,
   "id": "e595d06b",
   "metadata": {},
   "outputs": [
    {
     "name": "stdout",
     "output_type": "stream",
     "text": [
      "SVC 학습 데이터 점수: 0.9014084507042254\n",
      "SVC 평가 데이터 점수: 0.9230769230769231\n"
     ]
    }
   ],
   "source": [
    "model = SVC().fit(X_train, y_train)\n",
    "\n",
    "print('SVC 학습 데이터 점수: {}'.format(model.score(X_train, y_train)))\n",
    "print('SVC 평가 데이터 점수: {}'.format(model.score(X_test, y_test)))"
   ]
  },
  {
   "cell_type": "code",
   "execution_count": 22,
   "id": "53b26015",
   "metadata": {},
   "outputs": [],
   "source": [
    "scaler = StandardScaler()\n",
    "X_train = scaler.fit_transform(X_train)\n",
    "X_test = scaler.fit_transform(X_test)"
   ]
  },
  {
   "cell_type": "code",
   "execution_count": 24,
   "id": "86644ed2",
   "metadata": {},
   "outputs": [
    {
     "name": "stdout",
     "output_type": "stream",
     "text": [
      "SVC 학습 데이터 점수: 0.9835680751173709\n",
      "SVC 평가 데이터 점수: 0.986013986013986\n"
     ]
    }
   ],
   "source": [
    "model = SVC().fit(X_train, y_train)\n",
    "\n",
    "print('SVC 학습 데이터 점수: {}'.format(model.score(X_train, y_train)))\n",
    "print('SVC 평가 데이터 점수: {}'.format(model.score(X_test, y_test)))"
   ]
  },
  {
   "cell_type": "code",
   "execution_count": 25,
   "id": "eafe42b5",
   "metadata": {},
   "outputs": [],
   "source": [
    "scaler = MinMaxScaler()\n",
    "X_train = scaler.fit_transform(X_train)\n",
    "X_test = scaler.fit_transform(X_test)"
   ]
  },
  {
   "cell_type": "code",
   "execution_count": 26,
   "id": "22078950",
   "metadata": {},
   "outputs": [
    {
     "name": "stdout",
     "output_type": "stream",
     "text": [
      "SVC 학습 데이터 점수: 0.9812206572769953\n",
      "SVC 평가 데이터 점수: 0.9300699300699301\n"
     ]
    }
   ],
   "source": [
    "model = SVC().fit(X_train, y_train)\n",
    "\n",
    "print('SVC 학습 데이터 점수: {}'.format(model.score(X_train, y_train)))\n",
    "print('SVC 평가 데이터 점수: {}'.format(model.score(X_test, y_test)))"
   ]
  },
  {
   "cell_type": "markdown",
   "id": "c3743adc",
   "metadata": {},
   "source": [
    "## Linear SVR"
   ]
  },
  {
   "cell_type": "markdown",
   "id": "274f1d75",
   "metadata": {},
   "source": [
    "### 보스턴 주택 가격"
   ]
  },
  {
   "cell_type": "code",
   "execution_count": 27,
   "id": "f634f3af",
   "metadata": {},
   "outputs": [],
   "source": [
    "X, y = load_boston(return_X_y = True)\n",
    "X_train, X_test, y_train, y_test = train_test_split(X, y, test_size = .2)"
   ]
  },
  {
   "cell_type": "code",
   "execution_count": 28,
   "id": "9979e9a7",
   "metadata": {},
   "outputs": [],
   "source": [
    "scaler = StandardScaler().fit(X_train)\n",
    "X_train = scaler.fit_transform(X_train)\n",
    "X_test = scaler.fit_transform(X_test)"
   ]
  },
  {
   "cell_type": "code",
   "execution_count": 29,
   "id": "cb5cf96a",
   "metadata": {},
   "outputs": [
    {
     "data": {
      "text/plain": [
       "SVR(kernel='linear')"
      ]
     },
     "execution_count": 29,
     "metadata": {},
     "output_type": "execute_result"
    }
   ],
   "source": [
    "model = SVR(kernel = 'linear')\n",
    "model.fit(X_train, y_train)"
   ]
  },
  {
   "cell_type": "code",
   "execution_count": 30,
   "id": "1a052d6c",
   "metadata": {},
   "outputs": [
    {
     "name": "stdout",
     "output_type": "stream",
     "text": [
      "학습 데이터 점수: 0.7144776454798829\n",
      "평가 데이터 점수: 0.6685284526499633\n"
     ]
    }
   ],
   "source": [
    "print('학습 데이터 점수: {}'.format(model.score(X_train, y_train)))\n",
    "print('평가 데이터 점수: {}'.format(model.score(X_test, y_test)))"
   ]
  },
  {
   "cell_type": "code",
   "execution_count": 31,
   "id": "a47aed5f",
   "metadata": {},
   "outputs": [
    {
     "data": {
      "text/plain": [
       "<matplotlib.collections.PathCollection at 0x26501f076a0>"
      ]
     },
     "execution_count": 31,
     "metadata": {},
     "output_type": "execute_result"
    },
    {
     "data": {
      "image/png": "[encoded data removed]",
      "text/plain": [
       "<Figure size 432x288 with 1 Axes>"
      ]
     },
     "metadata": {},
     "output_type": "display_data"
    }
   ],
   "source": [
    "# 저차원 변화를 한 후, 시각화\n",
    "X_comp = TSNE(n_components = 1).fit_transform(X)\n",
    "plt.scatter(X_comp, y)"
   ]
  },
  {
   "cell_type": "code",
   "execution_count": 32,
   "id": "92153186",
   "metadata": {},
   "outputs": [
    {
     "data": {
      "text/plain": [
       "<matplotlib.collections.PathCollection at 0x26501441910>"
      ]
     },
     "execution_count": 32,
     "metadata": {},
     "output_type": "execute_result"
    },
    {
     "data": {
      "image/png": "[encoded data removed]",
      "text/plain": [
       "<Figure size 432x288 with 1 Axes>"
      ]
     },
     "metadata": {},
     "output_type": "display_data"
    }
   ],
   "source": [
    "model.fit(X_comp, y)\n",
    "predict = model.predict(X_comp)\n",
    "plt.scatter(X_comp, y)\n",
    "plt.scatter(X_comp, predict, c='r')"
   ]
  },
  {
   "cell_type": "code",
   "execution_count": 33,
   "id": "d4a529d2",
   "metadata": {},
   "outputs": [
    {
     "name": "stderr",
     "output_type": "stream",
     "text": [
      "[Parallel(n_jobs=12)]: Using backend LokyBackend with 12 concurrent workers.\n",
      "[Parallel(n_jobs=12)]: Done   5 out of   5 | elapsed:    1.6s finished\n"
     ]
    },
    {
     "data": {
      "text/plain": [
       "{'fit_time': array([0.01296496, 0.0139637 , 0.01296616, 0.01495934, 0.01496124]),\n",
       " 'score_time': array([0.00099826, 0.00099754, 0.00199509, 0.00199485, 0.00299191]),\n",
       " 'test_score': array([0.76908568, 0.72180141, 0.56428426, 0.14083339, 0.07810211])}"
      ]
     },
     "execution_count": 33,
     "metadata": {},
     "output_type": "execute_result"
    }
   ],
   "source": [
    "# pipeline으로 cross-validate 만들기\n",
    "estimator = make_pipeline(StandardScaler(), SVR(kernel = 'linear'))\n",
    "\n",
    "cross_validate(estimator = estimator, \n",
    "               X=X, y=y, \n",
    "               cv=5, \n",
    "               n_jobs = multiprocessing.cpu_count(),\n",
    "              verbose = True)"
   ]
  },
  {
   "cell_type": "code",
   "execution_count": 35,
   "id": "b051353b",
   "metadata": {},
   "outputs": [
    {
     "name": "stdout",
     "output_type": "stream",
     "text": [
      "Fitting 5 folds for each of 18 candidates, totalling 90 fits\n"
     ]
    },
    {
     "data": {
      "text/plain": [
       "GridSearchCV(cv=5,\n",
       "             estimator=Pipeline(steps=[('scaler', StandardScaler()),\n",
       "                                       ('model', SVR(kernel='linear'))]),\n",
       "             n_jobs=12,\n",
       "             param_grid=[{'model__C': [1.0, 0.1, 0.01],\n",
       "                          'model__epsilon': [1.0, 0.1, 0.01],\n",
       "                          'model__gamma': ['scale', 'auto']}],\n",
       "             verbose=True)"
      ]
     },
     "execution_count": 35,
     "metadata": {},
     "output_type": "execute_result"
    }
   ],
   "source": [
    "pipe = Pipeline([('scaler', StandardScaler()),\n",
    "                ('model', SVR(kernel = 'linear'))])\n",
    "\n",
    "param_grid = [{'model__gamma': ['scale', 'auto'],\n",
    "              'model__C': [1.0, 0.1, 0.01],\n",
    "              'model__epsilon': [1.0, 0.1, 0.01]}]\n",
    "\n",
    "gs = GridSearchCV(estimator = pipe, param_grid=param_grid, \n",
    "                 n_jobs = multiprocessing.cpu_count(),\n",
    "                 cv = 5,\n",
    "                 verbose = True)\n",
    "\n",
    "gs.fit(X, y)"
   ]
  },
  {
   "cell_type": "code",
   "execution_count": 39,
   "id": "acdddd52",
   "metadata": {},
   "outputs": [
    {
     "name": "stdout",
     "output_type": "stream",
     "text": [
      "Pipeline(steps=[('scaler', StandardScaler()),\n",
      "                ('model', SVR(C=0.1, epsilon=1.0, kernel='linear'))])\n",
      "0.49854468515517\n"
     ]
    }
   ],
   "source": [
    "print(gs.best_estimator_)\n",
    "print(gs.best_score_)"
   ]
  },
  {
   "cell_type": "markdown",
   "id": "6b1cee81",
   "metadata": {},
   "source": [
    "### 당뇨병"
   ]
  },
  {
   "cell_type": "code",
   "execution_count": 40,
   "id": "cd4c23e2",
   "metadata": {},
   "outputs": [],
   "source": [
    "X, y = load_diabetes(return_X_y = True)\n",
    "X_train, X_test, y_train, y_test = train_test_split(X, y, test_size = .2)"
   ]
  },
  {
   "cell_type": "code",
   "execution_count": 41,
   "id": "067c128e",
   "metadata": {},
   "outputs": [],
   "source": [
    "scaler = StandardScaler().fit(X_train)\n",
    "X_train = scaler.fit_transform(X_train)\n",
    "X_test = scaler.fit_transform(X_test)"
   ]
  },
  {
   "cell_type": "code",
   "execution_count": 42,
   "id": "a1f4de79",
   "metadata": {},
   "outputs": [
    {
     "data": {
      "text/plain": [
       "SVR(kernel='linear')"
      ]
     },
     "execution_count": 42,
     "metadata": {},
     "output_type": "execute_result"
    }
   ],
   "source": [
    "model = SVR(kernel = 'linear')\n",
    "model.fit(X_train, y_train)"
   ]
  },
  {
   "cell_type": "code",
   "execution_count": 43,
   "id": "72e75989",
   "metadata": {},
   "outputs": [
    {
     "name": "stdout",
     "output_type": "stream",
     "text": [
      "학습 데이터 점수: 0.4854557187398262\n",
      "평가 데이터 점수: 0.5234185936933817\n"
     ]
    }
   ],
   "source": [
    "print('학습 데이터 점수: {}'.format(model.score(X_train, y_train)))\n",
    "print('평가 데이터 점수: {}'.format(model.score(X_test, y_test)))"
   ]
  },
  {
   "cell_type": "code",
   "execution_count": 44,
   "id": "bb9a02df",
   "metadata": {},
   "outputs": [
    {
     "data": {
      "text/plain": [
       "<matplotlib.collections.PathCollection at 0x265014ff160>"
      ]
     },
     "execution_count": 44,
     "metadata": {},
     "output_type": "execute_result"
    },
    {
     "data": {
      "image/png": "[encoded data removed]",
      "text/plain": [
       "<Figure size 432x288 with 1 Axes>"
      ]
     },
     "metadata": {},
     "output_type": "display_data"
    }
   ],
   "source": [
    "X_comp = TSNE(n_components = 1).fit_transform(X)\n",
    "plt.scatter(X_comp, y)"
   ]
  },
  {
   "cell_type": "code",
   "execution_count": 45,
   "id": "49551e70",
   "metadata": {},
   "outputs": [
    {
     "data": {
      "text/plain": [
       "<matplotlib.collections.PathCollection at 0x265014a37f0>"
      ]
     },
     "execution_count": 45,
     "metadata": {},
     "output_type": "execute_result"
    },
    {
     "data": {
      "image/png": "[encoded data removed]",
      "text/plain": [
       "<Figure size 432x288 with 1 Axes>"
      ]
     },
     "metadata": {},
     "output_type": "display_data"
    }
   ],
   "source": [
    "model.fit(X_comp, y)\n",
    "predict = model.predict(X_comp)\n",
    "plt.scatter(X_comp, y)\n",
    "plt.scatter(X_comp, predict, c='r')"
   ]
  },
  {
   "cell_type": "code",
   "execution_count": 46,
   "id": "ebc9cd26",
   "metadata": {},
   "outputs": [
    {
     "name": "stderr",
     "output_type": "stream",
     "text": [
      "[Parallel(n_jobs=12)]: Using backend LokyBackend with 12 concurrent workers.\n",
      "[Parallel(n_jobs=12)]: Done   5 out of   5 | elapsed:    1.6s finished\n"
     ]
    },
    {
     "data": {
      "text/plain": [
       "{'fit_time': array([0.00861549, 0.00404406, 0.00404406, 0.00667548, 0.0075624 ]),\n",
       " 'score_time': array([0.00199962, 0.        , 0.        , 0.00105309, 0.00205278]),\n",
       " 'test_score': array([0.43037242, 0.51653341, 0.48275332, 0.42247202, 0.53076481])}"
      ]
     },
     "execution_count": 46,
     "metadata": {},
     "output_type": "execute_result"
    }
   ],
   "source": [
    "estimator = make_pipeline(StandardScaler(), SVR(kernel = 'linear'))\n",
    "\n",
    "cross_validate(estimator = estimator, \n",
    "               X=X, y=y, \n",
    "               cv=5, \n",
    "               n_jobs = multiprocessing.cpu_count(),\n",
    "              verbose = True)"
   ]
  },
  {
   "cell_type": "code",
   "execution_count": 47,
   "id": "b0e75ae5",
   "metadata": {},
   "outputs": [
    {
     "name": "stdout",
     "output_type": "stream",
     "text": [
      "Fitting 5 folds for each of 18 candidates, totalling 90 fits\n"
     ]
    },
    {
     "data": {
      "text/plain": [
       "GridSearchCV(cv=5,\n",
       "             estimator=Pipeline(steps=[('scaler', StandardScaler()),\n",
       "                                       ('model', SVR(kernel='linear'))]),\n",
       "             n_jobs=12,\n",
       "             param_grid=[{'model__C': [1.0, 0.1, 0.01],\n",
       "                          'model__epsilon': [1.0, 0.1, 0.01],\n",
       "                          'model__gamma': ['scale', 'auto']}],\n",
       "             verbose=True)"
      ]
     },
     "execution_count": 47,
     "metadata": {},
     "output_type": "execute_result"
    }
   ],
   "source": [
    "pipe = Pipeline([('scaler', StandardScaler()),\n",
    "                ('model', SVR(kernel = 'linear'))])\n",
    "\n",
    "param_grid = [{'model__gamma': ['scale', 'auto'],\n",
    "              'model__C': [1.0, 0.1, 0.01],\n",
    "              'model__epsilon': [1.0, 0.1, 0.01]}]\n",
    "\n",
    "gs = GridSearchCV(estimator = pipe, param_grid=param_grid, \n",
    "                 n_jobs = multiprocessing.cpu_count(),\n",
    "                 cv = 5,\n",
    "                 verbose = True)\n",
    "\n",
    "gs.fit(X, y)"
   ]
  },
  {
   "cell_type": "code",
   "execution_count": 48,
   "id": "7bf7a4bd",
   "metadata": {},
   "outputs": [
    {
     "name": "stdout",
     "output_type": "stream",
     "text": [
      "Pipeline(steps=[('scaler', StandardScaler()),\n",
      "                ('model', SVR(epsilon=1.0, kernel='linear'))])\n",
      "0.4780769992158147\n"
     ]
    }
   ],
   "source": [
    "print(gs.best_estimator_)\n",
    "print(gs.best_score_)"
   ]
  },
  {
   "cell_type": "markdown",
   "id": "b392b93c",
   "metadata": {},
   "source": [
    "## Kernel SVR\n",
    "\n",
    "### 보스턴 주택 가격"
   ]
  },
  {
   "cell_type": "code",
   "execution_count": 49,
   "id": "4c8c14bc",
   "metadata": {},
   "outputs": [],
   "source": [
    "X, y = load_boston(return_X_y = True)\n",
    "X_train, X_test, y_train, y_test = train_test_split(X, y, test_size = .2)"
   ]
  },
  {
   "cell_type": "code",
   "execution_count": 50,
   "id": "74202432",
   "metadata": {},
   "outputs": [],
   "source": [
    "scaler = StandardScaler().fit(X_train)\n",
    "X_train = scaler.fit_transform(X_train)\n",
    "X_test = scaler.fit_transform(X_test)"
   ]
  },
  {
   "cell_type": "code",
   "execution_count": 51,
   "id": "6f1a8957",
   "metadata": {},
   "outputs": [],
   "source": [
    "model = SVR(kernel = 'rbf').fit(X_train, y_train)"
   ]
  },
  {
   "cell_type": "code",
   "execution_count": 52,
   "id": "da808531",
   "metadata": {},
   "outputs": [
    {
     "name": "stdout",
     "output_type": "stream",
     "text": [
      "학습 데이터 점수: 0.6791677938093561\n",
      "평가 데이터 점수: 0.6145292669494022\n"
     ]
    }
   ],
   "source": [
    "print('학습 데이터 점수: {}'.format(model.score(X_train, y_train)))\n",
    "print('평가 데이터 점수: {}'.format(model.score(X_test, y_test)))"
   ]
  },
  {
   "cell_type": "code",
   "execution_count": 53,
   "id": "0fa340e2",
   "metadata": {},
   "outputs": [
    {
     "data": {
      "text/plain": [
       "<matplotlib.collections.PathCollection at 0x26501d283d0>"
      ]
     },
     "execution_count": 53,
     "metadata": {},
     "output_type": "execute_result"
    },
    {
     "data": {
      "image/png": "[encoded data removed]",
      "text/plain": [
       "<Figure size 432x288 with 1 Axes>"
      ]
     },
     "metadata": {},
     "output_type": "display_data"
    }
   ],
   "source": [
    "X_comp = TSNE(n_components = 1).fit_transform(X)\n",
    "plt.scatter(X_comp, y)"
   ]
  },
  {
   "cell_type": "code",
   "execution_count": 54,
   "id": "f8e3acd6",
   "metadata": {},
   "outputs": [
    {
     "data": {
      "text/plain": [
       "<matplotlib.collections.PathCollection at 0x26501eaf1f0>"
      ]
     },
     "execution_count": 54,
     "metadata": {},
     "output_type": "execute_result"
    },
    {
     "data": {
      "image/png": "[encoded data removed]",
      "text/plain": [
       "<Figure size 432x288 with 1 Axes>"
      ]
     },
     "metadata": {},
     "output_type": "display_data"
    }
   ],
   "source": [
    "model.fit(X_comp, y)\n",
    "predict = model.predict(X_comp)\n",
    "plt.scatter(X_comp, y)\n",
    "plt.scatter(X_comp, predict, c='r')"
   ]
  },
  {
   "cell_type": "code",
   "execution_count": 55,
   "id": "f8a1724b",
   "metadata": {},
   "outputs": [
    {
     "name": "stderr",
     "output_type": "stream",
     "text": [
      "[Parallel(n_jobs=12)]: Using backend LokyBackend with 12 concurrent workers.\n",
      "[Parallel(n_jobs=12)]: Done   5 out of   5 | elapsed:    0.1s finished\n"
     ]
    },
    {
     "data": {
      "text/plain": [
       "{'fit_time': array([0.01783705, 0.02243733, 0.02405834, 0.02206326, 0.02314806]),\n",
       " 'score_time': array([0.00901747, 0.01166129, 0.00954366, 0.01234794, 0.01142955]),\n",
       " 'test_score': array([ 0.75781445,  0.50211018,  0.04310107,  0.33851703, -0.75997942])}"
      ]
     },
     "execution_count": 55,
     "metadata": {},
     "output_type": "execute_result"
    }
   ],
   "source": [
    "estimator = make_pipeline(StandardScaler(), SVR(kernel = 'rbf'))\n",
    "\n",
    "cross_validate(estimator = estimator, \n",
    "               X=X, y=y, \n",
    "               cv=5, \n",
    "               n_jobs = multiprocessing.cpu_count(),\n",
    "              verbose = True)"
   ]
  },
  {
   "cell_type": "code",
   "execution_count": null,
   "id": "56a55cb5",
   "metadata": {},
   "outputs": [],
   "source": [
    "pipe = Pipeline([('scaler', StandardScaler()),\n",
    "                ('model', SVR(kernel = 'rbf'))])\n",
    "\n",
    "param_grid = [{'model__gamma': ['scale', 'auto'],\n",
    "              'model__C': [1.0, 0.1, 0.01],\n",
    "              'model__epsilon': [1.0, 0.1, 0.01]}]\n",
    "\n",
    "gs = GridSearchCV(estimator = pipe, \n",
    "                 param_grid=param_grid, \n",
    "                 n_jobs = multiprocessing.cpu_count(),\n",
    "                 cv = 5,\n",
    "                 verbose = True)\n",
    "\n",
    "gs.fit(X, y)"
   ]
  },
  {
   "cell_type": "code",
   "execution_count": null,
   "id": "9f3518ef",
   "metadata": {},
   "outputs": [],
   "source": []
  },
  {
   "cell_type": "code",
   "execution_count": null,
   "id": "66ef8157",
   "metadata": {},
   "outputs": [],
   "source": []
  },
  {
   "cell_type": "code",
   "execution_count": null,
   "id": "7c71b3ed",
   "metadata": {},
   "outputs": [],
   "source": []
  }
 ],
 "metadata": {
  "kernelspec": {
   "display_name": "Python 3",
   "language": "python",
   "name": "python3"
  },
  "language_info": {
   "codemirror_mode": {
    "name": "ipython",
    "version": 3
   },
   "file_extension": ".py",
   "mimetype": "text/x-python",
   "name": "python",
   "nbconvert_exporter": "python",
   "pygments_lexer": "ipython3",
   "version": "3.8.8"
  }
 },
 "nbformat": 4,
 "nbformat_minor": 5
}
