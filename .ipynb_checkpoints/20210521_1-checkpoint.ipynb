{
 "cells": [
  {
   "cell_type": "code",
   "execution_count": 2,
   "id": "1749eab7",
   "metadata": {},
   "outputs": [],
   "source": [
    "a = \"Life is too short, You need Pyhton\""
   ]
  },
  {
   "cell_type": "code",
   "execution_count": 16,
   "id": "1b4da66a",
   "metadata": {},
   "outputs": [
    {
     "data": {
      "text/plain": [
       "'o'"
      ]
     },
     "execution_count": 16,
     "metadata": {},
     "output_type": "execute_result"
    }
   ],
   "source": [
    "a[-2]                # 뒷자리부터 셀 수 있는 전화번호 검색할때 용이함"
   ]
  },
  {
   "cell_type": "code",
   "execution_count": 10,
   "id": "dea5b2c4",
   "metadata": {},
   "outputs": [
    {
     "data": {
      "text/plain": [
       "'Life'"
      ]
     },
     "execution_count": 10,
     "metadata": {},
     "output_type": "execute_result"
    }
   ],
   "source": [
    "a[0:4]"
   ]
  },
  {
   "cell_type": "code",
   "execution_count": 11,
   "id": "cb76e111",
   "metadata": {},
   "outputs": [
    {
     "data": {
      "text/plain": [
       "'Lif'"
      ]
     },
     "execution_count": 11,
     "metadata": {},
     "output_type": "execute_result"
    }
   ],
   "source": [
    "a[0:3]                # 끝번호에 해당하는 문자는 포함 x, 즉 0부터 시작해서 3에서 끊는다 => [0:3]"
   ]
  },
  {
   "cell_type": "code",
   "execution_count": 12,
   "id": "e4ee7b05",
   "metadata": {},
   "outputs": [
    {
     "data": {
      "text/plain": [
       "'Life'"
      ]
     },
     "execution_count": 12,
     "metadata": {},
     "output_type": "execute_result"
    }
   ],
   "source": [
    "a[:4]"
   ]
  },
  {
   "cell_type": "code",
   "execution_count": 22,
   "id": "459c5aa6",
   "metadata": {},
   "outputs": [
    {
     "data": {
      "text/plain": [
       "'Life is to'"
      ]
     },
     "execution_count": 22,
     "metadata": {},
     "output_type": "execute_result"
    }
   ],
   "source": [
    "a[0:10]"
   ]
  },
  {
   "cell_type": "code",
   "execution_count": 25,
   "id": "c4fe8477",
   "metadata": {},
   "outputs": [
    {
     "data": {
      "text/plain": [
       "'Life'"
      ]
     },
     "execution_count": 25,
     "metadata": {},
     "output_type": "execute_result"
    }
   ],
   "source": [
    "a[0:4]"
   ]
  },
  {
   "cell_type": "code",
   "execution_count": 26,
   "id": "9e3395bc",
   "metadata": {},
   "outputs": [
    {
     "data": {
      "text/plain": [
       "'Life '"
      ]
     },
     "execution_count": 26,
     "metadata": {},
     "output_type": "execute_result"
    }
   ],
   "source": [
    "a[0:5]"
   ]
  },
  {
   "cell_type": "code",
   "execution_count": 19,
   "id": "7025f5fc",
   "metadata": {},
   "outputs": [],
   "source": [
    "a1 = a[0:4]"
   ]
  },
  {
   "cell_type": "code",
   "execution_count": 20,
   "id": "c2c01550",
   "metadata": {},
   "outputs": [],
   "source": [
    "a2 = a[0:5]"
   ]
  },
  {
   "cell_type": "code",
   "execution_count": 27,
   "id": "f3196310",
   "metadata": {},
   "outputs": [
    {
     "name": "stdout",
     "output_type": "stream",
     "text": [
      "다르다\n"
     ]
    }
   ],
   "source": [
    "if a1 == a2:\n",
    "    print(\"같다\")\n",
    "else:\n",
    "    print(\"다르다\")              # 공백이 있고 없고의 차이는 큼"
   ]
  },
  {
   "cell_type": "code",
   "execution_count": 29,
   "id": "04f2a0b1",
   "metadata": {},
   "outputs": [
    {
     "data": {
      "text/plain": [
       "4"
      ]
     },
     "execution_count": 29,
     "metadata": {},
     "output_type": "execute_result"
    }
   ],
   "source": [
    "len(a1)"
   ]
  },
  {
   "cell_type": "code",
   "execution_count": 31,
   "id": "0dc700a1",
   "metadata": {},
   "outputs": [
    {
     "data": {
      "text/plain": [
       "5"
      ]
     },
     "execution_count": 31,
     "metadata": {},
     "output_type": "execute_result"
    }
   ],
   "source": [
    "len(a2)                           # 글자수도 다름"
   ]
  },
  {
   "cell_type": "code",
   "execution_count": 33,
   "id": "14fcb137",
   "metadata": {},
   "outputs": [
    {
     "data": {
      "text/plain": [
       "'Life'"
      ]
     },
     "execution_count": 33,
     "metadata": {},
     "output_type": "execute_result"
    }
   ],
   "source": [
    "a2.rstrip()                     # 오른쪽 공백 지우기 => rstrip()"
   ]
  },
  {
   "cell_type": "code",
   "execution_count": 36,
   "id": "094f1f25",
   "metadata": {},
   "outputs": [],
   "source": [
    "a3 = a[4:8]"
   ]
  },
  {
   "cell_type": "code",
   "execution_count": 38,
   "id": "13f2038d",
   "metadata": {},
   "outputs": [
    {
     "data": {
      "text/plain": [
       "'is'"
      ]
     },
     "execution_count": 38,
     "metadata": {},
     "output_type": "execute_result"
    }
   ],
   "source": [
    "a3.strip()                     # 양쪽공백 지우기 => strip()"
   ]
  },
  {
   "cell_type": "code",
   "execution_count": 40,
   "id": "7f4d589b",
   "metadata": {},
   "outputs": [],
   "source": [
    "words1 = \"딸기, 바나나, 수박\""
   ]
  },
  {
   "cell_type": "code",
   "execution_count": 46,
   "id": "c079d285",
   "metadata": {},
   "outputs": [
    {
     "name": "stdout",
     "output_type": "stream",
     "text": [
      "바나나\n"
     ]
    }
   ],
   "source": [
    "bananaFromWords1 = words1[4:7]\n",
    "print(bananaFromWords1)"
   ]
  },
  {
   "cell_type": "code",
   "execution_count": 50,
   "id": "938bb185",
   "metadata": {},
   "outputs": [
    {
     "name": "stdout",
     "output_type": "stream",
     "text": [
      "수박\n"
     ]
    }
   ],
   "source": [
    "watermelonFromWords1 = words1[-2:]\n",
    "print(watermelonFromWords1)"
   ]
  },
  {
   "cell_type": "code",
   "execution_count": 53,
   "id": "aff2ee37",
   "metadata": {},
   "outputs": [
    {
     "name": "stdout",
     "output_type": "stream",
     "text": [
      "딸기\n"
     ]
    }
   ],
   "source": [
    "sbFromWords1 = words1[:2]\n",
    "print(sbFromWords1)"
   ]
  },
  {
   "cell_type": "code",
   "execution_count": 71,
   "id": "7630898a",
   "metadata": {},
   "outputs": [
    {
     "name": "stdout",
     "output_type": "stream",
     "text": [
      "바나나\n"
     ]
    }
   ],
   "source": [
    "wordToFind = \"바나나\"\n",
    "indexOfBanana = words1.find(\"바나나\")\n",
    "bananaFromWords1 = words1[indexOfBanana:indexOfBanana+len(wordToFind)]\n",
    "print(bananaFromWords1)"
   ]
  },
  {
   "cell_type": "code",
   "execution_count": 75,
   "id": "b4acdbcc",
   "metadata": {},
   "outputs": [],
   "source": [
    "a = \"Pithon\""
   ]
  },
  {
   "cell_type": "code",
   "execution_count": 76,
   "id": "05d7f711",
   "metadata": {},
   "outputs": [
    {
     "data": {
      "text/plain": [
       "'i'"
      ]
     },
     "execution_count": 76,
     "metadata": {},
     "output_type": "execute_result"
    }
   ],
   "source": [
    "a[1]"
   ]
  },
  {
   "cell_type": "code",
   "execution_count": 82,
   "id": "2ecb9ddf",
   "metadata": {},
   "outputs": [
    {
     "ename": "TypeError",
     "evalue": "'str' object does not support item assignment",
     "output_type": "error",
     "traceback": [
      "\u001b[1;31m---------------------------------------------------------------------------\u001b[0m",
      "\u001b[1;31mTypeError\u001b[0m                                 Traceback (most recent call last)",
      "\u001b[1;32m<ipython-input-82-d5923cc78d10>\u001b[0m in \u001b[0;36m<module>\u001b[1;34m\u001b[0m\n\u001b[1;32m----> 1\u001b[1;33m \u001b[0ma\u001b[0m\u001b[1;33m[\u001b[0m\u001b[1;36m1\u001b[0m\u001b[1;33m]\u001b[0m \u001b[1;33m=\u001b[0m \u001b[1;34m'y'\u001b[0m\u001b[1;33m\u001b[0m\u001b[1;33m\u001b[0m\u001b[0m\n\u001b[0m",
      "\u001b[1;31mTypeError\u001b[0m: 'str' object does not support item assignment"
     ]
    }
   ],
   "source": [
    "a[1] = 'y'"
   ]
  },
  {
   "cell_type": "code",
   "execution_count": 83,
   "id": "ac0917d8",
   "metadata": {},
   "outputs": [
    {
     "data": {
      "text/plain": [
       "'thon'"
      ]
     },
     "execution_count": 83,
     "metadata": {},
     "output_type": "execute_result"
    }
   ],
   "source": [
    "a[-4:]"
   ]
  },
  {
   "cell_type": "code",
   "execution_count": 85,
   "id": "e00c3c0e",
   "metadata": {},
   "outputs": [],
   "source": [
    "a2 = a[:1] + \"y\" + a[-4:]"
   ]
  },
  {
   "cell_type": "code",
   "execution_count": 92,
   "id": "4baf93d2",
   "metadata": {},
   "outputs": [
    {
     "name": "stdout",
     "output_type": "stream",
     "text": [
      "Python\n"
     ]
    }
   ],
   "source": [
    "a = a2\n",
    "print(a)"
   ]
  },
  {
   "cell_type": "code",
   "execution_count": 91,
   "id": "846eb322",
   "metadata": {},
   "outputs": [
    {
     "data": {
      "text/plain": [
       "'Python'"
      ]
     },
     "execution_count": 91,
     "metadata": {},
     "output_type": "execute_result"
    }
   ],
   "source": [
    "a"
   ]
  },
  {
   "cell_type": "code",
   "execution_count": 94,
   "id": "c2aa6e7c",
   "metadata": {},
   "outputs": [
    {
     "data": {
      "text/plain": [
       "'I eat 3 apples.'"
      ]
     },
     "execution_count": 94,
     "metadata": {},
     "output_type": "execute_result"
    }
   ],
   "source": [
    "\"I eat %d apples.\" % 3"
   ]
  },
  {
   "cell_type": "markdown",
   "id": "fdea9cb2",
   "metadata": {},
   "source": [
    "name1 = \"이동렬\";major1 = \"History\";howManyPhone1 = \"%10s\" %\"10000000\"\n",
    "name2 = \"동렬리\";major2 = \"IT\";howManyPhone2 = \"%10s\" %\"30000\"                     # 숫자는 오른쪽, 문자는 왼쪽정렬\n",
    "\n",
    "print(\"name\"+\"\\t\"+\"major\"+\"\\t\"+\"howManyPhone\")\n",
    "print(name1+\"\\t\"+major1+\"\\t\"+str(howManyPhone1))\n",
    "print(name2+\"\\t\"+major2+\"\\t\"+str(howManyPhone2))"
   ]
  },
  {
   "cell_type": "code",
   "execution_count": 3,
   "id": "a2f8eb04",
   "metadata": {},
   "outputs": [
    {
     "name": "stdout",
     "output_type": "stream",
     "text": [
      "    120.00\n"
     ]
    }
   ],
   "source": [
    "print(\"%10.2f\" % 120)"
   ]
  },
  {
   "cell_type": "code",
   "execution_count": 7,
   "id": "fe4224e9",
   "metadata": {},
   "outputs": [
    {
     "data": {
      "text/plain": [
       "'~~~DR~~~2~~~~~~~'"
      ]
     },
     "execution_count": 7,
     "metadata": {},
     "output_type": "execute_result"
    }
   ],
   "source": [
    "\"~~~{0}~~~{1}~~~~~~~\".format(\"DR\", 2)"
   ]
  },
  {
   "cell_type": "code",
   "execution_count": 10,
   "id": "8bc2d0c4",
   "metadata": {},
   "outputs": [
    {
     "data": {
      "text/plain": [
       "'~~~DR~~~2~~~~~DR~God~'"
      ]
     },
     "execution_count": 10,
     "metadata": {},
     "output_type": "execute_result"
    }
   ],
   "source": [
    "\"~~~{0}~~~{1}~~~~~{0}~{2}~\".format(\"DR\", 2, \"God\")"
   ]
  },
  {
   "cell_type": "code",
   "execution_count": 11,
   "id": "e3d8cef1",
   "metadata": {},
   "outputs": [
    {
     "data": {
      "text/plain": [
       "'~~~9~~DR~~~~~~God'"
      ]
     },
     "execution_count": 11,
     "metadata": {},
     "output_type": "execute_result"
    }
   ],
   "source": [
    "\"~~~{2}~~{1}~~~~~~{0}\".format(\"God\", \"DR\", 9)"
   ]
  },
  {
   "cell_type": "code",
   "execution_count": 12,
   "id": "a89cbe98",
   "metadata": {},
   "outputs": [
    {
     "data": {
      "text/plain": [
       "'I eat 4 apples'"
      ]
     },
     "execution_count": 12,
     "metadata": {},
     "output_type": "execute_result"
    }
   ],
   "source": [
    "number = 4\n",
    "\"I eat {0} apples\".format(number)"
   ]
  },
  {
   "cell_type": "code",
   "execution_count": 14,
   "id": "be6730ef",
   "metadata": {},
   "outputs": [
    {
     "data": {
      "text/plain": [
       "'~~~God~~2~~~~~~2'"
      ]
     },
     "execution_count": 14,
     "metadata": {},
     "output_type": "execute_result"
    }
   ],
   "source": [
    "\"~~~{name}~~{howMany}~~~~~~{howMany}\".format(name = \"God\", howMany = 2)"
   ]
  },
  {
   "cell_type": "code",
   "execution_count": 16,
   "id": "9212bd57",
   "metadata": {},
   "outputs": [
    {
     "data": {
      "text/plain": [
       "'hi'"
      ]
     },
     "execution_count": 16,
     "metadata": {},
     "output_type": "execute_result"
    }
   ],
   "source": [
    "\"{0}\".format(\"hi\")"
   ]
  },
  {
   "cell_type": "code",
   "execution_count": 22,
   "id": "0686c966",
   "metadata": {},
   "outputs": [
    {
     "data": {
      "text/plain": [
       "'        hi'"
      ]
     },
     "execution_count": 22,
     "metadata": {},
     "output_type": "execute_result"
    }
   ],
   "source": [
    "\"{0:>10}\".format(\"hi\")                # 오른쪽정렬"
   ]
  },
  {
   "cell_type": "code",
   "execution_count": 24,
   "id": "14e67503",
   "metadata": {},
   "outputs": [
    {
     "data": {
      "text/plain": [
       "'hi        '"
      ]
     },
     "execution_count": 24,
     "metadata": {},
     "output_type": "execute_result"
    }
   ],
   "source": [
    "\"{0:<10}\".format(\"hi\")               # 왼쪽정렬"
   ]
  },
  {
   "cell_type": "code",
   "execution_count": 26,
   "id": "5304ea0f",
   "metadata": {},
   "outputs": [
    {
     "data": {
      "text/plain": [
       "'    hi    '"
      ]
     },
     "execution_count": 26,
     "metadata": {},
     "output_type": "execute_result"
    }
   ],
   "source": [
    "\"{0:^10}\".format(\"hi\")               # 가운데정렬"
   ]
  },
  {
   "cell_type": "code",
   "execution_count": 28,
   "id": "2132aab2",
   "metadata": {},
   "outputs": [
    {
     "data": {
      "text/plain": [
       "'====hi===='"
      ]
     },
     "execution_count": 28,
     "metadata": {},
     "output_type": "execute_result"
    }
   ],
   "source": [
    "\"{0:=^10}\".format(\"hi\")              # 공백 채우기"
   ]
  },
  {
   "cell_type": "code",
   "execution_count": 30,
   "id": "4bf36786",
   "metadata": {},
   "outputs": [
    {
     "data": {
      "text/plain": [
       "'!!!!!!!!!hi!!!!!!!!!'"
      ]
     },
     "execution_count": 30,
     "metadata": {},
     "output_type": "execute_result"
    }
   ],
   "source": [
    "\"{0:!^20}\".format(\"hi\")"
   ]
  },
  {
   "cell_type": "code",
   "execution_count": 32,
   "id": "dac6d285",
   "metadata": {},
   "outputs": [
    {
     "data": {
      "text/plain": [
       "'3.2433'"
      ]
     },
     "execution_count": 32,
     "metadata": {},
     "output_type": "execute_result"
    }
   ],
   "source": [
    "y = 3.24332532\n",
    "\"{0:0.4f}\".format(y)"
   ]
  },
  {
   "cell_type": "code",
   "execution_count": 35,
   "id": "d3023460",
   "metadata": {
    "scrolled": true
   },
   "outputs": [
    {
     "data": {
      "text/plain": [
       "'나의 이름은 DR입니다. 나이는 120살 까지 살고 싶어요.'"
      ]
     },
     "execution_count": 35,
     "metadata": {},
     "output_type": "execute_result"
    }
   ],
   "source": [
    "name = \"DR\"\n",
    "age = 120\n",
    "\"나의 이름은 {0}입니다. 나이는 {1}살 까지 살고 싶어요.\".format(name, age)"
   ]
  },
  {
   "cell_type": "code",
   "execution_count": 40,
   "id": "fa14e1ea",
   "metadata": {},
   "outputs": [
    {
     "data": {
      "text/plain": [
       "'나의 이름은 DR입니다. 나이는 120살 까지 살고 싶어요.'"
      ]
     },
     "execution_count": 40,
     "metadata": {},
     "output_type": "execute_result"
    }
   ],
   "source": [
    "f\"나의 이름은 {name}입니다. 나이는 {age}살 까지 살고 싶어요.\""
   ]
  },
  {
   "cell_type": "code",
   "execution_count": null,
   "id": "7050303a",
   "metadata": {},
   "outputs": [],
   "source": []
  },
  {
   "cell_type": "code",
   "execution_count": null,
   "id": "3b9f089d",
   "metadata": {},
   "outputs": [],
   "source": []
  }
 ],
 "metadata": {
  "kernelspec": {
   "display_name": "Python 3",
   "language": "python",
   "name": "python3"
  },
  "language_info": {
   "codemirror_mode": {
    "name": "ipython",
    "version": 3
   },
   "file_extension": ".py",
   "mimetype": "text/x-python",
   "name": "python",
   "nbconvert_exporter": "python",
   "pygments_lexer": "ipython3",
   "version": "3.8.8"
  }
 },
 "nbformat": 4,
 "nbformat_minor": 5
}
