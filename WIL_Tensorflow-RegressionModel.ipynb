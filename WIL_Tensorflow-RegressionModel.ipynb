{
 "cells": [
  {
   "cell_type": "markdown",
   "id": "7cdf0cee",
   "metadata": {},
   "source": [
    "# 텐서플로우 회귀 분석 모델\n",
    "\n",
    "- 다양한 방법이 존재\n",
    "- 텐서플로우2만 사용하는 방법, 케라스를 이용한 방법, 둘을 모두 섞은 방법 등등  \n"
   ]
  },
  {
   "cell_type": "markdown",
   "id": "e3135682",
   "metadata": {},
   "source": [
    "## 선형 회귀(Linear Regression)"
   ]
  },
  {
   "cell_type": "code",
   "execution_count": 1,
   "id": "111cd5df",
   "metadata": {},
   "outputs": [],
   "source": [
    "import numpy as np\n",
    "import tensorflow as tf\n",
    "import matplotlib.pyplot as plt\n",
    "plt.style.use('seaborn-white')"
   ]
  },
  {
   "cell_type": "code",
   "execution_count": 2,
   "id": "d0a86768",
   "metadata": {},
   "outputs": [],
   "source": [
    "learning_rate = 0.01\n",
    "training_steps = 1000"
   ]
  },
  {
   "cell_type": "code",
   "execution_count": 3,
   "id": "12237404",
   "metadata": {},
   "outputs": [],
   "source": [
    "X = np.random.randn(50)\n",
    "Y = 2*X + np.random.randn(50)"
   ]
  },
  {
   "cell_type": "code",
   "execution_count": 20,
   "id": "d143bba5",
   "metadata": {},
   "outputs": [],
   "source": [
    "W = tf.Variable(np.random.randn(), name = 'weight')\n",
    "b = tf.Variable(np.random.randn(), name = 'bias')\n",
    "\n",
    "def linear_regression(x):\n",
    "    return W * x + b\n",
    "\n",
    "# loss-function으로 mse사용\n",
    "def mean_square(y_pred, y_ture):\n",
    "    return tf.reduce_mean(tf.square(y_pred - y_ture))\n",
    "\n",
    "optimizer = tf.optimizers.SGD(learning_rate)"
   ]
  },
  {
   "cell_type": "code",
   "execution_count": 21,
   "id": "1f80d621",
   "metadata": {},
   "outputs": [],
   "source": [
    "# optimizer 수행 함수\n",
    "def run_optimization():\n",
    "    with tf.GradientTape() as tape:\n",
    "        pred = linear_regression(X)\n",
    "        loss = mean_square(pred, Y)\n",
    "        \n",
    "    gradients = tape.gradient(loss, [W, b])\n",
    "    \n",
    "    optimizer.apply_gradients(zip(gradients, [W, b]))"
   ]
  },
  {
   "cell_type": "code",
   "execution_count": 22,
   "id": "1b31388f",
   "metadata": {},
   "outputs": [
    {
     "name": "stdout",
     "output_type": "stream",
     "text": [
      "step:   50\tloss: 1.1988\tW: 1.6606\tb: 0.4303\n",
      "step:  100\tloss: 0.9865\tW: 1.9014\tb: 0.2317\n",
      "step:  150\tloss: 0.9626\tW: 1.9725\tb: 0.1545\n",
      "step:  200\tloss: 0.9598\tW: 1.9939\tb: 0.1248\n",
      "step:  250\tloss: 0.9594\tW: 2.0005\tb: 0.1136\n",
      "step:  300\tloss: 0.9593\tW: 2.0025\tb: 0.1094\n",
      "step:  350\tloss: 0.9593\tW: 2.0032\tb: 0.1078\n",
      "step:  400\tloss: 0.9593\tW: 2.0034\tb: 0.1072\n",
      "step:  450\tloss: 0.9593\tW: 2.0035\tb: 0.1070\n",
      "step:  500\tloss: 0.9593\tW: 2.0035\tb: 0.1069\n",
      "step:  550\tloss: 0.9593\tW: 2.0035\tb: 0.1069\n",
      "step:  600\tloss: 0.9593\tW: 2.0035\tb: 0.1068\n",
      "step:  650\tloss: 0.9593\tW: 2.0035\tb: 0.1068\n",
      "step:  700\tloss: 0.9593\tW: 2.0035\tb: 0.1068\n",
      "step:  750\tloss: 0.9593\tW: 2.0035\tb: 0.1068\n",
      "step:  800\tloss: 0.9593\tW: 2.0035\tb: 0.1068\n",
      "step:  850\tloss: 0.9593\tW: 2.0035\tb: 0.1068\n",
      "step:  900\tloss: 0.9593\tW: 2.0035\tb: 0.1068\n",
      "step:  950\tloss: 0.9593\tW: 2.0035\tb: 0.1068\n",
      "step: 1000\tloss: 0.9593\tW: 2.0035\tb: 0.1068\n"
     ]
    }
   ],
   "source": [
    "for step in range(1, training_steps + 1):\n",
    "    run_optimization()\n",
    "    \n",
    "    if step % 50 == 0:\n",
    "        pred = linear_regression(X)\n",
    "        loss = mean_square(pred, Y)\n",
    "        print('step: {:4d}\\tloss: {:.4f}\\tW: {:.4f}\\tb: {:.4f}'.format(step, loss, W.numpy(), b.numpy()))"
   ]
  },
  {
   "cell_type": "code",
   "execution_count": 23,
   "id": "c943e007",
   "metadata": {},
   "outputs": [
    {
     "data": {
      "image/png": "[encoded data removed]",
      "text/plain": [
       "<Figure size 432x288 with 1 Axes>"
      ]
     },
     "metadata": {},
     "output_type": "display_data"
    }
   ],
   "source": [
    "plt.plot(X, Y, 'ro', label = 'Data')\n",
    "plt.plot(X, np.array(W * X + b), label = 'Fitted Line')\n",
    "plt.legend()\n",
    "plt.grid()\n",
    "plt.show()"
   ]
  },
  {
   "cell_type": "markdown",
   "id": "603dae48",
   "metadata": {},
   "source": [
    "## 다항 회귀 (Nonlinear Regression)\n"
   ]
  },
  {
   "cell_type": "markdown",
   "id": "8f897ac9",
   "metadata": {},
   "source": [
    "### modules import"
   ]
  },
  {
   "cell_type": "code",
   "execution_count": 24,
   "id": "8a216f04",
   "metadata": {},
   "outputs": [],
   "source": [
    "from tensorflow.keras.optimizers import Adam"
   ]
  },
  {
   "cell_type": "markdown",
   "id": "ec4158d8",
   "metadata": {},
   "source": [
    "### Hyper Parameters"
   ]
  },
  {
   "cell_type": "code",
   "execution_count": 25,
   "id": "df36b3a5",
   "metadata": {},
   "outputs": [],
   "source": [
    "epochs = 1000\n",
    "learning_rate = 0.04"
   ]
  },
  {
   "cell_type": "markdown",
   "id": "90c25b1c",
   "metadata": {},
   "source": [
    "### 변수 지정"
   ]
  },
  {
   "cell_type": "code",
   "execution_count": 45,
   "id": "f5eb9f9b",
   "metadata": {},
   "outputs": [],
   "source": [
    "a = tf.Variable(np.random.randn())\n",
    "b = tf.Variable(np.random.randn())\n",
    "c = tf.Variable(np.random.randn())"
   ]
  },
  {
   "cell_type": "code",
   "execution_count": 46,
   "id": "085c16ef",
   "metadata": {},
   "outputs": [
    {
     "name": "stdout",
     "output_type": "stream",
     "text": [
      "0.3820293\n",
      "-0.5570555\n",
      "3.2120836\n"
     ]
    }
   ],
   "source": [
    "print(a.numpy())\n",
    "print(b.numpy())\n",
    "print(c.numpy())"
   ]
  },
  {
   "cell_type": "markdown",
   "id": "1c0f5ad8",
   "metadata": {},
   "source": [
    "### 데이터 지정"
   ]
  },
  {
   "cell_type": "code",
   "execution_count": 47,
   "id": "448d7461",
   "metadata": {},
   "outputs": [],
   "source": [
    "X = np.random.randn(50)\n",
    "Y = X**2 + X*np.random.randn(50)"
   ]
  },
  {
   "cell_type": "code",
   "execution_count": 48,
   "id": "7a52afd8",
   "metadata": {},
   "outputs": [
    {
     "data": {
      "image/png": "[encoded data removed]",
      "text/plain": [
       "<Figure size 432x288 with 1 Axes>"
      ]
     },
     "metadata": {},
     "output_type": "display_data"
    }
   ],
   "source": [
    "line_x = np.arange(min(X), max(X), 0.001)\n",
    "line_y = a*line_x**2 + b*line_x + c\n",
    "\n",
    "x_ = np.arange(-4.0, 4.0, 0.001)\n",
    "y_ = a*x_**2 + b*x_ + c\n",
    "\n",
    "plt.scatter(X, Y, label = 'X data')\n",
    "plt.plot(x_, y_, 'g--', label = 'origin line')\n",
    "plt.plot(line_x, line_y, 'r--', label = 'before train')\n",
    "plt.xlim(-4.0, 4.0)\n",
    "plt.legend()\n",
    "plt.grid()\n",
    "plt.show()"
   ]
  },
  {
   "cell_type": "markdown",
   "id": "65c2769e",
   "metadata": {},
   "source": [
    "### Util Functions"
   ]
  },
  {
   "cell_type": "code",
   "execution_count": 49,
   "id": "82dd8e35",
   "metadata": {},
   "outputs": [],
   "source": [
    "def compute_loss():\n",
    "    pred_y = a*(np.array(X)**2) + b*np.array(X) + c\n",
    "    loss = tf.reduce_mean((Y - pred_y)**2)\n",
    "    return loss"
   ]
  },
  {
   "cell_type": "markdown",
   "id": "b2d840d6",
   "metadata": {},
   "source": [
    "### Optimizer"
   ]
  },
  {
   "cell_type": "code",
   "execution_count": 50,
   "id": "3305ef44",
   "metadata": {},
   "outputs": [],
   "source": [
    "optimizer = Adam(learning_rate = learning_rate)"
   ]
  },
  {
   "cell_type": "markdown",
   "id": "673757fd",
   "metadata": {},
   "source": [
    "### 학습"
   ]
  },
  {
   "cell_type": "code",
   "execution_count": 51,
   "id": "a80e2f58",
   "metadata": {},
   "outputs": [
    {
     "name": "stdout",
     "output_type": "stream",
     "text": [
      "epoch:  100\ta: 1.0004\tb: 0.1264\tc: 0.4175\n",
      "epoch:  200\ta: 1.2411\tb: 0.0591\tc: -0.0687\n",
      "epoch:  300\ta: 1.2457\tb: 0.0579\tc: -0.0779\n",
      "epoch:  400\ta: 1.2456\tb: 0.0579\tc: -0.0779\n",
      "epoch:  500\ta: 1.2456\tb: 0.0579\tc: -0.0779\n",
      "epoch:  600\ta: 1.2456\tb: 0.0579\tc: -0.0779\n",
      "epoch:  700\ta: 1.2456\tb: 0.0579\tc: -0.0779\n",
      "epoch:  800\ta: 1.2456\tb: 0.0579\tc: -0.0779\n",
      "epoch:  900\ta: 1.2456\tb: 0.0579\tc: -0.0779\n",
      "epoch: 1000\ta: 1.2456\tb: 0.0579\tc: -0.0779\n"
     ]
    }
   ],
   "source": [
    "for epoch in range(1, epochs+1, 1):\n",
    "    optimizer.minimize(compute_loss, var_list = [a, b, c])\n",
    "    \n",
    "    if epoch % 100 == 0:\n",
    "        print('epoch: {:4d}\\ta: {:.4f}\\tb: {:.4f}\\tc: {:.4f}'.format(epoch, a.numpy(), b.numpy(), c.numpy()))"
   ]
  },
  {
   "cell_type": "markdown",
   "id": "f9d870d8",
   "metadata": {},
   "source": [
    "### 학습 후의 회귀선"
   ]
  },
  {
   "cell_type": "code",
   "execution_count": 52,
   "id": "a2b9f35e",
   "metadata": {},
   "outputs": [
    {
     "data": {
      "image/png": "[encoded data removed]",
      "text/plain": [
       "<Figure size 432x288 with 1 Axes>"
      ]
     },
     "metadata": {},
     "output_type": "display_data"
    }
   ],
   "source": [
    "line_x = np.arange(min(X), max(X), 0.001)\n",
    "line_y = a*line_x**2 + b*line_x + c\n",
    "\n",
    "plt.scatter(X, Y, label = 'X data')\n",
    "plt.plot(x_, y_, 'g--', label = 'origin line')\n",
    "plt.plot(line_x, line_y, 'r--', label = 'after train')\n",
    "plt.xlim(-4.0, 4.0)\n",
    "plt.legend()\n",
    "plt.grid()\n",
    "plt.show()"
   ]
  },
  {
   "cell_type": "markdown",
   "id": "c4bc4122",
   "metadata": {},
   "source": [
    "## 로지스틱 회귀(Logistic Regression)\n",
    "- 다항 분류, MNIST"
   ]
  },
  {
   "cell_type": "markdown",
   "id": "70821257",
   "metadata": {},
   "source": [
    "### modules import"
   ]
  },
  {
   "cell_type": "code",
   "execution_count": 53,
   "id": "d5e1e7cd",
   "metadata": {},
   "outputs": [],
   "source": [
    "from tensorflow.keras.datasets import mnist"
   ]
  },
  {
   "cell_type": "markdown",
   "id": "51e65cf8",
   "metadata": {},
   "source": [
    "### 하이퍼 파라미터 (Hyper Parameter)\n"
   ]
  },
  {
   "cell_type": "code",
   "execution_count": 54,
   "id": "eb753532",
   "metadata": {},
   "outputs": [],
   "source": [
    "num_classes = 10\n",
    "num_features = 28 * 28\n",
    "\n",
    "learning_rate = 0.1\n",
    "training_steps = 1000\n",
    "batch_size = 256"
   ]
  },
  {
   "cell_type": "markdown",
   "id": "a27853bf",
   "metadata": {},
   "source": [
    "### 데이터 로드"
   ]
  },
  {
   "cell_type": "code",
   "execution_count": 56,
   "id": "9354b62d",
   "metadata": {},
   "outputs": [],
   "source": [
    "(x_train, y_train), (x_test, y_test) = mnist.load_data()\n",
    "\n",
    "x_train, x_test = np.array(x_train, np.float32), np.array(x_test, np.float32)\n",
    "\n",
    "# Flatten 형태로 바꿔주자 >> flat하게 펼쳐주자 == 2D -> 1D로 변환\n",
    "x_train, x_test = x_train.reshape([-1, num_features]), x_test.reshape([-1, num_features])\n",
    "\n",
    "# Normalization\n",
    "x_train, x_test = x_train / 255., x_test / 256."
   ]
  },
  {
   "cell_type": "markdown",
   "id": "c8158cb4",
   "metadata": {},
   "source": [
    "### tf.data API 사용"
   ]
  },
  {
   "cell_type": "code",
   "execution_count": 57,
   "id": "ec02275b",
   "metadata": {},
   "outputs": [],
   "source": [
    "train_data = tf.data.Dataset.from_tensor_slices((x_train, y_train))\n",
    "train_data = train_data.repeat().shuffle(5000).batch(batch_size).prefetch(1)\n",
    "\n",
    "## 데이터 형태를 shuffle > batch > 구성"
   ]
  },
  {
   "cell_type": "markdown",
   "id": "eee8d4db",
   "metadata": {},
   "source": [
    "### 변수 지정"
   ]
  },
  {
   "cell_type": "code",
   "execution_count": 58,
   "id": "5a2d9372",
   "metadata": {},
   "outputs": [],
   "source": [
    "W = tf.Variable(tf.random.normal([num_features, num_classes]), name = 'weight')\n",
    "b = tf.Variable(tf.zeros([num_classes]), name = 'biase')"
   ]
  },
  {
   "cell_type": "markdown",
   "id": "ba46e892",
   "metadata": {},
   "source": [
    "### Util Functions"
   ]
  },
  {
   "cell_type": "code",
   "execution_count": 78,
   "id": "b774623b",
   "metadata": {},
   "outputs": [],
   "source": [
    "def logistic_regression(x):\n",
    "    return tf.nn.softmax(tf.matmul(x, W) + b)\n",
    "\n",
    "def cross_entropy(pred_y, true_y):\n",
    "    true_y = tf.one_hot(true_y, depth = num_classes)\n",
    "    pred_y = tf.clip_by_value(pred_y, 1e-9, 1.)\n",
    "    \n",
    "    return tf.reduce_mean(-tf.reduce_sum(true_y * tf.math.log(pred_y), 1))\n",
    "\n",
    "def accuracy(y_pred, y_true):\n",
    "    correct_prediction = tf.equal(tf.argmax(y_pred, 1), tf.cast(y_true, tf.int64))\n",
    "    return tf.reduce_mean(tf.cast(correct_prediction, tf.float32))"
   ]
  },
  {
   "cell_type": "markdown",
   "id": "b7cfaa09",
   "metadata": {},
   "source": [
    "### Optimizer"
   ]
  },
  {
   "cell_type": "code",
   "execution_count": 79,
   "id": "78c98df3",
   "metadata": {},
   "outputs": [],
   "source": [
    "optimizer = tf.optimizers.SGD(learning_rate)"
   ]
  },
  {
   "cell_type": "code",
   "execution_count": 80,
   "id": "223c7c5e",
   "metadata": {},
   "outputs": [],
   "source": [
    "def run_optimization(x, y):\n",
    "    with tf.GradientTape() as tape:\n",
    "        pred = logistic_regression(x)\n",
    "        loss = cross_entropy(pred, y)\n",
    "        \n",
    "    gradients = tape.gradient(loss, [W, b])\n",
    "    \n",
    "    optimizer.apply_gradients(zip(gradients, [W, b]))"
   ]
  },
  {
   "cell_type": "markdown",
   "id": "d9e27179",
   "metadata": {},
   "source": [
    "### 학습 진행"
   ]
  },
  {
   "cell_type": "code",
   "execution_count": 82,
   "id": "90919997",
   "metadata": {},
   "outputs": [
    {
     "name": "stdout",
     "output_type": "stream",
     "text": [
      "step:   50\tloss: 0.9257\taccuracy: 0.8047\n",
      "step:  100\tloss: 1.0648\taccuracy: 0.7656\n",
      "step:  150\tloss: 0.6747\taccuracy: 0.8516\n",
      "step:  200\tloss: 0.8002\taccuracy: 0.8164\n",
      "step:  250\tloss: 0.7812\taccuracy: 0.8555\n",
      "step:  300\tloss: 0.7974\taccuracy: 0.8281\n",
      "step:  350\tloss: 0.8784\taccuracy: 0.8164\n",
      "step:  400\tloss: 0.7839\taccuracy: 0.8203\n",
      "step:  450\tloss: 0.5350\taccuracy: 0.8711\n",
      "step:  500\tloss: 0.5185\taccuracy: 0.8672\n",
      "step:  550\tloss: 0.6686\taccuracy: 0.8398\n",
      "step:  600\tloss: 1.0161\taccuracy: 0.8008\n",
      "step:  650\tloss: 0.6596\taccuracy: 0.8398\n",
      "step:  700\tloss: 0.5454\taccuracy: 0.8672\n",
      "step:  750\tloss: 0.8273\taccuracy: 0.8672\n",
      "step:  800\tloss: 0.6353\taccuracy: 0.8359\n",
      "step:  850\tloss: 0.7646\taccuracy: 0.8438\n",
      "step:  900\tloss: 0.5063\taccuracy: 0.8789\n",
      "step:  950\tloss: 0.8075\taccuracy: 0.7969\n",
      "step: 1000\tloss: 0.9674\taccuracy: 0.8516\n"
     ]
    }
   ],
   "source": [
    "for step, (batch_x, batch_y) in enumerate(train_data.take(training_steps), 1):\n",
    "    run_optimization(batch_x, batch_y)\n",
    "    \n",
    "    if step % 50 == 0:\n",
    "        pred = logistic_regression(batch_x)\n",
    "        loss = cross_entropy(pred, batch_y)\n",
    "        acc = accuracy(pred, batch_y)\n",
    "        print('step: {:4d}\\tloss: {:.4f}\\taccuracy: {:.4f}'.format(step, loss, acc))"
   ]
  },
  {
   "cell_type": "markdown",
   "id": "0ccc1cb8",
   "metadata": {},
   "source": [
    "###  테스트"
   ]
  },
  {
   "cell_type": "code",
   "execution_count": 84,
   "id": "750fcd31",
   "metadata": {},
   "outputs": [
    {
     "name": "stdout",
     "output_type": "stream",
     "text": [
      "Test Accuracy: 0.8465999960899353\n"
     ]
    }
   ],
   "source": [
    "pred = logistic_regression(x_test)\n",
    "print('Test Accuracy: {}'.format(accuracy(pred, y_test)))"
   ]
  },
  {
   "cell_type": "markdown",
   "id": "deee14f9",
   "metadata": {},
   "source": [
    "###  시각화"
   ]
  },
  {
   "cell_type": "code",
   "execution_count": 85,
   "id": "cb58e5d3",
   "metadata": {},
   "outputs": [
    {
     "data": {
      "image/png": "[encoded data removed]",
      "text/plain": [
       "<Figure size 1008x576 with 5 Axes>"
      ]
     },
     "metadata": {},
     "output_type": "display_data"
    }
   ],
   "source": [
    "num_images = 5\n",
    "test_images = x_test[:num_images]\n",
    "predictions = logistic_regression(test_images)\n",
    "\n",
    "plt.figure(figsize = (14, 8))\n",
    "for i in range(1, num_images + 1, 1):\n",
    "    plt.subplot(1, num_images, i)\n",
    "    # 2차원형태로 다시 reshape\n",
    "    plt.imshow(np.reshape(test_images[i-1], [28, 28]), cmap = 'gray')\n",
    "    plt.title('Model prediction: {}'.format(np.argmax(predictions.numpy()[i-1])))\n",
    "    \n",
    "plt.show()"
   ]
  },
  {
   "cell_type": "code",
   "execution_count": null,
   "id": "303a1ab6",
   "metadata": {},
   "outputs": [],
   "source": []
  }
 ],
 "metadata": {
  "kernelspec": {
   "display_name": "Python 3 (ipykernel)",
   "language": "python",
   "name": "python3"
  },
  "language_info": {
   "codemirror_mode": {
    "name": "ipython",
    "version": 3
   },
   "file_extension": ".py",
   "mimetype": "text/x-python",
   "name": "python",
   "nbconvert_exporter": "python",
   "pygments_lexer": "ipython3",
   "version": "3.8.11"
  }
 },
 "nbformat": 4,
 "nbformat_minor": 5
}
