{
 "cells": [
  {
   "cell_type": "code",
   "execution_count": 2,
   "id": "181ce9da",
   "metadata": {},
   "outputs": [],
   "source": [
    "a = 3"
   ]
  },
  {
   "cell_type": "code",
   "execution_count": 3,
   "id": "1c5b179a",
   "metadata": {},
   "outputs": [],
   "source": [
    "b = 3"
   ]
  },
  {
   "cell_type": "code",
   "execution_count": 5,
   "id": "b16c55e1",
   "metadata": {},
   "outputs": [
    {
     "data": {
      "text/plain": [
       "27"
      ]
     },
     "execution_count": 5,
     "metadata": {},
     "output_type": "execute_result"
    }
   ],
   "source": [
    "a ** b"
   ]
  },
  {
   "cell_type": "code",
   "execution_count": 6,
   "id": "aedddcda",
   "metadata": {},
   "outputs": [],
   "source": [
    "# 나눗셈 후 나머지를 반환하는 % 연산자"
   ]
  },
  {
   "cell_type": "code",
   "execution_count": 8,
   "id": "b1b3d9d7",
   "metadata": {},
   "outputs": [
    {
     "data": {
      "text/plain": [
       "1"
      ]
     },
     "execution_count": 8,
     "metadata": {},
     "output_type": "execute_result"
    }
   ],
   "source": [
    "7 % 3 "
   ]
  },
  {
   "cell_type": "code",
   "execution_count": 12,
   "id": "0702ad6c",
   "metadata": {},
   "outputs": [
    {
     "data": {
      "text/plain": [
       "3"
      ]
     },
     "execution_count": 12,
     "metadata": {},
     "output_type": "execute_result"
    }
   ],
   "source": [
    "3 % 7"
   ]
  },
  {
   "cell_type": "code",
   "execution_count": 13,
   "id": "5f225bc1",
   "metadata": {},
   "outputs": [],
   "source": [
    "# 나눗셈 후 몫을 반환하는 % 연산자"
   ]
  },
  {
   "cell_type": "code",
   "execution_count": 23,
   "id": "ba444d51",
   "metadata": {},
   "outputs": [
    {
     "data": {
      "text/plain": [
       "1.75"
      ]
     },
     "execution_count": 23,
     "metadata": {},
     "output_type": "execute_result"
    }
   ],
   "source": [
    "7 / 4"
   ]
  },
  {
   "cell_type": "code",
   "execution_count": 38,
   "id": "0fcfd20d",
   "metadata": {},
   "outputs": [],
   "source": [
    "# 재고 5\n",
    "# 3개마다 1박스 구성 가능\n",
    "# 출하 가능 박스 개수\n",
    "# 남은 재고 개수"
   ]
  },
  {
   "cell_type": "code",
   "execution_count": 71,
   "id": "91ccd00c",
   "metadata": {},
   "outputs": [
    {
     "name": "stdout",
     "output_type": "stream",
     "text": [
      "출하 가능 박스:\t1개\n",
      "출하 후 재고:\t2개\n"
     ]
    }
   ],
   "source": [
    "stock_current = 5\n",
    "package_size = 3\n",
    "box_available = stock_current // package_size\n",
    "# stock_current = stock_current - box_available * package_size\n",
    "stock_current = stock_current % package_size\n",
    "print (\"출하 가능 박스:\\t\" + str(box_available) + \"개\")\n",
    "print ( \"출하 후 재고:\\t\" + str(stock_current) +  \"개\")"
   ]
  },
  {
   "cell_type": "code",
   "execution_count": 67,
   "id": "0fac0e35",
   "metadata": {},
   "outputs": [],
   "source": [
    "stock_current = 5\n",
    "package_size = 3"
   ]
  },
  {
   "cell_type": "code",
   "execution_count": 69,
   "id": "9ef4cd7a",
   "metadata": {},
   "outputs": [
    {
     "name": "stdout",
     "output_type": "stream",
     "text": [
      "1 개\n"
     ]
    }
   ],
   "source": [
    "# 출하 가능 박스 개수\n",
    "    \n",
    "print (stock_current // package_size, \"개\")"
   ]
  },
  {
   "cell_type": "code",
   "execution_count": 70,
   "id": "3902ca25",
   "metadata": {},
   "outputs": [
    {
     "name": "stdout",
     "output_type": "stream",
     "text": [
      "2 개\n"
     ]
    }
   ],
   "source": [
    "# 남은 재고 개수\n",
    "\n",
    "print( stock_current % package_size, \"개\")"
   ]
  },
  {
   "cell_type": "code",
   "execution_count": null,
   "id": "6192dcfd",
   "metadata": {},
   "outputs": [],
   "source": []
  }
 ],
 "metadata": {
  "kernelspec": {
   "display_name": "Python 3",
   "language": "python",
   "name": "python3"
  },
  "language_info": {
   "codemirror_mode": {
    "name": "ipython",
    "version": 3
   },
   "file_extension": ".py",
   "mimetype": "text/x-python",
   "name": "python",
   "nbconvert_exporter": "python",
   "pygments_lexer": "ipython3",
   "version": "3.8.8"
  }
 },
 "nbformat": 4,
 "nbformat_minor": 5
}
