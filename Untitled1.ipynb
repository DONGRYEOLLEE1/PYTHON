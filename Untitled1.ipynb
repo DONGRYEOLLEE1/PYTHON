{
 "cells": [
  {
   "cell_type": "markdown",
   "id": "1b86e2c6",
   "metadata": {},
   "source": [
    "# Gradient Boosting Machine : GBM\n",
    "\n",
    "## 1) 결정한 Tree수까지 tree를 계속 나눠보기\n",
    "    - Ex) tree = 160이면 160번 잘릴때까지 error를 끝까지 구하는것"
   ]
  },
  {
   "cell_type": "code",
   "execution_count": null,
   "id": "73765624",
   "metadata": {},
   "outputs": [],
   "source": [
    "import numpy as np\n",
    "from sklearn.metrics import mean_squared_error\n",
    "import time\n",
    "import matplotlib.pyplot as plt\n",
    "\n",
    "class gbm:\n",
    "    def __init__(self, x, y, x_split_val = 0.1, tree = 3):\n",
    "        self.x = x\n",
    "        self.y = y\n",
    "        self.x_split_val = x_split_val\n",
    "        self.tree = tree\n",
    "        \n",
    "    # xmin, xmax 값을 구해 그 사이 구간을 x_split_val만큼 증가시켜 splited_x 리스트에 저장하는 함수\n",
    "    # 이 리스트가 x_threshold로 사용됨\n",
    "    def split_x(self, x, x_split_val):\n",
    "        x_sort = np.sort(x, axis = 0)\n",
    "        xmin, xmax = x_sort[0], x_sort[-1]\n",
    "        splited_x = []\n",
    "        while xmin < xmax:\n",
    "            splited_x.append(xmin)\n",
    "            xmin = xmin + x_split_val\n",
    "        return splited_x\n",
    "    \n",
    "    # x_threshold 값을 기준으로 나눌때, 각 x와 y의 값을 리스트로 반환하는 함수\n",
    "    def split(self, x, y, x_threshold):\n",
    "        indices_left = [i for i, x_i in enumerate(x) if x_i <= x_threshold]\n",
    "        indices_right = [i for i, x_i in enumerate(x) if x_i > x_threshold]\n",
    "        \n",
    "        x_left = np.array([x[i] for i in indices_left])\n",
    "        y_left = np.array([y[i] for i in indices_left])\n",
    "        x_right = np.array([x[i] for i in indices_right])\n",
    "        y_right = np.array([y[i] for i in indices_right])\n",
    "        return x_left, y_left, x_right, y_right\n",
    "    \n",
    "    # split함수에서 받은 x_left, y_left, x_right, y_right로 x를 기준으롤 나뉜 x의 왼쪽과 x의 오른쪽에 존재하는 \n",
    "    # y값의 평균을 구하고, 그 평균을 기존의 y에서 빼서 각각의 잔차(residual)를 구한다.\n",
    "    # ==> 매번 tree를 만들기위해서 최적의 y split값을 찾기 위한 리스트들을 만든다고 보면된다.\n",
    "    def split_y(self, x, y):\n",
    "        x_thresholds = self.split_x(x, self.x_split_val)\n",
    "        y_list, left_list, right_list = [], [], []\n",
    "        for j in range(len(x_thresholds)):\n",
    "            x_left, y_left, x_right, y_right = self.split(x, y, x_thresholds[j])\n",
    "            split_y_left = np.mean(y_left)\n",
    "            y_left_residual = y_left - split_y_left\n",
    "            left_list.append(split_y_left)\n",
    "            \n",
    "            split_y_right = np.mean(y_right)\n",
    "            y_right_residual = y_right - split_y_right\n",
    "            right_list.append(split_y_right)\n",
    "            \n",
    "            y_list.append(np.append(y_left_residual, y_right_residual))\n",
    "        return y_list, x_thresholds, left_list, right_list\n",
    "    \n",
    "    # squared loss 함수를 이용해 가장 최적의 new_y를 찾아가면서 tree를 구축할 수 있는\n",
    "    # 각각의 new_x_list, new_y_list, split_y_left_list, split_y_right_list, beststump, error을 반환하기 위한 함수\n",
    "    def select_residual(self):\n",
    "        new_x = None\n",
    "        new_y = self.y\n",
    "        l_ = None\n",
    "        r_ = None\n",
    "        error = np.inf\n",
    "        new_x_list, new_y_list, split_y_left_list, split_y_right_slit = [], [], [], []\n",
    "        beststump = {}\n",
    "        \n",
    "        for s in range(self.tree):\n",
    "            selected_y_list, x_thresholds, left_list, right_list = self.split_y(self.x, new_y_)"
   ]
  },
  {
   "cell_type": "code",
   "execution_count": null,
   "id": "39042e42",
   "metadata": {},
   "outputs": [],
   "source": []
  },
  {
   "cell_type": "code",
   "execution_count": null,
   "id": "86af05f0",
   "metadata": {},
   "outputs": [],
   "source": []
  },
  {
   "cell_type": "code",
   "execution_count": null,
   "id": "2675b858",
   "metadata": {},
   "outputs": [],
   "source": []
  },
  {
   "cell_type": "code",
   "execution_count": null,
   "id": "93ded0f5",
   "metadata": {},
   "outputs": [],
   "source": []
  },
  {
   "cell_type": "code",
   "execution_count": null,
   "id": "cac7f4d8",
   "metadata": {},
   "outputs": [],
   "source": []
  },
  {
   "cell_type": "code",
   "execution_count": null,
   "id": "4d3f323e",
   "metadata": {},
   "outputs": [],
   "source": []
  },
  {
   "cell_type": "code",
   "execution_count": null,
   "id": "b203f4b5",
   "metadata": {},
   "outputs": [],
   "source": []
  },
  {
   "cell_type": "code",
   "execution_count": null,
   "id": "49d95011",
   "metadata": {},
   "outputs": [],
   "source": []
  },
  {
   "cell_type": "code",
   "execution_count": null,
   "id": "4a4137e3",
   "metadata": {},
   "outputs": [],
   "source": []
  }
 ],
 "metadata": {
  "kernelspec": {
   "display_name": "Python 3 (ipykernel)",
   "language": "python",
   "name": "python3"
  },
  "language_info": {
   "codemirror_mode": {
    "name": "ipython",
    "version": 3
   },
   "file_extension": ".py",
   "mimetype": "text/x-python",
   "name": "python",
   "nbconvert_exporter": "python",
   "pygments_lexer": "ipython3",
   "version": "3.8.11"
  }
 },
 "nbformat": 4,
 "nbformat_minor": 5
}
