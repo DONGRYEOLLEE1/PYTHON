{
  "nbformat": 4,
  "nbformat_minor": 0,
  "metadata": {
    "colab": {
      "name": "DL.ipynb",
      "provenance": [],
      "collapsed_sections": []
    },
    "kernelspec": {
      "name": "python3",
      "display_name": "Python 3"
    },
    "language_info": {
      "name": "python"
    }
  },
  "cells": [
    {
      "cell_type": "code",
      "metadata": {
        "id": "u20uRyh-G6S4"
      },
      "source": [
        "import numpy as np\n",
        "import pandas as pd"
      ],
      "execution_count": 2,
      "outputs": []
    },
    {
      "cell_type": "code",
      "metadata": {
        "id": "vaJeYBd9IPZP"
      },
      "source": [
        ""
      ],
      "execution_count": 2,
      "outputs": []
    },
    {
      "cell_type": "code",
      "metadata": {
        "colab": {
          "base_uri": "https://localhost:8080/"
        },
        "id": "jOc1n1cqIPco",
        "outputId": "31a0aeb0-ed61-4ef8-afa4-d3c231d43a4e"
      },
      "source": [
        "from google.colab import drive\n",
        "drive.mount('/content/gdrive')"
      ],
      "execution_count": 3,
      "outputs": [
        {
          "output_type": "stream",
          "text": [
            "Mounted at /content/gdrive\n"
          ],
          "name": "stdout"
        }
      ]
    },
    {
      "cell_type": "code",
      "metadata": {
        "id": "zdgsP9CZHHFI"
      },
      "source": [
        "xy = np.loadtxt('/content/gdrive/My Drive/Colab Notebooks/data-02-stock_daily.csv', delimiter=',', skiprows=1)\n"
      ],
      "execution_count": 4,
      "outputs": []
    },
    {
      "cell_type": "code",
      "metadata": {
        "id": "5pEpPLCWHHM8",
        "colab": {
          "base_uri": "https://localhost:8080/"
        },
        "outputId": "81ecc2b4-8385-4f02-cbb4-1d624a8c17cb"
      },
      "source": [
        "xy[:2]"
      ],
      "execution_count": 5,
      "outputs": [
        {
          "output_type": "execute_result",
          "data": {
            "text/plain": [
              "array([[8.28659973e+02, 8.33450012e+02, 8.28349976e+02, 1.24770000e+06,\n",
              "        8.31659973e+02],\n",
              "       [8.23020020e+02, 8.28070007e+02, 8.21655029e+02, 1.59780000e+06,\n",
              "        8.28070007e+02]])"
            ]
          },
          "metadata": {
            "tags": []
          },
          "execution_count": 5
        }
      ]
    },
    {
      "cell_type": "code",
      "metadata": {
        "id": "4PC2VUIeHHOW",
        "colab": {
          "base_uri": "https://localhost:8080/"
        },
        "outputId": "5b8b5763-1995-4b32-b08a-5bcdb75db1df"
      },
      "source": [
        "# train, test split\n",
        "seq_length = 7\n",
        "train_size = int(len(xy)*0.7)\n",
        "train_set = xy[:train_size]\n",
        "test_set = xy[train_size - seq_length:]\n",
        "\n",
        "print(train_set.shape, test_set.shape)"
      ],
      "execution_count": 6,
      "outputs": [
        {
          "output_type": "stream",
          "text": [
            "(512, 5) (227, 5)\n"
          ],
          "name": "stdout"
        }
      ]
    },
    {
      "cell_type": "code",
      "metadata": {
        "id": "Hxg8LLc_Kq6B"
      },
      "source": [
        "def minmax_scaler(data):\n",
        "  numerator = data - np.min(data, 0)\n",
        "  denominator = np.max(data, 0) - np.min(data, 0)\n",
        "  return numerator / (denominator + 1e-7)\n"
      ],
      "execution_count": 7,
      "outputs": []
    },
    {
      "cell_type": "code",
      "metadata": {
        "id": "04X0q3t4HHPL"
      },
      "source": [
        "# scaling data\n",
        "train_set = minmax_scaler(train_set)\n",
        "test_set = minmax_scaler(test_set)"
      ],
      "execution_count": 8,
      "outputs": []
    },
    {
      "cell_type": "code",
      "metadata": {
        "id": "FkrsOokOHHQX",
        "colab": {
          "base_uri": "https://localhost:8080/"
        },
        "outputId": "85c2fa36-cd7e-41a1-ed71-8da842a398d6"
      },
      "source": [
        "train_set[:2]"
      ],
      "execution_count": 9,
      "outputs": [
        {
          "output_type": "execute_result",
          "data": {
            "text/plain": [
              "array([[0.97125436, 0.97337226, 1.        , 0.06773081, 0.98742313],\n",
              "       [0.95353593, 0.95651845, 0.978622  , 0.10064206, 0.97616367]])"
            ]
          },
          "metadata": {
            "tags": []
          },
          "execution_count": 9
        }
      ]
    },
    {
      "cell_type": "code",
      "metadata": {
        "id": "VeTKbB92SnLG"
      },
      "source": [
        "def build_dataset(time_series_data, seq_length):\n",
        "  data_X = []\n",
        "  data_y = []\n",
        "  for i in range(0, len(time_series_data) - seq_length):\n",
        "    x_ = time_series_data[i: i + seq_length, :]\n",
        "    y_ = time_series_data[i + seq_length, [-1]]\n",
        "    data_X.append(x_)\n",
        "    data_y.append(y_)\n",
        "  return np.array(data_X), np.array(data_y)"
      ],
      "execution_count": 10,
      "outputs": []
    },
    {
      "cell_type": "code",
      "metadata": {
        "id": "oL7iHcHLHHRU"
      },
      "source": [
        "train_X, train_y = build_dataset(train_set, seq_length)\n",
        "test_X, test_y = build_dataset(test_set, seq_length)"
      ],
      "execution_count": 11,
      "outputs": []
    },
    {
      "cell_type": "code",
      "metadata": {
        "id": "qwTD-GTsHHSL"
      },
      "source": [
        "import torch\n",
        "import torch.optim as optim\n",
        "import matplotlib.pyplot as plt\n"
      ],
      "execution_count": 12,
      "outputs": []
    },
    {
      "cell_type": "code",
      "metadata": {
        "id": "yRlWySsQUTwD"
      },
      "source": [
        "data_dim = 5           # 시각가격, 고가, 저가, 거래량, 종가\n",
        "hidden_dim = 10\n",
        "output_dim = 1         # 다음번 주가 에측 값\n",
        "learning_rate = 0.01\n",
        "iterations = 500"
      ],
      "execution_count": 13,
      "outputs": []
    },
    {
      "cell_type": "code",
      "metadata": {
        "id": "oV8yZ0b2HHS9"
      },
      "source": [
        "# numpy 데이터를 tensor로 바꾸기\n",
        "\n",
        "train_X_tensor = torch.FloatTensor(train_X)\n",
        "train_y_tensor = torch.FloatTensor(train_y)\n",
        "test_X_tensor = torch.FloatTensor(test_X)\n",
        "test_y_tensor = torch.FloatTensor(test_y)"
      ],
      "execution_count": 14,
      "outputs": []
    },
    {
      "cell_type": "code",
      "metadata": {
        "id": "mB5NbuwBHHUH"
      },
      "source": [
        "class Net(torch.nn.Module):\n",
        "  def __init__(self, input_dim, hidden_dim, output_dim, layers):\n",
        "    super(Net, self).__init__()         # 상속 : super\n",
        "    self.rnn = torch.nn.LSTM(input_dim, hidden_dim, num_layers = layers, batch_first = True)\n",
        "    self.fc = torch.nn.Linear(hidden_dim, output_dim, bias = True)\n",
        "  \n",
        "  def forward(self, x):\n",
        "    x, _status = self.rnn(x)\n",
        "    x = self.fc(x[:, -1])\n",
        "    return x\n",
        "\n",
        "net = Net(data_dim, hidden_dim, output_dim, 1)"
      ],
      "execution_count": 15,
      "outputs": []
    },
    {
      "cell_type": "code",
      "metadata": {
        "id": "M9P3Wrj9HHVD"
      },
      "source": [
        "criterion = torch.nn.MSELoss()\n",
        "optimizer = optim.Adam(net.parameters(), lr = learning_rate)"
      ],
      "execution_count": 16,
      "outputs": []
    },
    {
      "cell_type": "code",
      "metadata": {
        "id": "kgl-mUetHHWF"
      },
      "source": [
        "# Training\n",
        "\n",
        "for i in range(iterations):\n",
        "  optimizer.zero_grad()  \n",
        "  outputs = net(train_X_tensor)\n",
        "  loss = criterion(outputs, train_y_tensor)\n",
        "  loss.backward()\n",
        "  optimizer.step()\n",
        "  print(i, loss.item())"
      ],
      "execution_count": null,
      "outputs": []
    },
    {
      "cell_type": "code",
      "metadata": {
        "id": "v_LY-uJZHHXd",
        "colab": {
          "base_uri": "https://localhost:8080/",
          "height": 265
        },
        "outputId": "5de15890-4894-4e6b-f6c5-8e453300ec71"
      },
      "source": [
        "plt.plot(test_y)\n",
        "plt.plot(net(test_X_tensor).data.numpy())\n",
        "plt.legend(['org', 'pred'])\n",
        "\n",
        "plt.show()"
      ],
      "execution_count": 18,
      "outputs": [
        {
          "output_type": "display_data",
          "data": {
            "image/png": "[encoded data removed]",
            "text/plain": [
              "<Figure size 432x288 with 1 Axes>"
            ]
          },
          "metadata": {
            "tags": [],
            "needs_background": "light"
          }
        }
      ]
    },
    {
      "cell_type": "code",
      "metadata": {
        "id": "nNHVmIbkHHYo"
      },
      "source": [
        "# !pip install tensorflow-gpu\n",
        "import tensorflow as tf\n",
        "import keras"
      ],
      "execution_count": 19,
      "outputs": []
    },
    {
      "cell_type": "code",
      "metadata": {
        "id": "6RMUpwykHHbw"
      },
      "source": [
        ""
      ],
      "execution_count": 19,
      "outputs": []
    },
    {
      "cell_type": "code",
      "metadata": {
        "id": "uGhSfz87HHej"
      },
      "source": [
        ""
      ],
      "execution_count": 19,
      "outputs": []
    }
  ]
}