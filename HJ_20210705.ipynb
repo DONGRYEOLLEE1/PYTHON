{
 "cells": [
  {
   "cell_type": "code",
   "execution_count": 1,
   "metadata": {
    "colab": {
     "base_uri": "https://localhost:8080/"
    },
    "executionInfo": {
     "elapsed": 17832,
     "status": "ok",
     "timestamp": 1625445087469,
     "user": {
      "displayName": "HJ S",
      "photoUrl": "",
      "userId": "00631132215539753305"
     },
     "user_tz": -540
    },
    "id": "gcSZ9eCHBoYV",
    "outputId": "7bb6900b-ed4b-4be0-c837-350f38799cb3"
   },
   "outputs": [
    {
     "name": "stdout",
     "output_type": "stream",
     "text": [
      "Mounted at /content/gdrive\n"
     ]
    }
   ],
   "source": [
    "from google.colab import drive\n",
    "drive.mount('/content/gdrive')"
   ]
  },
  {
   "cell_type": "markdown",
   "metadata": {
    "id": "wOWWNwgpGCwm"
   },
   "source": [
    "naver.me/5s9YNMcH  --> data-02-stock_daily.csv\n",
    "Open(시작가), High(최고가), Low(최저가), Vol(거래량), Close(종가)"
   ]
  },
  {
   "cell_type": "code",
   "execution_count": 5,
   "metadata": {
    "executionInfo": {
     "elapsed": 255,
     "status": "ok",
     "timestamp": 1625445623684,
     "user": {
      "displayName": "HJ S",
      "photoUrl": "",
      "userId": "00631132215539753305"
     },
     "user_tz": -540
    },
    "id": "5rs72hYlGCbY"
   },
   "outputs": [],
   "source": [
    "import numpy as np\n",
    "xy = np.loadtxt('/content/gdrive/My Drive/Colab Notebooks/\n",
    "data-02-stock_daily.csv', delimiter=\",\")"
   ]
  },
  {
   "cell_type": "code",
   "execution_count": 7,
   "metadata": {
    "colab": {
     "base_uri": "https://localhost:8080/"
    },
    "executionInfo": {
     "elapsed": 240,
     "status": "ok",
     "timestamp": 1625445837251,
     "user": {
      "displayName": "HJ S",
      "photoUrl": "",
      "userId": "00631132215539753305"
     },
     "user_tz": -540
    },
    "id": "nfHJjQydG_nr",
    "outputId": "239777a8-35f4-4311-8a9d-9e67a3c45c38"
   },
   "outputs": [
    {
     "data": {
      "text/plain": [
       "array([[8.28659973e+02, 8.33450012e+02, 8.28349976e+02, 1.24770000e+06,\n",
       "        8.31659973e+02],\n",
       "       [8.23020020e+02, 8.28070007e+02, 8.21655029e+02, 1.59780000e+06,\n",
       "        8.28070007e+02]])"
      ]
     },
     "execution_count": 7,
     "metadata": {
      "tags": []
     },
     "output_type": "execute_result"
    }
   ],
   "source": [
    "xy[:2]"
   ]
  },
  {
   "cell_type": "code",
   "execution_count": 10,
   "metadata": {
    "colab": {
     "base_uri": "https://localhost:8080/"
    },
    "executionInfo": {
     "elapsed": 250,
     "status": "ok",
     "timestamp": 1625446174851,
     "user": {
      "displayName": "HJ S",
      "photoUrl": "",
      "userId": "00631132215539753305"
     },
     "user_tz": -540
    },
    "id": "0rFzhByyGqUn",
    "outputId": "8ea55098-96eb-4be9-9cd4-acea060403f7"
   },
   "outputs": [
    {
     "name": "stdout",
     "output_type": "stream",
     "text": [
      "(512, 5) (227, 5)\n"
     ]
    }
   ],
   "source": [
    "#train, test split\n",
    "seq_length = 7\n",
    "train_size = int(len(xy)*0.7)\n",
    "train_set = xy[:train_size]\n",
    "test_set = xy[train_size - seq_length:]\n",
    "print(train_set.shape, test_set.shape)"
   ]
  },
  {
   "cell_type": "code",
   "execution_count": 13,
   "metadata": {
    "executionInfo": {
     "elapsed": 239,
     "status": "ok",
     "timestamp": 1625447099954,
     "user": {
      "displayName": "HJ S",
      "photoUrl": "",
      "userId": "00631132215539753305"
     },
     "user_tz": -540
    },
    "id": "OdGVqbjlKjLG"
   },
   "outputs": [],
   "source": [
    "def minmax_scaler(data):\n",
    "  numerator = data - np.min(data, 0)\n",
    "  denominator = np.max(data, 0)-np.min(data,0)\n",
    "  return numerator / (denominator + 1e-7)"
   ]
  },
  {
   "cell_type": "code",
   "execution_count": 14,
   "metadata": {
    "executionInfo": {
     "elapsed": 228,
     "status": "ok",
     "timestamp": 1625447102995,
     "user": {
      "displayName": "HJ S",
      "photoUrl": "",
      "userId": "00631132215539753305"
     },
     "user_tz": -540
    },
    "id": "IcSwkKv4IVlg"
   },
   "outputs": [],
   "source": [
    "#scaling data\n",
    "train_set = minmax_scaler(train_set)\n",
    "test_set = minmax_scaler(test_set)"
   ]
  },
  {
   "cell_type": "code",
   "execution_count": 15,
   "metadata": {
    "colab": {
     "base_uri": "https://localhost:8080/"
    },
    "executionInfo": {
     "elapsed": 226,
     "status": "ok",
     "timestamp": 1625447114649,
     "user": {
      "displayName": "HJ S",
      "photoUrl": "",
      "userId": "00631132215539753305"
     },
     "user_tz": -540
    },
    "id": "KwxcaLG8KT1r",
    "outputId": "7ccd7179-9593-48e4-ad36-84231b592bad"
   },
   "outputs": [
    {
     "data": {
      "text/plain": [
       "array([[0.97125436, 0.97337226, 1.        , 0.06773081, 0.98742313],\n",
       "       [0.95353593, 0.95651845, 0.978622  , 0.10064206, 0.97616367],\n",
       "       [0.94382833, 0.94502159, 0.97008016, 0.07092699, 0.96390035]])"
      ]
     },
     "execution_count": 15,
     "metadata": {
      "tags": []
     },
     "output_type": "execute_result"
    }
   ],
   "source": [
    "train_set[:3]"
   ]
  },
  {
   "cell_type": "code",
   "execution_count": 27,
   "metadata": {
    "executionInfo": {
     "elapsed": 243,
     "status": "ok",
     "timestamp": 1625449019132,
     "user": {
      "displayName": "HJ S",
      "photoUrl": "",
      "userId": "00631132215539753305"
     },
     "user_tz": -540
    },
    "id": "oUC3NCjQMqUv"
   },
   "outputs": [],
   "source": [
    "def build_dataset(time_series_data, seq_length):\n",
    "  data_X = []; data_y = []\n",
    "  for i in range(0, len(time_series_data)-seq_length):\n",
    "    x_ = time_series_data[i: i + seq_length, :]\n",
    "    y_ = time_series_data[i+seq_length, [-1]]\n",
    "    data_X.append(x_); data_y.append(y_)\n",
    "  return np.array(data_X), np.array(data_y)\n"
   ]
  },
  {
   "cell_type": "code",
   "execution_count": 28,
   "metadata": {
    "executionInfo": {
     "elapsed": 396,
     "status": "ok",
     "timestamp": 1625449019879,
     "user": {
      "displayName": "HJ S",
      "photoUrl": "",
      "userId": "00631132215539753305"
     },
     "user_tz": -540
    },
    "id": "4pUx-UP7NYHt"
   },
   "outputs": [],
   "source": [
    "train_X, train_y = build_dataset(train_set, seq_length)\n",
    "test_X, test_y = build_dataset(test_set, seq_length)\n"
   ]
  },
  {
   "cell_type": "code",
   "execution_count": 32,
   "metadata": {
    "executionInfo": {
     "elapsed": 229,
     "status": "ok",
     "timestamp": 1625449340395,
     "user": {
      "displayName": "HJ S",
      "photoUrl": "",
      "userId": "00631132215539753305"
     },
     "user_tz": -540
    },
    "id": "PVN2I-xxNYKL"
   },
   "outputs": [],
   "source": [
    "import torch\n",
    "import torch.optim as optim\n",
    "import matplotlib.pyplot as plt"
   ]
  },
  {
   "cell_type": "code",
   "execution_count": 33,
   "metadata": {
    "executionInfo": {
     "elapsed": 6,
     "status": "ok",
     "timestamp": 1625449343055,
     "user": {
      "displayName": "HJ S",
      "photoUrl": "",
      "userId": "00631132215539753305"
     },
     "user_tz": -540
    },
    "id": "GiVjCJVWNYMt"
   },
   "outputs": [],
   "source": [
    "data_dim = 5\n",
    "hidden_dim = 10\n",
    "output_dim = 1\n",
    "learning_rate = 0.01\n",
    "iterations = 500"
   ]
  },
  {
   "cell_type": "code",
   "execution_count": 34,
   "metadata": {
    "executionInfo": {
     "elapsed": 234,
     "status": "ok",
     "timestamp": 1625449361002,
     "user": {
      "displayName": "HJ S",
      "photoUrl": "",
      "userId": "00631132215539753305"
     },
     "user_tz": -540
    },
    "id": "R9mtcEO-NYO7"
   },
   "outputs": [],
   "source": [
    "train_X_tensor = torch.FloatTensor(train_X)\n",
    "train_y_tensor = torch.FloatTensor(train_y)\n",
    "test_X_tensor = torch.FloatTensor(test_X)\n",
    "test_y_tensor = torch.FloatTensor(test_y)"
   ]
  },
  {
   "cell_type": "code",
   "execution_count": 35,
   "metadata": {
    "executionInfo": {
     "elapsed": 234,
     "status": "ok",
     "timestamp": 1625449983161,
     "user": {
      "displayName": "HJ S",
      "photoUrl": "",
      "userId": "00631132215539753305"
     },
     "user_tz": -540
    },
    "id": "dMjPC7iRN5kT"
   },
   "outputs": [],
   "source": [
    "class Net(torch.nn.Module):\n",
    "  def __init__(self, input_dim, hidden_dim, output_dim, layers):\n",
    "    super(Net, self).__init__()\n",
    "    self.rnn = torch.nn.LSTM(input_dim, hidden_dim, num_layers=layers, \n",
    "                             batch_first=True)\n",
    "    self.fc = torch.nn.Linear(hidden_dim, output_dim, bias=True)\n",
    "\n",
    "  def forward(self, x):\n",
    "    x, _status = self.rnn(x)\n",
    "    x = self.fc(x[:,-1])\n",
    "    return x\n",
    "\n",
    "net = Net(data_dim, hidden_dim, output_dim, 1)"
   ]
  },
  {
   "cell_type": "code",
   "execution_count": 36,
   "metadata": {
    "executionInfo": {
     "elapsed": 6,
     "status": "ok",
     "timestamp": 1625450308510,
     "user": {
      "displayName": "HJ S",
      "photoUrl": "",
      "userId": "00631132215539753305"
     },
     "user_tz": -540
    },
    "id": "1JV90TmCXmpc"
   },
   "outputs": [],
   "source": [
    "criterion = torch.nn.MSELoss()\n",
    "optimizer = optim.Adam(net.parameters(), lr = learning_rate)"
   ]
  },
  {
   "cell_type": "code",
   "execution_count": 37,
   "metadata": {
    "colab": {
     "base_uri": "https://localhost:8080/"
    },
    "executionInfo": {
     "elapsed": 4450,
     "status": "ok",
     "timestamp": 1625450474217,
     "user": {
      "displayName": "HJ S",
      "photoUrl": "",
      "userId": "00631132215539753305"
     },
     "user_tz": -540
    },
    "id": "kaF_m2vXY2Fh",
    "outputId": "402e925c-79ef-4b3d-8ca2-580b4cd7c587"
   },
   "outputs": [
    {
     "name": "stdout",
     "output_type": "stream",
     "text": [
      "0 0.323285847902298\n",
      "1 0.252380907535553\n",
      "2 0.19305264949798584\n",
      "3 0.14350390434265137\n",
      "4 0.10289836674928665\n",
      "5 0.07115103304386139\n",
      "6 0.04864220321178436\n",
      "7 0.035755615681409836\n",
      "8 0.03220793977379799\n",
      "9 0.03615980222821236\n",
      "10 0.04372021555900574\n",
      "11 0.05030609667301178\n",
      "12 0.053085584193468094\n",
      "13 0.05161869153380394\n",
      "14 0.046934716403484344\n",
      "15 0.04055734723806381\n",
      "16 0.03392542153596878\n",
      "17 0.02812269888818264\n",
      "18 0.023787379264831543\n",
      "19 0.02112375758588314\n",
      "20 0.019976604729890823\n",
      "21 0.01994234509766102\n",
      "22 0.02049354836344719\n",
      "23 0.02109740860760212\n",
      "24 0.021313685923814774\n",
      "25 0.020861951634287834\n",
      "26 0.019652731716632843\n",
      "27 0.01778183877468109\n",
      "28 0.015491258352994919\n",
      "29 0.013104261830449104\n",
      "30 0.01094614528119564\n",
      "31 0.009265937842428684\n",
      "32 0.008177508600056171\n",
      "33 0.00763683021068573\n",
      "34 0.007463966030627489\n",
      "35 0.007404856383800507\n",
      "36 0.007214161567389965\n",
      "37 0.006732462905347347\n",
      "38 0.005933240056037903\n",
      "39 0.004925924353301525\n",
      "40 0.003915106412023306\n",
      "41 0.003126709023490548\n",
      "42 0.002719542011618614\n",
      "43 0.0027101088780909777\n",
      "44 0.002950106980279088\n",
      "45 0.003191262949258089\n",
      "46 0.0032222960144281387\n",
      "47 0.002990432782098651\n",
      "48 0.0026153328362852335\n",
      "49 0.0022916551679372787\n",
      "50 0.0021611826959997416\n",
      "51 0.0022406454663723707\n",
      "52 0.002435690490528941\n",
      "53 0.002612106967717409\n",
      "54 0.002671634778380394\n",
      "55 0.002592989942058921\n",
      "56 0.002426913706585765\n",
      "57 0.0022574663162231445\n",
      "58 0.0021535963751375675\n",
      "59 0.0021357848308980465\n",
      "60 0.0021731469314545393\n",
      "61 0.0022093229927122593\n",
      "62 0.0021987580694258213\n",
      "63 0.002130294917151332\n",
      "64 0.0020264601334929466\n",
      "65 0.0019242811249569058\n",
      "66 0.0018530423985794187\n",
      "67 0.0018217371543869376\n",
      "68 0.0018198939505964518\n",
      "69 0.0018275300972163677\n",
      "70 0.0018269274150952697\n",
      "71 0.0018103213515132666\n",
      "72 0.0017810870194807649\n",
      "73 0.001749481656588614\n",
      "74 0.0017260995227843523\n",
      "75 0.0017164773307740688\n",
      "76 0.0017191101796925068\n",
      "77 0.0017271836986765265\n",
      "78 0.0017325803637504578\n",
      "79 0.0017298595048487186\n",
      "80 0.001718313666060567\n",
      "81 0.0017014259938150644\n",
      "82 0.0016844166675582528\n",
      "83 0.0016713949153199792\n",
      "84 0.0016635595820844173\n",
      "85 0.001659146510064602\n",
      "86 0.0016548529965803027\n",
      "87 0.0016478061443194747\n",
      "88 0.0016370028024539351\n",
      "89 0.00162358523812145\n",
      "90 0.0016099687200039625\n",
      "91 0.001598432892933488\n",
      "92 0.0015899721765890718\n",
      "93 0.0015839770203456283\n",
      "94 0.0015788062009960413\n",
      "95 0.0015728315338492393\n",
      "96 0.001565317390486598\n",
      "97 0.001556665520183742\n",
      "98 0.0015479880385100842\n",
      "99 0.0015403362922370434\n",
      "100 0.0015340857207775116\n",
      "101 0.00152880500536412\n",
      "102 0.0015236135805025697\n",
      "103 0.0015177521854639053\n",
      "104 0.0015109943924471736\n",
      "105 0.0015036840923130512\n",
      "106 0.0014964379370212555\n",
      "107 0.0014897279907017946\n",
      "108 0.001483622589148581\n",
      "109 0.0014778166078031063\n",
      "110 0.0014718829188495874\n",
      "111 0.0014655637787654996\n",
      "112 0.0014589092461392283\n",
      "113 0.0014522024430334568\n",
      "114 0.0014457498909905553\n",
      "115 0.0014396910555660725\n",
      "116 0.001433942816220224\n",
      "117 0.0014282939955592155\n",
      "118 0.0014225634513422847\n",
      "119 0.0014167105546221137\n",
      "120 0.0014108350733295083\n",
      "121 0.0014050854369997978\n",
      "122 0.001399545930325985\n",
      "123 0.001394186750985682\n",
      "124 0.0013888977700844407\n",
      "125 0.0013835701392963529\n",
      "126 0.0013781661400571465\n",
      "127 0.0013727301266044378\n",
      "128 0.0013673451030626893\n",
      "129 0.001362066948786378\n",
      "130 0.001356893451884389\n",
      "131 0.0013517766492441297\n",
      "132 0.0013466653181239963\n",
      "133 0.001341543858870864\n",
      "134 0.001336438930593431\n",
      "135 0.00133139465469867\n",
      "136 0.0013264381559565663\n",
      "137 0.0013215630315244198\n",
      "138 0.0013167401775717735\n",
      "139 0.001311941770836711\n",
      "140 0.001307161757722497\n",
      "141 0.0013024156214669347\n",
      "142 0.0012977266451343894\n",
      "143 0.0012931047240272164\n",
      "144 0.0012885428732261062\n",
      "145 0.0012840242125093937\n",
      "146 0.00127953733317554\n",
      "147 0.0012750823516398668\n",
      "148 0.0012706700945273042\n",
      "149 0.0012663109228014946\n",
      "150 0.0012620046036317945\n",
      "151 0.0012577440356835723\n",
      "152 0.0012535194400697947\n",
      "153 0.001249327789992094\n",
      "154 0.001245172112248838\n",
      "155 0.0012410596245899796\n",
      "156 0.0012369940523058176\n",
      "157 0.0012329730670899153\n",
      "158 0.0012289920123293996\n",
      "159 0.0012250468134880066\n",
      "160 0.00122113770339638\n",
      "161 0.0012172675924375653\n",
      "162 0.0012134378775954247\n",
      "163 0.001209647860378027\n",
      "164 0.001205893699079752\n",
      "165 0.0012021725997328758\n",
      "166 0.0011984830489382148\n",
      "167 0.0011948270257562399\n",
      "168 0.0011912051122635603\n",
      "169 0.0011876174248754978\n",
      "170 0.0011840626830235124\n",
      "171 0.0011805384419858456\n",
      "172 0.0011770448181778193\n",
      "173 0.0011735813459381461\n",
      "174 0.0011701484909281135\n",
      "175 0.0011667462531477213\n",
      "176 0.0011633735848590732\n",
      "177 0.0011600287398323417\n",
      "178 0.001156710903160274\n",
      "179 0.0011534198420122266\n",
      "180 0.0011501569533720613\n",
      "181 0.0011469206074252725\n",
      "182 0.0011437104549258947\n",
      "183 0.0011405260302126408\n",
      "184 0.0011373660527169704\n",
      "185 0.0011342313373461366\n",
      "186 0.0011311209527775645\n",
      "187 0.0011280343169346452\n",
      "188 0.0011249714298173785\n",
      "189 0.0011219312436878681\n",
      "190 0.0011189132928848267\n",
      "191 0.0011159172281622887\n",
      "192 0.0011129432823508978\n",
      "193 0.001109990756958723\n",
      "194 0.0011070596519857645\n",
      "195 0.001104149385355413\n",
      "196 0.0011012590257450938\n",
      "197 0.0010983891552314162\n",
      "198 0.0010955390753224492\n",
      "199 0.0010927084367722273\n",
      "200 0.0010898970067501068\n",
      "201 0.0010871042031794786\n",
      "202 0.0010843300260603428\n",
      "203 0.00108157389331609\n",
      "204 0.0010788360377773643\n",
      "205 0.001076115993782878\n",
      "206 0.0010734132956713438\n",
      "207 0.0010707280598580837\n",
      "208 0.0010680595878511667\n",
      "209 0.0010654078796505928\n",
      "210 0.0010627730516716838\n",
      "211 0.0010601542890071869\n",
      "212 0.0010575518244877458\n",
      "213 0.001054965308867395\n",
      "214 0.001052394276484847\n",
      "215 0.0010498387273401022\n",
      "216 0.0010472986614331603\n",
      "217 0.0010447738459333777\n",
      "218 0.0010422638151794672\n",
      "219 0.0010397688020020723\n",
      "220 0.001037288224324584\n",
      "221 0.0010348219657316804\n",
      "222 0.001032370375469327\n",
      "223 0.001029932638630271\n",
      "224 0.0010275088716298342\n",
      "225 0.0010250983759760857\n",
      "226 0.0010227023158222437\n",
      "227 0.0010203194105997682\n",
      "228 0.001017949776723981\n",
      "229 0.0010155935306102037\n",
      "230 0.0010132502065971494\n",
      "231 0.0010109199211001396\n",
      "232 0.001008602324873209\n",
      "233 0.0010062974179163575\n",
      "234 0.0010040049673989415\n",
      "235 0.0010017253225669265\n",
      "236 0.0009994575520977378\n",
      "237 0.000997202005237341\n",
      "238 0.0009949584491550922\n",
      "239 0.0009927270002663136\n",
      "240 0.000990507542155683\n",
      "241 0.0009882994927465916\n",
      "242 0.0009861033177003264\n",
      "243 0.0009839186677709222\n",
      "244 0.0009817453101277351\n",
      "245 0.0009795831283554435\n",
      "246 0.000977432238869369\n",
      "247 0.0009752924670465291\n",
      "248 0.0009731638710945845\n",
      "249 0.0009710460435599089\n",
      "250 0.0009689391008578241\n",
      "251 0.0009668428101576865\n",
      "252 0.0009647572296671569\n",
      "253 0.0009626823011785746\n",
      "254 0.0009606177336536348\n",
      "255 0.0009585635270923376\n",
      "256 0.0009565197397023439\n",
      "257 0.000954486196860671\n",
      "258 0.000952462840359658\n",
      "259 0.000950449553783983\n",
      "260 0.0009484461625106633\n",
      "261 0.0009464526665396988\n",
      "262 0.0009444691822864115\n",
      "263 0.0009424955933354795\n",
      "264 0.0009405313758179545\n",
      "265 0.0009385771118104458\n",
      "266 0.0009366322192363441\n",
      "267 0.000934696989133954\n",
      "268 0.0009327711304649711\n",
      "269 0.0009308546432293952\n",
      "270 0.0009289474110119045\n",
      "271 0.0009270495502278209\n",
      "272 0.0009251608862541616\n",
      "273 0.000923281186260283\n",
      "274 0.0009214103920385242\n",
      "275 0.0009195487946271896\n",
      "276 0.0009176962776109576\n",
      "277 0.0009158524917438626\n",
      "278 0.0009140174370259047\n",
      "279 0.0009121915209107101\n",
      "280 0.0009103739866986871\n",
      "281 0.000908565241843462\n",
      "282 0.0009067649370990694\n",
      "283 0.0009049733052961528\n",
      "284 0.0009031901136040688\n",
      "285 0.0009014152456074953\n",
      "286 0.0008996491669677198\n",
      "287 0.0008978912374004722\n",
      "288 0.0008961414569057524\n",
      "289 0.0008943999418988824\n",
      "290 0.000892666750587523\n",
      "291 0.0008909416501410306\n",
      "292 0.0008892245823517442\n",
      "293 0.0008875157218426466\n",
      "294 0.0008858147193677723\n",
      "295 0.0008841216331347823\n",
      "296 0.0008824365795589983\n",
      "297 0.0008807595004327595\n",
      "298 0.0008790898718871176\n",
      "299 0.0008774282177910209\n",
      "300 0.0008757742471061647\n",
      "301 0.00087412801804021\n",
      "302 0.0008724896470084786\n",
      "303 0.0008708587847650051\n",
      "304 0.0008692351984791458\n",
      "305 0.000867619295604527\n",
      "306 0.0008660109015181661\n",
      "307 0.0008644098998047411\n",
      "308 0.0008628163486719131\n",
      "309 0.0008612302481196821\n",
      "310 0.0008596512489020824\n",
      "311 0.0008580796420574188\n",
      "312 0.0008565153111703694\n",
      "313 0.0008549581398256123\n",
      "314 0.0008534081280231476\n",
      "315 0.0008518653339706361\n",
      "316 0.0008503293502144516\n",
      "317 0.0008488008170388639\n",
      "318 0.0008472790941596031\n",
      "319 0.0008457644726149738\n",
      "320 0.0008442568359896541\n",
      "321 0.0008427557186223567\n",
      "322 0.0008412618190050125\n",
      "323 0.0008397747878916562\n",
      "324 0.0008382943924516439\n",
      "325 0.0008368207491002977\n",
      "326 0.000835354090668261\n",
      "327 0.0008338940097019076\n",
      "328 0.0008324405644088984\n",
      "329 0.0008309936383739114\n",
      "330 0.0008295533480122685\n",
      "331 0.0008281199261546135\n",
      "332 0.0008266930817626417\n",
      "333 0.0008252723491750658\n",
      "334 0.0008238584268838167\n",
      "335 0.0008224507328122854\n",
      "336 0.0008210494997911155\n",
      "337 0.0008196546696126461\n",
      "338 0.0008182663004845381\n",
      "339 0.0008168841013684869\n",
      "340 0.0008155082468874753\n",
      "341 0.0008141387370415032\n",
      "342 0.0008127754554152489\n",
      "343 0.0008114182855933905\n",
      "344 0.000810067227575928\n",
      "345 0.0008087224559858441\n",
      "346 0.0008073838544078171\n",
      "347 0.0008060512482188642\n",
      "348 0.0008047245210036635\n",
      "349 0.0008034041966311634\n",
      "350 0.0008020895184017718\n",
      "351 0.0008007808937691152\n",
      "352 0.0007994782645255327\n",
      "353 0.0007981817470863461\n",
      "354 0.0007968908757902682\n",
      "355 0.0007956060580909252\n",
      "356 0.0007943268865346909\n",
      "357 0.0007930536521598697\n",
      "358 0.000791786122135818\n",
      "359 0.0007905242382548749\n",
      "360 0.0007892684079706669\n",
      "361 0.0007880181656219065\n",
      "362 0.0007867735112085938\n",
      "363 0.000785534328315407\n",
      "364 0.0007843009661883116\n",
      "365 0.0007830733084119856\n",
      "366 0.000781850831117481\n",
      "367 0.0007806342327967286\n",
      "368 0.000779423164203763\n",
      "369 0.0007782175671309233\n",
      "370 0.0007770171505399048\n",
      "371 0.0007758224965073168\n",
      "372 0.0007746331975795329\n",
      "373 0.0007734494283795357\n",
      "374 0.0007722708978690207\n",
      "375 0.0007710974314250052\n",
      "376 0.0007699296111240983\n",
      "377 0.0007687670295126736\n",
      "378 0.0007676098612137139\n",
      "379 0.00076645752415061\n",
      "380 0.0007653107168152928\n",
      "381 0.0007641692063771188\n",
      "382 0.0007630324107594788\n",
      "383 0.0007619011448696256\n",
      "384 0.0007607750594615936\n",
      "385 0.0007596537470817566\n",
      "386 0.0007585378480143845\n",
      "387 0.0007574268383905292\n",
      "388 0.0007563207182101905\n",
      "389 0.000755219894926995\n",
      "390 0.0007541238446719944\n",
      "391 0.0007530326838605106\n",
      "392 0.0007519468199461699\n",
      "393 0.0007508655544370413\n",
      "394 0.000749789469409734\n",
      "395 0.0007487180409952998\n",
      "396 0.0007476512691937387\n",
      "397 0.0007465897360816598\n",
      "398 0.000745532859582454\n",
      "399 0.0007444805814884603\n",
      "400 0.0007434331928379834\n",
      "401 0.0007423904025927186\n",
      "402 0.0007413526182062924\n",
      "403 0.0007403194322250783\n",
      "404 0.0007392906118184328\n",
      "405 0.0007382666226476431\n",
      "406 0.0007372474065050483\n",
      "407 0.0007362327887676656\n",
      "408 0.0007352224783971906\n",
      "409 0.0007342168828472495\n",
      "410 0.0007332159439101815\n",
      "411 0.0007322191959246993\n",
      "412 0.0007312273955903947\n",
      "413 0.0007302394369617105\n",
      "414 0.0007292564841918647\n",
      "415 0.0007282776641659439\n",
      "416 0.0007273034425452352\n",
      "417 0.000726333586499095\n",
      "418 0.0007253678631968796\n",
      "419 0.0007244068547151983\n",
      "420 0.000723449804354459\n",
      "421 0.0007224972941912711\n",
      "422 0.0007215489167720079\n",
      "423 0.0007206047885119915\n",
      "424 0.0007196650258265436\n",
      "425 0.0007187294540926814\n",
      "426 0.000717798073310405\n",
      "427 0.0007168708252720535\n",
      "428 0.0007159478846006095\n",
      "429 0.0007150287856347859\n",
      "430 0.0007141139358282089\n",
      "431 0.0007132032187655568\n",
      "432 0.0007122964016161859\n",
      "433 0.0007113939500413835\n",
      "434 0.0007104955147951841\n",
      "435 0.0007096006302163005\n",
      "436 0.0007087102858349681\n",
      "437 0.0007078234921209514\n",
      "438 0.0007069408311508596\n",
      "439 0.000706062070094049\n",
      "440 0.0007051871507428586\n",
      "441 0.000704316480550915\n",
      "442 0.000703449419233948\n",
      "443 0.0007025861996226013\n",
      "444 0.0007017271127551794\n",
      "445 0.0007008713437244296\n",
      "446 0.0007000196492299438\n",
      "447 0.0006991715054027736\n",
      "448 0.0006983273196965456\n",
      "449 0.000697486859280616\n",
      "450 0.0006966502405703068\n",
      "451 0.0006958168814890087\n",
      "452 0.0006949876551516354\n",
      "453 0.0006941618048585951\n",
      "454 0.0006933398544788361\n",
      "455 0.00069252128014341\n",
      "456 0.0006917064310982823\n",
      "457 0.0006908951327204704\n",
      "458 0.0006900872103869915\n",
      "459 0.0006892833043821156\n",
      "460 0.000688482541590929\n",
      "461 0.00068768544588238\n",
      "462 0.0006868919008411467\n",
      "463 0.0006861015572212636\n",
      "464 0.00068531499709934\n",
      "465 0.0006845317548140883\n",
      "466 0.0006837518303655088\n",
      "467 0.0006829755147919059\n",
      "468 0.0006822022842243314\n",
      "469 0.0006814326043240726\n",
      "470 0.000680666184052825\n",
      "471 0.0006799030816182494\n",
      "472 0.0006791433552280068\n",
      "473 0.0006783871212974191\n",
      "474 0.0006776336813345551\n",
      "475 0.0006768839084543288\n",
      "476 0.0006761372787877917\n",
      "477 0.0006753938505426049\n",
      "478 0.0006746536237187684\n",
      "479 0.0006739164236932993\n",
      "480 0.0006731826579198241\n",
      "481 0.0006724518025293946\n",
      "482 0.0006717242067679763\n",
      "483 0.0006709998124279082\n",
      "484 0.0006702783284708858\n",
      "485 0.0006695601623505354\n",
      "486 0.0006688449648208916\n",
      "487 0.0006681327358819544\n",
      "488 0.0006674237665720284\n",
      "489 0.0006667175912298262\n",
      "490 0.000666014151647687\n",
      "491 0.0006653141463175416\n",
      "492 0.0006646171677857637\n",
      "493 0.0006639228668063879\n",
      "494 0.0006632315926253796\n",
      "495 0.0006625434034503996\n",
      "496 0.0006618578918278217\n",
      "497 0.0006611754070036113\n",
      "498 0.0006604955997318029\n",
      "499 0.0006598188192583621\n"
     ]
    }
   ],
   "source": [
    "# training!\n",
    "for i in range(iterations):\n",
    "  optimizer.zero_grad()\n",
    "  outputs = net(train_X_tensor)\n",
    "  loss = criterion(outputs, train_y_tensor)\n",
    "  loss.backward()\n",
    "  optimizer.step()\n",
    "  print(i, loss.item())"
   ]
  },
  {
   "cell_type": "code",
   "execution_count": 39,
   "metadata": {
    "colab": {
     "base_uri": "https://localhost:8080/",
     "height": 265
    },
    "executionInfo": {
     "elapsed": 367,
     "status": "ok",
     "timestamp": 1625450680952,
     "user": {
      "displayName": "HJ S",
      "photoUrl": "",
      "userId": "00631132215539753305"
     },
     "user_tz": -540
    },
    "id": "WoD0D2WJZdgn",
    "outputId": "701a0d49-8067-48ea-c6e6-2b5e98dbde1e"
   },
   "outputs": [
    {
     "data": {
      "image/png": "[encoded data removed]",
      "text/plain": [
       "<Figure size 432x288 with 1 Axes>"
      ]
     },
     "metadata": {
      "needs_background": "light",
      "tags": []
     },
     "output_type": "display_data"
    }
   ],
   "source": [
    "plt.plot(test_y)\n",
    "plt.plot(net(test_X_tensor).data.numpy())\n",
    "plt.legend(['org', 'pred'])\n",
    "plt.show()"
   ]
  },
  {
   "cell_type": "code",
   "execution_count": null,
   "metadata": {
    "id": "sLV6R_GOZ4p6"
   },
   "outputs": [],
   "source": []
  }
 ],
 "metadata": {
  "colab": {
   "authorship_tag": "ABX9TyNcOxuRAhN49nC/vaEzWs/P",
   "collapsed_sections": [],
   "name": "HJ_20210705.ipynb",
   "provenance": []
  },
  "kernelspec": {
   "display_name": "Python 3",
   "language": "python",
   "name": "python3"
  },
  "language_info": {
   "codemirror_mode": {
    "name": "ipython",
    "version": 3
   },
   "file_extension": ".py",
   "mimetype": "text/x-python",
   "name": "python",
   "nbconvert_exporter": "python",
   "pygments_lexer": "ipython3",
   "version": "3.8.8"
  }
 },
 "nbformat": 4,
 "nbformat_minor": 1
}
